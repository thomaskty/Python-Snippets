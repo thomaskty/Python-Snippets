{
 "cells": [
  {
   "cell_type": "markdown",
   "id": "c4f7e69c-2fb4-4c9e-9c58-06843be934e7",
   "metadata": {},
   "source": [
    "# Assignment 18"
   ]
  },
  {
   "cell_type": "markdown",
   "id": "ae87f27d-35d7-406d-94ac-b8598d88706e",
   "metadata": {},
   "source": [
    "### Question 1\n",
    "Create a function that takes a list of non-negative integers and strings and return a new list\n",
    "without the strings."
   ]
  },
  {
   "cell_type": "code",
   "execution_count": 1,
   "id": "3f5d9b31-136e-46ef-a434-a2313656a6a2",
   "metadata": {},
   "outputs": [],
   "source": [
    "def filter_list(lst):\n",
    "    re = []\n",
    "    for i in lst:\n",
    "        if type(i) != str:\n",
    "            re.append(i)\n",
    "    return re"
   ]
  },
  {
   "cell_type": "code",
   "execution_count": 2,
   "id": "5ebf13f2-05cd-4dfd-a33a-feeef3da009f",
   "metadata": {},
   "outputs": [
    {
     "data": {
      "text/plain": [
       "[1, 2]"
      ]
     },
     "execution_count": 2,
     "metadata": {},
     "output_type": "execute_result"
    }
   ],
   "source": [
    "filter_list([1,2,\"a\",'b'])"
   ]
  },
  {
   "cell_type": "code",
   "execution_count": 4,
   "id": "311714eb-af4e-4b26-80d1-ccc9410a573f",
   "metadata": {},
   "outputs": [
    {
     "data": {
      "text/plain": [
       "[1, 0, 15]"
      ]
     },
     "execution_count": 4,
     "metadata": {},
     "output_type": "execute_result"
    }
   ],
   "source": [
    "filter_list([1,'a','b',0,15])"
   ]
  },
  {
   "cell_type": "code",
   "execution_count": 5,
   "id": "18136e2d-9305-4fd1-ab81-163f611e8f4a",
   "metadata": {},
   "outputs": [
    {
     "data": {
      "text/plain": [
       "[1, 2, 123]"
      ]
     },
     "execution_count": 5,
     "metadata": {},
     "output_type": "execute_result"
    }
   ],
   "source": [
    "filter_list([1,2,'aasf','1','123',123])"
   ]
  },
  {
   "cell_type": "markdown",
   "id": "f2b5aee9-91c6-40c9-a352-1195e47a0b91",
   "metadata": {},
   "source": [
    "## Question2 \n",
    "The Reverser takes a string as input and returns that string in reverse order with the opposite case"
   ]
  },
  {
   "cell_type": "code",
   "execution_count": 18,
   "id": "6cb6b706-5de8-438a-9177-b4ee3a0b36cd",
   "metadata": {},
   "outputs": [],
   "source": [
    "def reverser(string):\n",
    "    new_string = ''\n",
    "    for i in range(len(string)):\n",
    "        new_string+=string[-i-1]\n",
    "    final = ''\n",
    "    for i in new_string:\n",
    "        if i.islower():\n",
    "            final+=i.upper()\n",
    "        if not i.islower():\n",
    "            final+=i.lower()\n",
    "    return final\n",
    "            "
   ]
  },
  {
   "cell_type": "code",
   "execution_count": 19,
   "id": "3901b9b5-1906-4c05-b5bc-d6dd9cd8e7c8",
   "metadata": {},
   "outputs": [
    {
     "data": {
      "text/plain": [
       "'DLROw OLLEh'"
      ]
     },
     "execution_count": 19,
     "metadata": {},
     "output_type": "execute_result"
    }
   ],
   "source": [
    "reverser('Hello World')"
   ]
  },
  {
   "cell_type": "code",
   "execution_count": 20,
   "id": "1da9895c-d8de-49d0-bf03-a8473948647f",
   "metadata": {},
   "outputs": [
    {
     "data": {
      "text/plain": [
       "'eSrEvEr'"
      ]
     },
     "execution_count": 20,
     "metadata": {},
     "output_type": "execute_result"
    }
   ],
   "source": [
    "reverser('ReVeRsE')"
   ]
  },
  {
   "cell_type": "code",
   "execution_count": 25,
   "id": "cd92ac49-e5c2-4d33-b4ff-707d1d6d7689",
   "metadata": {},
   "outputs": [
    {
     "data": {
      "text/plain": [
       "'RADAr'"
      ]
     },
     "execution_count": 25,
     "metadata": {},
     "output_type": "execute_result"
    }
   ],
   "source": [
    "reverser('Radar')"
   ]
  },
  {
   "cell_type": "markdown",
   "id": "b343acc7-3c9e-4757-941f-f95711a1151d",
   "metadata": {},
   "source": [
    "## Queston 3:\n",
    "Unpacking list into three variables "
   ]
  },
  {
   "cell_type": "code",
   "execution_count": 34,
   "id": "67a2e6c6-8369-40bc-9206-7bbf4ae8c513",
   "metadata": {},
   "outputs": [],
   "source": [
    "def unpack3(lst):\n",
    "    a,*b,c = lst\n",
    "    return a,b,c"
   ]
  },
  {
   "cell_type": "code",
   "execution_count": 35,
   "id": "b88968b4-e06b-4e11-b7d6-48c81fade7e4",
   "metadata": {},
   "outputs": [
    {
     "data": {
      "text/plain": [
       "(1, [2, 3, 4, 5], 6)"
      ]
     },
     "execution_count": 35,
     "metadata": {},
     "output_type": "execute_result"
    }
   ],
   "source": [
    "unpack3([1, 2, 3, 4, 5, 6])"
   ]
  },
  {
   "cell_type": "markdown",
   "id": "dc256985-2475-447f-97f7-cb4d64495bdb",
   "metadata": {},
   "source": [
    "### Question 4 \n",
    "Write a function that calculates the factorial of a number recursively."
   ]
  },
  {
   "cell_type": "code",
   "execution_count": 38,
   "id": "3feb432d-816b-4d5b-b27a-ac8d419a9b9b",
   "metadata": {},
   "outputs": [],
   "source": [
    "def factorial(n):\n",
    "    if n ==0 or n ==1:\n",
    "        return 1\n",
    "    else:\n",
    "        return n*factorial(n-1)"
   ]
  },
  {
   "cell_type": "code",
   "execution_count": 39,
   "id": "424f8fb9-0f9c-43ae-9600-be6af44369e8",
   "metadata": {},
   "outputs": [
    {
     "data": {
      "text/plain": [
       "120"
      ]
     },
     "execution_count": 39,
     "metadata": {},
     "output_type": "execute_result"
    }
   ],
   "source": [
    "factorial(5)"
   ]
  },
  {
   "cell_type": "code",
   "execution_count": 40,
   "id": "757693ec-8348-4716-8bef-9fe9edbc55be",
   "metadata": {},
   "outputs": [
    {
     "data": {
      "text/plain": [
       "6"
      ]
     },
     "execution_count": 40,
     "metadata": {},
     "output_type": "execute_result"
    }
   ],
   "source": [
    "factorial(3)"
   ]
  },
  {
   "cell_type": "markdown",
   "id": "ce44e681-fc05-42b3-8d35-f115ec5c6de1",
   "metadata": {},
   "source": [
    "## Question 5 \n",
    "Write a function that moves all elements of one tupe to the end of the list"
   ]
  },
  {
   "cell_type": "code",
   "execution_count": 54,
   "id": "8983fc3e-757b-4173-8e4f-aee749b21d9e",
   "metadata": {},
   "outputs": [],
   "source": [
    "def move_toend(lst,char):\n",
    "    diffr = []\n",
    "    same = []\n",
    "    for i in lst:\n",
    "        if i==char:\n",
    "            same.append(i)\n",
    "        else:\n",
    "            diffr.append(i)\n",
    "    final = diffr+same\n",
    "    return final"
   ]
  },
  {
   "cell_type": "code",
   "execution_count": 55,
   "id": "10324b39-ae6a-4c67-8c4b-ccb81e09bbc4",
   "metadata": {},
   "outputs": [
    {
     "data": {
      "text/plain": [
       "[1, 4, 3, 2, 2, 2, 2, 2]"
      ]
     },
     "execution_count": 55,
     "metadata": {},
     "output_type": "execute_result"
    }
   ],
   "source": [
    "move_toend([1,2,4,2,2,3,2,2],2)"
   ]
  },
  {
   "cell_type": "code",
   "execution_count": 56,
   "id": "bfc2fc31-2f3d-4a98-b66d-c5f6539e0a12",
   "metadata": {},
   "outputs": [
    {
     "data": {
      "text/plain": [
       "['c', 'b', 'd', 'a', 'a', 'a', 'a']"
      ]
     },
     "execution_count": 56,
     "metadata": {},
     "output_type": "execute_result"
    }
   ],
   "source": [
    "move_toend(['a','a','c','b','a','d','a'],'a')"
   ]
  },
  {
   "cell_type": "code",
   "execution_count": null,
   "id": "941d5e7d-6ac6-4224-8fe5-1238fca09eef",
   "metadata": {},
   "outputs": [],
   "source": []
  }
 ],
 "metadata": {
  "kernelspec": {
   "display_name": "Python 3",
   "language": "python",
   "name": "python3"
  },
  "language_info": {
   "codemirror_mode": {
    "name": "ipython",
    "version": 3
   },
   "file_extension": ".py",
   "mimetype": "text/x-python",
   "name": "python",
   "nbconvert_exporter": "python",
   "pygments_lexer": "ipython3",
   "version": "3.8.8"
  }
 },
 "nbformat": 4,
 "nbformat_minor": 5
}
