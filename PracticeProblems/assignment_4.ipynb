{
 "cells": [
  {
   "cell_type": "markdown",
   "id": "ebd8a39c-36c8-4d89-858c-a5afd9fc18c9",
   "metadata": {},
   "source": [
    "# Assignment 4 "
   ]
  },
  {
   "cell_type": "markdown",
   "id": "42cdc6e7-2f06-4ef3-8712-aaa95dc732e3",
   "metadata": {},
   "source": [
    "### 1. Program to find factorial of a number."
   ]
  },
  {
   "cell_type": "code",
   "execution_count": 170,
   "id": "20c666d1-2a8e-45d1-b0f9-392f8c305510",
   "metadata": {},
   "outputs": [],
   "source": [
    "def fact(n):\n",
    "    output = 1\n",
    "    for i in range(1,n+1):\n",
    "        output*=i\n",
    "    return output    "
   ]
  },
  {
   "cell_type": "code",
   "execution_count": 171,
   "id": "2c137d10-e151-4274-838b-de17d06da19e",
   "metadata": {},
   "outputs": [
    {
     "data": {
      "text/plain": [
       "120"
      ]
     },
     "execution_count": 171,
     "metadata": {},
     "output_type": "execute_result"
    }
   ],
   "source": [
    "fact(5)"
   ]
  },
  {
   "cell_type": "markdown",
   "id": "493dc7a6-4377-4469-ae2c-d1a22cf3e9bc",
   "metadata": {},
   "source": [
    "### 2. Write a Python Program to Display the multiplication Table?"
   ]
  },
  {
   "cell_type": "code",
   "execution_count": 15,
   "id": "6b350625-b87f-41d7-aecc-f794eb6491dc",
   "metadata": {},
   "outputs": [
    {
     "name": "stdout",
     "output_type": "stream",
     "text": [
      "9*1 = 9\n",
      "9*2 = 18\n",
      "9*3 = 27\n",
      "9*4 = 36\n",
      "9*5 = 45\n",
      "9*6 = 54\n",
      "9*7 = 63\n",
      "9*8 = 72\n",
      "9*9 = 81\n",
      "9*10 = 90\n",
      "9*11 = 99\n",
      "9*12 = 108\n",
      "9*13 = 117\n",
      "9*14 = 126\n",
      "9*15 = 135\n"
     ]
    }
   ],
   "source": [
    "def mult_table(num,limit):\n",
    "    for i in range(1,limit+1):\n",
    "        print(f'{num}*{i} = {num*i}')\n",
    "mult_table(9,15)"
   ]
  },
  {
   "cell_type": "markdown",
   "id": "9f87b839-9805-4939-ab06-fdfcd83d76a0",
   "metadata": {},
   "source": [
    "### 3. Write a Python Program to Print the Fibonacci sequence?"
   ]
  },
  {
   "cell_type": "code",
   "execution_count": 165,
   "id": "b71357cb-6e81-4553-a2fd-a359f7caae92",
   "metadata": {},
   "outputs": [
    {
     "name": "stdout",
     "output_type": "stream",
     "text": [
      "0\n",
      "1\n",
      "1\n",
      "2\n",
      "3\n",
      "5\n",
      "8\n",
      "13\n",
      "21\n",
      "34\n",
      "55\n",
      "89\n"
     ]
    }
   ],
   "source": [
    "# 0,1,1,2,3,5,8 \n",
    "def fibanocci(n):\n",
    "    a, b = 0,1\n",
    "    for i in range(0,n):   \n",
    "        print(a)\n",
    "        a,b = b, a+b \n",
    "fibanocci(12)"
   ]
  },
  {
   "cell_type": "markdown",
   "id": "931a64a2-398d-4a6b-a623-8586b05a6bbf",
   "metadata": {},
   "source": [
    "### 4 .Write a Python Program to Check Armstrong Number?"
   ]
  },
  {
   "cell_type": "code",
   "execution_count": 146,
   "id": "a270b38b-4ccc-4116-abca-70ff42fe4bd9",
   "metadata": {},
   "outputs": [],
   "source": [
    "\n",
    "def armstrong(num):\n",
    "    l = len(str(num))\n",
    "    m = 0\n",
    "    for n in str(num):\n",
    "        m+=int(n)**l\n",
    "    if m == num:\n",
    "        return True"
   ]
  },
  {
   "cell_type": "code",
   "execution_count": 147,
   "id": "6de1c217-6ef9-4485-a744-fadee5feccbc",
   "metadata": {},
   "outputs": [
    {
     "data": {
      "text/plain": [
       "True"
      ]
     },
     "execution_count": 147,
     "metadata": {},
     "output_type": "execute_result"
    }
   ],
   "source": [
    "armstrong(153)"
   ]
  },
  {
   "cell_type": "markdown",
   "id": "ceb562d5-97af-4d52-aeeb-ae10c41a6953",
   "metadata": {},
   "source": [
    "### 5. Write a Python Program to Find Armstrong Number in an Interval?"
   ]
  },
  {
   "cell_type": "code",
   "execution_count": 156,
   "id": "f9b49c64-d92e-4e61-84af-4c75be353552",
   "metadata": {},
   "outputs": [
    {
     "data": {
      "text/plain": [
       "[0, 1, 2, 3, 4, 5, 6, 7, 8, 9, 153, 370, 371, 407, 1634, 8208, 9474]"
      ]
     },
     "execution_count": 156,
     "metadata": {},
     "output_type": "execute_result"
    }
   ],
   "source": [
    "def get_armstrongs(rng):\n",
    "    ls = []\n",
    "    for num in range(rng):      \n",
    "        l = len(str(num))\n",
    "        m = 0\n",
    "        for n in str(num):\n",
    "            m+=int(n)**l\n",
    "        if m == num:\n",
    "            ls.append(num)\n",
    "    return ls\n",
    "\n",
    "get_armstrongs(10000)"
   ]
  },
  {
   "cell_type": "markdown",
   "id": "c46f4a06-a3ce-4647-9061-7a28a3d808fa",
   "metadata": {},
   "source": [
    "### 6. Write a Python Program to Find the Sum of Natural Numbers?"
   ]
  },
  {
   "cell_type": "code",
   "execution_count": 164,
   "id": "414da478-7d57-4c54-bd31-045d00755dbd",
   "metadata": {},
   "outputs": [
    {
     "data": {
      "text/plain": [
       "55.0"
      ]
     },
     "execution_count": 164,
     "metadata": {},
     "output_type": "execute_result"
    }
   ],
   "source": [
    "def sum_natural(n):\n",
    "    return (n*(n+1))/2\n",
    "sum_natural(10)"
   ]
  }
 ],
 "metadata": {
  "kernelspec": {
   "display_name": "Python 3",
   "language": "python",
   "name": "python3"
  },
  "language_info": {
   "codemirror_mode": {
    "name": "ipython",
    "version": 3
   },
   "file_extension": ".py",
   "mimetype": "text/x-python",
   "name": "python",
   "nbconvert_exporter": "python",
   "pygments_lexer": "ipython3",
   "version": "3.8.8"
  }
 },
 "nbformat": 4,
 "nbformat_minor": 5
}
