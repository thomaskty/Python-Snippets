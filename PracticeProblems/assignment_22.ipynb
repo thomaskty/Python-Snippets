{
 "cells": [
  {
   "cell_type": "markdown",
   "id": "8119e63b-add5-4750-8074-81ad1fa08468",
   "metadata": {},
   "source": [
    "# Assignment 22"
   ]
  },
  {
   "cell_type": "markdown",
   "id": "0e09d334",
   "metadata": {},
   "source": [
    "## Question 1\n",
    "create a function that takes three paramteres where;\n",
    "x is the start of the range , y is the end of the range and n is the divisor to be checked \n",
    "\n",
    "return an ordered list with numbers in the range that are divisible by the third parameter n, return an empty list if there are no numbers that are divisible by n \n"
   ]
  },
  {
   "cell_type": "code",
   "execution_count": 9,
   "id": "f118e4c3",
   "metadata": {},
   "outputs": [],
   "source": [
    "def list_operation(a,b,n):\n",
    "    res = []\n",
    "    for i in range(a,b):\n",
    "        if i%n ==0:\n",
    "            res.append(i)\n",
    "    return res"
   ]
  },
  {
   "cell_type": "code",
   "execution_count": 10,
   "id": "e1472d2b",
   "metadata": {},
   "outputs": [
    {
     "data": {
      "text/plain": [
       "[3, 6, 9]"
      ]
     },
     "execution_count": 10,
     "metadata": {},
     "output_type": "execute_result"
    }
   ],
   "source": [
    "list_operation(1,10,3)"
   ]
  },
  {
   "cell_type": "code",
   "execution_count": 11,
   "id": "ee047fd3",
   "metadata": {},
   "outputs": [
    {
     "data": {
      "text/plain": [
       "[8]"
      ]
     },
     "execution_count": 11,
     "metadata": {},
     "output_type": "execute_result"
    }
   ],
   "source": [
    "list_operation(7,9,2)"
   ]
  },
  {
   "cell_type": "code",
   "execution_count": 8,
   "id": "93c3bf77",
   "metadata": {},
   "outputs": [
    {
     "data": {
      "text/plain": [
       "[]"
      ]
     },
     "execution_count": 8,
     "metadata": {},
     "output_type": "execute_result"
    }
   ],
   "source": [
    "list_operation(15,20,7)"
   ]
  },
  {
   "cell_type": "markdown",
   "id": "31d05e35",
   "metadata": {},
   "source": [
    "## Question 2 \n",
    "create a functtion that takes in two lists and returns True if the second list follows the first list by one element, and False otherwise.In otherwords, determine if the second list is the first list shifted to the right by 1 "
   ]
  },
  {
   "cell_type": "code",
   "execution_count": 100,
   "id": "545866d0",
   "metadata": {},
   "outputs": [],
   "source": [
    "def simon_says(lst1,lst2):\n",
    "    new = []\n",
    "    for i in range(len(lst1)):\n",
    "        if lst2[i]-lst1[i] == -1:\n",
    "            new.append(True)\n",
    "        else:\n",
    "            new.append(False)\n",
    "    if True in new:\n",
    "        return True \n",
    "    else:\n",
    "        return False        "
   ]
  },
  {
   "cell_type": "code",
   "execution_count": 102,
   "id": "af9ad0b4",
   "metadata": {},
   "outputs": [
    {
     "data": {
      "text/plain": [
       "True"
      ]
     },
     "execution_count": 102,
     "metadata": {},
     "output_type": "execute_result"
    }
   ],
   "source": [
    "simon_says([1,2],[5,1])"
   ]
  },
  {
   "cell_type": "code",
   "execution_count": 103,
   "id": "5d311bca",
   "metadata": {},
   "outputs": [
    {
     "data": {
      "text/plain": [
       "False"
      ]
     },
     "execution_count": 103,
     "metadata": {},
     "output_type": "execute_result"
    }
   ],
   "source": [
    "simon_says([1,2],[5,5])"
   ]
  },
  {
   "cell_type": "code",
   "execution_count": 104,
   "id": "2290ae31",
   "metadata": {},
   "outputs": [
    {
     "data": {
      "text/plain": [
       "True"
      ]
     },
     "execution_count": 104,
     "metadata": {},
     "output_type": "execute_result"
    }
   ],
   "source": [
    "simon_says([1,2,3,4,5],[0,1,2,3,4])"
   ]
  },
  {
   "cell_type": "code",
   "execution_count": 105,
   "id": "1075c34f",
   "metadata": {},
   "outputs": [
    {
     "data": {
      "text/plain": [
       "False"
      ]
     },
     "execution_count": 105,
     "metadata": {},
     "output_type": "execute_result"
    }
   ],
   "source": [
    "simon_says([1,2,3,4,5],[5,5,1,2,3])"
   ]
  },
  {
   "cell_type": "markdown",
   "id": "b2d89ba6",
   "metadata": {},
   "source": [
    "## Question 3 \n",
    "A group of friends have decided to start a secret society. The name will be the first letter of\n",
    "each of their names, sorted in alphabetical order.\n",
    "Create a function that takes in a list of names and returns the name of the secret society."
   ]
  },
  {
   "cell_type": "code",
   "execution_count": 18,
   "id": "a6eb8d71",
   "metadata": {},
   "outputs": [],
   "source": [
    "def society_names(lst):\n",
    "    res = []\n",
    "    for i in lst:\n",
    "        res.append(i[0].upper())\n",
    "    res.sort()\n",
    "    result = ''.join(res)\n",
    "    return result"
   ]
  },
  {
   "cell_type": "code",
   "execution_count": 19,
   "id": "96ae4232",
   "metadata": {},
   "outputs": [
    {
     "data": {
      "text/plain": [
       "'AMS'"
      ]
     },
     "execution_count": 19,
     "metadata": {},
     "output_type": "execute_result"
    }
   ],
   "source": [
    "society_names(['Adam','Sarah','Malcolm'])"
   ]
  },
  {
   "cell_type": "code",
   "execution_count": 20,
   "id": "1bbad3eb",
   "metadata": {},
   "outputs": [
    {
     "data": {
      "text/plain": [
       "'CHLN'"
      ]
     },
     "execution_count": 20,
     "metadata": {},
     "output_type": "execute_result"
    }
   ],
   "source": [
    "society_names(['Harry','Newt','Luna','Cho'])"
   ]
  },
  {
   "cell_type": "markdown",
   "id": "7d7bbdb5",
   "metadata": {},
   "source": [
    "## Question 4 \n",
    "An isogram is a word that has no duplicate letters. Create a function that takes a string and\n",
    "returns either True or False depending on whether or not it&#39;s an &quot;isogram&quot;."
   ]
  },
  {
   "cell_type": "code",
   "execution_count": 46,
   "id": "c4adca72",
   "metadata": {},
   "outputs": [],
   "source": [
    "def is_isogram(string):\n",
    "    res = list(string.lower()) # to make case insensitive \n",
    "    counts =[]\n",
    "    for i in res:\n",
    "        counts.append(res.count(i))\n",
    "    if 2 in counts:\n",
    "        return False\n",
    "    else:\n",
    "        return True"
   ]
  },
  {
   "cell_type": "code",
   "execution_count": 48,
   "id": "f57c53b8",
   "metadata": {},
   "outputs": [
    {
     "data": {
      "text/plain": [
       "True"
      ]
     },
     "execution_count": 48,
     "metadata": {},
     "output_type": "execute_result"
    }
   ],
   "source": [
    "is_isogram('algorithm')"
   ]
  },
  {
   "cell_type": "code",
   "execution_count": 49,
   "id": "f59655bf",
   "metadata": {},
   "outputs": [
    {
     "data": {
      "text/plain": [
       "False"
      ]
     },
     "execution_count": 49,
     "metadata": {},
     "output_type": "execute_result"
    }
   ],
   "source": [
    "is_isogram('PasSword') # case insensitive "
   ]
  },
  {
   "cell_type": "markdown",
   "id": "e2c6b301",
   "metadata": {},
   "source": [
    "## Question 5 \n",
    "Create a function that takes a string and returns True or False, depending on whether the\n",
    "characters are in order or not."
   ]
  },
  {
   "cell_type": "code",
   "execution_count": 62,
   "id": "1886e037",
   "metadata": {},
   "outputs": [],
   "source": [
    "def is_in_order(string):\n",
    "    lst = list(string)\n",
    "    lst.sort()\n",
    "    res = ''.join(lst)\n",
    "    if string ==res:\n",
    "        return True\n",
    "    else:\n",
    "        return False"
   ]
  },
  {
   "cell_type": "code",
   "execution_count": 63,
   "id": "ddefbbea",
   "metadata": {},
   "outputs": [
    {
     "data": {
      "text/plain": [
       "True"
      ]
     },
     "execution_count": 63,
     "metadata": {},
     "output_type": "execute_result"
    }
   ],
   "source": [
    "is_in_order('abc')"
   ]
  },
  {
   "cell_type": "code",
   "execution_count": 64,
   "id": "dc939efc",
   "metadata": {},
   "outputs": [
    {
     "data": {
      "text/plain": [
       "False"
      ]
     },
     "execution_count": 64,
     "metadata": {},
     "output_type": "execute_result"
    }
   ],
   "source": [
    "is_in_order('edabit')"
   ]
  },
  {
   "cell_type": "code",
   "execution_count": 66,
   "id": "ea169e62",
   "metadata": {},
   "outputs": [
    {
     "data": {
      "text/plain": [
       "True"
      ]
     },
     "execution_count": 66,
     "metadata": {},
     "output_type": "execute_result"
    }
   ],
   "source": [
    "is_in_order(\"123\")"
   ]
  },
  {
   "cell_type": "code",
   "execution_count": null,
   "id": "14750a99",
   "metadata": {},
   "outputs": [],
   "source": []
  }
 ],
 "metadata": {
  "kernelspec": {
   "display_name": "Python 3",
   "language": "python",
   "name": "python3"
  },
  "language_info": {
   "codemirror_mode": {
    "name": "ipython",
    "version": 3
   },
   "file_extension": ".py",
   "mimetype": "text/x-python",
   "name": "python",
   "nbconvert_exporter": "python",
   "pygments_lexer": "ipython3",
   "version": "3.8.8"
  }
 },
 "nbformat": 4,
 "nbformat_minor": 5
}
