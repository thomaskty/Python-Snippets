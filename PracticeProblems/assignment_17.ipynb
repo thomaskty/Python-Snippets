{
 "cells": [
  {
   "cell_type": "markdown",
   "id": "a3c1fec5-9614-4273-8808-9a8c83bfe7f9",
   "metadata": {},
   "source": [
    "# Assignment_17"
   ]
  },
  {
   "cell_type": "markdown",
   "id": "b647e44d-0a9f-4864-87da-3f9544ab750f",
   "metadata": {},
   "source": [
    "## Question 1 \n",
    "Create a function that takes three arguments a, b, c and returns the sum of the\n",
    "numbers that are evenly divided by c from the range a, b inclusive."
   ]
  },
  {
   "cell_type": "code",
   "execution_count": 9,
   "id": "cbc16515-2756-48ce-8776-691f52dec5ab",
   "metadata": {},
   "outputs": [],
   "source": [
    "def evenly_divisible(a,b,c):\n",
    "    sum_=0\n",
    "    for i in range(a,b+1):\n",
    "        if i%c ==0:\n",
    "            sum_+=i\n",
    "    return sum_    "
   ]
  },
  {
   "cell_type": "code",
   "execution_count": 11,
   "id": "6e2f29e5-565e-4dc8-ac7b-ac08aed5ca65",
   "metadata": {},
   "outputs": [
    {
     "name": "stdout",
     "output_type": "stream",
     "text": [
      "0\n",
      "30\n",
      "18\n"
     ]
    }
   ],
   "source": [
    "print(evenly_divisible(1,10,20))\n",
    "print(evenly_divisible(1,10,2))\n",
    "print(evenly_divisible(1,10,3))"
   ]
  },
  {
   "cell_type": "markdown",
   "id": "745007fd-0a3e-4e3e-b307-1601f12a08c8",
   "metadata": {},
   "source": [
    "## Question 2 \n",
    "Create a function that returns True if a given inequality expression is correct and\n",
    "False otherwise."
   ]
  },
  {
   "cell_type": "code",
   "execution_count": 17,
   "id": "fc7f5a3f-5fd7-4c75-82c5-9f51227b1b7c",
   "metadata": {},
   "outputs": [],
   "source": [
    "def correct_signs(expresssion):\n",
    "    return eval(expresssion)"
   ]
  },
  {
   "cell_type": "code",
   "execution_count": 26,
   "id": "0cf5dbf3-4100-4ecb-9be8-5b5cd2bdb4fc",
   "metadata": {},
   "outputs": [
    {
     "name": "stdout",
     "output_type": "stream",
     "text": [
      "True\n",
      "False\n",
      "True\n"
     ]
    }
   ],
   "source": [
    "print(correct_signs('3<7<11'))\n",
    "print(correct_signs('13>44>33>1'))\n",
    "print(correct_signs('1<2<6<9>3'))"
   ]
  },
  {
   "cell_type": "markdown",
   "id": "9343b63e-b617-4752-9153-8bd6a1fdc169",
   "metadata": {},
   "source": [
    "## Question 3\n",
    "Create a function that replaces all the vowels in a string with a specified character."
   ]
  },
  {
   "cell_type": "code",
   "execution_count": 27,
   "id": "a83e1058-6ee4-4775-bf41-9672306bbcee",
   "metadata": {},
   "outputs": [],
   "source": [
    "def replace_vowels(sentence,char):\n",
    "    vowels = ['a','e','i','o','u']\n",
    "    res = ''\n",
    "    for i in sentence:\n",
    "        if i in vowels:\n",
    "            res+=char\n",
    "        else:\n",
    "            res+=i\n",
    "    return res"
   ]
  },
  {
   "cell_type": "code",
   "execution_count": 29,
   "id": "6e52b591-297a-4073-8278-a5a1119efa31",
   "metadata": {},
   "outputs": [
    {
     "name": "stdout",
     "output_type": "stream",
     "text": [
      "th# ##rdv#rk\n",
      "m?nn?? m??s?\n",
      "sh*k*sp**r*\n"
     ]
    }
   ],
   "source": [
    "print(replace_vowels(\"the aardvark\",'#'))\n",
    "print(replace_vowels(\"minnie mouse\",'?'))\n",
    "print(replace_vowels(\"shakespeare\",'*'))"
   ]
  },
  {
   "cell_type": "markdown",
   "id": "40b54500-2b55-460e-a91f-320ecec95e12",
   "metadata": {},
   "source": [
    "## Question 4\n",
    "Write a function that calculates the factorial of a number recursively "
   ]
  },
  {
   "cell_type": "code",
   "execution_count": 34,
   "id": "f7d6037b-c659-4717-aa79-7dd57059f698",
   "metadata": {},
   "outputs": [],
   "source": [
    "def factorial(n):\n",
    "    if n==0 or n==1:\n",
    "        return 1\n",
    "    else:\n",
    "        return  n*factorial(n-1)"
   ]
  },
  {
   "cell_type": "code",
   "execution_count": 36,
   "id": "e5b03c51-eb2b-4239-8652-c3dce0a5aed0",
   "metadata": {},
   "outputs": [
    {
     "name": "stdout",
     "output_type": "stream",
     "text": [
      "120\n",
      "6\n",
      "1\n",
      "1\n"
     ]
    }
   ],
   "source": [
    "print(factorial(5))\n",
    "print(factorial(3))\n",
    "print(factorial(1))\n",
    "print(factorial(0))"
   ]
  },
  {
   "cell_type": "markdown",
   "id": "662fd53b-2fa7-49aa-90b2-eeb11b98161b",
   "metadata": {},
   "source": [
    "# Question 5 \n",
    "Hamming distance is the number of characters that differ between two strings"
   ]
  },
  {
   "cell_type": "code",
   "execution_count": 37,
   "id": "a68efddf-aedf-491a-ac8e-ee842dc38939",
   "metadata": {},
   "outputs": [],
   "source": [
    "def hamming_distance(word1,word2):\n",
    "    count = 0\n",
    "    for i in range(len(word1)):\n",
    "        if word1[i] != word2[i]:\n",
    "            count+=1\n",
    "    return count"
   ]
  },
  {
   "cell_type": "code",
   "execution_count": 39,
   "id": "5168886a-17ad-42f6-975e-d2c210c98b87",
   "metadata": {},
   "outputs": [
    {
     "data": {
      "text/plain": [
       "5"
      ]
     },
     "execution_count": 39,
     "metadata": {},
     "output_type": "execute_result"
    }
   ],
   "source": [
    "hamming_distance('abcde','bcdef')"
   ]
  },
  {
   "cell_type": "code",
   "execution_count": 40,
   "id": "bd1d6631-c129-47fa-baa3-c5d766e08bc1",
   "metadata": {},
   "outputs": [
    {
     "data": {
      "text/plain": [
       "0"
      ]
     },
     "execution_count": 40,
     "metadata": {},
     "output_type": "execute_result"
    }
   ],
   "source": [
    "hamming_distance('abcde','abcde')"
   ]
  },
  {
   "cell_type": "code",
   "execution_count": 41,
   "id": "eb204a10-3080-47b7-90be-6fa9475b1c3a",
   "metadata": {},
   "outputs": [
    {
     "data": {
      "text/plain": [
       "1"
      ]
     },
     "execution_count": 41,
     "metadata": {},
     "output_type": "execute_result"
    }
   ],
   "source": [
    "hamming_distance('strong','strung')"
   ]
  }
 ],
 "metadata": {
  "kernelspec": {
   "display_name": "Python 3",
   "language": "python",
   "name": "python3"
  },
  "language_info": {
   "codemirror_mode": {
    "name": "ipython",
    "version": 3
   },
   "file_extension": ".py",
   "mimetype": "text/x-python",
   "name": "python",
   "nbconvert_exporter": "python",
   "pygments_lexer": "ipython3",
   "version": "3.8.8"
  }
 },
 "nbformat": 4,
 "nbformat_minor": 5
}
