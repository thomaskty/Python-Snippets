{
 "cells": [
  {
   "cell_type": "markdown",
   "id": "d3f2a225-2508-4be3-80bc-f55b389fe688",
   "metadata": {},
   "source": [
    "# Assignment_5 "
   ]
  },
  {
   "cell_type": "markdown",
   "id": "519d9147-74ab-4b55-9d9e-66b7addbb177",
   "metadata": {},
   "source": [
    "### 1. program to find LCM"
   ]
  },
  {
   "cell_type": "code",
   "execution_count": 4,
   "id": "edc9250b-c471-4fa8-a9b4-08691b2ce8bf",
   "metadata": {},
   "outputs": [
    {
     "data": {
      "text/plain": [
       "12"
      ]
     },
     "execution_count": 4,
     "metadata": {},
     "output_type": "execute_result"
    }
   ],
   "source": [
    "def lcm(n,m):\n",
    "    if n<m:\n",
    "        greater = m \n",
    "    else:\n",
    "        greater = n \n",
    "    while True:\n",
    "        if (greater%n == 0) and (greater%m ==0 ):\n",
    "            lcm = greater \n",
    "            break \n",
    "        greater+=1\n",
    "    return lcm \n",
    "\n",
    "#testing\n",
    "lcm(3,4)"
   ]
  },
  {
   "cell_type": "markdown",
   "id": "b05ab7d3-a183-4603-9255-186b747ab90b",
   "metadata": {},
   "source": [
    "### 2. Program to find HCF "
   ]
  },
  {
   "cell_type": "code",
   "execution_count": 8,
   "id": "64c88ccf-9979-4ef0-843a-8caaf1d1ebac",
   "metadata": {},
   "outputs": [
    {
     "data": {
      "text/plain": [
       "12"
      ]
     },
     "execution_count": 8,
     "metadata": {},
     "output_type": "execute_result"
    }
   ],
   "source": [
    "def hcf(n,m):\n",
    "    if n<m:\n",
    "        lower = n \n",
    "    else:\n",
    "        lower = m \n",
    "    while True:\n",
    "        if (n%lower == 0) and (m%lower ==0):\n",
    "            hcf = lower \n",
    "            break\n",
    "        lower-=1\n",
    "    return hcf\n",
    "\n",
    "# testing \n",
    "hcf(36,24)"
   ]
  },
  {
   "cell_type": "markdown",
   "id": "82e17a11-9b98-497a-9bc3-a4dee0222e2e",
   "metadata": {},
   "source": [
    "### 3. Write a Python Program to Convert Decimal to Binary, Octal and Hexadecimal?"
   ]
  },
  {
   "cell_type": "code",
   "execution_count": 63,
   "id": "c3575ec4-8882-41e8-92fa-9ff38eb719d8",
   "metadata": {},
   "outputs": [
    {
     "data": {
      "text/plain": [
       "1100"
      ]
     },
     "execution_count": 63,
     "metadata": {},
     "output_type": "execute_result"
    }
   ],
   "source": [
    "# decimal to binary conversion \n",
    "def dec_bin(n):\n",
    "    final = ''\n",
    "    while n!=0:\n",
    "        final = f'{final}{n%2}'\n",
    "        n = n//2 \n",
    "    return int(final[::-1])\n",
    "        \n",
    "dec_bin(12)"
   ]
  },
  {
   "cell_type": "code",
   "execution_count": 62,
   "id": "f6b23a68-78a0-4be7-8ee0-4b11a576d2cd",
   "metadata": {},
   "outputs": [
    {
     "data": {
      "text/plain": [
       "612"
      ]
     },
     "execution_count": 62,
     "metadata": {},
     "output_type": "execute_result"
    }
   ],
   "source": [
    "# decimal to octal \n",
    "def dec_oct(n):\n",
    "    final = ''\n",
    "    while n!=0:\n",
    "        final = f'{final}{n%8}'\n",
    "        n = n//8 \n",
    "    return int(final[::-1])\n",
    "        \n",
    "dec_oct(394)"
   ]
  },
  {
   "cell_type": "code",
   "execution_count": 69,
   "id": "b47c4a14-bdaa-4cc1-84f4-0f22cf1f7987",
   "metadata": {},
   "outputs": [
    {
     "name": "stdout",
     "output_type": "stream",
     "text": [
      "1DF\n",
      "37E\n"
     ]
    }
   ],
   "source": [
    "# decimal to hexadecimal \n",
    "def dec_hex(n):\n",
    "    final = ''\n",
    "    while n!=0:\n",
    "        if n%16 == 10 :\n",
    "            final = f'{final}A'\n",
    "            n = n//16 \n",
    "        elif n%16 == 11 :\n",
    "            final = f'{final}B'\n",
    "            n = n//16\n",
    "        elif n%16 == 12 :\n",
    "            final = f'{final}C'\n",
    "            n = n//16 \n",
    "        elif n%16 == 13 :\n",
    "            final = f'{final}D'\n",
    "            n = n//16 \n",
    "        elif n%16 == 14 :\n",
    "            final = f'{final}E'\n",
    "            n = n//16             \n",
    "        elif n%16 == 15 :\n",
    "            final = f'{final}F'\n",
    "            n = n//16             \n",
    "        else:\n",
    "            \n",
    "            final = f'{final}{n%16}'\n",
    "            n = n//16 \n",
    "    return final[::-1]\n",
    "        \n",
    "print(dec_hex(479))\n",
    "print(dec_hex(894))"
   ]
  },
  {
   "cell_type": "markdown",
   "id": "86ce6ed9-7c6d-489e-b4b1-2db41611c624",
   "metadata": {},
   "source": [
    "### 4. Write a Python Program To Find ASCII value of a character?"
   ]
  },
  {
   "cell_type": "code",
   "execution_count": 70,
   "id": "1568fc84-84be-4a58-bef6-ee6eb60601cb",
   "metadata": {},
   "outputs": [],
   "source": [
    "def get_ascii(string):\n",
    "    print(ord(string))"
   ]
  },
  {
   "cell_type": "code",
   "execution_count": 71,
   "id": "e3ce3d6f-a5b9-4485-8270-f7ec05f75f11",
   "metadata": {},
   "outputs": [
    {
     "name": "stdout",
     "output_type": "stream",
     "text": [
      "65\n"
     ]
    }
   ],
   "source": [
    "get_ascii('A')"
   ]
  },
  {
   "cell_type": "markdown",
   "id": "1590cd53-b190-472d-8d9a-b556ef905c87",
   "metadata": {},
   "source": [
    "### 5 .Write a Python Program to Make a Simple Calculator with 4 basic mathematical operations?"
   ]
  },
  {
   "cell_type": "code",
   "execution_count": 123,
   "id": "43439869-87ec-4ce9-9411-652d30a22d3a",
   "metadata": {},
   "outputs": [],
   "source": [
    "\n",
    "# calculator function\n",
    "def Calculator(a,b,method):\n",
    "    if method == 'addition':      \n",
    "        return a+b\n",
    "    if method =='subtraction':\n",
    "        return a-b\n",
    "    if method  == 'division':\n",
    "        return a/b\n",
    "    if method == 'multiplication': \n",
    "        return a*b"
   ]
  },
  {
   "cell_type": "code",
   "execution_count": 124,
   "id": "6c1550cc-f25b-4446-8de5-d0d4c8ae4dca",
   "metadata": {},
   "outputs": [
    {
     "data": {
      "text/plain": [
       "36"
      ]
     },
     "execution_count": 124,
     "metadata": {},
     "output_type": "execute_result"
    }
   ],
   "source": [
    "Calculator(23,13, method = 'addition')"
   ]
  },
  {
   "cell_type": "code",
   "execution_count": 125,
   "id": "f3c18db7-6034-4295-b113-bc0253226986",
   "metadata": {},
   "outputs": [
    {
     "data": {
      "text/plain": [
       "23.0"
      ]
     },
     "execution_count": 125,
     "metadata": {},
     "output_type": "execute_result"
    }
   ],
   "source": [
    "Calculator(23,1 ,method = 'division')"
   ]
  },
  {
   "cell_type": "code",
   "execution_count": 126,
   "id": "5d416870-cbfd-4a9d-a280-441b4de3d6b5",
   "metadata": {},
   "outputs": [
    {
     "data": {
      "text/plain": [
       "20"
      ]
     },
     "execution_count": 126,
     "metadata": {},
     "output_type": "execute_result"
    }
   ],
   "source": [
    "Calculator(23,3,method = 'subtraction')"
   ]
  },
  {
   "cell_type": "code",
   "execution_count": 127,
   "id": "9ac53fb7-8b8e-40b7-878b-28f17101a412",
   "metadata": {},
   "outputs": [
    {
     "data": {
      "text/plain": [
       "84"
      ]
     },
     "execution_count": 127,
     "metadata": {},
     "output_type": "execute_result"
    }
   ],
   "source": [
    "Calculator(21,4, method = 'multiplication')"
   ]
  }
 ],
 "metadata": {
  "kernelspec": {
   "display_name": "Python 3",
   "language": "python",
   "name": "python3"
  },
  "language_info": {
   "codemirror_mode": {
    "name": "ipython",
    "version": 3
   },
   "file_extension": ".py",
   "mimetype": "text/x-python",
   "name": "python",
   "nbconvert_exporter": "python",
   "pygments_lexer": "ipython3",
   "version": "3.8.8"
  }
 },
 "nbformat": 4,
 "nbformat_minor": 5
}
