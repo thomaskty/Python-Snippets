{
 "cells": [
  {
   "cell_type": "markdown",
   "id": "452d6977",
   "metadata": {},
   "source": [
    "## Question 1\n",
    "Create a function to perform basic arithmetic operations that includes\n",
    "addition, subtraction, multiplication and division on a string number (e.g. &quot;12 +\n",
    "24&quot; or &quot;23 - 21&quot; or &quot;12 // 12&quot; or &quot;12 * 21&quot;).\n",
    "\n",
    "Here, we have 1 followed by a space, operator followed by another space\n",
    "and 2. For the challenge, we are going to have only two numbers between 1\n",
    "valid operator. The return value should be a number.\n",
    "eval() is not allowed. In case of division, whenever the second number equals\n",
    "&quot;0&quot; return -1."
   ]
  },
  {
   "cell_type": "code",
   "execution_count": 95,
   "id": "08e83ca8",
   "metadata": {},
   "outputs": [],
   "source": [
    "def arithmetic_operation(expression):\n",
    "    mo = re.compile(r'(\\d+)\\s(\\W+)\\s(\\d+)')\n",
    "    num1,operator,num2 = mo.findall(expression)[0]\n",
    "    if operator =='+':\n",
    "        res = int(num1)+int(num2)\n",
    "    if operator == '-':\n",
    "        res = int(num1)-int(num2)\n",
    "    if operator =='*':\n",
    "        res = int(num1)*int(num2)\n",
    "    if operator == r'//':\n",
    "        if int(num2) ==0:\n",
    "            res = -1\n",
    "        else:\n",
    "            res = int(num1)//int(num2)   \n",
    "    return res       "
   ]
  },
  {
   "cell_type": "code",
   "execution_count": 96,
   "id": "d409920c",
   "metadata": {},
   "outputs": [
    {
     "data": {
      "text/plain": [
       "24"
      ]
     },
     "execution_count": 96,
     "metadata": {},
     "output_type": "execute_result"
    }
   ],
   "source": [
    "arithmetic_operation('12 + 12')"
   ]
  },
  {
   "cell_type": "code",
   "execution_count": 97,
   "id": "595f0ee3",
   "metadata": {},
   "outputs": [
    {
     "data": {
      "text/plain": [
       "0"
      ]
     },
     "execution_count": 97,
     "metadata": {},
     "output_type": "execute_result"
    }
   ],
   "source": [
    "arithmetic_operation('12 - 12')"
   ]
  },
  {
   "cell_type": "code",
   "execution_count": 98,
   "id": "adb1edb0",
   "metadata": {},
   "outputs": [
    {
     "data": {
      "text/plain": [
       "-1"
      ]
     },
     "execution_count": 98,
     "metadata": {},
     "output_type": "execute_result"
    }
   ],
   "source": [
    "arithmetic_operation('12 // 0')"
   ]
  },
  {
   "cell_type": "code",
   "execution_count": 99,
   "id": "08c2cf41",
   "metadata": {},
   "outputs": [
    {
     "data": {
      "text/plain": [
       "144"
      ]
     },
     "execution_count": 99,
     "metadata": {},
     "output_type": "execute_result"
    }
   ],
   "source": [
    "arithmetic_operation('12 * 12')"
   ]
  },
  {
   "cell_type": "markdown",
   "id": "171ca8a5",
   "metadata": {},
   "source": [
    "## Question 2 \n",
    "Write a function that takes the coordinates of three points in the form of a\n",
    "2d array and returns the perimeter of the triangle. The given points are the\n",
    "vertices of a triangle on a two-dimensional plane."
   ]
  },
  {
   "cell_type": "code",
   "execution_count": 135,
   "id": "f9ac9d5d",
   "metadata": {},
   "outputs": [],
   "source": [
    "def perimeter(arr):\n",
    "    x,y,z = arr\n",
    "    xy = ((y[0]-x[0])**2 + (y[1]-x[1])**2)**0.5\n",
    "    yz = ((z[0]-y[0])**2 + (z[1]-y[1])**2)**0.5\n",
    "    zx = ((x[0]-z[0])**2 + (x[1]-z[1])**2)**0.5  \n",
    "    return round(xy+yz+zx,2)"
   ]
  },
  {
   "cell_type": "code",
   "execution_count": 136,
   "id": "3332b706",
   "metadata": {},
   "outputs": [
    {
     "data": {
      "text/plain": [
       "47.08"
      ]
     },
     "execution_count": 136,
     "metadata": {},
     "output_type": "execute_result"
    }
   ],
   "source": [
    "perimeter([[15,7],[5,22],[11,1]])"
   ]
  },
  {
   "cell_type": "code",
   "execution_count": 137,
   "id": "2337feaa",
   "metadata": {},
   "outputs": [
    {
     "data": {
      "text/plain": [
       "3.41"
      ]
     },
     "execution_count": 137,
     "metadata": {},
     "output_type": "execute_result"
    }
   ],
   "source": [
    "perimeter([[0,0],[0,1],[1,0]])"
   ]
  },
  {
   "cell_type": "code",
   "execution_count": 138,
   "id": "b114b31e",
   "metadata": {},
   "outputs": [
    {
     "data": {
      "text/plain": [
       "68.28"
      ]
     },
     "execution_count": 138,
     "metadata": {},
     "output_type": "execute_result"
    }
   ],
   "source": [
    "perimeter([[-10,-10],[10,10],[-10,10]])"
   ]
  },
  {
   "cell_type": "markdown",
   "id": "924669de",
   "metadata": {},
   "source": [
    "## Question 3 \n",
    "A city skyline can be represented as a 2-D list with 1s representing\n",
    "buildings. In the example below, the height of the tallest building is 4 (second-\n",
    "most right column)."
   ]
  },
  {
   "cell_type": "code",
   "execution_count": 168,
   "id": "0d637098",
   "metadata": {},
   "outputs": [],
   "source": [
    "def tallest_skyscraper(lst):\n",
    "    new = [[lst[i][j] for i in range(len(lst))] for j in range(len(lst[0]))] \n",
    "    fin = []\n",
    "    for i in new:\n",
    "        sums = 0\n",
    "        for element in range(len(i)):\n",
    "            sums+= i[element]\n",
    "        fin.append(sums)\n",
    "    return max(fin)"
   ]
  },
  {
   "cell_type": "code",
   "execution_count": 169,
   "id": "61e2fcb9",
   "metadata": {},
   "outputs": [
    {
     "data": {
      "text/plain": [
       "3"
      ]
     },
     "execution_count": 169,
     "metadata": {},
     "output_type": "execute_result"
    }
   ],
   "source": [
    "tallest_skyscraper([\n",
    "    [0,0,0,0],\n",
    "    [0,1,0,0],\n",
    "    [0,1,1,0],\n",
    "    [1,1,1,1]\n",
    "])"
   ]
  },
  {
   "cell_type": "code",
   "execution_count": 170,
   "id": "51cdc727",
   "metadata": {},
   "outputs": [
    {
     "data": {
      "text/plain": [
       "4"
      ]
     },
     "execution_count": 170,
     "metadata": {},
     "output_type": "execute_result"
    }
   ],
   "source": [
    "tallest_skyscraper([\n",
    "    [0,1,0,0],\n",
    "    [0,1,0,0],\n",
    "    [0,1,1,0],\n",
    "    [1,1,1,1]\n",
    "])"
   ]
  },
  {
   "cell_type": "code",
   "execution_count": 171,
   "id": "4cc2300c",
   "metadata": {},
   "outputs": [
    {
     "data": {
      "text/plain": [
       "2"
      ]
     },
     "execution_count": 171,
     "metadata": {},
     "output_type": "execute_result"
    }
   ],
   "source": [
    "tallest_skyscraper([\n",
    "    [0,0,0,0],\n",
    "    [0,0,0,0],\n",
    "    [0,1,1,0],\n",
    "    [1,1,1,1]\n",
    "])"
   ]
  },
  {
   "cell_type": "markdown",
   "id": "047c4ef3",
   "metadata": {},
   "source": [
    "## Question 4\n",
    "\n",
    "A financial institution provides professional services to banks and claims\n",
    "charges from the customers based on the number of man-days provided.\n",
    "Internally, it has set a scheme to motivate and reward staff to meet and\n",
    "exceed targeted billable utilization and revenues by paying a bonus for each\n",
    "day claimed from customers in excess of a threshold target.\n",
    "This quarterly scheme is calculated with a threshold target of 32 days per\n",
    "quarter, and the incentive payment for each billable day in excess of such\n",
    "threshold target is shown as follows:\n",
    "\n",
    " * 0 to 32 = 0\n",
    " * 33 to 40  = 325 \n",
    " * 41 to 48 = 550 \n",
    " * from 49 = 600\n",
    " \n",
    "Please note that incentive payment is calculated progressively. As an\n",
    "example, if an employee reached total billable days of 45 in a quarter, his/her\n",
    "incentive payment is computed as follows:\n",
    "32*0 + 8*325 + 5*550 = 5350\n",
    "\n",
    "Write a function to read the billable days of an employee and return the bonus\n",
    "he/she has obtained in that quarter."
   ]
  },
  {
   "cell_type": "code",
   "execution_count": 19,
   "id": "bba15f49",
   "metadata": {},
   "outputs": [],
   "source": [
    "def bonus(n):\n",
    "    sums = 0\n",
    "    while n>32:\n",
    "        if n >=33 and n <= 40 :\n",
    "            sums += 325 \n",
    "            n = n -1 \n",
    "        if n >= 41 and n <= 48:\n",
    "            sums += 550 \n",
    "            n = n -1 \n",
    "        if n >= 49:\n",
    "            sums += 600 \n",
    "            n = n-1 \n",
    "    print(sums)"
   ]
  },
  {
   "cell_type": "code",
   "execution_count": 22,
   "id": "d67b926e",
   "metadata": {},
   "outputs": [
    {
     "name": "stdout",
     "output_type": "stream",
     "text": [
      "0\n"
     ]
    }
   ],
   "source": [
    "bonus(15)"
   ]
  },
  {
   "cell_type": "code",
   "execution_count": 26,
   "id": "ccda1ed3",
   "metadata": {},
   "outputs": [
    {
     "name": "stdout",
     "output_type": "stream",
     "text": [
      "1625\n"
     ]
    }
   ],
   "source": [
    "bonus(37)"
   ]
  },
  {
   "cell_type": "code",
   "execution_count": 27,
   "id": "bdb696e4",
   "metadata": {},
   "outputs": [
    {
     "name": "stdout",
     "output_type": "stream",
     "text": [
      "8200\n"
     ]
    }
   ],
   "source": [
    "bonus(50)"
   ]
  },
  {
   "cell_type": "markdown",
   "id": "361eea8a",
   "metadata": {},
   "source": [
    "## Question 5 \n",
    "A number is said to be Disarium if the sum of its digits raised to their\n",
    "respective positions is the number itself.\n",
    "Create a function that determines whether a number is a Disarium or not."
   ]
  },
  {
   "cell_type": "code",
   "execution_count": 38,
   "id": "7e0caa61",
   "metadata": {},
   "outputs": [],
   "source": [
    "def isDisarium(n):\n",
    "    str_n = str(n)\n",
    "    sums = 0\n",
    "    for i in range(len(str_n)):\n",
    "        sums+= int(str_n[i]) **(i+1)\n",
    "    if sums == n:\n",
    "        return True \n",
    "    else:\n",
    "        return False"
   ]
  },
  {
   "cell_type": "code",
   "execution_count": 39,
   "id": "3a265d3f",
   "metadata": {},
   "outputs": [
    {
     "data": {
      "text/plain": [
       "False"
      ]
     },
     "execution_count": 39,
     "metadata": {},
     "output_type": "execute_result"
    }
   ],
   "source": [
    "isDisarium(75)"
   ]
  },
  {
   "cell_type": "code",
   "execution_count": 40,
   "id": "63ce5651",
   "metadata": {},
   "outputs": [
    {
     "data": {
      "text/plain": [
       "True"
      ]
     },
     "execution_count": 40,
     "metadata": {},
     "output_type": "execute_result"
    }
   ],
   "source": [
    "isDisarium(135)"
   ]
  },
  {
   "cell_type": "code",
   "execution_count": 42,
   "id": "eac6d955",
   "metadata": {},
   "outputs": [
    {
     "data": {
      "text/plain": [
       "False"
      ]
     },
     "execution_count": 42,
     "metadata": {},
     "output_type": "execute_result"
    }
   ],
   "source": [
    "isDisarium(544)"
   ]
  },
  {
   "cell_type": "code",
   "execution_count": 43,
   "id": "b1cb913a",
   "metadata": {},
   "outputs": [
    {
     "data": {
      "text/plain": [
       "True"
      ]
     },
     "execution_count": 43,
     "metadata": {},
     "output_type": "execute_result"
    }
   ],
   "source": [
    "isDisarium(518)"
   ]
  },
  {
   "cell_type": "code",
   "execution_count": 44,
   "id": "ac8ec0b4",
   "metadata": {},
   "outputs": [
    {
     "data": {
      "text/plain": [
       "True"
      ]
     },
     "execution_count": 44,
     "metadata": {},
     "output_type": "execute_result"
    }
   ],
   "source": [
    "isDisarium(8)"
   ]
  },
  {
   "cell_type": "code",
   "execution_count": null,
   "id": "aee5ee89",
   "metadata": {},
   "outputs": [],
   "source": []
  }
 ],
 "metadata": {
  "kernelspec": {
   "display_name": "Python 3",
   "language": "python",
   "name": "python3"
  },
  "language_info": {
   "codemirror_mode": {
    "name": "ipython",
    "version": 3
   },
   "file_extension": ".py",
   "mimetype": "text/x-python",
   "name": "python",
   "nbconvert_exporter": "python",
   "pygments_lexer": "ipython3",
   "version": "3.8.8"
  }
 },
 "nbformat": 4,
 "nbformat_minor": 5
}
