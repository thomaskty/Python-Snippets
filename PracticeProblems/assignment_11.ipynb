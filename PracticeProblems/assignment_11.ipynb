{
 "cells": [
  {
   "cell_type": "markdown",
   "id": "b197d8a3-b391-4075-b363-db45b7215407",
   "metadata": {},
   "source": [
    "# Assignment 11"
   ]
  },
  {
   "cell_type": "markdown",
   "id": "7dce242a-c0fd-441e-9085-071d758524d1",
   "metadata": {},
   "source": [
    "### 1. Write a Python program to find words which are greater than given length k?"
   ]
  },
  {
   "cell_type": "code",
   "execution_count": 5,
   "id": "e16d098c-7bad-43be-ae37-aaa6872a1ebe",
   "metadata": {},
   "outputs": [],
   "source": [
    "def find_greater(string,n):\n",
    "    words = string.split()\n",
    "    greater =[]\n",
    "    for i in words:\n",
    "        if len(i)>n:\n",
    "            greater.append(i)\n",
    "    return greater"
   ]
  },
  {
   "cell_type": "code",
   "execution_count": 6,
   "id": "e92d87fd-4a9d-4371-bf69-0b6c59b0e1a7",
   "metadata": {},
   "outputs": [
    {
     "data": {
      "text/plain": [
       "['hello', 'thomaskutty', 'reji,', 'doing', 'thank']"
      ]
     },
     "execution_count": 6,
     "metadata": {},
     "output_type": "execute_result"
    }
   ],
   "source": [
    "sentence = 'hi hello im thomaskutty reji, hope you doing well thank you'\n",
    "find_greater(sentence,4)"
   ]
  },
  {
   "cell_type": "markdown",
   "id": "5112ecf4-3ee0-4571-bbf6-d66a42e02910",
   "metadata": {},
   "source": [
    "### 2. Write a Python program for removing i-th character from a string?"
   ]
  },
  {
   "cell_type": "code",
   "execution_count": 16,
   "id": "f4272576-78c1-4b6a-8ee5-52f13fb6274f",
   "metadata": {},
   "outputs": [],
   "source": [
    "def remove_i(string,i):\n",
    "    chars = []\n",
    "    for j in range(len(msg)):\n",
    "        if j ==i:\n",
    "            continue\n",
    "        else:\n",
    "            chars.append(string[j])\n",
    "    chars = [str(i) for i in chars]\n",
    "    final = ''.join(chars)\n",
    "    return final"
   ]
  },
  {
   "cell_type": "code",
   "execution_count": 17,
   "id": "cac74dea-a4f6-401e-a18a-51bed473e682",
   "metadata": {},
   "outputs": [
    {
     "data": {
      "text/plain": [
       "'thoaskutty'"
      ]
     },
     "execution_count": 17,
     "metadata": {},
     "output_type": "execute_result"
    }
   ],
   "source": [
    "remove_i('thomaskutty',3)"
   ]
  },
  {
   "cell_type": "markdown",
   "id": "b005ad86-115f-47e8-aa7e-12f483b5ae96",
   "metadata": {},
   "source": [
    "### 3. Write a Python program to split and join a string?"
   ]
  },
  {
   "cell_type": "code",
   "execution_count": 24,
   "id": "d2f3dfd4-9b50-4a1b-b1f5-395b0c329da2",
   "metadata": {},
   "outputs": [],
   "source": [
    "def split_join(string,sep):\n",
    "    split = string.split()\n",
    "    joins = f'{sep}'.join(split)\n",
    "    return joins, split"
   ]
  },
  {
   "cell_type": "code",
   "execution_count": 25,
   "id": "00546a41-3459-4cbc-97bc-d0d02da2f7cd",
   "metadata": {},
   "outputs": [
    {
     "data": {
      "text/plain": [
       "('hi*how*are*you', ['hi', 'how', 'are', 'you'])"
      ]
     },
     "execution_count": 25,
     "metadata": {},
     "output_type": "execute_result"
    }
   ],
   "source": [
    "msg = 'hi how are you '\n",
    "split_join(msg,'*')"
   ]
  },
  {
   "cell_type": "markdown",
   "id": "9c8b55ee-c44d-4b92-a415-a66cc4343182",
   "metadata": {},
   "source": [
    "### 4. Write a Python program to check if a given string is binary string or not?"
   ]
  },
  {
   "cell_type": "code",
   "execution_count": 52,
   "id": "11150554-d77f-490e-99d8-3faa88702e49",
   "metadata": {},
   "outputs": [],
   "source": [
    "def isbinary(string):\n",
    "    \"\"\"checking whether a string is binary or not\"\"\"\n",
    "    count =0 \n",
    "    for i in string:\n",
    "        if i not in {'0','1'}:\n",
    "            count+=1      \n",
    "    if count==0:\n",
    "        return True \n",
    "    else:\n",
    "        return False            "
   ]
  },
  {
   "cell_type": "code",
   "execution_count": 56,
   "id": "aa3af194-9c30-43ec-8c2e-43c2d02c05fc",
   "metadata": {},
   "outputs": [
    {
     "name": "stdout",
     "output_type": "stream",
     "text": [
      "False\n",
      "True\n"
     ]
    }
   ],
   "source": [
    "print(isbinary('asdfsdfs'))\n",
    "print(isbinary('000011110100101001'))"
   ]
  },
  {
   "cell_type": "code",
   "execution_count": 59,
   "id": "747f0151-f0b9-42cd-8dc4-387b753c63d4",
   "metadata": {},
   "outputs": [],
   "source": [
    "### 5. Write a Python program to find uncommon words from two Strings?\n",
    "\n",
    "def get_uncommon(str1, str2):\n",
    "    words1 = str1.split()\n",
    "    words2 = str2.split()\n",
    "    uncommon = []\n",
    "    for i in words1:\n",
    "        if i in words2:\n",
    "            pass \n",
    "        else:\n",
    "            uncommon.append(i)\n",
    "    for j in words2:\n",
    "        if j in words1:\n",
    "            pass \n",
    "        else:\n",
    "            uncommon.append(j)\n",
    "    return uncommon"
   ]
  },
  {
   "cell_type": "code",
   "execution_count": 60,
   "id": "1d6d545b-fea9-402f-92df-3d21634ef789",
   "metadata": {},
   "outputs": [
    {
     "data": {
      "text/plain": [
       "['hi', 'how', 'ok']"
      ]
     },
     "execution_count": 60,
     "metadata": {},
     "output_type": "execute_result"
    }
   ],
   "source": [
    "get_uncommon('hi hello how are you ', 'hello you are ok')"
   ]
  },
  {
   "cell_type": "code",
   "execution_count": 78,
   "id": "dfddc56e-b1af-453b-8ba3-69e715801d3f",
   "metadata": {},
   "outputs": [],
   "source": [
    "### 6. Write a Python to find all duplicate characters in string?\n",
    "def get_duplicates(string):\n",
    "    '''returns the duplicate charaters in a string'''\n",
    "    final = set()\n",
    "    for i in range(len(string)):\n",
    "        count = 0\n",
    "        for j in range(len(string)):\n",
    "            if string[i] == string[j]:\n",
    "                count+=1\n",
    "        if count>1:\n",
    "            final.add(string[i])\n",
    "    return final"
   ]
  },
  {
   "cell_type": "code",
   "execution_count": 79,
   "id": "95bcdf0b-5591-4fa6-995e-db0d4e98a8f3",
   "metadata": {},
   "outputs": [
    {
     "data": {
      "text/plain": [
       "{'o', 't'}"
      ]
     },
     "execution_count": 79,
     "metadata": {},
     "output_type": "execute_result"
    }
   ],
   "source": [
    "get_duplicates('thoooooaskuttttty reji')"
   ]
  },
  {
   "cell_type": "markdown",
   "id": "c3582fcb-1be9-4574-8dff-18e50952dd4f",
   "metadata": {},
   "source": [
    "### 7. Write a Python Program to check if a string contains any special character?"
   ]
  },
  {
   "cell_type": "code",
   "execution_count": 98,
   "id": "6ad7926e-3f8b-4d90-93b0-40d4e5bdef8d",
   "metadata": {},
   "outputs": [],
   "source": [
    "\n",
    "def has_special(string):\n",
    "    special_chrs = list('@_!#$%^&*()<>?/\\|}{~:]')\n",
    "    count = 0\n",
    "    for i in string:\n",
    "        if i in special_chrs:\n",
    "            count+=1\n",
    "    if count!=0:\n",
    "        return 'yes'\n",
    "    else:\n",
    "        return 'no'"
   ]
  },
  {
   "cell_type": "code",
   "execution_count": 110,
   "id": "b295c798-3a07-4a3f-ad89-692564b172ab",
   "metadata": {},
   "outputs": [
    {
     "name": "stdout",
     "output_type": "stream",
     "text": [
      "yes\n",
      "no\n"
     ]
    }
   ],
   "source": [
    "print(has_special('thom/n\\nsdfsd%!#$fs'))\n",
    "print(has_special('lsdjlnsdjf'))"
   ]
  },
  {
   "cell_type": "code",
   "execution_count": null,
   "id": "b55b0789-1dc1-4ec3-be58-b854784b9f32",
   "metadata": {},
   "outputs": [],
   "source": []
  }
 ],
 "metadata": {
  "kernelspec": {
   "display_name": "Python 3",
   "language": "python",
   "name": "python3"
  },
  "language_info": {
   "codemirror_mode": {
    "name": "ipython",
    "version": 3
   },
   "file_extension": ".py",
   "mimetype": "text/x-python",
   "name": "python",
   "nbconvert_exporter": "python",
   "pygments_lexer": "ipython3",
   "version": "3.8.8"
  }
 },
 "nbformat": 4,
 "nbformat_minor": 5
}
