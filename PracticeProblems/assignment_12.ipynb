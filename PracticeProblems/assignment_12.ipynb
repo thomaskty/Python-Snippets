{
 "cells": [
  {
   "cell_type": "markdown",
   "id": "9d45105b-1cf9-44e4-8322-4884e8d162f1",
   "metadata": {},
   "source": [
    "# Assignment 12"
   ]
  },
  {
   "cell_type": "markdown",
   "id": "112a1e6c-5d9d-4df0-ad9f-c333797436e7",
   "metadata": {},
   "source": [
    "### 1. Write a Python program to Extract Unique values dictionary values?"
   ]
  },
  {
   "cell_type": "code",
   "execution_count": 16,
   "id": "e5f51343-3b90-4647-96be-3822d8c1980e",
   "metadata": {},
   "outputs": [],
   "source": [
    "def get_unique_values(dictn):\n",
    "    values = [ dictn[i] for i in [j for j in dictn]]\n",
    "    return set(values)"
   ]
  },
  {
   "cell_type": "code",
   "execution_count": 17,
   "id": "f85eed8c-918b-4678-81ef-9fc402027938",
   "metadata": {},
   "outputs": [
    {
     "data": {
      "text/plain": [
       "{'maria', 'thomaskutty'}"
      ]
     },
     "execution_count": 17,
     "metadata": {},
     "output_type": "execute_result"
    }
   ],
   "source": [
    "d = {'name':'thomaskutty', 'name2':'thomaskutty','sdkf':'maria'}\n",
    "get_unique_values(d)"
   ]
  },
  {
   "cell_type": "markdown",
   "id": "f4661fea-11f3-4ee7-a445-c6250af9f86d",
   "metadata": {},
   "source": [
    "### 2. Write a Python program to find the sum of all items in a dictionary?"
   ]
  },
  {
   "cell_type": "code",
   "execution_count": 35,
   "id": "87eaab80-6fd6-4a71-a370-f55b388f5220",
   "metadata": {},
   "outputs": [],
   "source": [
    "def get_sums(d):\n",
    "    newd = dict()\n",
    "    for i in d:\n",
    "        sum1 = 0 \n",
    "        for j in d[i]:\n",
    "            sum1+=j\n",
    "        newd[i] = sum1\n",
    "    return newd    "
   ]
  },
  {
   "cell_type": "code",
   "execution_count": 36,
   "id": "a810d560-a9a3-4dc1-8cf1-dd3ea3f9d954",
   "metadata": {},
   "outputs": [
    {
     "data": {
      "text/plain": [
       "{'a': 14, 'b': 59, 'c': 16}"
      ]
     },
     "execution_count": 36,
     "metadata": {},
     "output_type": "execute_result"
    }
   ],
   "source": [
    "d = {'a':[1,3,5,2,3], 'b':[2,45,2,6,4], 'c':[3,5,2,4,2]}\n",
    "get_sums(d)"
   ]
  },
  {
   "cell_type": "markdown",
   "id": "740d7904-6f63-4e9a-9b43-e4a8674d83a6",
   "metadata": {},
   "source": [
    "### 3. Write a Python program to Merging two Dictionaries?"
   ]
  },
  {
   "cell_type": "code",
   "execution_count": 42,
   "id": "bb7f4328-0fda-4a21-8c66-da0ba0e11759",
   "metadata": {},
   "outputs": [],
   "source": [
    "def merge_dict(d1,d2):\n",
    "    final_d = dict()\n",
    "    for i in d1:\n",
    "        final_d[i]= d1[i]\n",
    "    for j in d2:\n",
    "        final_d[j]= d2[j]\n",
    "    return final_d"
   ]
  },
  {
   "cell_type": "code",
   "execution_count": 125,
   "id": "dcb4d727-9737-4021-9c61-fc063113b761",
   "metadata": {},
   "outputs": [
    {
     "data": {
      "text/plain": [
       "{'name': 'thomaskutty',\n",
       " 'name2': 'thomaskutty',\n",
       " 'sdkf': 'maria',\n",
       " 'nam3': 'justing',\n",
       " 'name4': 'maritn',\n",
       " 'a': [1, 3, 5, 2, 3],\n",
       " 'b': [2, 45, 2, 6, 4],\n",
       " 'c': [3, 5, 2, 4, 2]}"
      ]
     },
     "execution_count": 125,
     "metadata": {},
     "output_type": "execute_result"
    }
   ],
   "source": [
    "d1 = {'name':'thomaskutty', 'name2':'thomaskutty','sdkf':'maria','nam3':'justing','name4':'maritn'}\n",
    "d2 = {'a':[1,3,5,2,3], 'b':[2,45,2,6,4], 'c':[3,5,2,4,2]}\n",
    "merge_dict(d1,d2)"
   ]
  },
  {
   "cell_type": "markdown",
   "id": "0a6b75d8-578c-4573-b42c-381a7bee67c0",
   "metadata": {},
   "source": [
    "### 4. Write a Python program to convert key-values list to flat dictionary?"
   ]
  },
  {
   "cell_type": "code",
   "execution_count": 59,
   "id": "5c3921c8-836f-402c-835c-522f56d0f199",
   "metadata": {},
   "outputs": [],
   "source": [
    "def lists_to_dict(list_keys,list_vlaues):\n",
    "    final_dict = dict()\n",
    "    for i in range(len(list_values)):\n",
    "        final_dict[list_keys[i]] = list_values[i]\n",
    "    return final_dict"
   ]
  },
  {
   "cell_type": "code",
   "execution_count": 60,
   "id": "2ad6ceb2-fa7b-4a53-bd89-fde86e05b6ae",
   "metadata": {},
   "outputs": [
    {
     "data": {
      "text/plain": [
       "{'name1': 'thomaskutty',\n",
       " 'name2': 'maria',\n",
       " 'a': [12, 3, 1, 4],\n",
       " 'b': [234, 123, 123]}"
      ]
     },
     "execution_count": 60,
     "metadata": {},
     "output_type": "execute_result"
    }
   ],
   "source": [
    "keys = ['name1','name2','a','b']\n",
    "values = ['thomaskutty','maria',[12,3,1,4],[234,123,123]]\n",
    "lists_to_dict(keys,values)"
   ]
  },
  {
   "cell_type": "markdown",
   "id": "61f2e8cf-5854-40e4-9625-28f11c279951",
   "metadata": {},
   "source": [
    "### 5. Write a Python program to insertion at the beginning in OrderedDict?"
   ]
  },
  {
   "cell_type": "code",
   "execution_count": 62,
   "id": "a6b55079-adca-439b-9cb5-f4c1e8d9716e",
   "metadata": {},
   "outputs": [],
   "source": [
    "from collections import OrderedDict"
   ]
  },
  {
   "cell_type": "code",
   "execution_count": 111,
   "id": "d9a23d0f-c23b-4ab4-8051-89e418c707e7",
   "metadata": {},
   "outputs": [],
   "source": [
    "def insert_first(dit,newkey, newvalue):\n",
    "    keys = list(dit)\n",
    "    values = [dit[i] for  i in dit]\n",
    "    values.insert(0,newvalue)\n",
    "    keys.insert(0,newkey)\n",
    "    newdit = dit.fromkeys(keys)\n",
    "    for i in range(len(keys)):\n",
    "        newdit[keys[i]] = values[i]\n",
    "    return newdit"
   ]
  },
  {
   "cell_type": "code",
   "execution_count": 112,
   "id": "c490ad15-9387-4780-8221-58b8881b35ad",
   "metadata": {},
   "outputs": [
    {
     "data": {
      "text/plain": [
       "OrderedDict([('age', 25), ('a', 1), ('b', 2), ('c', 3)])"
      ]
     },
     "execution_count": 112,
     "metadata": {},
     "output_type": "execute_result"
    }
   ],
   "source": [
    "dit = OrderedDict({'a':1, 'b':2, 'c':3})\n",
    "insert_first(dit,newkey= 'age', newvalue =25)"
   ]
  },
  {
   "cell_type": "markdown",
   "id": "c6804d1e-2927-45ac-ae5e-b1b3ed6288da",
   "metadata": {},
   "source": [
    "### 6. Write a Python program to check order of character in string using OrderedDict()?"
   ]
  },
  {
   "cell_type": "code",
   "execution_count": 123,
   "id": "6b6f0055-cb10-4b7f-993f-62b341620f2a",
   "metadata": {},
   "outputs": [],
   "source": [
    "def get_order(string,element):\n",
    "    dit = OrderedDict()\n",
    "    for inx,char in enumerate(string):\n",
    "        if char in dit:\n",
    "            dit[char].append(inx)\n",
    "        else:\n",
    "            dit[char] = [inx]\n",
    "    return dit[element]"
   ]
  },
  {
   "cell_type": "code",
   "execution_count": 124,
   "id": "0c101c1d-1bc1-460b-9a50-83e21a068f7f",
   "metadata": {},
   "outputs": [
    {
     "data": {
      "text/plain": [
       "[0, 8, 9]"
      ]
     },
     "execution_count": 124,
     "metadata": {},
     "output_type": "execute_result"
    }
   ],
   "source": [
    "string = 'thomaskutty' \n",
    "get_order(string,'t')"
   ]
  },
  {
   "cell_type": "markdown",
   "id": "a14cff0f-07b6-4b5b-b992-dd06cc9f07d0",
   "metadata": {},
   "source": [
    "### 7. Write a Python program to sort Python Dictionaries by Key or Value?"
   ]
  },
  {
   "cell_type": "code",
   "execution_count": 201,
   "id": "c3404aac-d886-47be-b747-9b699858faaa",
   "metadata": {},
   "outputs": [],
   "source": [
    "def sort_dict(d, by):\n",
    "    keys = list(d)\n",
    "    values = [d[i] for  i in d]\n",
    "    values.sort()\n",
    "    keys.sort()\n",
    "    # creating an instance of returning ordered dict\n",
    "    new_ord_dit = OrderedDict()\n",
    "    # Ordering using keys \n",
    "    if by == 'keys':\n",
    "        for i in range(len(d)):\n",
    "            new_ord_dit[keys[i]] = d[keys[i]]\n",
    "    \n",
    "    # ordering using values \n",
    "    if by == 'values':\n",
    "        new_ord_dit = OrderedDict()\n",
    "        for i in range(len(d)):\n",
    "            key1 = [key for key in d if d[key] == values[i]][0]\n",
    "            new_ord_dit[key1] = values[i]\n",
    "\n",
    "    return new_ord_dit"
   ]
  },
  {
   "cell_type": "code",
   "execution_count": 202,
   "id": "557172ba-bb52-4f0b-9bfd-74332d41ad2c",
   "metadata": {},
   "outputs": [
    {
     "data": {
      "text/plain": [
       "OrderedDict([('name3', 'joseph'),\n",
       "             ('name4', 'justing'),\n",
       "             ('name2', 'maria'),\n",
       "             ('name5', 'martin'),\n",
       "             ('name1', 'thomaskutty')])"
      ]
     },
     "execution_count": 202,
     "metadata": {},
     "output_type": "execute_result"
    }
   ],
   "source": [
    "d = {'name1':'thomaskutty', 'name3':'joseph','name2':'maria','name4':'justing','name5':'martin'}\n",
    "sort_dict(d,by = 'values')"
   ]
  },
  {
   "cell_type": "code",
   "execution_count": 203,
   "id": "64660edc-56ba-4d1c-bdd1-3a54f182185b",
   "metadata": {},
   "outputs": [
    {
     "data": {
      "text/plain": [
       "OrderedDict([('name1', 'thomaskutty'),\n",
       "             ('name2', 'maria'),\n",
       "             ('name3', 'joseph'),\n",
       "             ('name4', 'justing'),\n",
       "             ('name5', 'martin')])"
      ]
     },
     "execution_count": 203,
     "metadata": {},
     "output_type": "execute_result"
    }
   ],
   "source": [
    "sort_dict(d, by = 'keys')"
   ]
  }
 ],
 "metadata": {
  "kernelspec": {
   "display_name": "Python 3",
   "language": "python",
   "name": "python3"
  },
  "language_info": {
   "codemirror_mode": {
    "name": "ipython",
    "version": 3
   },
   "file_extension": ".py",
   "mimetype": "text/x-python",
   "name": "python",
   "nbconvert_exporter": "python",
   "pygments_lexer": "ipython3",
   "version": "3.8.8"
  }
 },
 "nbformat": 4,
 "nbformat_minor": 5
}
