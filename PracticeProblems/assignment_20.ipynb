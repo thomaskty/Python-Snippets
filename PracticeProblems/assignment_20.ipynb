{
 "cells": [
  {
   "cell_type": "markdown",
   "id": "224ff943-1e1b-4b89-96b6-9ae985be59ce",
   "metadata": {},
   "source": [
    "# Assignment 20 "
   ]
  },
  {
   "cell_type": "markdown",
   "id": "a790b089-b7f9-437f-8adf-8d52da5a5129",
   "metadata": {},
   "source": [
    "## Question 1 \n",
    "Create a function tht takes a list of strings and integers and filters out list so that it returns a list of integers only."
   ]
  },
  {
   "cell_type": "code",
   "execution_count": 1,
   "id": "4561345e-4c42-41aa-9dde-a3ba1f497b26",
   "metadata": {},
   "outputs": [],
   "source": [
    "def filter_list(lst):\n",
    "    res = []\n",
    "    for item in lst:\n",
    "        if type(item) ==int:\n",
    "            res.append(item)\n",
    "    return res"
   ]
  },
  {
   "cell_type": "code",
   "execution_count": 2,
   "id": "201cdf36-7434-4816-8ad7-eeb32cfb7ca2",
   "metadata": {},
   "outputs": [
    {
     "data": {
      "text/plain": [
       "[1, 2, 3, 4]"
      ]
     },
     "execution_count": 2,
     "metadata": {},
     "output_type": "execute_result"
    }
   ],
   "source": [
    "filter_list([1,2,3,4,'a','b','c'])"
   ]
  },
  {
   "cell_type": "code",
   "execution_count": 3,
   "id": "46ce18c6-8918-4a6b-86ea-8f0fc8e4d85f",
   "metadata": {},
   "outputs": [
    {
     "data": {
      "text/plain": [
       "[0, 1284]"
      ]
     },
     "execution_count": 3,
     "metadata": {},
     "output_type": "execute_result"
    }
   ],
   "source": [
    "filter_list([\"a\",0,'Edabit',1284,'Python','123'])"
   ]
  },
  {
   "cell_type": "code",
   "execution_count": 4,
   "id": "953d4d37-38db-436a-91dd-26e365c0e87b",
   "metadata": {},
   "outputs": [
    {
     "data": {
      "text/plain": [
       "[]"
      ]
     },
     "execution_count": 4,
     "metadata": {},
     "output_type": "execute_result"
    }
   ],
   "source": [
    "filter_list(['nothing','here'])"
   ]
  },
  {
   "cell_type": "markdown",
   "id": "42be0e7d-8b1a-4fd8-ae1b-2b177a76a835",
   "metadata": {},
   "source": [
    "## Question 2 \n",
    "Given a list of numbers, create a function which returns the  list butt with each elements's index in the added to itself.This means you add 0 to the number at index 0, add 1 to the number at index 1 etc.."
   ]
  },
  {
   "cell_type": "code",
   "execution_count": 7,
   "id": "ebd0e42c-fb78-4b59-94ce-732415b8ac72",
   "metadata": {},
   "outputs": [],
   "source": [
    "def add_indexes(lst):\n",
    "    res = []\n",
    "    for i in range(len(lst)):\n",
    "        res.append(lst[i]+i)\n",
    "    return res"
   ]
  },
  {
   "cell_type": "code",
   "execution_count": 8,
   "id": "82855c10-68d2-4eae-a004-9f9cc7977fce",
   "metadata": {},
   "outputs": [
    {
     "data": {
      "text/plain": [
       "[0, 1, 2, 3, 4]"
      ]
     },
     "execution_count": 8,
     "metadata": {},
     "output_type": "execute_result"
    }
   ],
   "source": [
    "add_indexes([0,0,0,0,0])"
   ]
  },
  {
   "cell_type": "code",
   "execution_count": 9,
   "id": "af726768-8234-48ce-9666-f2627e7f1c7c",
   "metadata": {},
   "outputs": [
    {
     "data": {
      "text/plain": [
       "[1, 3, 5, 7, 9]"
      ]
     },
     "execution_count": 9,
     "metadata": {},
     "output_type": "execute_result"
    }
   ],
   "source": [
    "add_indexes([1,2,3,4,5])"
   ]
  },
  {
   "cell_type": "code",
   "execution_count": 10,
   "id": "49e15e62-b272-4594-a273-2a39f8cc697f",
   "metadata": {},
   "outputs": [
    {
     "data": {
      "text/plain": [
       "[5, 5, 5, 5, 5]"
      ]
     },
     "execution_count": 10,
     "metadata": {},
     "output_type": "execute_result"
    }
   ],
   "source": [
    "add_indexes([5,4,3,2,1])"
   ]
  },
  {
   "cell_type": "markdown",
   "id": "4277d864-9c7a-46dc-aeee-ea6858ae52d7",
   "metadata": {},
   "source": [
    "## Question 3 \n",
    "Create a function that takes the height and radius  of a cone as arguments and returns the volumn of the cone rounded to the nearest hundredth."
   ]
  },
  {
   "cell_type": "code",
   "execution_count": 23,
   "id": "a7631d1d-18bb-4d64-af82-6c688f975e1c",
   "metadata": {},
   "outputs": [],
   "source": [
    "from math import pi\n",
    "def cone_volume(height,radius):\n",
    "    res = pi*radius**2\n",
    "    fin = res*(height/3)\n",
    "    return round(fin,2)"
   ]
  },
  {
   "cell_type": "code",
   "execution_count": 24,
   "id": "f06d62b0-9c4d-4fae-85c4-6989896331a6",
   "metadata": {},
   "outputs": [
    {
     "data": {
      "text/plain": [
       "12.57"
      ]
     },
     "execution_count": 24,
     "metadata": {},
     "output_type": "execute_result"
    }
   ],
   "source": [
    "cone_volume(3,2)"
   ]
  },
  {
   "cell_type": "code",
   "execution_count": 25,
   "id": "c04195cd-25f5-4f60-b569-8233a4b86028",
   "metadata": {},
   "outputs": [
    {
     "data": {
      "text/plain": [
       "565.49"
      ]
     },
     "execution_count": 25,
     "metadata": {},
     "output_type": "execute_result"
    }
   ],
   "source": [
    "cone_volume(height = 15,radius = 6)"
   ]
  },
  {
   "cell_type": "markdown",
   "id": "e7a5eae5-3e81-474e-a345-d756a3a8c6ed",
   "metadata": {},
   "source": [
    "## Question 4 \n",
    "This Traingular number sequence is generated from a pattern of dots thta form a triangle. The first 5 numbers of the sequence, or dots, are \n",
    "1,3,6,10,15. This means that the first traingle has just one dot, the second one has three dots, the third one has 6 dots and so on. \n",
    "write a function that gives the nubmer of dots with its corresponding triangle number of the sequence."
   ]
  },
  {
   "cell_type": "code",
   "execution_count": 45,
   "id": "b1079662-8589-4c67-9186-65b4e42dfed1",
   "metadata": {},
   "outputs": [],
   "source": [
    "def triangle(n):\n",
    "    if n==1:\n",
    "        return 1 \n",
    "    else:\n",
    "        return n+triangle(n-1)"
   ]
  },
  {
   "cell_type": "code",
   "execution_count": 53,
   "id": "b98ccdbd-744a-4467-96d4-ba1e05444bba",
   "metadata": {},
   "outputs": [
    {
     "data": {
      "text/plain": [
       "1"
      ]
     },
     "execution_count": 53,
     "metadata": {},
     "output_type": "execute_result"
    }
   ],
   "source": [
    "triangle(1)"
   ]
  },
  {
   "cell_type": "code",
   "execution_count": 54,
   "id": "f64ae288-52e4-4b89-ad60-605fe94d75f6",
   "metadata": {},
   "outputs": [
    {
     "data": {
      "text/plain": [
       "21"
      ]
     },
     "execution_count": 54,
     "metadata": {},
     "output_type": "execute_result"
    }
   ],
   "source": [
    "triangle(6)"
   ]
  },
  {
   "cell_type": "code",
   "execution_count": 55,
   "id": "c5f85b92-d89c-4923-abfe-12cae7ac8d87",
   "metadata": {},
   "outputs": [
    {
     "data": {
      "text/plain": [
       "23220"
      ]
     },
     "execution_count": 55,
     "metadata": {},
     "output_type": "execute_result"
    }
   ],
   "source": [
    "triangle(215)"
   ]
  },
  {
   "cell_type": "markdown",
   "id": "7b7ec7cb-0e16-49bc-a4e9-234916a87a00",
   "metadata": {},
   "source": [
    "## Question 5 \n",
    "Create a function that takes a list of numbers between 1 and 10(excluding  one number) and returns the missing number"
   ]
  },
  {
   "cell_type": "code",
   "execution_count": 65,
   "id": "e5fba96a-9f25-4468-b74b-456bd6d908c0",
   "metadata": {},
   "outputs": [],
   "source": [
    "def missing_num(lst):\n",
    "    nums = [i for i in range(1,11)]\n",
    "    for i in nums:\n",
    "        if i not in lst:\n",
    "            return i"
   ]
  },
  {
   "cell_type": "code",
   "execution_count": 66,
   "id": "80596f4f-469a-4d24-8af3-aaa51953d9b3",
   "metadata": {},
   "outputs": [
    {
     "data": {
      "text/plain": [
       "5"
      ]
     },
     "execution_count": 66,
     "metadata": {},
     "output_type": "execute_result"
    }
   ],
   "source": [
    "missing_num([1,2,3,4,6,7,8,9,10])"
   ]
  },
  {
   "cell_type": "code",
   "execution_count": 67,
   "id": "1be108ca-3c35-4e7c-88ec-d5618ef86063",
   "metadata": {},
   "outputs": [
    {
     "data": {
      "text/plain": [
       "10"
      ]
     },
     "execution_count": 67,
     "metadata": {},
     "output_type": "execute_result"
    }
   ],
   "source": [
    "missing_num([7,2,3,6,5,9,1,4,8])"
   ]
  },
  {
   "cell_type": "code",
   "execution_count": 68,
   "id": "f87340ad-c854-4497-b3b7-d70196cd894b",
   "metadata": {},
   "outputs": [
    {
     "data": {
      "text/plain": [
       "7"
      ]
     },
     "execution_count": 68,
     "metadata": {},
     "output_type": "execute_result"
    }
   ],
   "source": [
    "missing_num([10,5,1,2,4,6,8,3,9])"
   ]
  },
  {
   "cell_type": "code",
   "execution_count": null,
   "id": "4cf97dec-d24c-409c-8469-10487f471132",
   "metadata": {},
   "outputs": [],
   "source": []
  }
 ],
 "metadata": {
  "kernelspec": {
   "display_name": "Python 3",
   "language": "python",
   "name": "python3"
  },
  "language_info": {
   "codemirror_mode": {
    "name": "ipython",
    "version": 3
   },
   "file_extension": ".py",
   "mimetype": "text/x-python",
   "name": "python",
   "nbconvert_exporter": "python",
   "pygments_lexer": "ipython3",
   "version": "3.8.8"
  }
 },
 "nbformat": 4,
 "nbformat_minor": 5
}
