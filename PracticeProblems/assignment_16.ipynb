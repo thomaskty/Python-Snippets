{
 "cells": [
  {
   "cell_type": "markdown",
   "id": "e819c863-0de7-49c3-853c-fe9b1f28b677",
   "metadata": {},
   "source": [
    "# Assignment16"
   ]
  },
  {
   "cell_type": "markdown",
   "id": "664239c2-3c1f-4083-9da5-06402f9cfd57",
   "metadata": {},
   "source": [
    "## Question1\n",
    "Write a function that stutters a word as if someone is struggling to read it. The\n",
    "first two letters are repeated twice with an ellipsis ... and space after each, and then the\n",
    "word is pronounced with a question mark ?."
   ]
  },
  {
   "cell_type": "code",
   "execution_count": 16,
   "id": "d7bcb327-b1b2-4dad-98e8-3cfc1ed8e6e9",
   "metadata": {},
   "outputs": [],
   "source": [
    "def stutter(word):\n",
    "    tw = word[0:2]\n",
    "    return f\"{tw}... {tw}... {word}?\""
   ]
  },
  {
   "cell_type": "code",
   "execution_count": 17,
   "id": "910574de-a3f9-41be-9737-944bd4b77025",
   "metadata": {},
   "outputs": [
    {
     "name": "stdout",
     "output_type": "stream",
     "text": [
      "in... in... incredible?\n",
      "en... en... enthusiastic?\n",
      "ou... ou... outstanding?\n"
     ]
    }
   ],
   "source": [
    "print(stutter('incredible'))\n",
    "print(stutter('enthusiastic'))\n",
    "print(stutter('outstanding'))\n"
   ]
  },
  {
   "cell_type": "markdown",
   "id": "07e0ffa7-2185-4316-9975-95a395264e0d",
   "metadata": {},
   "source": [
    "## Question 2\n",
    "Create a function that takes an angle in radians and returns the corresponding\n",
    "angle in degrees rounded to one decimal place."
   ]
  },
  {
   "cell_type": "code",
   "execution_count": 28,
   "id": "ec301477-d984-4aa1-90a9-7b7364af0cac",
   "metadata": {},
   "outputs": [],
   "source": [
    "def to_degree(radian):\n",
    "    result = (180/3.14)*radian\n",
    "    return round(result,1)"
   ]
  },
  {
   "cell_type": "code",
   "execution_count": 32,
   "id": "07d75baf-6309-4101-a675-38e3b7debb0d",
   "metadata": {},
   "outputs": [
    {
     "name": "stdout",
     "output_type": "stream",
     "text": [
      "57.3\n",
      "1146.5\n",
      "2866.2\n"
     ]
    }
   ],
   "source": [
    "print(to_degree(1))\n",
    "print(to_degree(20))\n",
    "print(to_degree(50))"
   ]
  },
  {
   "cell_type": "markdown",
   "id": "6f6b36bc-bf17-489d-8dc4-80fe5fb00ebe",
   "metadata": {},
   "source": [
    "## Question 3 \n",
    "In this challenge, establish if a given integer num is a Curzon number. If 1 plus\n",
    "2 elevated to num is exactly divisible by 1 plus 2 multiplied by num, then num is a Curzon\n",
    "number.\n",
    "Given a non-negative integer num, implement a function that returns True if num is a Curzon\n",
    "number, or False otherwise."
   ]
  },
  {
   "cell_type": "code",
   "execution_count": 46,
   "id": "7c564a09-5b8d-492d-ace6-31f3f83c80fa",
   "metadata": {},
   "outputs": [],
   "source": [
    "def isCurzon(num):\n",
    "    r1 =  1+(2**num)\n",
    "    r2 = 1+(2*num)\n",
    "    if r1%r2 == 0:\n",
    "        return True \n",
    "    else:\n",
    "        return False"
   ]
  },
  {
   "cell_type": "code",
   "execution_count": 47,
   "id": "fa04114e-6b38-424a-823f-baadbafedbc0",
   "metadata": {},
   "outputs": [
    {
     "name": "stdout",
     "output_type": "stream",
     "text": [
      "True\n",
      "False\n",
      "True\n"
     ]
    }
   ],
   "source": [
    "print(isCurzon(5))\n",
    "print(isCurzon(10))\n",
    "print(isCurzon(14))"
   ]
  },
  {
   "cell_type": "markdown",
   "id": "3c158bfb-6ba9-4e90-ba96-ccfa6d00cabe",
   "metadata": {},
   "source": [
    "## Question 4 \n",
    "Given the side length x find the area of hexagon"
   ]
  },
  {
   "cell_type": "code",
   "execution_count": 52,
   "id": "13db1326-a6b2-4d97-a9f5-86516e989df6",
   "metadata": {},
   "outputs": [],
   "source": [
    "def get_hexarea(x):\n",
    "    numerator = 3*(3**0.5)*(x**2)\n",
    "    return round(numerator/2,1)"
   ]
  },
  {
   "cell_type": "code",
   "execution_count": 53,
   "id": "1aaf614d-2d4d-42ce-9b11-5c367107bdeb",
   "metadata": {},
   "outputs": [
    {
     "name": "stdout",
     "output_type": "stream",
     "text": [
      "2.6\n",
      "10.4\n",
      "23.4\n"
     ]
    }
   ],
   "source": [
    "print(get_hexarea(1))\n",
    "print(get_hexarea(2))\n",
    "print(get_hexarea(3))"
   ]
  },
  {
   "cell_type": "markdown",
   "id": "67993a8b-d1e6-4483-8fed-4e1a7e58aef7",
   "metadata": {},
   "source": [
    "## Question 5;\n",
    "Create a function that returns a base-2 (binary) representation of a base-10\n",
    "(decimal) string number. To convert is simple: ((2) means base-2 and (10) means base-10)\n",
    "010101001(2) = 1 + 8 + 32 + 128.\n",
    "Going from right to left, the value of the most right bit is 1, now from that every bit to the left\n",
    "will be x2 the value, value of an 8 bit binary numbers are (256, 128, 64, 32, 16, 8, 4, 2, 1)."
   ]
  },
  {
   "cell_type": "code",
   "execution_count": 64,
   "id": "afd63cdd-7297-4d52-ab9d-f4752395da46",
   "metadata": {},
   "outputs": [],
   "source": [
    "def binary(n):\n",
    "    final = ''\n",
    "    while n!=0:\n",
    "        final = f'{final}{n%2}'\n",
    "        n = n//2 \n",
    "    return final[::-1]"
   ]
  },
  {
   "cell_type": "code",
   "execution_count": 65,
   "id": "465211be-d2c4-4fcc-9a96-d9f281048625",
   "metadata": {},
   "outputs": [
    {
     "name": "stdout",
     "output_type": "stream",
     "text": [
      "1\n",
      "101\n",
      "1010\n"
     ]
    }
   ],
   "source": [
    "print(binary(1))\n",
    "print(binary(5))\n",
    "print(binary(10))"
   ]
  },
  {
   "cell_type": "code",
   "execution_count": null,
   "id": "91533c3a-f774-4a49-8e1e-cf34fd5e2673",
   "metadata": {},
   "outputs": [],
   "source": []
  }
 ],
 "metadata": {
  "kernelspec": {
   "display_name": "Python 3",
   "language": "python",
   "name": "python3"
  },
  "language_info": {
   "codemirror_mode": {
    "name": "ipython",
    "version": 3
   },
   "file_extension": ".py",
   "mimetype": "text/x-python",
   "name": "python",
   "nbconvert_exporter": "python",
   "pygments_lexer": "ipython3",
   "version": "3.8.8"
  }
 },
 "nbformat": 4,
 "nbformat_minor": 5
}
