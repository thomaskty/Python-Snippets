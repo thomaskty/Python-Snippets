{
 "cells": [
  {
   "cell_type": "markdown",
   "id": "971c3e75",
   "metadata": {},
   "source": [
    "## Question 1"
   ]
  },
  {
   "cell_type": "markdown",
   "id": "30f0a565",
   "metadata": {},
   "source": [
    "Create a function that takes a number as an argument and returns True or False depending on whether the number is symmetrical or not. A number is symmetrical when it is the same as its reverse"
   ]
  },
  {
   "cell_type": "code",
   "execution_count": 1,
   "id": "84034db5",
   "metadata": {},
   "outputs": [],
   "source": [
    "def is_symmetrical(num):\n",
    "    if str(num)[::-1] == str(num):\n",
    "        return True \n",
    "    else:\n",
    "        return False"
   ]
  },
  {
   "cell_type": "code",
   "execution_count": 5,
   "id": "f363da7f",
   "metadata": {},
   "outputs": [
    {
     "name": "stdout",
     "output_type": "stream",
     "text": [
      "True\n",
      "False\n",
      "True\n"
     ]
    }
   ],
   "source": [
    "print(is_symmetrical(7227))\n",
    "print(is_symmetrical(12567))\n",
    "print(is_symmetrical(1112111))"
   ]
  },
  {
   "cell_type": "markdown",
   "id": "7bc95ad8",
   "metadata": {},
   "source": [
    "## Question 2 \n",
    "Given a string of numbers seperated by a commo and space, return the product of the numbers"
   ]
  },
  {
   "cell_type": "code",
   "execution_count": 19,
   "id": "5f0b3925",
   "metadata": {},
   "outputs": [],
   "source": [
    "def multiply_num(string):\n",
    "    ints = string.split(',')\n",
    "    product = 1\n",
    "    for i in ints:\n",
    "        product*=int(i)\n",
    "    return product"
   ]
  },
  {
   "cell_type": "code",
   "execution_count": 20,
   "id": "e73d2229",
   "metadata": {},
   "outputs": [
    {
     "data": {
      "text/plain": [
       "6"
      ]
     },
     "execution_count": 20,
     "metadata": {},
     "output_type": "execute_result"
    }
   ],
   "source": [
    "multiply_num('2, 3')"
   ]
  },
  {
   "cell_type": "code",
   "execution_count": 23,
   "id": "8dee080f",
   "metadata": {},
   "outputs": [
    {
     "data": {
      "text/plain": [
       "0"
      ]
     },
     "execution_count": 23,
     "metadata": {},
     "output_type": "execute_result"
    }
   ],
   "source": [
    "multiply_num(\"54, 75, 453, 0\")"
   ]
  },
  {
   "cell_type": "code",
   "execution_count": 25,
   "id": "0813e9dd",
   "metadata": {},
   "outputs": [
    {
     "data": {
      "text/plain": [
       "-20"
      ]
     },
     "execution_count": 25,
     "metadata": {},
     "output_type": "execute_result"
    }
   ],
   "source": [
    "multiply_num('10, -2')"
   ]
  },
  {
   "cell_type": "markdown",
   "id": "6604bf84",
   "metadata": {},
   "source": [
    "## Question 3\n",
    "Create a function that sqaure every digit of a number"
   ]
  },
  {
   "cell_type": "code",
   "execution_count": 27,
   "id": "a1e66185",
   "metadata": {},
   "outputs": [],
   "source": [
    "def sqaure_digits(num):\n",
    "    res = ''\n",
    "    for i in str(num):\n",
    "        res+=str(int(i)**2)\n",
    "    return int(res)"
   ]
  },
  {
   "cell_type": "code",
   "execution_count": 28,
   "id": "bac10a1d",
   "metadata": {},
   "outputs": [
    {
     "data": {
      "text/plain": [
       "811181"
      ]
     },
     "execution_count": 28,
     "metadata": {},
     "output_type": "execute_result"
    }
   ],
   "source": [
    "sqaure_digits(9119)"
   ]
  },
  {
   "cell_type": "code",
   "execution_count": 29,
   "id": "e22cbd47",
   "metadata": {},
   "outputs": [
    {
     "data": {
      "text/plain": [
       "416649"
      ]
     },
     "execution_count": 29,
     "metadata": {},
     "output_type": "execute_result"
    }
   ],
   "source": [
    "sqaure_digits(2483)"
   ]
  },
  {
   "cell_type": "markdown",
   "id": "2ee8be47",
   "metadata": {},
   "source": [
    "## Question 4 \n",
    "Create a function that sorts a list and removes duplicates items from it"
   ]
  },
  {
   "cell_type": "code",
   "execution_count": 42,
   "id": "ef79af6f",
   "metadata": {},
   "outputs": [],
   "source": [
    "def setify(l):   \n",
    "    for i in range(len(l)):\n",
    "        for j in range(i+1,len(l)):\n",
    "            if l[i]>l[j]:\n",
    "                l[i],l[j] = l[j],l[i]\n",
    "    res = []\n",
    "    for i in l:\n",
    "        if i not in res:\n",
    "            res.append(i)\n",
    "    return res"
   ]
  },
  {
   "cell_type": "code",
   "execution_count": 43,
   "id": "fe00a174",
   "metadata": {},
   "outputs": [
    {
     "data": {
      "text/plain": [
       "[1, 3, 5]"
      ]
     },
     "execution_count": 43,
     "metadata": {},
     "output_type": "execute_result"
    }
   ],
   "source": [
    "setify([1,3,3,5,5])"
   ]
  },
  {
   "cell_type": "code",
   "execution_count": 44,
   "id": "1da7613a",
   "metadata": {},
   "outputs": [
    {
     "data": {
      "text/plain": [
       "[5, 7, 8, 9, 10, 15]"
      ]
     },
     "execution_count": 44,
     "metadata": {},
     "output_type": "execute_result"
    }
   ],
   "source": [
    "setify([5,7,8,9,10,15])"
   ]
  },
  {
   "cell_type": "code",
   "execution_count": 45,
   "id": "f26c2e1c",
   "metadata": {},
   "outputs": [
    {
     "data": {
      "text/plain": [
       "[1, 2, 3]"
      ]
     },
     "execution_count": 45,
     "metadata": {},
     "output_type": "execute_result"
    }
   ],
   "source": [
    "setify([3,3,2,1])"
   ]
  },
  {
   "cell_type": "markdown",
   "id": "49da7194",
   "metadata": {},
   "source": [
    "## Question 5 \n",
    "Create a function that returns the mean of all digits "
   ]
  },
  {
   "cell_type": "code",
   "execution_count": 46,
   "id": "c7dfe00c",
   "metadata": {},
   "outputs": [],
   "source": [
    "def mean(integer):\n",
    "    res = 0\n",
    "    for i in str(integer):\n",
    "        res+=int(i)\n",
    "    return res/len(str(integer))"
   ]
  },
  {
   "cell_type": "code",
   "execution_count": 47,
   "id": "4059f265",
   "metadata": {},
   "outputs": [
    {
     "data": {
      "text/plain": [
       "3.0"
      ]
     },
     "execution_count": 47,
     "metadata": {},
     "output_type": "execute_result"
    }
   ],
   "source": [
    "mean(42)"
   ]
  },
  {
   "cell_type": "code",
   "execution_count": 48,
   "id": "acf09816",
   "metadata": {},
   "outputs": [
    {
     "data": {
      "text/plain": [
       "3.0"
      ]
     },
     "execution_count": 48,
     "metadata": {},
     "output_type": "execute_result"
    }
   ],
   "source": [
    "mean(12345)"
   ]
  },
  {
   "cell_type": "code",
   "execution_count": 49,
   "id": "089077ea",
   "metadata": {},
   "outputs": [
    {
     "data": {
      "text/plain": [
       "6.0"
      ]
     },
     "execution_count": 49,
     "metadata": {},
     "output_type": "execute_result"
    }
   ],
   "source": [
    "mean(666)"
   ]
  },
  {
   "cell_type": "code",
   "execution_count": null,
   "id": "14c3df09",
   "metadata": {},
   "outputs": [],
   "source": []
  }
 ],
 "metadata": {
  "kernelspec": {
   "display_name": "Python 3",
   "language": "python",
   "name": "python3"
  },
  "language_info": {
   "codemirror_mode": {
    "name": "ipython",
    "version": 3
   },
   "file_extension": ".py",
   "mimetype": "text/x-python",
   "name": "python",
   "nbconvert_exporter": "python",
   "pygments_lexer": "ipython3",
   "version": "3.8.8"
  }
 },
 "nbformat": 4,
 "nbformat_minor": 5
}
