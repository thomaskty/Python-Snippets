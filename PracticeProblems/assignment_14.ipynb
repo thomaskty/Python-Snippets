{
 "cells": [
  {
   "cell_type": "markdown",
   "id": "c57d1dc5-d1ef-4616-8f84-e2376f3c1835",
   "metadata": {},
   "source": [
    "# Assignment 14"
   ]
  },
  {
   "cell_type": "markdown",
   "id": "6b6b6503-2bfc-4c50-980a-2d79845476ad",
   "metadata": {},
   "source": [
    "## Question 1\n",
    "Define a class with a generator which can iterate the numbers, which are divisible by\n",
    "7, between a given range 0 and n."
   ]
  },
  {
   "cell_type": "code",
   "execution_count": 178,
   "id": "31a606c6-972c-4268-a6a1-01e9c7e120e8",
   "metadata": {},
   "outputs": [],
   "source": [
    "def get_gen(n):\n",
    "    for i in range(0,n):\n",
    "        if i%7 ==0:\n",
    "            yield i"
   ]
  },
  {
   "cell_type": "code",
   "execution_count": 179,
   "id": "f10320a3-983a-4841-a026-1709c4592224",
   "metadata": {},
   "outputs": [
    {
     "data": {
      "text/plain": [
       "<generator object get_gen at 0x7f839f6d0660>"
      ]
     },
     "execution_count": 179,
     "metadata": {},
     "output_type": "execute_result"
    }
   ],
   "source": [
    "my_generator = get_gen(30)\n",
    "my_generator"
   ]
  },
  {
   "cell_type": "code",
   "execution_count": 180,
   "id": "3ee79375-95f5-4839-b926-4023f8f90986",
   "metadata": {},
   "outputs": [
    {
     "name": "stdout",
     "output_type": "stream",
     "text": [
      "0,7,14,21,28,"
     ]
    }
   ],
   "source": [
    "for i in my_generator:\n",
    "    print(i, end = ',')"
   ]
  },
  {
   "cell_type": "markdown",
   "id": "d1cf6468-41d3-4923-8476-775d6f3e1f84",
   "metadata": {},
   "source": [
    "## Question 2 \n",
    "Write a program to compute the frequency of the words from the input. The output\n",
    "should output after sorting the key alphanumerically."
   ]
  },
  {
   "cell_type": "code",
   "execution_count": 181,
   "id": "46a1a967-2881-41c1-91eb-a277c389e110",
   "metadata": {},
   "outputs": [],
   "source": [
    "from collections import OrderedDict\n",
    "def word_count(sentence):\n",
    "    words = sentence.split()\n",
    "    words = [str(i) for i in words]\n",
    "    words.sort()\n",
    "    d = OrderedDict().fromkeys(words)\n",
    "    for i in d:\n",
    "        d[i] = 0\n",
    "    for word in words:\n",
    "        d[word]+=1\n",
    "    for i in d:\n",
    "        print(i, ':', d[i])"
   ]
  },
  {
   "cell_type": "code",
   "execution_count": 182,
   "id": "1d5e4f3c-1c2e-475f-a12f-0c3ad54f7f4b",
   "metadata": {},
   "outputs": [
    {
     "name": "stdout",
     "output_type": "stream",
     "text": [
      "2 : 2\n",
      "3. : 1\n",
      "3? : 1\n",
      "New : 1\n",
      "Python : 5\n",
      "Read : 1\n",
      "and : 1\n",
      "between : 1\n",
      "choosing : 1\n",
      "or : 2\n",
      "to : 1\n"
     ]
    }
   ],
   "source": [
    "sentence = \"\"\"New to Python or choosing between Python 2 \n",
    "and Python 3? Read Python 2 or\n",
    "Python 3.\"\"\"\n",
    "\n",
    "word_count(sentence)"
   ]
  },
  {
   "cell_type": "markdown",
   "id": "e45e283e-3b9d-4b7c-9d5f-40a09c93ae08",
   "metadata": {},
   "source": [
    "## Question 3 \n",
    "Define a class Person and its two child classes: Male and Female. All classes have a\n",
    "method &quot;getGender&quot; which can print &quot;Male&quot; for Male class and &quot;Female&quot; for Female\n",
    "class."
   ]
  },
  {
   "cell_type": "code",
   "execution_count": 183,
   "id": "5366e9ea-acf5-4b12-a7bf-998775d7c2f9",
   "metadata": {},
   "outputs": [],
   "source": [
    "class Person:\n",
    "    def get_gender(self):\n",
    "        print('printing the gender of person')\n",
    "\n",
    "\n",
    "class Male(Person):\n",
    "    def get_gender(self):\n",
    "        print('Male')\n",
    "\n",
    "class Female(Person):\n",
    "    def get_gender(self):\n",
    "        print('Female')\n"
   ]
  },
  {
   "cell_type": "code",
   "execution_count": 184,
   "id": "ddfc2bf5-f8d4-4ef6-aea3-ec0555d93a61",
   "metadata": {},
   "outputs": [],
   "source": [
    "thomas = Male()\n",
    "maria = Female()"
   ]
  },
  {
   "cell_type": "code",
   "execution_count": 185,
   "id": "37f92c76-2902-4f8e-abbe-6a37e1287844",
   "metadata": {},
   "outputs": [
    {
     "name": "stdout",
     "output_type": "stream",
     "text": [
      "Male\n"
     ]
    }
   ],
   "source": [
    "thomas.get_gender()"
   ]
  },
  {
   "cell_type": "code",
   "execution_count": 186,
   "id": "8a581610-4770-4394-aad5-97964e55ce2e",
   "metadata": {},
   "outputs": [
    {
     "name": "stdout",
     "output_type": "stream",
     "text": [
      "Female\n"
     ]
    }
   ],
   "source": [
    "maria.get_gender()"
   ]
  },
  {
   "cell_type": "markdown",
   "id": "758ee286-1ed2-4214-814e-b8929801a5f6",
   "metadata": {},
   "source": [
    "## Question 4 \n",
    "Please write a program to generate all sentences where subject is in [&quot;I&quot;, &quot;You&quot;] and\n",
    "verb is in [&quot;Play&quot;, &quot;Love&quot;] and the object is in [&quot;Hockey&quot;,&quot;Football&quot;]."
   ]
  },
  {
   "cell_type": "code",
   "execution_count": 187,
   "id": "7c636ea4-0a70-4091-b53a-460031df55f9",
   "metadata": {},
   "outputs": [],
   "source": [
    "subjects = [\"I\", 'You']\n",
    "verbs = [\"Play\",'Love']\n",
    "objects = [\"Hockey\",\"Football\"]"
   ]
  },
  {
   "cell_type": "code",
   "execution_count": 188,
   "id": "e20b7a58-2fa4-4444-aded-a02233210d73",
   "metadata": {},
   "outputs": [],
   "source": [
    "def get_sentences(subjects,verbs,objects):    \n",
    "    for i in subjects:\n",
    "        for j in verbs:\n",
    "            for k in objects:\n",
    "                yield f'{i} {j} {k}'"
   ]
  },
  {
   "cell_type": "code",
   "execution_count": 189,
   "id": "201152df-8280-439d-ae95-00b753b1880d",
   "metadata": {},
   "outputs": [
    {
     "name": "stdout",
     "output_type": "stream",
     "text": [
      "I Play Hockey\n",
      "I Play Football\n",
      "I Love Hockey\n",
      "I Love Football\n",
      "You Play Hockey\n",
      "You Play Football\n",
      "You Love Hockey\n",
      "You Love Football\n"
     ]
    }
   ],
   "source": [
    "for i  in get_sentences(subjects,verbs,objects):\n",
    "    print(i)"
   ]
  },
  {
   "cell_type": "markdown",
   "id": "451a8a93-39fa-40f8-bb5f-d7f5d441b4cc",
   "metadata": {},
   "source": [
    "## Question 5 \n",
    "Please write a program to compress and decompress the string &quot;hello world!hello\n",
    "world!hello world!hello world!&quot;."
   ]
  },
  {
   "cell_type": "code",
   "execution_count": 190,
   "id": "0ff898da-6d45-4fa4-a36c-eef04069ab2a",
   "metadata": {},
   "outputs": [],
   "source": [
    "def compress(string):\n",
    "    '''letter compression'''\n",
    "    res = \"\"\n",
    "    count = 1\n",
    "    #Add in first character\n",
    "    res += string[0]\n",
    "    #Iterate through loop, skipping last one\n",
    "    for i in range(len(string)-1):\n",
    "        if(string[i] == string[i+1]):\n",
    "            count+=1\n",
    "        else:\n",
    "            res += str(count)\n",
    "            res += string[i+1]\n",
    "            count = 1\n",
    "    #print last one\n",
    "    res += str(count)\n",
    "    return res"
   ]
  },
  {
   "cell_type": "code",
   "execution_count": 191,
   "id": "b7d3ad31-20a5-457d-9f59-3a85f60d8a8c",
   "metadata": {},
   "outputs": [
    {
     "data": {
      "text/plain": [
       "'h1e1l2o1 1w1o1r1l1d1!1h1e1l2o1w1o1r1l1d1!1h1e1l2o1 1w1o1r1l1d1!1h1e1l2o1\\n1w1o1r1l1d1!1'"
      ]
     },
     "execution_count": 191,
     "metadata": {},
     "output_type": "execute_result"
    }
   ],
   "source": [
    "compress('''hello world!helloworld!hello world!hello\n",
    "world!''')"
   ]
  },
  {
   "cell_type": "code",
   "execution_count": 192,
   "id": "90ff12d4-1b51-43e2-80e1-178ab9f09529",
   "metadata": {},
   "outputs": [],
   "source": [
    "def decompress(string):\n",
    "    '''letter decompression'''\n",
    "    res = \"\"\n",
    "    for i in range(len(string)):\n",
    "        if string[i].isdigit() ==True:\n",
    "            res = res+string[i-1]\n",
    "            res = res+f'{string[i-1]}'*(int(string[i])-1)\n",
    "    return res"
   ]
  },
  {
   "cell_type": "code",
   "execution_count": 193,
   "id": "ad0319a7-c190-44e2-91cd-238515a74bc3",
   "metadata": {},
   "outputs": [
    {
     "data": {
      "text/plain": [
       "'hhelllowwwwwoookkkkpppoop'"
      ]
     },
     "execution_count": 193,
     "metadata": {},
     "output_type": "execute_result"
    }
   ],
   "source": [
    "decompress('h2e1l3o1w5o3k4p3o2p1')"
   ]
  },
  {
   "cell_type": "markdown",
   "id": "813cba64-3ff7-45b7-a503-77ae0a1e9b87",
   "metadata": {},
   "source": [
    "# Question 6 \n",
    "Please write a binary search function which searches an item in a sorted list. The\n",
    "function should return the index of element to be searched in the list.`"
   ]
  },
  {
   "cell_type": "code",
   "execution_count": 194,
   "id": "dd8cc965-753a-4441-b017-fe8733baae55",
   "metadata": {},
   "outputs": [],
   "source": [
    "def binary_search(arr, low, high, x):\n",
    "    if high >= low: \n",
    "        mid = (high + low) // 2\n",
    "        if arr[mid] == x:\n",
    "            return mid\n",
    "        elif arr[mid] > x:\n",
    "            return binary_search(arr, low, mid - 1, x)\n",
    "        else:\n",
    "            return binary_search(arr, mid + 1, high, x)\n",
    "    else:\n",
    "        return -1"
   ]
  },
  {
   "cell_type": "code",
   "execution_count": 195,
   "id": "2553f901-9048-4e59-9529-6b598d7c130f",
   "metadata": {},
   "outputs": [
    {
     "data": {
      "text/plain": [
       "4"
      ]
     },
     "execution_count": 195,
     "metadata": {},
     "output_type": "execute_result"
    }
   ],
   "source": [
    "array = [12,32,43,54,55,56,56,67]\n",
    "binary_search(array,0,len(array),55)"
   ]
  },
  {
   "cell_type": "code",
   "execution_count": null,
   "id": "ea7bb71d-16ad-4b72-b5c6-6cb4758ec7e4",
   "metadata": {},
   "outputs": [],
   "source": []
  },
  {
   "cell_type": "code",
   "execution_count": null,
   "id": "39dc4364-c7c0-4994-ae58-3deed7e8bbb0",
   "metadata": {},
   "outputs": [],
   "source": []
  }
 ],
 "metadata": {
  "kernelspec": {
   "display_name": "Python 3",
   "language": "python",
   "name": "python3"
  },
  "language_info": {
   "codemirror_mode": {
    "name": "ipython",
    "version": 3
   },
   "file_extension": ".py",
   "mimetype": "text/x-python",
   "name": "python",
   "nbconvert_exporter": "python",
   "pygments_lexer": "ipython3",
   "version": "3.8.8"
  }
 },
 "nbformat": 4,
 "nbformat_minor": 5
}
