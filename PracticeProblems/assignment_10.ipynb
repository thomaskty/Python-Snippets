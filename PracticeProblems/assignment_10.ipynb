{
 "cells": [
  {
   "cell_type": "markdown",
   "id": "01c602e0-78b2-4b0b-a9d5-4a0361c1b644",
   "metadata": {},
   "source": [
    "# Assignment 10 "
   ]
  },
  {
   "cell_type": "markdown",
   "id": "c7a9b81b-50a1-41f5-82c8-6b387fce33d7",
   "metadata": {},
   "source": [
    "### 1. Write a Python program to find sum of elements in list?"
   ]
  },
  {
   "cell_type": "code",
   "execution_count": 13,
   "id": "07273167-3295-4b9b-843d-45ab3ef11563",
   "metadata": {},
   "outputs": [
    {
     "data": {
      "text/plain": [
       "10"
      ]
     },
     "execution_count": 13,
     "metadata": {},
     "output_type": "execute_result"
    }
   ],
   "source": [
    "def sum_list(lst):\n",
    "    sum_ = 0\n",
    "    for i in lst:\n",
    "        sum_+=i\n",
    "    return sum_\n",
    "sum_list([1,3,5,1])"
   ]
  },
  {
   "cell_type": "markdown",
   "id": "6350843f-8d55-40ca-8be9-d4320a5e802e",
   "metadata": {},
   "source": [
    "### 2. Write a Python program to Multiply all numbers in the list?"
   ]
  },
  {
   "cell_type": "code",
   "execution_count": 14,
   "id": "71527989-3721-4afe-b109-1e4bf974dfa6",
   "metadata": {},
   "outputs": [
    {
     "data": {
      "text/plain": [
       "12"
      ]
     },
     "execution_count": 14,
     "metadata": {},
     "output_type": "execute_result"
    }
   ],
   "source": [
    "def multi(lst):\n",
    "    mul = 1 \n",
    "    for i in lst:\n",
    "        mul*=i\n",
    "    return mul\n",
    "multi([1,3,4,1])"
   ]
  },
  {
   "cell_type": "markdown",
   "id": "274caa71-641f-4af3-bf60-c25130a34647",
   "metadata": {},
   "source": [
    "### 3. Write a Python program to find smallest number in a list?"
   ]
  },
  {
   "cell_type": "code",
   "execution_count": 15,
   "id": "f67e67dc-8b9d-4400-9209-dad3d95a8aeb",
   "metadata": {},
   "outputs": [
    {
     "data": {
      "text/plain": [
       "1"
      ]
     },
     "execution_count": 15,
     "metadata": {},
     "output_type": "execute_result"
    }
   ],
   "source": [
    "def min_num(lst):\n",
    "    smallest = lst[0]\n",
    "    for i in range(len(lst)):\n",
    "        if smallest >= lst[i]:\n",
    "            smallest = lst[i]\n",
    "        else:\n",
    "            pass \n",
    "    return smallest\n",
    "min_num([1,3,4,1,4])"
   ]
  },
  {
   "cell_type": "markdown",
   "id": "1d40b9a9-67f6-4514-827d-59891e85906d",
   "metadata": {},
   "source": [
    "### 4. Write a Python program to find largest number in a list?"
   ]
  },
  {
   "cell_type": "code",
   "execution_count": 17,
   "id": "58b01ab8-b19c-43d2-a215-5a78ef83ac53",
   "metadata": {},
   "outputs": [
    {
     "data": {
      "text/plain": [
       "52"
      ]
     },
     "execution_count": 17,
     "metadata": {},
     "output_type": "execute_result"
    }
   ],
   "source": [
    "def max_num(lst):\n",
    "    largest = lst[0]\n",
    "    for i in range(len(lst)):\n",
    "        if largest <= lst[i]:\n",
    "            largest = lst[i]\n",
    "        else:\n",
    "            pass \n",
    "    return largest\n",
    "max_num([1,3,4,52,4])"
   ]
  },
  {
   "cell_type": "markdown",
   "id": "9c3fc1f5-8355-4d28-94ca-35eaef93458f",
   "metadata": {},
   "source": [
    "### 5. Write a Python program to find second largest number in a list?"
   ]
  },
  {
   "cell_type": "code",
   "execution_count": 24,
   "id": "700b1cf5-afed-41d2-8d75-284a4511b73e",
   "metadata": {},
   "outputs": [
    {
     "name": "stdout",
     "output_type": "stream",
     "text": [
      "100\n"
     ]
    }
   ],
   "source": [
    "def get_second_max(li):\n",
    "    for i in range(len(li)):\n",
    "        for j in range(len(li)):\n",
    "            if li[i] < li[j]:\n",
    "                li[j],li[i] = li[i],li[j]\n",
    "    return li[-2]\n",
    "\n",
    "li= [22,11,23,1,100,24,3,101,2,4]\n",
    "print(get_second_max(li))"
   ]
  },
  {
   "cell_type": "markdown",
   "id": "c435f4a0-ae60-4a01-a432-a5b1a50c48c0",
   "metadata": {},
   "source": [
    "### 6. Write a Python program to find N largest elements from a list?"
   ]
  },
  {
   "cell_type": "code",
   "execution_count": 43,
   "id": "98f76df7-b43e-4d61-959d-942c89179181",
   "metadata": {},
   "outputs": [
    {
     "data": {
      "text/plain": [
       "[101, 100, 24, 23]"
      ]
     },
     "execution_count": 43,
     "metadata": {},
     "output_type": "execute_result"
    }
   ],
   "source": [
    "def get_n_largest(li,n):\n",
    "    for i in range(len(li)):\n",
    "        for j in range(len(li)):\n",
    "            if li[i] < li[j]:\n",
    "                li[j],li[i] = li[i],li[j]\n",
    "    return li[::-1][:n]\n",
    "\n",
    "li= [22,11,23,1,100,24,3,101,2,4]\n",
    "get_n_largest(li, 4)"
   ]
  },
  {
   "cell_type": "markdown",
   "id": "e0738e08-84d5-4974-8a42-1ca0c554c8e2",
   "metadata": {},
   "source": [
    "### 7. Write a Python program to print even numbers in a list?"
   ]
  },
  {
   "cell_type": "code",
   "execution_count": 45,
   "id": "b1a2a4ed-2ba6-4348-8aa7-584bd736d024",
   "metadata": {},
   "outputs": [
    {
     "data": {
      "text/plain": [
       "[0, 2, 4, 6, 8]"
      ]
     },
     "execution_count": 45,
     "metadata": {},
     "output_type": "execute_result"
    }
   ],
   "source": [
    "def get_evens(ls):\n",
    "    final = []\n",
    "    for i in range(len(ls)):\n",
    "        if i%2 ==0:\n",
    "            final.append(i)\n",
    "    return final\n",
    "\n",
    "li= [22,11,23,1,100,24,3,101,2,4]\n",
    "get_evens(li)"
   ]
  },
  {
   "cell_type": "markdown",
   "id": "9d20f3e2-574d-4a9a-b8a2-4476a2072444",
   "metadata": {},
   "source": [
    "### 8. Write a Python program to print odd numbers in a List?"
   ]
  },
  {
   "cell_type": "code",
   "execution_count": 46,
   "id": "2dadb17d-d9a3-4782-be48-d70d71fd6dd3",
   "metadata": {},
   "outputs": [
    {
     "data": {
      "text/plain": [
       "[1, 3, 5, 7, 9]"
      ]
     },
     "execution_count": 46,
     "metadata": {},
     "output_type": "execute_result"
    }
   ],
   "source": [
    "def get_odds(ls):\n",
    "    final = []\n",
    "    for i in range(len(ls)):\n",
    "        if i%2 !=0:\n",
    "            final.append(i)\n",
    "    return final\n",
    "\n",
    "li= [22,11,23,1,100,24,3,101,2,4]\n",
    "get_odds(li)"
   ]
  },
  {
   "cell_type": "markdown",
   "id": "4ebf9150-7ce9-47c0-b98b-31074d12ef28",
   "metadata": {},
   "source": [
    "### 9. Write a Python program to Remove empty List from List?"
   ]
  },
  {
   "cell_type": "code",
   "execution_count": 49,
   "id": "09df4376-dd92-46c6-8b02-f93503db985d",
   "metadata": {},
   "outputs": [
    {
     "data": {
      "text/plain": [
       "[22, 11, [23, 1, 100, 24, 3], 101, [2, 4]]"
      ]
     },
     "execution_count": 49,
     "metadata": {},
     "output_type": "execute_result"
    }
   ],
   "source": [
    "def rm_empty(lst):\n",
    "    final = []\n",
    "    for i in lst:\n",
    "        if type(i) ==list and len(i) ==0:\n",
    "            pass \n",
    "        else:\n",
    "            final.append(i)\n",
    "    return final\n",
    "\n",
    "lt = [22,11,[23,1,100,24,3],[],101,[2,4],[]]\n",
    "rm_empty(lt)"
   ]
  },
  {
   "cell_type": "markdown",
   "id": "5e9bbe9a-462a-482f-ae57-57fa16100491",
   "metadata": {},
   "source": [
    "### 10. Write a Python program to Cloning or Copying a list?"
   ]
  },
  {
   "cell_type": "code",
   "execution_count": 52,
   "id": "f96b3664-f70f-4ef7-9d20-98e3a1478d05",
   "metadata": {},
   "outputs": [
    {
     "name": "stdout",
     "output_type": "stream",
     "text": [
      "[1, 3, 4, 6]\n",
      "[1, 3, 4, 6]\n"
     ]
    }
   ],
   "source": [
    "import copy \n",
    "l = [1,3,4,6]\n",
    "new_copy_list = l.copy()\n",
    "print(l)\n",
    "print(new_copy_list)"
   ]
  },
  {
   "cell_type": "markdown",
   "id": "3fdea75f-daea-4652-9030-059f99d36203",
   "metadata": {},
   "source": [
    "### 11. Write a Python program to Count occurrences of an element in a list?"
   ]
  },
  {
   "cell_type": "code",
   "execution_count": 56,
   "id": "fa57c626-4b69-4258-b5b9-61ee1fae1ac4",
   "metadata": {},
   "outputs": [
    {
     "data": {
      "text/plain": [
       "4"
      ]
     },
     "execution_count": 56,
     "metadata": {},
     "output_type": "execute_result"
    }
   ],
   "source": [
    "def get_count(lt,n):\n",
    "    occur =0 \n",
    "    for i in lt:\n",
    "        if i ==n :\n",
    "            occur+=1\n",
    "        else:\n",
    "            pass \n",
    "    return occur\n",
    "\n",
    "get_count([12,3,3,13,3,3,24,[13,4],143,13], 3) "
   ]
  }
 ],
 "metadata": {
  "kernelspec": {
   "display_name": "Python 3",
   "language": "python",
   "name": "python3"
  },
  "language_info": {
   "codemirror_mode": {
    "name": "ipython",
    "version": 3
   },
   "file_extension": ".py",
   "mimetype": "text/x-python",
   "name": "python",
   "nbconvert_exporter": "python",
   "pygments_lexer": "ipython3",
   "version": "3.8.8"
  }
 },
 "nbformat": 4,
 "nbformat_minor": 5
}
