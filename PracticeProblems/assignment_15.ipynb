{
 "cells": [
  {
   "cell_type": "markdown",
   "id": "8a8453db-edad-4f87-bd79-8e3a44ebdbbf",
   "metadata": {},
   "source": [
    "# Assignment_15"
   ]
  },
  {
   "cell_type": "markdown",
   "id": "8f5920b9-f499-4c22-8d58-986b01614212",
   "metadata": {},
   "source": [
    "## Queston 1 \n",
    "Please write a program using generator to print the numbers which can be divisible by 5 and\n",
    "7 between 0 and n in comma separated form while n is input by console."
   ]
  },
  {
   "cell_type": "code",
   "execution_count": 7,
   "id": "5e0a3d9e-69c3-4eb4-8932-f2f39ab2ceb7",
   "metadata": {},
   "outputs": [],
   "source": [
    "def get_num():\n",
    "    n = int(input('enter the number'))\n",
    "    def generator(n):\n",
    "        for i in range(n):\n",
    "            if i%5 ==0 and i%7 ==0:\n",
    "                yield i\n",
    "    for i in generator(n):\n",
    "        print(i,end = ',')"
   ]
  },
  {
   "cell_type": "code",
   "execution_count": 8,
   "id": "d4f097ca-9b7d-48fa-bffa-7b643d287e48",
   "metadata": {},
   "outputs": [
    {
     "name": "stdin",
     "output_type": "stream",
     "text": [
      "enter the number 50\n"
     ]
    },
    {
     "name": "stdout",
     "output_type": "stream",
     "text": [
      "0,35,"
     ]
    }
   ],
   "source": [
    "get_num()"
   ]
  },
  {
   "cell_type": "markdown",
   "id": "3532477c-0c1f-4ca6-96ec-86fff381ff7b",
   "metadata": {},
   "source": [
    "## Question 2 \n",
    "Please write a program using generator to print the even numbers between 0 and n in comma\n",
    "separated form while n is input by console."
   ]
  },
  {
   "cell_type": "code",
   "execution_count": 11,
   "id": "2ebe89d0-5879-48d0-875c-28b6dbd73f4f",
   "metadata": {},
   "outputs": [],
   "source": [
    "def get_even():\n",
    "    n = int(input('enter the range limit: '))\n",
    "    def generator():\n",
    "        for i in range(n):\n",
    "            if i%2 ==0:\n",
    "                yield i\n",
    "    for i in generator():\n",
    "        print(i,end = ',')               "
   ]
  },
  {
   "cell_type": "code",
   "execution_count": 12,
   "id": "a27f6b10-b214-430a-8785-4ff0b7bec8ff",
   "metadata": {},
   "outputs": [
    {
     "name": "stdin",
     "output_type": "stream",
     "text": [
      "enter the range limit:  15\n"
     ]
    },
    {
     "name": "stdout",
     "output_type": "stream",
     "text": [
      "0,2,4,6,8,10,12,14,"
     ]
    }
   ],
   "source": [
    "get_even()"
   ]
  },
  {
   "cell_type": "markdown",
   "id": "be7d461a-05e9-475a-99aa-c4ec9677e6e0",
   "metadata": {},
   "source": [
    "## Question 3 \n",
    "The Fibonacci Sequence is computed based on the following formula:\n",
    "   * f(n)=0 if n=0\n",
    "   * f(n)=1 if n=1\n",
    "   * f(n)=f(n-1)+f(n-2) if n>1\n",
    "   \n",
    "Please write a program using list comprehension to print the Fibonacci Sequence in comma\n",
    "separated form with a given n input by console."
   ]
  },
  {
   "cell_type": "code",
   "execution_count": 41,
   "id": "8fd14c05-ae1b-4bde-8efe-2acd0f7a5d29",
   "metadata": {},
   "outputs": [
    {
     "name": "stdin",
     "output_type": "stream",
     "text": [
      "enter the range:  7\n"
     ]
    },
    {
     "data": {
      "text/plain": [
       "[0, 1, 1, 2, 3, 5, 8, 13]"
      ]
     },
     "execution_count": 41,
     "metadata": {},
     "output_type": "execute_result"
    }
   ],
   "source": [
    "n = int(input('enter the range: '))\n",
    "[(lambda x: f(x-1)+f(x-2) if x>1 else x)(i) for i in range(n+1)]"
   ]
  },
  {
   "cell_type": "markdown",
   "id": "3cae0312-3ede-4214-aad2-ae84e99d6465",
   "metadata": {},
   "source": [
    "## Question 4 \n",
    "Assuming that we have some email addresses in the &quot;username@companyname.com&quot; format,\n",
    "please write program to print the user name of a given email address. Both user names and\n",
    "company names are composed of letters only."
   ]
  },
  {
   "cell_type": "code",
   "execution_count": 44,
   "id": "ea166c36-ea81-446a-82ea-7359a5301fa5",
   "metadata": {},
   "outputs": [],
   "source": [
    "def get_usrname(email):\n",
    "    username = ''\n",
    "    for i in email:\n",
    "        if i =='@':\n",
    "            break\n",
    "        else:\n",
    "            username+=i\n",
    "    return username  "
   ]
  },
  {
   "cell_type": "code",
   "execution_count": 47,
   "id": "755f51df-4c33-4f01-a996-7c1f442bd105",
   "metadata": {},
   "outputs": [
    {
     "data": {
      "text/plain": [
       "'john'"
      ]
     },
     "execution_count": 47,
     "metadata": {},
     "output_type": "execute_result"
    }
   ],
   "source": [
    "get_usrname('john@google.com')"
   ]
  },
  {
   "cell_type": "markdown",
   "id": "cf7a6b10-e63e-4cf7-8495-64a3c96cfab3",
   "metadata": {},
   "source": [
    "## Question 5 \n",
    "Define a class named Shape and its subclass Square. The Square class has an init function\n",
    "which takes a length as argument. Both classes have a area function which can print the area\n",
    "of the shape where Shape&#39;s area is 0 by default."
   ]
  },
  {
   "cell_type": "code",
   "execution_count": 151,
   "id": "2efbf0d3-37dc-4125-89fa-aea09651bce0",
   "metadata": {},
   "outputs": [],
   "source": [
    "class Shape:\n",
    "    def get_area(self):\n",
    "        AREA = 0\n",
    "        print('area = ',AREA)\n",
    "        \n",
    "class Square(Shape):\n",
    "    def __init__(self,length):\n",
    "        self.length = length\n",
    "        \n",
    "    def get_area(self):\n",
    "        AREA = self.length *2\n",
    "        print('area =',AREA)     "
   ]
  },
  {
   "cell_type": "code",
   "execution_count": 152,
   "id": "032cfce0-04ec-47c4-a75f-2954909802ee",
   "metadata": {},
   "outputs": [
    {
     "name": "stdout",
     "output_type": "stream",
     "text": [
      "area =  0\n"
     ]
    }
   ],
   "source": [
    "ob1 = Shape()\n",
    "ob1.get_area()"
   ]
  },
  {
   "cell_type": "code",
   "execution_count": 153,
   "id": "e3c2e73d-8657-4595-84dd-970f7936b323",
   "metadata": {},
   "outputs": [
    {
     "name": "stdout",
     "output_type": "stream",
     "text": [
      "area = 24\n"
     ]
    }
   ],
   "source": [
    "ob2 = Square(length = 12)\n",
    "ob2.get_area()"
   ]
  }
 ],
 "metadata": {
  "kernelspec": {
   "display_name": "Python 3",
   "language": "python",
   "name": "python3"
  },
  "language_info": {
   "codemirror_mode": {
    "name": "ipython",
    "version": 3
   },
   "file_extension": ".py",
   "mimetype": "text/x-python",
   "name": "python",
   "nbconvert_exporter": "python",
   "pygments_lexer": "ipython3",
   "version": "3.8.8"
  }
 },
 "nbformat": 4,
 "nbformat_minor": 5
}
