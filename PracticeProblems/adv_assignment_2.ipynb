{
 "cells": [
  {
   "cell_type": "markdown",
   "id": "ba0663af",
   "metadata": {},
   "source": [
    "## Question 1 \n",
    "Write a function that takes a positive integer num and calculates how many\n",
    "dots exist in a pentagonal shape around the center dot on the Nth iteration.\n",
    "You can see the first iteration is only a single dot. On the\n",
    "second, there are 6 dots. On the third, there are 16 dots, and on the fourth\n",
    "there are 31 dots."
   ]
  },
  {
   "cell_type": "code",
   "execution_count": 1,
   "id": "fc795f7e",
   "metadata": {},
   "outputs": [],
   "source": [
    "def pentagonal(n):\n",
    "    if n ==1:\n",
    "        return 1 \n",
    "    else:\n",
    "        return (n-1)*5+pentagonal(n-1)"
   ]
  },
  {
   "cell_type": "code",
   "execution_count": 2,
   "id": "3e1fab49",
   "metadata": {},
   "outputs": [
    {
     "data": {
      "text/plain": [
       "1"
      ]
     },
     "execution_count": 2,
     "metadata": {},
     "output_type": "execute_result"
    }
   ],
   "source": [
    "pentagonal(1)"
   ]
  },
  {
   "cell_type": "code",
   "execution_count": 3,
   "id": "e4c53701",
   "metadata": {},
   "outputs": [
    {
     "data": {
      "text/plain": [
       "6"
      ]
     },
     "execution_count": 3,
     "metadata": {},
     "output_type": "execute_result"
    }
   ],
   "source": [
    "pentagonal(2)"
   ]
  },
  {
   "cell_type": "code",
   "execution_count": 4,
   "id": "118c2ff1",
   "metadata": {},
   "outputs": [
    {
     "data": {
      "text/plain": [
       "16"
      ]
     },
     "execution_count": 4,
     "metadata": {},
     "output_type": "execute_result"
    }
   ],
   "source": [
    "pentagonal(3)"
   ]
  },
  {
   "cell_type": "code",
   "execution_count": 14,
   "id": "02f6a359",
   "metadata": {},
   "outputs": [
    {
     "data": {
      "text/plain": [
       "141"
      ]
     },
     "execution_count": 14,
     "metadata": {},
     "output_type": "execute_result"
    }
   ],
   "source": [
    "pentagonal(8)"
   ]
  },
  {
   "cell_type": "markdown",
   "id": "7fe74d49",
   "metadata": {},
   "source": [
    "## Question 2 \n",
    "Make a function that encrypts a given input with these steps \n",
    " 1. reverse the string \n",
    " 2. replace the vowels with (0,1,2,2,3) codes \n",
    " 3. add 'aca' to the end of the word"
   ]
  },
  {
   "cell_type": "code",
   "execution_count": 24,
   "id": "9ed80abe",
   "metadata": {},
   "outputs": [],
   "source": [
    "def encrypt(string):\n",
    "    \n",
    "    # reversing the string \n",
    "    string = string[::-1]\n",
    "    d = {'a':0,'e':1,'i':2,'o':2,'u':3}\n",
    "    \n",
    "    # replacing vowels to resp.codes\n",
    "    newstring = ''\n",
    "    for  i in string :\n",
    "        if i in d:\n",
    "            newstring+=str(d[i])\n",
    "        else:\n",
    "            newstring+=i\n",
    "    # appending \n",
    "    newstring+='aca'\n",
    "    return newstring"
   ]
  },
  {
   "cell_type": "code",
   "execution_count": 20,
   "id": "64366739",
   "metadata": {},
   "outputs": [
    {
     "data": {
      "text/plain": [
       "'0n0n0baca'"
      ]
     },
     "execution_count": 20,
     "metadata": {},
     "output_type": "execute_result"
    }
   ],
   "source": [
    "encrypt('banana')"
   ]
  },
  {
   "cell_type": "code",
   "execution_count": 21,
   "id": "1262cf89",
   "metadata": {},
   "outputs": [
    {
     "data": {
      "text/plain": [
       "'0c0r0kaca'"
      ]
     },
     "execution_count": 21,
     "metadata": {},
     "output_type": "execute_result"
    }
   ],
   "source": [
    "encrypt('karaca')"
   ]
  },
  {
   "cell_type": "code",
   "execution_count": 22,
   "id": "89778b6b",
   "metadata": {},
   "outputs": [
    {
     "data": {
      "text/plain": [
       "'k0r3baca'"
      ]
     },
     "execution_count": 22,
     "metadata": {},
     "output_type": "execute_result"
    }
   ],
   "source": [
    "encrypt('burak')"
   ]
  },
  {
   "cell_type": "code",
   "execution_count": 23,
   "id": "e25924fd",
   "metadata": {},
   "outputs": [
    {
     "data": {
      "text/plain": [
       "'0c0pl0aca'"
      ]
     },
     "execution_count": 23,
     "metadata": {},
     "output_type": "execute_result"
    }
   ],
   "source": [
    "encrypt('alpaca')"
   ]
  },
  {
   "cell_type": "markdown",
   "id": "10bf35c0",
   "metadata": {},
   "source": [
    "## Question 3\n",
    "Given the month and year as numbers, return whether that month contains a friday 13th."
   ]
  },
  {
   "cell_type": "code",
   "execution_count": 37,
   "id": "e56e9035",
   "metadata": {},
   "outputs": [],
   "source": [
    "from datetime import date \n",
    "def has_friday_13(month,year):\n",
    "    d = date(year,month,13)\n",
    "    if d.weekday() ==4:\n",
    "        return True\n",
    "    else:\n",
    "        return False"
   ]
  },
  {
   "cell_type": "code",
   "execution_count": 38,
   "id": "cc0f31f5",
   "metadata": {},
   "outputs": [
    {
     "data": {
      "text/plain": [
       "True"
      ]
     },
     "execution_count": 38,
     "metadata": {},
     "output_type": "execute_result"
    }
   ],
   "source": [
    "has_friday_13(3,2020)"
   ]
  },
  {
   "cell_type": "code",
   "execution_count": 39,
   "id": "1582ac80",
   "metadata": {},
   "outputs": [
    {
     "data": {
      "text/plain": [
       "True"
      ]
     },
     "execution_count": 39,
     "metadata": {},
     "output_type": "execute_result"
    }
   ],
   "source": [
    "has_friday_13(10,2017)"
   ]
  },
  {
   "cell_type": "code",
   "execution_count": 40,
   "id": "23600a17",
   "metadata": {},
   "outputs": [
    {
     "data": {
      "text/plain": [
       "False"
      ]
     },
     "execution_count": 40,
     "metadata": {},
     "output_type": "execute_result"
    }
   ],
   "source": [
    "has_friday_13(1,1985)"
   ]
  },
  {
   "cell_type": "markdown",
   "id": "1c140fce",
   "metadata": {},
   "source": [
    "## Question 4\n",
    "Write a regular expression that will help us count how many bad cookies are produced every day.You must use RegEx negative lookbehind"
   ]
  },
  {
   "cell_type": "code",
   "execution_count": 47,
   "id": "a5b650c3",
   "metadata": {},
   "outputs": [
    {
     "data": {
      "text/plain": [
       "2"
      ]
     },
     "execution_count": 47,
     "metadata": {},
     "output_type": "execute_result"
    }
   ],
   "source": [
    "import re\n",
    "lst = ['bad cookie','good cookie','bad cookie','good cookie','good cookie']\n",
    "pattern = r'(?<=bad)\\s'\n",
    "len(re.findall(pattern,','.join(lst)))"
   ]
  },
  {
   "cell_type": "markdown",
   "id": "8243ae12",
   "metadata": {},
   "source": [
    "## Question 5 \n",
    "Given a list of words in the singular form, return a set of those words in the\n",
    "plural form if they appear more than once in the list."
   ]
  },
  {
   "cell_type": "code",
   "execution_count": 51,
   "id": "640a16f3",
   "metadata": {},
   "outputs": [],
   "source": [
    "def pluralize(lst):\n",
    "    res = set(lst)\n",
    "    r = []\n",
    "    for i in res:\n",
    "        if lst.count(i)>1:\n",
    "            r.append(f'{i}s')\n",
    "        else:\n",
    "            r.append(i)\n",
    "    return set(r)"
   ]
  },
  {
   "cell_type": "code",
   "execution_count": 52,
   "id": "e489552b",
   "metadata": {},
   "outputs": [
    {
     "data": {
      "text/plain": [
       "{'cows', 'pig'}"
      ]
     },
     "execution_count": 52,
     "metadata": {},
     "output_type": "execute_result"
    }
   ],
   "source": [
    "pluralize(['cow','pig','cow','cow'])"
   ]
  },
  {
   "cell_type": "code",
   "execution_count": 53,
   "id": "b419034f",
   "metadata": {},
   "outputs": [
    {
     "data": {
      "text/plain": [
       "{'tables'}"
      ]
     },
     "execution_count": 53,
     "metadata": {},
     "output_type": "execute_result"
    }
   ],
   "source": [
    "pluralize(['table','table','table'])"
   ]
  },
  {
   "cell_type": "code",
   "execution_count": 54,
   "id": "5e41b65e",
   "metadata": {},
   "outputs": [
    {
     "data": {
      "text/plain": [
       "{'arm', 'char', 'pencil'}"
      ]
     },
     "execution_count": 54,
     "metadata": {},
     "output_type": "execute_result"
    }
   ],
   "source": [
    "pluralize(['char','pencil','arm'])"
   ]
  },
  {
   "cell_type": "code",
   "execution_count": null,
   "id": "9f7ade8d",
   "metadata": {},
   "outputs": [],
   "source": []
  }
 ],
 "metadata": {
  "kernelspec": {
   "display_name": "Python 3",
   "language": "python",
   "name": "python3"
  },
  "language_info": {
   "codemirror_mode": {
    "name": "ipython",
    "version": 3
   },
   "file_extension": ".py",
   "mimetype": "text/x-python",
   "name": "python",
   "nbconvert_exporter": "python",
   "pygments_lexer": "ipython3",
   "version": "3.8.8"
  }
 },
 "nbformat": 4,
 "nbformat_minor": 5
}
