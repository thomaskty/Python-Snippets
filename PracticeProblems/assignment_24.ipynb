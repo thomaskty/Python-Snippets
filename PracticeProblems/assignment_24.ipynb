{
 "cells": [
  {
   "cell_type": "markdown",
   "id": "d5698b2b",
   "metadata": {},
   "source": [
    "## Question 1 \n",
    "Create a function that takes an ineger and returns a list from 1 to the given number, where \n",
    " * 1. if the number can be divided evenly by 4, amplify it by 10.\n",
    " * 2. if the number cannot be divided evenly by 4, simply return the number."
   ]
  },
  {
   "cell_type": "code",
   "execution_count": 6,
   "id": "fb9410ff",
   "metadata": {},
   "outputs": [],
   "source": [
    "def amplify(num):\n",
    "    res = []\n",
    "    for i in range(1,num+1):\n",
    "        if i%4 ==0:\n",
    "            res.append(i*10)\n",
    "        else:\n",
    "            res.append(i)\n",
    "    return res"
   ]
  },
  {
   "cell_type": "code",
   "execution_count": 20,
   "id": "345b0e7d",
   "metadata": {},
   "outputs": [],
   "source": [
    "def amplify_comprehension(num):\n",
    "    return [i if i%4 !=0 else i*10 for i in range(1,num+1)]"
   ]
  },
  {
   "cell_type": "code",
   "execution_count": 21,
   "id": "314f16bb",
   "metadata": {},
   "outputs": [
    {
     "data": {
      "text/plain": [
       "[1, 2, 3, 40]"
      ]
     },
     "execution_count": 21,
     "metadata": {},
     "output_type": "execute_result"
    }
   ],
   "source": [
    "amplify(4)"
   ]
  },
  {
   "cell_type": "code",
   "execution_count": 22,
   "id": "be5c16e0",
   "metadata": {},
   "outputs": [
    {
     "data": {
      "text/plain": [
       "[1, 2, 3]"
      ]
     },
     "execution_count": 22,
     "metadata": {},
     "output_type": "execute_result"
    }
   ],
   "source": [
    "amplify(3)"
   ]
  },
  {
   "cell_type": "code",
   "execution_count": 23,
   "id": "f49955ca",
   "metadata": {},
   "outputs": [
    {
     "name": "stdout",
     "output_type": "stream",
     "text": [
      "[1, 2, 3, 40, 5, 6, 7, 80, 9, 10, 11, 120, 13, 14, 15, 160, 17, 18, 19, 200, 21, 22, 23, 240, 25]\n"
     ]
    }
   ],
   "source": [
    "print(amplify_comprehension(25))"
   ]
  },
  {
   "cell_type": "markdown",
   "id": "09c78365",
   "metadata": {},
   "source": [
    "## Question 2 \n",
    "Create a function that takes a list of numbers and return the number that's unique"
   ]
  },
  {
   "cell_type": "code",
   "execution_count": 64,
   "id": "c137ab44",
   "metadata": {},
   "outputs": [],
   "source": [
    "def unique(lst):\n",
    "    unique = []\n",
    "    many = []\n",
    "    for i in range(len(lst)):\n",
    "        if lst[i] not in unique:\n",
    "            unique.append(lst[i])\n",
    "        else:\n",
    "            many.append(lst[i])\n",
    "    res = []\n",
    "    for j in unique:\n",
    "        if j not in many:\n",
    "            res.append(j)\n",
    "    for i in res:\n",
    "        print(i)"
   ]
  },
  {
   "cell_type": "code",
   "execution_count": 65,
   "id": "81fa53b9",
   "metadata": {},
   "outputs": [
    {
     "name": "stdout",
     "output_type": "stream",
     "text": [
      "7\n"
     ]
    }
   ],
   "source": [
    "unique([3,3,3,7,3,3])"
   ]
  },
  {
   "cell_type": "code",
   "execution_count": 66,
   "id": "97dd6463",
   "metadata": {},
   "outputs": [
    {
     "name": "stdout",
     "output_type": "stream",
     "text": [
      "0.77\n"
     ]
    }
   ],
   "source": [
    "unique([0,0,0.77,0,0])"
   ]
  },
  {
   "cell_type": "code",
   "execution_count": 67,
   "id": "7e8d4890",
   "metadata": {},
   "outputs": [
    {
     "name": "stdout",
     "output_type": "stream",
     "text": [
      "0\n"
     ]
    }
   ],
   "source": [
    "unique([0,1,1,1,1,1,1,1])"
   ]
  },
  {
   "cell_type": "markdown",
   "id": "2faf3ba5",
   "metadata": {},
   "source": [
    "## Question 3 \n",
    "Your task is to create a Circle constructor that creates a circle with a radius provided by an\n",
    "argument. The circles constructed must have two getters getArea() (PIr^2) and\n",
    "getPerimeter() (2PI*r) which give both respective areas and perimeter (circumference)."
   ]
  },
  {
   "cell_type": "code",
   "execution_count": 74,
   "id": "02a9c028",
   "metadata": {},
   "outputs": [],
   "source": [
    "from math import pi\n",
    "class Circle:\n",
    "    def __init__(self,radius):\n",
    "        self.radius = radius \n",
    "    def getArea(self):\n",
    "        return round(pi*self.radius**2,0) \n",
    "    def getPerimeter(self):\n",
    "        return round(2*pi*self.radius,0)"
   ]
  },
  {
   "cell_type": "code",
   "execution_count": 75,
   "id": "f03d184b",
   "metadata": {},
   "outputs": [
    {
     "data": {
      "text/plain": [
       "380.0"
      ]
     },
     "execution_count": 75,
     "metadata": {},
     "output_type": "execute_result"
    }
   ],
   "source": [
    "circy = Circle(11)\n",
    "circy.getArea()"
   ]
  },
  {
   "cell_type": "code",
   "execution_count": 76,
   "id": "746a4da9",
   "metadata": {},
   "outputs": [
    {
     "data": {
      "text/plain": [
       "28.0"
      ]
     },
     "execution_count": 76,
     "metadata": {},
     "output_type": "execute_result"
    }
   ],
   "source": [
    "circy = Circle(4.44)\n",
    "circy.getPerimeter()"
   ]
  },
  {
   "cell_type": "markdown",
   "id": "e47ce7a0",
   "metadata": {},
   "source": [
    "## Question 4\n",
    "Create a function that takes a list of strings and return a list, sorted from shortest to longest\n"
   ]
  },
  {
   "cell_type": "code",
   "execution_count": 86,
   "id": "2d671fe5",
   "metadata": {},
   "outputs": [],
   "source": [
    "def sort_by_length(lst):\n",
    "    counts = [len(i) for i in lst]\n",
    "    counts.sort()\n",
    "    final = []\n",
    "    for i in counts:\n",
    "        for j in lst:\n",
    "            if len(j) == i:\n",
    "                final.append(j)\n",
    "    return final"
   ]
  },
  {
   "cell_type": "code",
   "execution_count": 87,
   "id": "95b52db7",
   "metadata": {},
   "outputs": [
    {
     "data": {
      "text/plain": [
       "['Apple', 'Google', 'Microsoft']"
      ]
     },
     "execution_count": 87,
     "metadata": {},
     "output_type": "execute_result"
    }
   ],
   "source": [
    "sort_by_length(['Google','Apple','Microsoft'])"
   ]
  },
  {
   "cell_type": "code",
   "execution_count": 88,
   "id": "038e2230",
   "metadata": {},
   "outputs": [
    {
     "data": {
      "text/plain": [
       "['Raphel', 'Leonardo', 'Donatello', 'Michelangelo']"
      ]
     },
     "execution_count": 88,
     "metadata": {},
     "output_type": "execute_result"
    }
   ],
   "source": [
    "sort_by_length(['Leonardo','Michelangelo','Raphel','Donatello'])"
   ]
  },
  {
   "cell_type": "markdown",
   "id": "c11888f7",
   "metadata": {},
   "source": [
    "## Question 5 \n",
    "Create a function that validates whether three given integers form a Pythagorean triplet. The\n",
    "sum of the squares of the two smallest integers must equal the square of the largest number to\n",
    "be validated."
   ]
  },
  {
   "cell_type": "code",
   "execution_count": 97,
   "id": "ed1cc8f5",
   "metadata": {},
   "outputs": [],
   "source": [
    "def is_triplet(a,b,c):\n",
    "    nums = [a,b,c]\n",
    "    largest = max(nums)\n",
    "    square_sum = 0\n",
    "    l_square = largest**2 \n",
    "    for num in nums:\n",
    "        if num!=largest:\n",
    "            square_sum+=num**2 \n",
    "    if l_square == square_sum:\n",
    "        return True\n",
    "    else:\n",
    "        return False        "
   ]
  },
  {
   "cell_type": "code",
   "execution_count": 98,
   "id": "b22eac16",
   "metadata": {},
   "outputs": [
    {
     "data": {
      "text/plain": [
       "True"
      ]
     },
     "execution_count": 98,
     "metadata": {},
     "output_type": "execute_result"
    }
   ],
   "source": [
    "is_triplet(3,4,5)"
   ]
  },
  {
   "cell_type": "code",
   "execution_count": 99,
   "id": "14232a58",
   "metadata": {},
   "outputs": [
    {
     "data": {
      "text/plain": [
       "True"
      ]
     },
     "execution_count": 99,
     "metadata": {},
     "output_type": "execute_result"
    }
   ],
   "source": [
    "is_triplet(13,5,12)"
   ]
  },
  {
   "cell_type": "code",
   "execution_count": 100,
   "id": "3f0eea13",
   "metadata": {},
   "outputs": [
    {
     "data": {
      "text/plain": [
       "False"
      ]
     },
     "execution_count": 100,
     "metadata": {},
     "output_type": "execute_result"
    }
   ],
   "source": [
    "is_triplet(1,2,3)"
   ]
  },
  {
   "cell_type": "code",
   "execution_count": null,
   "id": "250c70ba",
   "metadata": {},
   "outputs": [],
   "source": []
  }
 ],
 "metadata": {
  "kernelspec": {
   "display_name": "Python 3",
   "language": "python",
   "name": "python3"
  },
  "language_info": {
   "codemirror_mode": {
    "name": "ipython",
    "version": 3
   },
   "file_extension": ".py",
   "mimetype": "text/x-python",
   "name": "python",
   "nbconvert_exporter": "python",
   "pygments_lexer": "ipython3",
   "version": "3.8.8"
  }
 },
 "nbformat": 4,
 "nbformat_minor": 5
}
