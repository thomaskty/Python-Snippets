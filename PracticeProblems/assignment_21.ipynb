{
 "cells": [
  {
   "cell_type": "markdown",
   "id": "bfd5a4b8-bdc3-4e61-a59f-54469ef0bad4",
   "metadata": {},
   "source": [
    "# Assignment 21"
   ]
  },
  {
   "cell_type": "markdown",
   "id": "e43432f6-9e63-474d-bfd7-09f74469fd9c",
   "metadata": {},
   "source": [
    "## Question1 \n",
    "Write a function that takes a list and a number as arguments.Add the number to the end of the list then removes the first element of the list. The function should then return the updated list "
   ]
  },
  {
   "cell_type": "code",
   "execution_count": 10,
   "id": "06845007-b8d1-4dcf-ba19-124391ab011b",
   "metadata": {},
   "outputs": [],
   "source": [
    "def next_in_lines(lst,num):\n",
    "    if len(lst)!=0:\n",
    "        lst.append(num)\n",
    "        return lst[1::]\n",
    "    else:\n",
    "        return \"No list has been selected\""
   ]
  },
  {
   "cell_type": "code",
   "execution_count": 11,
   "id": "b8e7bbc0-9fee-4f15-8146-aab4c4e8ab1d",
   "metadata": {},
   "outputs": [
    {
     "data": {
      "text/plain": [
       "[6, 7, 8, 9, 1]"
      ]
     },
     "execution_count": 11,
     "metadata": {},
     "output_type": "execute_result"
    }
   ],
   "source": [
    "next_in_lines([5,6,7,8,9],1)"
   ]
  },
  {
   "cell_type": "code",
   "execution_count": 12,
   "id": "f30e4a7a-0e9a-4b8a-9846-3cb7b7789dd2",
   "metadata": {},
   "outputs": [
    {
     "data": {
      "text/plain": [
       "[6, 3, 23, 17, 10]"
      ]
     },
     "execution_count": 12,
     "metadata": {},
     "output_type": "execute_result"
    }
   ],
   "source": [
    "next_in_lines([7,6,3,23,17],10)"
   ]
  },
  {
   "cell_type": "code",
   "execution_count": 13,
   "id": "feb2ea28-901e-4dda-b8f3-171554651fab",
   "metadata": {},
   "outputs": [
    {
     "data": {
      "text/plain": [
       "[10, 20, 42, 6]"
      ]
     },
     "execution_count": 13,
     "metadata": {},
     "output_type": "execute_result"
    }
   ],
   "source": [
    "next_in_lines([1,10,20,42],6)"
   ]
  },
  {
   "cell_type": "code",
   "execution_count": 14,
   "id": "77ee69c9-50ff-4be6-8a03-0e992ed6d9d9",
   "metadata": {},
   "outputs": [
    {
     "data": {
      "text/plain": [
       "'No list has been selected'"
      ]
     },
     "execution_count": 14,
     "metadata": {},
     "output_type": "execute_result"
    }
   ],
   "source": [
    "next_in_lines([],6)"
   ]
  },
  {
   "cell_type": "markdown",
   "id": "a3c3b9d2-83a3-4262-a3ab-6f5d566dbc53",
   "metadata": {},
   "source": [
    "## Question 2 \n",
    "Create a function that takes a list of dictionaries and return the sum of people's budges"
   ]
  },
  {
   "cell_type": "code",
   "execution_count": 18,
   "id": "754537bf-cb5a-43b3-8b68-805828296aa9",
   "metadata": {},
   "outputs": [],
   "source": [
    "def get_budgets(l):\n",
    "    budget_sum = 0\n",
    "    for i in l:\n",
    "        budget_sum+=i['budget']\n",
    "    return budget_sum        "
   ]
  },
  {
   "cell_type": "code",
   "execution_count": 22,
   "id": "9c702a21-2e53-4b84-8ca3-6079f8eab139",
   "metadata": {},
   "outputs": [
    {
     "data": {
      "text/plain": [
       "65700"
      ]
     },
     "execution_count": 22,
     "metadata": {},
     "output_type": "execute_result"
    }
   ],
   "source": [
    "lst = [\n",
    "    {'name':'john','age':21, 'budget':23000},\n",
    "    {'name':'steeve','age':32,'budget':40000},\n",
    "    {'name':'Martin','age':16, 'budget':2700}\n",
    "]\n",
    "get_budgets(lst)"
   ]
  },
  {
   "cell_type": "code",
   "execution_count": 21,
   "id": "1bacede2-8cda-4604-8a17-9465c6d62a3c",
   "metadata": {},
   "outputs": [
    {
     "data": {
      "text/plain": [
       "62600"
      ]
     },
     "execution_count": 21,
     "metadata": {},
     "output_type": "execute_result"
    }
   ],
   "source": [
    "lst = [\n",
    "    {'name':'john','age':21, 'budget':29000},\n",
    "    {'name':'steeve','age':32,'budget':32000},\n",
    "    {'name':'Martin','age':16, 'budget':1600}\n",
    "]\n",
    "get_budgets(lst)"
   ]
  },
  {
   "cell_type": "markdown",
   "id": "cf43ae5f-647e-43c7-86a8-8837f244cdab",
   "metadata": {},
   "source": [
    "## Question 3 \n",
    "Create a uncttion that takes a string and returns a string with its leters in alphabetial order"
   ]
  },
  {
   "cell_type": "code",
   "execution_count": 35,
   "id": "745e74e4-6fac-4ec2-a05c-40987a1cbf95",
   "metadata": {},
   "outputs": [],
   "source": [
    "def alphabet_soup(string):\n",
    "    string = sorted(string)\n",
    "    res = ''.join(string)\n",
    "    return res"
   ]
  },
  {
   "cell_type": "code",
   "execution_count": 36,
   "id": "992e7789-8c46-4a12-91eb-3c308d734639",
   "metadata": {},
   "outputs": [
    {
     "data": {
      "text/plain": [
       "'ehllo'"
      ]
     },
     "execution_count": 36,
     "metadata": {},
     "output_type": "execute_result"
    }
   ],
   "source": [
    "alphabet_soup('hello')"
   ]
  },
  {
   "cell_type": "code",
   "execution_count": 37,
   "id": "d3415d2f-b25b-461c-be80-170129d8eb0d",
   "metadata": {},
   "outputs": [
    {
     "data": {
      "text/plain": [
       "'abdeit'"
      ]
     },
     "execution_count": 37,
     "metadata": {},
     "output_type": "execute_result"
    }
   ],
   "source": [
    "alphabet_soup('edabit')"
   ]
  },
  {
   "cell_type": "code",
   "execution_count": 38,
   "id": "008408d2-e60b-4c17-90a2-aed6b1eab2c2",
   "metadata": {},
   "outputs": [
    {
     "data": {
      "text/plain": [
       "'aacijprstv'"
      ]
     },
     "execution_count": 38,
     "metadata": {},
     "output_type": "execute_result"
    }
   ],
   "source": [
    "alphabet_soup('javascript')"
   ]
  },
  {
   "cell_type": "markdown",
   "id": "a2c01270-9ee2-4d8d-8bed-8a57ad262efe",
   "metadata": {},
   "source": [
    "## Question 4 \n",
    "Suppose that you invest $10,000 for 10 years at an interest rate of 6% compounded monthly.\n",
    "What will be the value of your investment at the end of the 10 year period?"
   ]
  },
  {
   "cell_type": "code",
   "execution_count": 112,
   "id": "ebed20e5-e400-421d-ae8c-1e73f10404fd",
   "metadata": {},
   "outputs": [],
   "source": [
    "def compound_interest(P,y,r,n):\n",
    "    r = r*100\n",
    "    FV = P * (((1 + ((r/100.0)/n)) ** (n*y)))  \n",
    "    return  FV"
   ]
  },
  {
   "cell_type": "code",
   "execution_count": 113,
   "id": "c1a7865b-c2d1-4acf-9234-2a611cd977dc",
   "metadata": {},
   "outputs": [
    {
     "data": {
      "text/plain": [
       "2007316.2632325366"
      ]
     },
     "execution_count": 113,
     "metadata": {},
     "output_type": "execute_result"
    }
   ],
   "source": [
    "compound_interest(100000,20,0.15,365)"
   ]
  },
  {
   "cell_type": "code",
   "execution_count": 114,
   "id": "f85d6020-cfe9-4a85-a718-bde0287d7277",
   "metadata": {},
   "outputs": [
    {
     "data": {
      "text/plain": [
       "105.0"
      ]
     },
     "execution_count": 114,
     "metadata": {},
     "output_type": "execute_result"
    }
   ],
   "source": [
    "compound_interest(100,1,0.05,1)"
   ]
  },
  {
   "cell_type": "markdown",
   "id": "f4445f1b-8cf2-48a0-a223-59e68fa404b3",
   "metadata": {},
   "source": [
    "## Question 5 \n",
    "Write a function that takes a list of elements and returns only the integers"
   ]
  },
  {
   "cell_type": "code",
   "execution_count": 117,
   "id": "2151009d-cd18-4281-bdb8-daad9c0b3bbf",
   "metadata": {},
   "outputs": [],
   "source": [
    "def get_integers(lst):\n",
    "    res = []\n",
    "    for i in lst:\n",
    "        if type(i)==int:\n",
    "            res.append(i)\n",
    "    return res"
   ]
  },
  {
   "cell_type": "code",
   "execution_count": 118,
   "id": "1ff7d095-e8d9-4471-9354-5656ada5ecd0",
   "metadata": {},
   "outputs": [
    {
     "data": {
      "text/plain": [
       "[9, 2, 16]"
      ]
     },
     "execution_count": 118,
     "metadata": {},
     "output_type": "execute_result"
    }
   ],
   "source": [
    "get_integers([9,2,'space','car','lion',16])"
   ]
  },
  {
   "cell_type": "code",
   "execution_count": 120,
   "id": "728d3efa-794f-4853-ba65-b962ef6ebdbb",
   "metadata": {},
   "outputs": [
    {
     "data": {
      "text/plain": [
       "[81, 123]"
      ]
     },
     "execution_count": 120,
     "metadata": {},
     "output_type": "execute_result"
    }
   ],
   "source": [
    "get_integers(['hello',81,'basketball',123,'fox'])"
   ]
  },
  {
   "cell_type": "code",
   "execution_count": null,
   "id": "ac0d2990-c342-41f5-8f26-5066ae51f83a",
   "metadata": {},
   "outputs": [],
   "source": []
  }
 ],
 "metadata": {
  "kernelspec": {
   "display_name": "Python 3",
   "language": "python",
   "name": "python3"
  },
  "language_info": {
   "codemirror_mode": {
    "name": "ipython",
    "version": 3
   },
   "file_extension": ".py",
   "mimetype": "text/x-python",
   "name": "python",
   "nbconvert_exporter": "python",
   "pygments_lexer": "ipython3",
   "version": "3.8.8"
  }
 },
 "nbformat": 4,
 "nbformat_minor": 5
}
