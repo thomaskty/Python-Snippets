{
 "cells": [
  {
   "cell_type": "markdown",
   "source": [
    "## Question 1 \n",
    "The function fastFib(num) returns the fibonacci number Fn, of the given num\n",
    "as an argument."
   ],
   "metadata": {}
  },
  {
   "cell_type": "code",
   "execution_count": 10,
   "source": [
    "def fastFib(n, computed = {0:0, 1:1}):\r\n",
    "    if n not in computed:\r\n",
    "        computed[n] = fastFib(n-1,computed)+fastFib(n-2, computed)\r\n",
    "    return computed[n] "
   ],
   "outputs": [],
   "metadata": {}
  },
  {
   "cell_type": "code",
   "execution_count": 11,
   "source": [
    "[fastFib(i) for i in range(0,10)]"
   ],
   "outputs": [
    {
     "output_type": "execute_result",
     "data": {
      "text/plain": [
       "[0, 1, 1, 2, 3, 5, 8, 13, 21, 34]"
      ]
     },
     "metadata": {},
     "execution_count": 11
    }
   ],
   "metadata": {}
  },
  {
   "cell_type": "code",
   "execution_count": 13,
   "source": [
    "fastFib(5)"
   ],
   "outputs": [
    {
     "output_type": "execute_result",
     "data": {
      "text/plain": [
       "5"
      ]
     },
     "metadata": {},
     "execution_count": 13
    }
   ],
   "metadata": {}
  },
  {
   "cell_type": "code",
   "execution_count": 14,
   "source": [
    "fastFib(10)"
   ],
   "outputs": [
    {
     "output_type": "execute_result",
     "data": {
      "text/plain": [
       "55"
      ]
     },
     "metadata": {},
     "execution_count": 14
    }
   ],
   "metadata": {}
  },
  {
   "cell_type": "code",
   "execution_count": 19,
   "source": [
    "fastFib(20)"
   ],
   "outputs": [
    {
     "output_type": "execute_result",
     "data": {
      "text/plain": [
       "6765"
      ]
     },
     "metadata": {},
     "execution_count": 19
    }
   ],
   "metadata": {}
  },
  {
   "cell_type": "code",
   "execution_count": 20,
   "source": [
    "fastFib(50)"
   ],
   "outputs": [
    {
     "output_type": "execute_result",
     "data": {
      "text/plain": [
       "12586269025"
      ]
     },
     "metadata": {},
     "execution_count": 20
    }
   ],
   "metadata": {}
  },
  {
   "cell_type": "markdown",
   "source": [
    "## Question 2 \n",
    "Create a function that takes a strings characters as ASCII and returns each\n",
    "characters hexadecimal value as a string."
   ],
   "metadata": {}
  },
  {
   "cell_type": "code",
   "execution_count": 38,
   "source": [
    "# decimal to hexadecimal \n",
    "def to_hex(n):\n",
    "    final = ''\n",
    "    while n!=0:\n",
    "        if n%16 == 10 :\n",
    "            final = f'{final}A'\n",
    "            n = n//16 \n",
    "        elif n%16 == 11 :\n",
    "            final = f'{final}B'\n",
    "            n = n//16\n",
    "        elif n%16 == 12 :\n",
    "            final = f'{final}C'\n",
    "            n = n//16 \n",
    "        elif n%16 == 13 :\n",
    "            final = f'{final}D'\n",
    "            n = n//16 \n",
    "        elif n%16 == 14 :\n",
    "            final = f'{final}E'\n",
    "            n = n//16             \n",
    "        elif n%16 == 15 :\n",
    "            final = f'{final}F'\n",
    "            n = n//16             \n",
    "        else:           \n",
    "            final = f'{final}{n%16}'\n",
    "            n = n//16 \n",
    "    return final[::-1]\n",
    "def convert_to_hex(string):\n",
    "    return ' '.join([to_hex(ord(i)) for i in string])"
   ],
   "outputs": [],
   "metadata": {}
  },
  {
   "cell_type": "code",
   "execution_count": 39,
   "source": [
    "convert_to_hex(\"hello world\")"
   ],
   "outputs": [
    {
     "output_type": "execute_result",
     "data": {
      "text/plain": [
       "'68 65 6C 6C 6F 20 77 6F 72 6C 64'"
      ]
     },
     "metadata": {},
     "execution_count": 39
    }
   ],
   "metadata": {}
  },
  {
   "cell_type": "code",
   "execution_count": 40,
   "source": [
    "convert_to_hex('Big Boi')"
   ],
   "outputs": [
    {
     "output_type": "execute_result",
     "data": {
      "text/plain": [
       "'42 69 67 20 42 6F 69'"
      ]
     },
     "metadata": {},
     "execution_count": 40
    }
   ],
   "metadata": {}
  },
  {
   "cell_type": "code",
   "execution_count": 41,
   "source": [
    "convert_to_hex(\"Marty Poppinson\")"
   ],
   "outputs": [
    {
     "output_type": "execute_result",
     "data": {
      "text/plain": [
       "'4D 61 72 74 79 20 50 6F 70 70 69 6E 73 6F 6E'"
      ]
     },
     "metadata": {},
     "execution_count": 41
    }
   ],
   "metadata": {}
  },
  {
   "cell_type": "markdown",
   "source": [
    "## Question 3 \n",
    "Someone has attempted to censor my strings by replacing every vowel\n",
    "with a *, l*k* th*s. \n",
    "Luckily, I&#39;ve been able to find the vowels that were\n",
    "removed.\n",
    "Given a censored string and a string of the censored vowels, return the\n",
    "original uncensored string."
   ],
   "metadata": {}
  },
  {
   "cell_type": "code",
   "execution_count": 59,
   "source": [
    "def uncensor(string,vowels):\n",
    "    newstring = ''\n",
    "    vowels = list(vowels)\n",
    "    for i in range(len(string)):\n",
    "        if string[i] =='*':\n",
    "            newstring+=vowels[0]\n",
    "            vowels.remove(vowels[0])\n",
    "        else:\n",
    "            newstring+=string[i]\n",
    "    return newstring"
   ],
   "outputs": [],
   "metadata": {}
  },
  {
   "cell_type": "code",
   "execution_count": 60,
   "source": [
    "uncensor(\"Wh*r* d*d my v*w*ls g*\", \"eeioeo\")"
   ],
   "outputs": [
    {
     "output_type": "execute_result",
     "data": {
      "text/plain": [
       "'Where did my vowels go'"
      ]
     },
     "metadata": {},
     "execution_count": 60
    }
   ],
   "metadata": {}
  },
  {
   "cell_type": "code",
   "execution_count": 61,
   "source": [
    "uncensor('abcd','')"
   ],
   "outputs": [
    {
     "output_type": "execute_result",
     "data": {
      "text/plain": [
       "'abcd'"
      ]
     },
     "metadata": {},
     "execution_count": 61
    }
   ],
   "metadata": {}
  },
  {
   "cell_type": "code",
   "execution_count": 62,
   "source": [
    "uncensor(\"*PP*RC*S*\", \"UEAE\")"
   ],
   "outputs": [
    {
     "output_type": "execute_result",
     "data": {
      "text/plain": [
       "'UPPERCASE'"
      ]
     },
     "metadata": {},
     "execution_count": 62
    }
   ],
   "metadata": {}
  },
  {
   "cell_type": "markdown",
   "source": [
    "## Question 4 \n",
    "Write a function that takes an IP address and returns the domain name\n",
    "using PTR DNS records."
   ],
   "metadata": {}
  },
  {
   "cell_type": "code",
   "execution_count": 16,
   "source": [
    "import socket\n",
    "def get_domain(address):\n",
    "    res = socket.gethostbyaddr(address)\n",
    "    return res[0]"
   ],
   "outputs": [],
   "metadata": {}
  },
  {
   "cell_type": "code",
   "execution_count": 17,
   "source": [
    "get_domain('8.8.8.8')"
   ],
   "outputs": [
    {
     "output_type": "execute_result",
     "data": {
      "text/plain": [
       "'dns.google'"
      ]
     },
     "metadata": {},
     "execution_count": 17
    }
   ],
   "metadata": {}
  },
  {
   "cell_type": "code",
   "execution_count": 18,
   "source": [
    "get_domain('8.8.4.4')"
   ],
   "outputs": [
    {
     "output_type": "execute_result",
     "data": {
      "text/plain": [
       "'dns.google'"
      ]
     },
     "metadata": {},
     "execution_count": 18
    }
   ],
   "metadata": {}
  },
  {
   "cell_type": "markdown",
   "source": [
    "## Question 5 \n",
    "Create a function that takes an integer n and returns the factorial of\n",
    "factorials."
   ],
   "metadata": {}
  },
  {
   "cell_type": "code",
   "execution_count": 42,
   "source": [
    "def fact_of_fact(n):\n",
    "    def factorial(n):\n",
    "        if n <=1:\n",
    "            return 1 \n",
    "        else:\n",
    "            return n*factorial(n-1)       \n",
    "    prods = 1\n",
    "    for i in range(1,n+1):\n",
    "        prods*=factorial(i) \n",
    "    return prods"
   ],
   "outputs": [],
   "metadata": {}
  },
  {
   "cell_type": "code",
   "execution_count": 43,
   "source": [
    "fact_of_fact(4)"
   ],
   "outputs": [
    {
     "output_type": "execute_result",
     "data": {
      "text/plain": [
       "288"
      ]
     },
     "metadata": {},
     "execution_count": 43
    }
   ],
   "metadata": {}
  },
  {
   "cell_type": "code",
   "execution_count": 44,
   "source": [
    "fact_of_fact(5)"
   ],
   "outputs": [
    {
     "output_type": "execute_result",
     "data": {
      "text/plain": [
       "34560"
      ]
     },
     "metadata": {},
     "execution_count": 44
    }
   ],
   "metadata": {}
  },
  {
   "cell_type": "code",
   "execution_count": 45,
   "source": [
    "fact_of_fact(6)"
   ],
   "outputs": [
    {
     "output_type": "execute_result",
     "data": {
      "text/plain": [
       "24883200"
      ]
     },
     "metadata": {},
     "execution_count": 45
    }
   ],
   "metadata": {}
  },
  {
   "cell_type": "code",
   "execution_count": null,
   "source": [],
   "outputs": [],
   "metadata": {}
  }
 ],
 "metadata": {
  "kernelspec": {
   "display_name": "Python 3",
   "language": "python",
   "name": "python3"
  },
  "language_info": {
   "codemirror_mode": {
    "name": "ipython",
    "version": 3
   },
   "file_extension": ".py",
   "mimetype": "text/x-python",
   "name": "python",
   "nbconvert_exporter": "python",
   "pygments_lexer": "ipython3",
   "version": "3.8.8"
  }
 },
 "nbformat": 4,
 "nbformat_minor": 5
}