{
 "cells": [
  {
   "cell_type": "markdown",
   "source": [
    "# Assignment1 "
   ],
   "metadata": {}
  },
  {
   "cell_type": "markdown",
   "source": [
    "### 1. Write a Python program to print Hello Python"
   ],
   "metadata": {}
  },
  {
   "cell_type": "code",
   "execution_count": 2,
   "source": [
    "print('hello python')"
   ],
   "outputs": [
    {
     "output_type": "stream",
     "name": "stdout",
     "text": [
      "hello python\n"
     ]
    }
   ],
   "metadata": {}
  },
  {
   "cell_type": "markdown",
   "source": [
    "### 2. Write a python program to do addition and division "
   ],
   "metadata": {}
  },
  {
   "cell_type": "code",
   "execution_count": 4,
   "source": [
    "# addition \r\n",
    "def addition(*args):\r\n",
    "    sum = 0\r\n",
    "    for i in args:\r\n",
    "        sum+=i\r\n",
    "    return sum \r\n",
    "addition(3,4,2,50)"
   ],
   "outputs": [
    {
     "output_type": "execute_result",
     "data": {
      "text/plain": [
       "59"
      ]
     },
     "metadata": {},
     "execution_count": 4
    }
   ],
   "metadata": {}
  },
  {
   "cell_type": "code",
   "execution_count": 6,
   "source": [
    "a = int(input('enter first number : '))\r\n",
    "b = int(input('enter second number : '))\r\n",
    "def division(a,b):\r\n",
    "    result = a/b \r\n",
    "    print(result)\r\n",
    "division(a,b)"
   ],
   "outputs": [
    {
     "output_type": "stream",
     "name": "stdout",
     "text": [
      "enter first number :  10\n",
      "enter second number :  5\n"
     ]
    },
    {
     "output_type": "stream",
     "name": "stdout",
     "text": [
      "2.0\n"
     ]
    }
   ],
   "metadata": {}
  },
  {
   "cell_type": "markdown",
   "source": [
    "### 3.Write a python program to find the area of a triangle "
   ],
   "metadata": {}
  },
  {
   "cell_type": "code",
   "execution_count": 8,
   "source": [
    "# formula = 1/2 (breadth * height)\r\n",
    "breadth = int(input('enter the bredth of the triangle: '))\r\n",
    "height = int(input('enter the height of the traiangle: '))\r\n",
    "def traingle_area(breadth, height):\r\n",
    "    \"\"\"provide breadth and height in same units\"\"\"\r\n",
    "    result = 0.5*breadth*height\r\n",
    "    return result\r\n",
    "traingle_area(breadth, height)"
   ],
   "outputs": [
    {
     "output_type": "stream",
     "name": "stdout",
     "text": [
      "enter the bredth of the triangle:  19\n",
      "enter the height of the traiangle:  32\n"
     ]
    },
    {
     "output_type": "execute_result",
     "data": {
      "text/plain": [
       "304.0"
      ]
     },
     "metadata": {},
     "execution_count": 8
    }
   ],
   "metadata": {}
  },
  {
   "cell_type": "markdown",
   "source": [
    "### 4. write a python program to swap two variables "
   ],
   "metadata": {}
  },
  {
   "cell_type": "code",
   "execution_count": 15,
   "source": [
    "def  swap(a,b):\r\n",
    "    c = a \r\n",
    "    a = b\r\n",
    "    b = c\r\n",
    "    return (a,b)\r\n",
    "# or just using tuples \r\n",
    "# (a,b) = (b, a)\r\n",
    "\r\n",
    "swap(4,5)"
   ],
   "outputs": [
    {
     "output_type": "execute_result",
     "data": {
      "text/plain": [
       "(5, 4)"
      ]
     },
     "metadata": {},
     "execution_count": 15
    }
   ],
   "metadata": {}
  },
  {
   "cell_type": "markdown",
   "source": [
    "### question 5 :Generating a random number "
   ],
   "metadata": {}
  },
  {
   "cell_type": "code",
   "execution_count": 24,
   "source": [
    "import random\r\n",
    "random.randint(3,5)"
   ],
   "outputs": [
    {
     "output_type": "execute_result",
     "data": {
      "text/plain": [
       "5"
      ]
     },
     "metadata": {},
     "execution_count": 24
    }
   ],
   "metadata": {}
  }
 ],
 "metadata": {
  "kernelspec": {
   "display_name": "Python 3",
   "language": "python",
   "name": "python3"
  },
  "language_info": {
   "codemirror_mode": {
    "name": "ipython",
    "version": 3
   },
   "file_extension": ".py",
   "mimetype": "text/x-python",
   "name": "python",
   "nbconvert_exporter": "python",
   "pygments_lexer": "ipython3",
   "version": "3.8.8"
  }
 },
 "nbformat": 4,
 "nbformat_minor": 5
}