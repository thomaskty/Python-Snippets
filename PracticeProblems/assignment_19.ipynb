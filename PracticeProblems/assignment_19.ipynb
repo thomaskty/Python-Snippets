{
 "cells": [
  {
   "cell_type": "markdown",
   "id": "37532066-a85f-4bd1-9b9d-8c0ded042a7e",
   "metadata": {},
   "source": [
    "# assignment 19"
   ]
  },
  {
   "cell_type": "markdown",
   "id": "1af5aaae-0c67-4c29-a4a9-b2ab9a8aad74",
   "metadata": {},
   "source": [
    "# Question 1 \n",
    "Create a function that takes a string and returns a string in which each character is repeated once."
   ]
  },
  {
   "cell_type": "code",
   "execution_count": 3,
   "id": "52939260-5bf3-4086-8389-26e1c1ad5893",
   "metadata": {},
   "outputs": [],
   "source": [
    "def double_char(string):\n",
    "    newstring = ''\n",
    "    for char in string:\n",
    "        newstring +=f\"{char*2}\"\n",
    "    return newstring"
   ]
  },
  {
   "cell_type": "code",
   "execution_count": 4,
   "id": "5bd12405-8f79-4f05-9be4-d3119a6183e7",
   "metadata": {},
   "outputs": [
    {
     "data": {
      "text/plain": [
       "'HHeelllloo  WWoorrlldd'"
      ]
     },
     "execution_count": 4,
     "metadata": {},
     "output_type": "execute_result"
    }
   ],
   "source": [
    "double_char('Hello World')"
   ]
  },
  {
   "cell_type": "code",
   "execution_count": 5,
   "id": "e8095473-f2fc-4329-b40f-7bbb88eedea6",
   "metadata": {},
   "outputs": [
    {
     "data": {
      "text/plain": [
       "'11223344!!__'"
      ]
     },
     "execution_count": 5,
     "metadata": {},
     "output_type": "execute_result"
    }
   ],
   "source": [
    "double_char(\"1234!_\")"
   ]
  },
  {
   "cell_type": "markdown",
   "id": "b64a10dd-1a24-432a-b086-3bb26790868f",
   "metadata": {},
   "source": [
    "## Queston 2 \n",
    "Create a function that reverses a boolean value and returns the string \"boolean expected\" if another varialbe type is given"
   ]
  },
  {
   "cell_type": "code",
   "execution_count": 19,
   "id": "e39d180c-e874-41df-a447-ff93ef5a8887",
   "metadata": {},
   "outputs": [],
   "source": [
    "def reverse(boolean):\n",
    "    if type(boolean)==bool:\n",
    "        return not boolean\n",
    "    elif type(boolean)==bool:\n",
    "        return not boolean \n",
    "    else:\n",
    "        return 'boolean expected'"
   ]
  },
  {
   "cell_type": "code",
   "execution_count": 20,
   "id": "739e5bb1-7460-4e59-b3cc-0d269daa5906",
   "metadata": {},
   "outputs": [
    {
     "data": {
      "text/plain": [
       "False"
      ]
     },
     "execution_count": 20,
     "metadata": {},
     "output_type": "execute_result"
    }
   ],
   "source": [
    "reverse(True)"
   ]
  },
  {
   "cell_type": "code",
   "execution_count": 21,
   "id": "250fb6d5-9723-4e9b-a0df-56e145b6da99",
   "metadata": {},
   "outputs": [
    {
     "data": {
      "text/plain": [
       "True"
      ]
     },
     "execution_count": 21,
     "metadata": {},
     "output_type": "execute_result"
    }
   ],
   "source": [
    "reverse(False)"
   ]
  },
  {
   "cell_type": "code",
   "execution_count": 23,
   "id": "c2435592-8997-494f-8f60-e3cbfd4fd9bd",
   "metadata": {},
   "outputs": [
    {
     "data": {
      "text/plain": [
       "'boolean expected'"
      ]
     },
     "execution_count": 23,
     "metadata": {},
     "output_type": "execute_result"
    }
   ],
   "source": [
    "reverse(0)"
   ]
  },
  {
   "cell_type": "markdown",
   "id": "3f7c0ffb-8f1d-42fd-a684-10a42200c3d4",
   "metadata": {},
   "source": [
    "## Question 3 \n",
    "Create a function that returns the thickness(in meters) of a piece of paper after foldng it n number of times."
   ]
  },
  {
   "cell_type": "code",
   "execution_count": 46,
   "id": "c72f0feb-349d-418c-a559-09eec4fb0e94",
   "metadata": {},
   "outputs": [],
   "source": [
    "def num_layers(n):\n",
    "    if n ==0:\n",
    "        return 0.5*0.001\n",
    "    else:        \n",
    "        a,b = 1,1 \n",
    "        res = []\n",
    "        for i in range(1,n+2):\n",
    "            res.append(a)\n",
    "            a,b = b,b+2**i\n",
    "        res.insert(0,0)\n",
    "        return round(res[n+1]*0.5*0.001,3)   "
   ]
  },
  {
   "cell_type": "code",
   "execution_count": 47,
   "id": "aa955fa0-0c10-4144-818a-8569c28bf1ec",
   "metadata": {},
   "outputs": [
    {
     "data": {
      "text/plain": [
       "1048.575"
      ]
     },
     "execution_count": 47,
     "metadata": {},
     "output_type": "execute_result"
    }
   ],
   "source": [
    "num_layers(21)"
   ]
  },
  {
   "cell_type": "code",
   "execution_count": 48,
   "id": "38292ac1-5621-4497-aca5-ae7db4dcd40a",
   "metadata": {},
   "outputs": [
    {
     "data": {
      "text/plain": [
       "0.001"
      ]
     },
     "execution_count": 48,
     "metadata": {},
     "output_type": "execute_result"
    }
   ],
   "source": [
    "num_layers(1)"
   ]
  },
  {
   "cell_type": "code",
   "execution_count": 49,
   "id": "019eca37-9c5a-4ff2-a9a0-5de10846dc89",
   "metadata": {},
   "outputs": [
    {
     "data": {
      "text/plain": [
       "0.007"
      ]
     },
     "execution_count": 49,
     "metadata": {},
     "output_type": "execute_result"
    }
   ],
   "source": [
    "num_layers(4)"
   ]
  },
  {
   "cell_type": "markdown",
   "id": "261beecc-498b-4023-beb1-9757ec560b12",
   "metadata": {},
   "source": [
    "## Question 4 \n",
    "Create a function that takes a single string as argument and returns an ordered list containing the indices of all capital letters in the string."
   ]
  },
  {
   "cell_type": "code",
   "execution_count": 50,
   "id": "38303af2-8b25-40d2-b0fe-089e4525a8f8",
   "metadata": {},
   "outputs": [],
   "source": [
    "def index_of_caps(string):\n",
    "    res = []\n",
    "    for i in range(len(string)):\n",
    "        if string[i].isupper() ==True:\n",
    "            res.append(i)\n",
    "    return res"
   ]
  },
  {
   "cell_type": "code",
   "execution_count": 51,
   "id": "7030e95a-9a4e-48fb-9a36-be1e28570ea0",
   "metadata": {},
   "outputs": [
    {
     "data": {
      "text/plain": [
       "[1, 3, 5]"
      ]
     },
     "execution_count": 51,
     "metadata": {},
     "output_type": "execute_result"
    }
   ],
   "source": [
    "index_of_caps('eDaBiT')"
   ]
  },
  {
   "cell_type": "code",
   "execution_count": 53,
   "id": "e0c9d714-f9c6-4ba2-b265-75ac11f73553",
   "metadata": {},
   "outputs": [
    {
     "data": {
      "text/plain": [
       "[1, 3, 4, 6]"
      ]
     },
     "execution_count": 53,
     "metadata": {},
     "output_type": "execute_result"
    }
   ],
   "source": [
    "index_of_caps('eQuINoX')"
   ]
  },
  {
   "cell_type": "code",
   "execution_count": 54,
   "id": "a5b091a3-8285-44f2-959e-44573cdc4326",
   "metadata": {},
   "outputs": [
    {
     "data": {
      "text/plain": [
       "[]"
      ]
     },
     "execution_count": 54,
     "metadata": {},
     "output_type": "execute_result"
    }
   ],
   "source": [
    "index_of_caps('determine')"
   ]
  },
  {
   "cell_type": "code",
   "execution_count": 55,
   "id": "df570873-2b36-4f18-bc30-6e3fb902e06b",
   "metadata": {},
   "outputs": [
    {
     "data": {
      "text/plain": [
       "[0, 1, 2, 3, 4, 5]"
      ]
     },
     "execution_count": 55,
     "metadata": {},
     "output_type": "execute_result"
    }
   ],
   "source": [
    "index_of_caps('STRIKE')"
   ]
  },
  {
   "cell_type": "code",
   "execution_count": 56,
   "id": "59b8f765-7460-4072-ba63-2cd2adff87ab",
   "metadata": {},
   "outputs": [
    {
     "data": {
      "text/plain": [
       "[1]"
      ]
     },
     "execution_count": 56,
     "metadata": {},
     "output_type": "execute_result"
    }
   ],
   "source": [
    "index_of_caps('sUn')"
   ]
  },
  {
   "cell_type": "markdown",
   "id": "0a709605-f938-48fe-8278-60461610d3fe",
   "metadata": {},
   "source": [
    "## Question 5 \n",
    "Using list comprehension, create a function that finds all even numbers from 1 to the given number"
   ]
  },
  {
   "cell_type": "code",
   "execution_count": 63,
   "id": "eef1fdbc-0e11-4e09-bade-38804a4bb6b4",
   "metadata": {},
   "outputs": [],
   "source": [
    "def find_even_nums(n):\n",
    "    return [i for i in range(1,n+1) if i%2 ==0]"
   ]
  },
  {
   "cell_type": "code",
   "execution_count": 64,
   "id": "447ed448-d4e6-43d4-b418-926a8a5f6c4d",
   "metadata": {},
   "outputs": [
    {
     "data": {
      "text/plain": [
       "[2, 4, 6, 8]"
      ]
     },
     "execution_count": 64,
     "metadata": {},
     "output_type": "execute_result"
    }
   ],
   "source": [
    "find_even_nums(8)"
   ]
  },
  {
   "cell_type": "code",
   "execution_count": 65,
   "id": "599d7a18-3d7f-45d8-8c10-1e501add3cba",
   "metadata": {},
   "outputs": [
    {
     "data": {
      "text/plain": [
       "[2, 4]"
      ]
     },
     "execution_count": 65,
     "metadata": {},
     "output_type": "execute_result"
    }
   ],
   "source": [
    "find_even_nums(4)"
   ]
  },
  {
   "cell_type": "code",
   "execution_count": 66,
   "id": "8a501db3-53ca-477f-aaa4-3fe9754cf145",
   "metadata": {},
   "outputs": [
    {
     "data": {
      "text/plain": [
       "[2]"
      ]
     },
     "execution_count": 66,
     "metadata": {},
     "output_type": "execute_result"
    }
   ],
   "source": [
    "find_even_nums(2)"
   ]
  },
  {
   "cell_type": "code",
   "execution_count": null,
   "id": "86564a1b-f1c2-44e7-a52f-518ce33d350e",
   "metadata": {},
   "outputs": [],
   "source": []
  }
 ],
 "metadata": {
  "kernelspec": {
   "display_name": "Python 3",
   "language": "python",
   "name": "python3"
  },
  "language_info": {
   "codemirror_mode": {
    "name": "ipython",
    "version": 3
   },
   "file_extension": ".py",
   "mimetype": "text/x-python",
   "name": "python",
   "nbconvert_exporter": "python",
   "pygments_lexer": "ipython3",
   "version": "3.8.8"
  }
 },
 "nbformat": 4,
 "nbformat_minor": 5
}
