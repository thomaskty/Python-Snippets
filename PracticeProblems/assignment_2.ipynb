{
 "cells": [
  {
   "cell_type": "markdown",
   "id": "6f24fc71-7fe1-4fe4-8c0c-dedddc145c8d",
   "metadata": {},
   "source": [
    "# Assignment_2"
   ]
  },
  {
   "cell_type": "markdown",
   "id": "fc508bf0-14d2-4780-8157-c2ffdec7c476",
   "metadata": {},
   "source": [
    "### 1. Write a python program to converto kilometers to miles "
   ]
  },
  {
   "cell_type": "code",
   "execution_count": 1,
   "id": "e2b86cdf-d8a9-4f1a-8203-40074101650a",
   "metadata": {},
   "outputs": [
    {
     "data": {
      "text/plain": [
       "1.24274"
      ]
     },
     "execution_count": 1,
     "metadata": {},
     "output_type": "execute_result"
    }
   ],
   "source": [
    "# 1mile =  km * 0.62137\n",
    "\n",
    "def to_mile(km):\n",
    "    result = km * 0.62137\n",
    "    return result\n",
    "to_mile(2)"
   ]
  },
  {
   "cell_type": "markdown",
   "id": "f0955d1d-3023-49be-b182-ec1d22c52ede",
   "metadata": {},
   "source": [
    "### 2. Python program to convert celcius to fahrenheit"
   ]
  },
  {
   "cell_type": "code",
   "execution_count": 2,
   "id": "a1623e99-db7c-4e67-9ab9-ff20f5d0db67",
   "metadata": {},
   "outputs": [
    {
     "data": {
      "text/plain": [
       "101.39999999999999"
      ]
     },
     "execution_count": 2,
     "metadata": {},
     "output_type": "execute_result"
    }
   ],
   "source": [
    "# 1 celcius = 33.8 fahrenheit \n",
    "def to_fahren(celsius):\n",
    "    output = celsius*33.8\n",
    "    return output\n",
    "to_fahren(3)"
   ]
  },
  {
   "cell_type": "markdown",
   "id": "38c2ba1d-802b-4f23-bbfe-71e6ba134c41",
   "metadata": {},
   "source": [
    "### 3. write a python program to display calender "
   ]
  },
  {
   "cell_type": "code",
   "execution_count": 18,
   "id": "8c647e31-d411-4a28-ab48-b1be85b1cd96",
   "metadata": {},
   "outputs": [
    {
     "name": "stdout",
     "output_type": "stream",
     "text": [
      "                                  2021\n",
      "\n",
      "      January                   February                   March\n",
      "Mo Tu We Th Fr Sa Su      Mo Tu We Th Fr Sa Su      Mo Tu We Th Fr Sa Su\n",
      "             1  2  3       1  2  3  4  5  6  7       1  2  3  4  5  6  7\n",
      " 4  5  6  7  8  9 10       8  9 10 11 12 13 14       8  9 10 11 12 13 14\n",
      "11 12 13 14 15 16 17      15 16 17 18 19 20 21      15 16 17 18 19 20 21\n",
      "18 19 20 21 22 23 24      22 23 24 25 26 27 28      22 23 24 25 26 27 28\n",
      "25 26 27 28 29 30 31                                29 30 31\n",
      "\n",
      "       April                      May                       June\n",
      "Mo Tu We Th Fr Sa Su      Mo Tu We Th Fr Sa Su      Mo Tu We Th Fr Sa Su\n",
      "          1  2  3  4                      1  2          1  2  3  4  5  6\n",
      " 5  6  7  8  9 10 11       3  4  5  6  7  8  9       7  8  9 10 11 12 13\n",
      "12 13 14 15 16 17 18      10 11 12 13 14 15 16      14 15 16 17 18 19 20\n",
      "19 20 21 22 23 24 25      17 18 19 20 21 22 23      21 22 23 24 25 26 27\n",
      "26 27 28 29 30            24 25 26 27 28 29 30      28 29 30\n",
      "                          31\n",
      "\n",
      "        July                     August                  September\n",
      "Mo Tu We Th Fr Sa Su      Mo Tu We Th Fr Sa Su      Mo Tu We Th Fr Sa Su\n",
      "          1  2  3  4                         1             1  2  3  4  5\n",
      " 5  6  7  8  9 10 11       2  3  4  5  6  7  8       6  7  8  9 10 11 12\n",
      "12 13 14 15 16 17 18       9 10 11 12 13 14 15      13 14 15 16 17 18 19\n",
      "19 20 21 22 23 24 25      16 17 18 19 20 21 22      20 21 22 23 24 25 26\n",
      "26 27 28 29 30 31         23 24 25 26 27 28 29      27 28 29 30\n",
      "                          30 31\n",
      "\n",
      "      October                   November                  December\n",
      "Mo Tu We Th Fr Sa Su      Mo Tu We Th Fr Sa Su      Mo Tu We Th Fr Sa Su\n",
      "             1  2  3       1  2  3  4  5  6  7             1  2  3  4  5\n",
      " 4  5  6  7  8  9 10       8  9 10 11 12 13 14       6  7  8  9 10 11 12\n",
      "11 12 13 14 15 16 17      15 16 17 18 19 20 21      13 14 15 16 17 18 19\n",
      "18 19 20 21 22 23 24      22 23 24 25 26 27 28      20 21 22 23 24 25 26\n",
      "25 26 27 28 29 30 31      29 30                     27 28 29 30 31\n",
      "\n"
     ]
    }
   ],
   "source": [
    "import calendar\n",
    "def calen(year,month = 'all'):\n",
    "    if month =='all':\n",
    "        print(calendar.calendar(year))\n",
    "    else:\n",
    "        print(calendar.month(year,month))\n",
    "calen(2021)"
   ]
  },
  {
   "cell_type": "code",
   "execution_count": 20,
   "id": "017ca361-88b8-41ac-9665-c1406c17b550",
   "metadata": {},
   "outputs": [
    {
     "name": "stdout",
     "output_type": "stream",
     "text": [
      "     March 2020\n",
      "Mo Tu We Th Fr Sa Su\n",
      "                   1\n",
      " 2  3  4  5  6  7  8\n",
      " 9 10 11 12 13 14 15\n",
      "16 17 18 19 20 21 22\n",
      "23 24 25 26 27 28 29\n",
      "30 31\n",
      "\n"
     ]
    }
   ],
   "source": [
    "calen(year = 2020,month = 3)"
   ]
  },
  {
   "cell_type": "markdown",
   "id": "a2043cdc-9548-4e2c-b97c-00e26dd83178",
   "metadata": {},
   "source": [
    "### 4.Write a python program to solve a quandratic equation "
   ]
  },
  {
   "cell_type": "code",
   "execution_count": 46,
   "id": "dbef3fa5-81cf-4f0c-9627-1d6218fff97e",
   "metadata": {},
   "outputs": [
    {
     "data": {
      "text/plain": [
       "((-9+0j), (-1+0j))"
      ]
     },
     "execution_count": 46,
     "metadata": {},
     "output_type": "execute_result"
    }
   ],
   "source": [
    "## eqn : ax+bx^2+c = 0 and solution is -b+- root(b2 -4ac) \n",
    "import cmath\n",
    "def quadratic(a,b, c):\n",
    "    \"\"\"a = sqare term, b = linear term, c = constant\"\"\"\n",
    "    determinant = cmath.sqrt(b**2 - (4*a*c))    \n",
    "    solution_1 = (-b-determinant)/2*a\n",
    "    solution_2 = (-b+determinant)/2*a\n",
    "    return (solution_1, solution_2)\n",
    "quadratic(1,10,9)"
   ]
  },
  {
   "cell_type": "markdown",
   "id": "5df6fb1c-a2b5-42b1-843e-0e25f6760ae5",
   "metadata": {},
   "source": [
    "### 5.Write a Python program to swap two variables without temp variable?"
   ]
  },
  {
   "cell_type": "code",
   "execution_count": 50,
   "id": "aa836e5d-9507-4ef0-aa4d-cc2b4dff2554",
   "metadata": {},
   "outputs": [
    {
     "data": {
      "text/plain": [
       "(4, 3)"
      ]
     },
     "execution_count": 50,
     "metadata": {},
     "output_type": "execute_result"
    }
   ],
   "source": [
    "def swap(a,b):\n",
    "    a = a+b \n",
    "    b = a-b \n",
    "    a = a-b\n",
    "    return (a,b)\n",
    "swap(3,4)"
   ]
  },
  {
   "cell_type": "code",
   "execution_count": null,
   "id": "d035b211-141e-4b47-848f-9b191a5e7a8d",
   "metadata": {},
   "outputs": [],
   "source": []
  }
 ],
 "metadata": {
  "kernelspec": {
   "display_name": "Python 3",
   "language": "python",
   "name": "python3"
  },
  "language_info": {
   "codemirror_mode": {
    "name": "ipython",
    "version": 3
   },
   "file_extension": ".py",
   "mimetype": "text/x-python",
   "name": "python",
   "nbconvert_exporter": "python",
   "pygments_lexer": "ipython3",
   "version": "3.8.8"
  }
 },
 "nbformat": 4,
 "nbformat_minor": 5
}
