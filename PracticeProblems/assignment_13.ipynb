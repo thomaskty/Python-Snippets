{
 "cells": [
  {
   "cell_type": "markdown",
   "id": "3c1e0d8b-03bb-45b2-bced-13d04ad88ac7",
   "metadata": {},
   "source": [
    "### Question1 : \n",
    "Write a program that calculates and prints the value as follows Q = Square root of [(2 * C * D)/H]\n",
    "    Following are the fixed values of C and H:\n",
    "    C is 50. H is 30.\n",
    "    D is the variable whose values should be input to your program in a comma-separated sequence."
   ]
  },
  {
   "cell_type": "code",
   "execution_count": 47,
   "id": "498b9b39-a3e5-4185-b66e-49b91c23976a",
   "metadata": {},
   "outputs": [],
   "source": [
    "def func1(*args):\n",
    "    for i in args:\n",
    "        output = int(((2*50*i)/30)**0.5)\n",
    "        print(output, end = ',')"
   ]
  },
  {
   "cell_type": "code",
   "execution_count": 48,
   "id": "4b5aaa96-64f9-4470-ba3d-15a1e935aea9",
   "metadata": {},
   "outputs": [
    {
     "name": "stdout",
     "output_type": "stream",
     "text": [
      "18,22,24,"
     ]
    }
   ],
   "source": [
    "func1(100,150,180)"
   ]
  },
  {
   "cell_type": "markdown",
   "id": "68d966e2-5413-499e-83b7-f80d1a72246f",
   "metadata": {},
   "source": [
    "### Question2:  \n",
    "Write a program which takes 2 digits, X,Y as input and generates a 2-dimensional array. The\n",
    "element value in the i-th row and j-th column of the array should be i*j."
   ]
  },
  {
   "cell_type": "code",
   "execution_count": 21,
   "id": "5c336260-0a5c-4121-923e-f90e486c209a",
   "metadata": {},
   "outputs": [],
   "source": [
    "def fun2(x,y):\n",
    "    m = [[] for row in range(x)]\n",
    "    for r in range(x):\n",
    "        for c in range(y):\n",
    "            m[r].append(r*c)\n",
    "    return m"
   ]
  },
  {
   "cell_type": "code",
   "execution_count": 24,
   "id": "b1d4d466-e4eb-42f9-8527-adb6343de856",
   "metadata": {},
   "outputs": [
    {
     "data": {
      "text/plain": [
       "[[0, 0, 0, 0, 0], [0, 1, 2, 3, 4], [0, 2, 4, 6, 8]]"
      ]
     },
     "execution_count": 24,
     "metadata": {},
     "output_type": "execute_result"
    }
   ],
   "source": [
    "fun2(3,5)"
   ]
  },
  {
   "cell_type": "markdown",
   "id": "a5ef7c7c-9d11-4f8c-953d-8a71185c8296",
   "metadata": {},
   "source": [
    "### Question 3:\n",
    "Write a program that accepts a comma separated sequence of words as input and prints the\n",
    "words in a comma-separated sequence after sorting them alphabetically.\n",
    "Suppose the following input is supplied to the program:\n",
    "without,hello,bag,world\n",
    "Then, the output should be:\n",
    "bag,hello,without,world"
   ]
  },
  {
   "cell_type": "code",
   "execution_count": 25,
   "id": "a293dbfe-030a-46ef-b884-9478be2c39e1",
   "metadata": {},
   "outputs": [],
   "source": [
    "def words_sort(*args):\n",
    "    words = [i for i in args]\n",
    "    words.sort()\n",
    "    return words"
   ]
  },
  {
   "cell_type": "code",
   "execution_count": 26,
   "id": "086a260c-1b1b-4504-a204-f2577a9e5cfd",
   "metadata": {},
   "outputs": [
    {
     "data": {
      "text/plain": [
       "['bag', 'hello', 'without', 'world']"
      ]
     },
     "execution_count": 26,
     "metadata": {},
     "output_type": "execute_result"
    }
   ],
   "source": [
    "words_sort(\"without\",\"hello\",\"bag\",\"world\")"
   ]
  },
  {
   "cell_type": "markdown",
   "id": "a59b2f35-f279-49d0-8c69-c0f6c79d4136",
   "metadata": {},
   "source": [
    "### Question 4:\n",
    "Write a program that accepts a sequence of whitespace separated words as input and prints\n",
    "the words after removing all duplicate words and sorting them alphanumerically."
   ]
  },
  {
   "cell_type": "code",
   "execution_count": 29,
   "id": "93f25278-d3a0-43a4-a256-f48135ee1ae4",
   "metadata": {},
   "outputs": [],
   "source": [
    "def remove_duplicates(string):\n",
    "    words = string.split()\n",
    "    words = set(words)\n",
    "    return ' '.join(words)"
   ]
  },
  {
   "cell_type": "code",
   "execution_count": 30,
   "id": "650b3bca-3216-4cb5-88c2-a4de9fab155d",
   "metadata": {},
   "outputs": [
    {
     "data": {
      "text/plain": [
       "'and makes perfect hello again world practice'"
      ]
     },
     "execution_count": 30,
     "metadata": {},
     "output_type": "execute_result"
    }
   ],
   "source": [
    "remove_duplicates('hello world and practice makes perfect and hello world again')"
   ]
  },
  {
   "cell_type": "markdown",
   "id": "b3f57085-7055-42e7-af2f-7098980edf89",
   "metadata": {},
   "source": [
    "### Question 5:\n",
    "Write a program that accepts a sentence and calculate the number of letters and digits."
   ]
  },
  {
   "cell_type": "code",
   "execution_count": 40,
   "id": "45b2326e-708f-4f63-a256-c5848ffc9df9",
   "metadata": {},
   "outputs": [],
   "source": [
    "def calc_LD(sentence):  \n",
    "    # counting the letters \n",
    "    letters = [i.isalpha() for i in sentence]\n",
    "    no_of_letters = 0\n",
    "    for i in letters:\n",
    "        if i == True:\n",
    "            no_of_letters+=1\n",
    "            \n",
    "    # counting the digits \n",
    "    digits  = [i.isdigit() for i in sentence]\n",
    "    no_digits  = 0\n",
    "    for i in digits:\n",
    "        if i ==True:\n",
    "            no_digits+=1\n",
    "    print(f'LETTERS: {no_of_letters} \\nDIGITS: {no_digits}')"
   ]
  },
  {
   "cell_type": "code",
   "execution_count": 41,
   "id": "863113b2-557e-4718-9c45-5971da10e914",
   "metadata": {},
   "outputs": [
    {
     "name": "stdout",
     "output_type": "stream",
     "text": [
      "LETTERS: 10 \n",
      "DIGITS: 3\n"
     ]
    }
   ],
   "source": [
    "calc_LD('hello world! 123')"
   ]
  },
  {
   "cell_type": "markdown",
   "id": "0843a38c-b506-478b-ac1f-eff72cc18467",
   "metadata": {},
   "source": [
    "### Question 6:\n",
    "A website requires the users to input username and password to register. Write a program to\n",
    "check the validity of password input by users.\n",
    "Following are the criteria for checking the password:\n",
    "1. At least 1 letter between [a-z]\n",
    "2. At least 1 number between [0-9]\n",
    "1. At least 1 letter between [A-Z]\n",
    "3. At least 1 character from [$#@]\n",
    "4. Minimum length of transaction password: 6\n",
    "5. Maximum length of transaction password: 12"
   ]
  },
  {
   "cell_type": "code",
   "execution_count": 89,
   "id": "461de71c-5bfb-4bf9-b799-7d2da3683235",
   "metadata": {},
   "outputs": [],
   "source": [
    "def checkpassword(*args):\n",
    "    final_lst = []\n",
    "    for password in args:\n",
    "        c1 = True in [char.islower() for char in password]\n",
    "        c2 = True in [char.isupper() for char in password]\n",
    "        c3 = True in [char.isdigit() for char in password]\n",
    "        c4 = len(password)>=6 and len(password)<13\n",
    "        c5 = True in [char in [\"$\",'@','#'] for char in password] \n",
    "        conditions = [c1,c2,c3,c4,c5]\n",
    "        if False in conditions:\n",
    "            pass \n",
    "        else:\n",
    "            final_lst.append(password)\n",
    "    for i in final_lst:\n",
    "        print(i, end = ',')"
   ]
  },
  {
   "cell_type": "code",
   "execution_count": 90,
   "id": "ae55badf-ca3a-4a81-86a9-1e584317c87d",
   "metadata": {},
   "outputs": [
    {
     "name": "stdout",
     "output_type": "stream",
     "text": [
      "ABd1234@1,ABsdfsf34@1,"
     ]
    }
   ],
   "source": [
    "checkpassword(\"ABd1234@1\",\"a F1#\",\"2w3E*\",\"2We3345\",\"ABsdfsf34@1\")"
   ]
  }
 ],
 "metadata": {
  "kernelspec": {
   "display_name": "Python 3",
   "language": "python",
   "name": "python3"
  },
  "language_info": {
   "codemirror_mode": {
    "name": "ipython",
    "version": 3
   },
   "file_extension": ".py",
   "mimetype": "text/x-python",
   "name": "python",
   "nbconvert_exporter": "python",
   "pygments_lexer": "ipython3",
   "version": "3.8.8"
  }
 },
 "nbformat": 4,
 "nbformat_minor": 5
}
