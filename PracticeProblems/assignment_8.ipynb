{
 "cells": [
  {
   "cell_type": "markdown",
   "id": "74b91f14-1311-4fea-b0dd-36183a327318",
   "metadata": {},
   "source": [
    "# Assignment_8"
   ]
  },
  {
   "cell_type": "markdown",
   "id": "ac984d01-7c0a-4f13-8b9e-e8882952ef60",
   "metadata": {},
   "source": [
    "### 1. Write a Python Program to Add Two Matrices?"
   ]
  },
  {
   "cell_type": "code",
   "execution_count": 97,
   "id": "9c59b5c6-43f8-41bb-ad9a-14f359d4f35a",
   "metadata": {},
   "outputs": [
    {
     "data": {
      "text/plain": [
       "[[7, 4, 7], [8, 5, 7]]"
      ]
     },
     "execution_count": 97,
     "metadata": {},
     "output_type": "execute_result"
    }
   ],
   "source": [
    "X = [[1,2,3],\n",
    "    [6 ,3,6]]\n",
    "Y = [[6,2,4],\n",
    "    [2,2,1]]\n",
    "result = [[X[row][col] + Y[row][col] for col in range(len(X[0]))] for row in range(len(X))]\n",
    "result"
   ]
  },
  {
   "cell_type": "markdown",
   "id": "627886f0-c717-4567-80e6-ee46e685e88f",
   "metadata": {},
   "source": [
    "### 2. Write a Python Program to Multiply Two Matrices?"
   ]
  },
  {
   "cell_type": "code",
   "execution_count": 124,
   "id": "9f958093-c4d4-45fb-a244-1c547f2a45e9",
   "metadata": {},
   "outputs": [
    {
     "name": "stdout",
     "output_type": "stream",
     "text": [
      "[114, 160]\n",
      "[74, 97]\n",
      "[119, 157]\n"
     ]
    }
   ],
   "source": [
    "\n",
    "result = [[sum(a * b for a, b in zip(A_row, B_col)) for B_col in zip(*B)] for A_row in A]\n",
    " \n",
    "A = [[12, 7, 3],\n",
    "    [4, 5, 6],\n",
    "    [7, 8, 9]]\n",
    "  \n",
    "B = [[5, 8],\n",
    "    [6, 7],\n",
    "    [4, 5]]\n",
    "\n",
    "for r in result:\n",
    "    print(r)"
   ]
  },
  {
   "cell_type": "markdown",
   "id": "8e0c5498-0511-4c33-84ea-2af4d70fef18",
   "metadata": {},
   "source": [
    "### 3. Write a Python Program to Transpose a Matrix?"
   ]
  },
  {
   "cell_type": "code",
   "execution_count": 119,
   "id": "4a79f246-f50e-4553-9375-886571f1e796",
   "metadata": {},
   "outputs": [],
   "source": [
    "a = [[1,2,1],[1,3,5], [1,22,4],[1,3,4]]\n",
    "rows = len(a)\n",
    "columns = len(a[0])\n",
    "b = [[0 for rows in range(rows)] for column in range(columns)]\n",
    "for row in range(rows):\n",
    "    for column in range(columns):\n",
    "        b[column][row] = a[row][column]"
   ]
  },
  {
   "cell_type": "code",
   "execution_count": 123,
   "id": "a5510162-eec9-42b6-ab61-d90a621c9e6a",
   "metadata": {},
   "outputs": [
    {
     "name": "stdout",
     "output_type": "stream",
     "text": [
      "[1, 1, 1, 1]\n",
      "[2, 3, 22, 3]\n",
      "[1, 5, 4, 4]\n",
      "\n",
      "\n",
      "[1, 2, 1]\n",
      "[1, 3, 5]\n",
      "[1, 22, 4]\n",
      "[1, 3, 4]\n",
      "\n",
      "\n"
     ]
    }
   ],
   "source": [
    "for i in b:\n",
    "    print(i)\n",
    "print('\\n')\n",
    "for i in a:\n",
    "    print(i)\n",
    "print('\\n')"
   ]
  },
  {
   "cell_type": "markdown",
   "id": "ccd38a6b-ad08-4c7f-ad6a-3351d3007fb4",
   "metadata": {},
   "source": [
    "### 4. Write a Python Program to Sort Words in Alphabetic Order?"
   ]
  },
  {
   "cell_type": "code",
   "execution_count": 133,
   "id": "4c997138-1d5a-4a6d-9aae-af4b5a9bf85b",
   "metadata": {},
   "outputs": [],
   "source": [
    "def sort_words(word):\n",
    "    word_list = [w.lower() for w in word]\n",
    "    word_list.sort()\n",
    "    return word_list"
   ]
  },
  {
   "cell_type": "code",
   "execution_count": 135,
   "id": "3f43423d-fc3a-4e29-b109-a31798c65abf",
   "metadata": {},
   "outputs": [
    {
     "data": {
      "text/plain": [
       "['ann', 'antony', 'maria', 'reji', 'thomas']"
      ]
     },
     "execution_count": 135,
     "metadata": {},
     "output_type": "execute_result"
    }
   ],
   "source": [
    "sort_words(['thomas','reji','antony','Ann','maria'])"
   ]
  },
  {
   "cell_type": "markdown",
   "id": "6e798acd-befd-44b1-9848-d46828ef88be",
   "metadata": {},
   "source": [
    "### 5. Write a Python Program to Remove Punctuation From a String?"
   ]
  },
  {
   "cell_type": "code",
   "execution_count": 138,
   "id": "0decd852-ea66-4e86-a616-0b0d4180e500",
   "metadata": {},
   "outputs": [
    {
     "data": {
      "text/plain": [
       "'hi  how are you '"
      ]
     },
     "execution_count": 138,
     "metadata": {},
     "output_type": "execute_result"
    }
   ],
   "source": [
    "def remove_punctuation(string):\n",
    "    punctuations = '''!()-[]{};:'\"\\,<>./?@#$%^&*_~'''\n",
    "    final_string = ''\n",
    "    for i in string:\n",
    "        if i not in punctuations:\n",
    "            final_string+=i\n",
    "    return final_string\n",
    "\n",
    "remove_punctuation('hi @$#%@ how.~ are you ???>>>>')"
   ]
  },
  {
   "cell_type": "code",
   "execution_count": null,
   "id": "72a6649c-290b-4c98-b827-abc83ab7914c",
   "metadata": {},
   "outputs": [],
   "source": []
  }
 ],
 "metadata": {
  "kernelspec": {
   "display_name": "Python 3",
   "language": "python",
   "name": "python3"
  },
  "language_info": {
   "codemirror_mode": {
    "name": "ipython",
    "version": 3
   },
   "file_extension": ".py",
   "mimetype": "text/x-python",
   "name": "python",
   "nbconvert_exporter": "python",
   "pygments_lexer": "ipython3",
   "version": "3.8.8"
  }
 },
 "nbformat": 4,
 "nbformat_minor": 5
}
