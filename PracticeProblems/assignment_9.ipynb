{
 "cells": [
  {
   "cell_type": "markdown",
   "id": "05b03752-2fd6-40ec-8f28-13d3b6f23ae5",
   "metadata": {},
   "source": [
    "# Assignment 9 "
   ]
  },
  {
   "cell_type": "markdown",
   "id": "e24ca0d0-d6fb-457b-9e5e-d792465712c5",
   "metadata": {},
   "source": [
    "### 1. Write a Python program to check if the given number is a Disarium Number?"
   ]
  },
  {
   "cell_type": "code",
   "execution_count": 21,
   "id": "44fa1852-e117-4c46-b7cf-a51e561ebcab",
   "metadata": {},
   "outputs": [],
   "source": [
    "# disarium number \n",
    "def isDisarium(num):\n",
    "    sum_=0\n",
    "    length = len(str(num))\n",
    "    for i in range(length):\n",
    "        sum_+=int(str(num)[i])**(i+1)\n",
    "    if sum_ == num:\n",
    "        return True\n",
    "    else:\n",
    "        return False"
   ]
  },
  {
   "cell_type": "code",
   "execution_count": 22,
   "id": "484f69ff-ccf3-43e6-87bf-408588b5ac4d",
   "metadata": {},
   "outputs": [
    {
     "data": {
      "text/plain": [
       "True"
      ]
     },
     "execution_count": 22,
     "metadata": {},
     "output_type": "execute_result"
    }
   ],
   "source": [
    "isDisarium(89)"
   ]
  },
  {
   "cell_type": "code",
   "execution_count": 23,
   "id": "f5669a20-4421-4a8d-a66c-7cca7e756eb2",
   "metadata": {},
   "outputs": [
    {
     "data": {
      "text/plain": [
       "False"
      ]
     },
     "execution_count": 23,
     "metadata": {},
     "output_type": "execute_result"
    }
   ],
   "source": [
    "isDisarium(234)"
   ]
  },
  {
   "cell_type": "markdown",
   "id": "5898acf7-1aa5-4106-b615-7ed44736b0eb",
   "metadata": {},
   "source": [
    "### 2. Write a Python program to print all disarium numbers between 1 to 100?"
   ]
  },
  {
   "cell_type": "code",
   "execution_count": 52,
   "id": "06b88d6f-4523-49a4-9f5f-c56dcdc8f740",
   "metadata": {},
   "outputs": [],
   "source": [
    "# disarium number \n",
    "def get_disarium(limit):\n",
    "    def isDisarium(num):\n",
    "        sum_=0\n",
    "        length = len(str(num))\n",
    "        for i in range(length):\n",
    "            sum_+=int(str(num)[i])**(i+1)\n",
    "        if sum_ == num:\n",
    "            return True\n",
    "        else:\n",
    "            return False\n",
    "    final = []\n",
    "    for i in range(1,limit):\n",
    "        if isDisarium(i) ==True:\n",
    "            final.append(i)"
   ]
  },
  {
   "cell_type": "code",
   "execution_count": 53,
   "id": "fb5fc50c-f5e7-4d29-9c9d-2944b60906b8",
   "metadata": {},
   "outputs": [
    {
     "data": {
      "text/plain": [
       "[1, 2, 3, 4, 5, 6, 7, 8, 9, 89]"
      ]
     },
     "execution_count": 53,
     "metadata": {},
     "output_type": "execute_result"
    }
   ],
   "source": [
    "final"
   ]
  },
  {
   "cell_type": "markdown",
   "id": "c6374ff0-e3ca-4cd1-8073-6d1482c71d53",
   "metadata": {},
   "source": [
    "### 3. Write a Python program to check if the given number is Happy Number?"
   ]
  },
  {
   "cell_type": "code",
   "execution_count": 58,
   "id": "dbf9eb0a-c314-404f-b0c7-bcec2105ccf4",
   "metadata": {},
   "outputs": [
    {
     "data": {
      "text/plain": [
       "True"
      ]
     },
     "execution_count": 58,
     "metadata": {},
     "output_type": "execute_result"
    }
   ],
   "source": [
    "def isHappy(n):\n",
    "    past = set()\n",
    "    while n != 1:\n",
    "        n = sum(int(i)**2 for i in str(n))\n",
    "        if n in past:\n",
    "            return False\n",
    "        past.add(n)\n",
    "    return True\n",
    "isHappy(32)"
   ]
  },
  {
   "cell_type": "markdown",
   "id": "a3c99c80-6086-43f6-9709-150aaa8ffea4",
   "metadata": {},
   "source": [
    "### 4. Write a Python program to print all happy numbers between 1 and 100?"
   ]
  },
  {
   "cell_type": "code",
   "execution_count": 59,
   "id": "43b7f5fd-633b-49c5-a3e5-fbb5b334423e",
   "metadata": {},
   "outputs": [],
   "source": [
    "def get_happy(limit):\n",
    "    final = []\n",
    "    for i in range(1,limit):\n",
    "        if isHappy(i) == True:\n",
    "            final.append(i)\n",
    "    return final"
   ]
  },
  {
   "cell_type": "code",
   "execution_count": 60,
   "id": "87bfcb61-fd03-4c90-b588-a8a87be03c31",
   "metadata": {},
   "outputs": [
    {
     "data": {
      "text/plain": [
       "[1, 7, 10, 13, 19, 23, 28, 31, 32, 44, 49, 68, 70, 79, 82, 86, 91, 94, 97]"
      ]
     },
     "execution_count": 60,
     "metadata": {},
     "output_type": "execute_result"
    }
   ],
   "source": [
    "get_happy(100)"
   ]
  },
  {
   "cell_type": "markdown",
   "id": "170ebd45-f288-44be-9a44-5ea460f078b6",
   "metadata": {},
   "source": [
    "### 5. Write a Python program to determine whether the given number is a Harshad Number?"
   ]
  },
  {
   "cell_type": "code",
   "execution_count": 73,
   "id": "9d265fb4-99f4-4c66-b4a8-0378013ac12e",
   "metadata": {},
   "outputs": [],
   "source": [
    "def isHarshad(num):    \n",
    "    sum_of_digits = 0\n",
    "    for i in range(len(str(num))):\n",
    "        sum_of_digits+=int(str(num)[i])\n",
    "        if num%sum_of_digits ==0:\n",
    "            return True\n",
    "        else:\n",
    "            return False"
   ]
  },
  {
   "cell_type": "code",
   "execution_count": 78,
   "id": "5e618af1-06f2-4c13-9125-607a60d18841",
   "metadata": {},
   "outputs": [
    {
     "name": "stdout",
     "output_type": "stream",
     "text": [
      "False\n",
      "True\n"
     ]
    }
   ],
   "source": [
    "print(isHarshad(25))\n",
    "print(isHarshad(18))"
   ]
  },
  {
   "cell_type": "markdown",
   "id": "f10979af-b376-46d3-a3ce-864073385fb8",
   "metadata": {},
   "source": [
    "### 6. Write a Python program to print all pronic numbers between 1 and 100?"
   ]
  },
  {
   "cell_type": "code",
   "execution_count": 81,
   "id": "99c17b7e-f8f4-43aa-9dd8-f38e106b9f79",
   "metadata": {},
   "outputs": [],
   "source": [
    "def get_pronic(limit):\n",
    "    def checkPronic (x) :\n",
    "        i = 0\n",
    "        while ( i <= (int)(x**0.5)):\n",
    "            if ( x == i * (i + 1)) :\n",
    "                return True\n",
    "            i = i + 1\n",
    "        return False\n",
    "    final = []\n",
    "    for i in range(1,limit):\n",
    "        if checkPronic(i) ==True:\n",
    "               final.append(i)\n",
    "    return final        "
   ]
  },
  {
   "cell_type": "code",
   "execution_count": 82,
   "id": "771df396-a8ae-4880-b961-e37351fc5d3e",
   "metadata": {},
   "outputs": [
    {
     "data": {
      "text/plain": [
       "[2, 6, 12, 20, 30, 42, 56, 72, 90]"
      ]
     },
     "execution_count": 82,
     "metadata": {},
     "output_type": "execute_result"
    }
   ],
   "source": [
    "get_pronic(100)"
   ]
  }
 ],
 "metadata": {
  "kernelspec": {
   "display_name": "Python 3",
   "language": "python",
   "name": "python3"
  },
  "language_info": {
   "codemirror_mode": {
    "name": "ipython",
    "version": 3
   },
   "file_extension": ".py",
   "mimetype": "text/x-python",
   "name": "python",
   "nbconvert_exporter": "python",
   "pygments_lexer": "ipython3",
   "version": "3.8.8"
  }
 },
 "nbformat": 4,
 "nbformat_minor": 5
}
