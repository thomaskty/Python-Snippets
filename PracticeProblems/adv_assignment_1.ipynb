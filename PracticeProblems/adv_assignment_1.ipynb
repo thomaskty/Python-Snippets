{
 "cells": [
  {
   "cell_type": "markdown",
   "id": "745d9477",
   "metadata": {},
   "source": [
    "## Question 1\n",
    "Write a function that takes a list of lists and returns the value of all of the\n",
    "symbols in it, where each symbol adds or takes something from the total\n",
    "score. Symbol values:\n",
    "  * '#' = 5\n",
    "  * \"O\" = 3\n",
    "  * \"X\" = 1\n",
    "  * '!' = -1\n",
    "  * '!!' = -3\n",
    "  * '!!!' = -5"
   ]
  },
  {
   "cell_type": "code",
   "execution_count": 1,
   "id": "bf41d139",
   "metadata": {},
   "outputs": [],
   "source": [
    "def check_score(llst):\n",
    "    d = {'#':5, 'O':3,'X':1, '!':-1,'!!':-3, '!!!':-5}\n",
    "    total = 0\n",
    "    for lst in llst:\n",
    "        for i in lst:\n",
    "            total+= d[i]\n",
    "    if total <0:\n",
    "        return 0\n",
    "    else:\n",
    "        return total"
   ]
  },
  {
   "cell_type": "code",
   "execution_count": 2,
   "id": "37823012",
   "metadata": {},
   "outputs": [
    {
     "data": {
      "text/plain": [
       "0"
      ]
     },
     "execution_count": 2,
     "metadata": {},
     "output_type": "execute_result"
    }
   ],
   "source": [
    "check_score([\n",
    "    ['!!!','O','!'],\n",
    "    ['X','#','!!!'],\n",
    "    ['!!','X','O']\n",
    "])"
   ]
  },
  {
   "cell_type": "code",
   "execution_count": 3,
   "id": "d6392f47",
   "metadata": {},
   "outputs": [
    {
     "data": {
      "text/plain": [
       "2"
      ]
     },
     "execution_count": 3,
     "metadata": {},
     "output_type": "execute_result"
    }
   ],
   "source": [
    "check_score([\n",
    "    ['#','!'],\n",
    "    ['!!','X']\n",
    "])"
   ]
  },
  {
   "cell_type": "markdown",
   "id": "25b25669",
   "metadata": {},
   "source": [
    "## Question 2 \n",
    "Create a function that takes a variable number of arguments, each argument representing the number of items in a group, and returns the number of permutations of items that you could get by taking one item from each group."
   ]
  },
  {
   "cell_type": "code",
   "execution_count": 4,
   "id": "150b0069",
   "metadata": {},
   "outputs": [],
   "source": [
    "def combinations(*args):\n",
    "    combs = 1\n",
    "    for i in args:\n",
    "        combs*=i\n",
    "    return combs"
   ]
  },
  {
   "cell_type": "code",
   "execution_count": 5,
   "id": "e781cd1d",
   "metadata": {},
   "outputs": [
    {
     "data": {
      "text/plain": [
       "6"
      ]
     },
     "execution_count": 5,
     "metadata": {},
     "output_type": "execute_result"
    }
   ],
   "source": [
    "combinations(2,3)"
   ]
  },
  {
   "cell_type": "code",
   "execution_count": 6,
   "id": "973e96ed",
   "metadata": {},
   "outputs": [
    {
     "data": {
      "text/plain": [
       "168"
      ]
     },
     "execution_count": 6,
     "metadata": {},
     "output_type": "execute_result"
    }
   ],
   "source": [
    "combinations(3,7,8)"
   ]
  },
  {
   "cell_type": "code",
   "execution_count": 7,
   "id": "99fd4779",
   "metadata": {},
   "outputs": [
    {
     "data": {
      "text/plain": [
       "120"
      ]
     },
     "execution_count": 7,
     "metadata": {},
     "output_type": "execute_result"
    }
   ],
   "source": [
    "combinations(2,3,4,5)"
   ]
  },
  {
   "cell_type": "markdown",
   "id": "b422d685",
   "metadata": {},
   "source": [
    "## Queston 3 \n",
    "Create a function that takes a string as an argument and returns the morse code equivalent"
   ]
  },
  {
   "cell_type": "code",
   "execution_count": 8,
   "id": "248d0647",
   "metadata": {},
   "outputs": [],
   "source": [
    "MORSE_CODE_DICT = { 'A':'.-', 'B':'-...',\n",
    "   'C':'-.-.', 'D':'-..', 'E':'.',\n",
    "   'F':'..-.', 'G':'--.', 'H':'....',\n",
    "   'I':'..', 'J':'.---', 'K':'-.-',\n",
    "   'L':'.-..', 'M':'--', 'N':'-.',\n",
    "   'O':'---', 'P':'.--.', 'Q':'--.-',\n",
    "   'R':'.-.', 'S':'...', 'T':'-',\n",
    "   'U':'..-', 'V':'...-', 'W':'.--',\n",
    "   'X':'-..-', 'Y':'-.--', 'Z':'--..',\n",
    "   '1':'.----', '2':'..---', '3':'...--',\n",
    "   '4':'....-', '5':'.....', '6':'-....',\n",
    "   '7':'--...', '8':'---..', '9':'----.',\n",
    "   '0':'-----', ', ':'--..--', '.':'.-.-.-',\n",
    "   '?':'..--..', '/':'-..-.', '-':'-....-',\n",
    "   '(':'-.--.', ')':'-.--.-','!':'.-.-.--'}\n",
    "def encode_morse(string):\n",
    "    ca_string = string.upper()\n",
    "    final = ''\n",
    "    for i in ca_string:\n",
    "        if i ==' ':\n",
    "            final+=' '\n",
    "        else:\n",
    "            final+=MORSE_CODE_DICT[i]\n",
    "    return final"
   ]
  },
  {
   "cell_type": "code",
   "execution_count": 9,
   "id": "9c3e4674",
   "metadata": {},
   "outputs": [
    {
     "data": {
      "text/plain": [
       "'......-...--. --..-.-.--'"
      ]
     },
     "execution_count": 9,
     "metadata": {},
     "output_type": "execute_result"
    }
   ],
   "source": [
    "encode_morse('HELP ME!')"
   ]
  },
  {
   "cell_type": "code",
   "execution_count": 10,
   "id": "c0adaf6c",
   "metadata": {},
   "outputs": [
    {
     "data": {
      "text/plain": [
       "'.-...--...-.....- -.-......-.-...-...-.--..'"
      ]
     },
     "execution_count": 10,
     "metadata": {},
     "output_type": "execute_result"
    }
   ],
   "source": [
    "encode_morse('EDABBIT CHALLENGE')"
   ]
  },
  {
   "cell_type": "markdown",
   "id": "8bc539ff",
   "metadata": {},
   "source": [
    "## Question 4 \n",
    "Write a function that takes a number and returns True if it is a prime and false otherwise."
   ]
  },
  {
   "cell_type": "code",
   "execution_count": 11,
   "id": "5fdb39fc",
   "metadata": {},
   "outputs": [],
   "source": [
    "def prime(n):\n",
    "    val  = []\n",
    "    if n%2 ==0:\n",
    "        return False \n",
    "    else:      \n",
    "        for i in list(range(3,int(n**0.5)+1,2)):\n",
    "            if n%i ==0:\n",
    "                return False \n",
    "        else:\n",
    "            return True"
   ]
  },
  {
   "cell_type": "code",
   "execution_count": 12,
   "id": "0b80112f",
   "metadata": {},
   "outputs": [
    {
     "data": {
      "text/plain": [
       "True"
      ]
     },
     "execution_count": 12,
     "metadata": {},
     "output_type": "execute_result"
    }
   ],
   "source": [
    "prime(7)"
   ]
  },
  {
   "cell_type": "code",
   "execution_count": 13,
   "id": "fe16010b",
   "metadata": {},
   "outputs": [
    {
     "data": {
      "text/plain": [
       "True"
      ]
     },
     "execution_count": 13,
     "metadata": {},
     "output_type": "execute_result"
    }
   ],
   "source": [
    "prime(56963)"
   ]
  },
  {
   "cell_type": "code",
   "execution_count": 16,
   "id": "d21f850c",
   "metadata": {},
   "outputs": [
    {
     "data": {
      "text/plain": [
       "False"
      ]
     },
     "execution_count": 16,
     "metadata": {},
     "output_type": "execute_result"
    }
   ],
   "source": [
    "prime(5151512515524)"
   ]
  },
  {
   "cell_type": "markdown",
   "id": "a554349b",
   "metadata": {},
   "source": [
    "## Question 5 \n",
    "Create a function that converts a word to a bitstring and then to a boolean\n",
    "list based on the following criteria:\n",
    "   1. Locate the position of the letter in the English alphabet (from 1 to 26).\n",
    "   2. Odd positions will be represented as 1 and 0 otherwise.\n",
    "   3. Convert the represented positions to boolean values, 1 for True and 0\n",
    "   for False.\n",
    "   4. Store the conversions into an array."
   ]
  },
  {
   "cell_type": "code",
   "execution_count": 44,
   "id": "ce87458c",
   "metadata": {},
   "outputs": [],
   "source": [
    "def to_boolean_list(string):\n",
    "    alphs = 'qwertyuiopasdfghjklzxcvbnm'\n",
    "    alphabets = [i for i in alphs]\n",
    "    alphabets.sort()\n",
    "    values = [i for i in range(1,27)]\n",
    "    d = dict((i,j) for i,j in zip(alphabets,values))\n",
    "    string = string.lower()\n",
    "    res = []\n",
    "    for  i in string:\n",
    "        if d[i]%2 ==0:\n",
    "            res.append(False)\n",
    "        else:\n",
    "            res.append(True)\n",
    "    return res"
   ]
  },
  {
   "cell_type": "code",
   "execution_count": 45,
   "id": "3048af5b",
   "metadata": {},
   "outputs": [
    {
     "data": {
      "text/plain": [
       "[False, True, True, False]"
      ]
     },
     "execution_count": 45,
     "metadata": {},
     "output_type": "execute_result"
    }
   ],
   "source": [
    "to_boolean_list('deep')"
   ]
  },
  {
   "cell_type": "code",
   "execution_count": 46,
   "id": "5a535891",
   "metadata": {},
   "outputs": [
    {
     "data": {
      "text/plain": [
       "[False, True, False, True, True]"
      ]
     },
     "execution_count": 46,
     "metadata": {},
     "output_type": "execute_result"
    }
   ],
   "source": [
    "to_boolean_list('loves')"
   ]
  },
  {
   "cell_type": "code",
   "execution_count": 47,
   "id": "e5e947a3",
   "metadata": {},
   "outputs": [
    {
     "data": {
      "text/plain": [
       "[False, True, True, False]"
      ]
     },
     "execution_count": 47,
     "metadata": {},
     "output_type": "execute_result"
    }
   ],
   "source": [
    "to_boolean_list('tesh')"
   ]
  },
  {
   "cell_type": "code",
   "execution_count": null,
   "id": "351e92d8",
   "metadata": {},
   "outputs": [],
   "source": []
  }
 ],
 "metadata": {
  "interpreter": {
   "hash": "b3ba2566441a7c06988d0923437866b63cedc61552a5af99d1f4fb67d367b25f"
  },
  "kernelspec": {
   "display_name": "Python 3 (ipykernel)",
   "language": "python",
   "name": "python3"
  },
  "language_info": {
   "codemirror_mode": {
    "name": "ipython",
    "version": 3
   },
   "file_extension": ".py",
   "mimetype": "text/x-python",
   "name": "python",
   "nbconvert_exporter": "python",
   "pygments_lexer": "ipython3",
   "version": "3.11.4"
  }
 },
 "nbformat": 4,
 "nbformat_minor": 5
}
