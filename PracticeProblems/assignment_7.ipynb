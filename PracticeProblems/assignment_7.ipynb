{
 "cells": [
  {
   "cell_type": "markdown",
   "id": "12791fdb-997b-4ac2-8a20-f124c2328367",
   "metadata": {},
   "source": [
    "# Assignment 7 "
   ]
  },
  {
   "cell_type": "code",
   "execution_count": 2,
   "id": "0cda72ac-e8fc-46c8-9892-b90f644afcab",
   "metadata": {},
   "outputs": [],
   "source": [
    "import array"
   ]
  },
  {
   "cell_type": "markdown",
   "id": "943bc0a9-5967-4676-b689-1b2b7eaf02fc",
   "metadata": {},
   "source": [
    "### Write a Python Program to find sum of array?"
   ]
  },
  {
   "cell_type": "code",
   "execution_count": 1,
   "id": "221c5453-435e-4eb1-ba0d-64071de921ca",
   "metadata": {},
   "outputs": [],
   "source": [
    "def get_sum(array):\n",
    "    output = 0\n",
    "    for i in array:\n",
    "        output+=i\n",
    "    return output"
   ]
  },
  {
   "cell_type": "code",
   "execution_count": 5,
   "id": "206b1f1e-d4e0-4599-90fa-c9e6062c944e",
   "metadata": {},
   "outputs": [
    {
     "data": {
      "text/plain": [
       "75"
      ]
     },
     "execution_count": 5,
     "metadata": {},
     "output_type": "execute_result"
    }
   ],
   "source": [
    "\n",
    "get_sum(array.array('i',[1,2,3,4,63,2]))"
   ]
  },
  {
   "cell_type": "markdown",
   "id": "013d698b-8667-42e1-a51e-756b31560f76",
   "metadata": {},
   "source": [
    "### 2. Write a Python Program to find largest element in an array?"
   ]
  },
  {
   "cell_type": "code",
   "execution_count": 7,
   "id": "9634a52d-6154-4caf-9314-d0d216981020",
   "metadata": {},
   "outputs": [],
   "source": [
    "def get_greatest(array):\n",
    "    greatest = array[0]\n",
    "    for i in range(len(array)):\n",
    "        if greatest<array[i]:\n",
    "            greatest = array[i]\n",
    "    return greatest"
   ]
  },
  {
   "cell_type": "code",
   "execution_count": 8,
   "id": "cbc4e87a-431b-47b9-b2d4-17e741521031",
   "metadata": {},
   "outputs": [
    {
     "data": {
      "text/plain": [
       "4212"
      ]
     },
     "execution_count": 8,
     "metadata": {},
     "output_type": "execute_result"
    }
   ],
   "source": [
    "get_greatest(array.array('i',[2,3,1,52,4212,534]))"
   ]
  },
  {
   "cell_type": "markdown",
   "id": "ba327286-ebbc-4aa8-83f8-3eefd542c8f0",
   "metadata": {},
   "source": [
    "### 3. Write a Python Program for array rotation?"
   ]
  },
  {
   "cell_type": "code",
   "execution_count": 10,
   "id": "2aea9bea-af2a-4917-af03-6c04dbaccc3b",
   "metadata": {},
   "outputs": [
    {
     "data": {
      "text/plain": [
       "[2, 5, 2, 1]"
      ]
     },
     "execution_count": 10,
     "metadata": {},
     "output_type": "execute_result"
    }
   ],
   "source": [
    "def reversing(array):\n",
    "    length = len(array)\n",
    "    s = length \n",
    "    new_list = [None]*length\n",
    "    for item in array:\n",
    "        s = s-1\n",
    "        new_list[s] = item \n",
    "    return new_list\n",
    "    \n",
    "reversing(array.array('i',[1,2,5,2]))"
   ]
  },
  {
   "cell_type": "markdown",
   "id": "a6354419-e2f3-4dd8-a3ad-c9b6c2e4af23",
   "metadata": {},
   "source": [
    "### 4. Write a Python Program to Split the array and add the first part to the end?"
   ]
  },
  {
   "cell_type": "code",
   "execution_count": 11,
   "id": "80d529f8-3e83-4134-a3f0-61b40bd9d0f1",
   "metadata": {},
   "outputs": [],
   "source": [
    "def split_apend(array):\n",
    "    length = len(array)\n",
    "    s = length \n",
    "    if s%2 != 0:\n",
    "        m = int(s//2 + 1)\n",
    "        # splitting the array into two parts \n",
    "        part_one = array[0:m]\n",
    "        part_two = array[m:]\n",
    "        \n",
    "        \n",
    "    else:\n",
    "        m = int(s/2)\n",
    "        part_one = array[0:m]\n",
    "        part_two = array[m:] \n",
    "        \n",
    "        # returning the final array by adding the first part to the end \n",
    "    return part_two+part_one"
   ]
  },
  {
   "cell_type": "code",
   "execution_count": 12,
   "id": "e611c6d0-7395-4083-9cf5-58feb6050a64",
   "metadata": {},
   "outputs": [
    {
     "data": {
      "text/plain": [
       "array('i', [2, 1, 43, 232, 1, 43])"
      ]
     },
     "execution_count": 12,
     "metadata": {},
     "output_type": "execute_result"
    }
   ],
   "source": [
    "split_apend(array.array(\"i\",[232,1,43,2,1,43]))"
   ]
  },
  {
   "cell_type": "markdown",
   "id": "f4c6ecfd-8b6e-4d63-ae36-843c43618f76",
   "metadata": {},
   "source": [
    "### 5. Write a Python Program to check if given array is Monotonic?"
   ]
  },
  {
   "cell_type": "code",
   "execution_count": 14,
   "id": "4daccccc-cc54-4cf3-993a-939d05eff20b",
   "metadata": {},
   "outputs": [],
   "source": [
    "def isMonotonic(array):\n",
    "    f_count = 0\n",
    "    for i in range(len(array)-1):\n",
    "        if array[i]>array[i+1]:\n",
    "            f_count+=1\n",
    "        else:\n",
    "            pass \n",
    "    if f_count!=0:\n",
    "        return False \n",
    "    else :\n",
    "        return True"
   ]
  },
  {
   "cell_type": "code",
   "execution_count": 15,
   "id": "3881c479-3ede-488d-9971-226fb6ca9fd0",
   "metadata": {},
   "outputs": [
    {
     "name": "stdout",
     "output_type": "stream",
     "text": [
      "False\n",
      "True\n"
     ]
    }
   ],
   "source": [
    "print(isMonotonic(array.array('i',[23,43,232,63,73])))\n",
    "print(isMonotonic(array.array('i',[23,44,234,25346])))"
   ]
  },
  {
   "cell_type": "code",
   "execution_count": null,
   "id": "6ff8dfac-460b-44fc-b648-ab38622321f2",
   "metadata": {},
   "outputs": [],
   "source": []
  },
  {
   "cell_type": "code",
   "execution_count": null,
   "id": "84162f89-5e50-4308-a799-f59d2af45fbd",
   "metadata": {},
   "outputs": [],
   "source": []
  }
 ],
 "metadata": {
  "kernelspec": {
   "display_name": "Python 3",
   "language": "python",
   "name": "python3"
  },
  "language_info": {
   "codemirror_mode": {
    "name": "ipython",
    "version": 3
   },
   "file_extension": ".py",
   "mimetype": "text/x-python",
   "name": "python",
   "nbconvert_exporter": "python",
   "pygments_lexer": "ipython3",
   "version": "3.8.8"
  }
 },
 "nbformat": 4,
 "nbformat_minor": 5
}
