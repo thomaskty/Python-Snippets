{
 "cells": [
  {
   "cell_type": "markdown",
   "id": "66e81050",
   "metadata": {},
   "source": [
    "## Question 1 \n",
    "Create a function that takes a number n (integer greater than zero) as an\n",
    "argument, and returns 2 if n is odd and 8 if n is even.\n",
    "You can only use the following arithmetic operators: addition of numbers +,\n",
    "subtraction of numbers -, multiplication of number *, division of number /, and\n",
    "exponentiation **.\n",
    "\n",
    "You are not allowed to use any other methods in this challenge (i.e. no if\n",
    "statements, comparison operators, etc)."
   ]
  },
  {
   "cell_type": "code",
   "execution_count": 10,
   "id": "a026f4a1",
   "metadata": {},
   "outputs": [],
   "source": [
    "def f(n):\n",
    "    pass"
   ]
  },
  {
   "cell_type": "markdown",
   "id": "933b5802",
   "metadata": {},
   "source": [
    "## Question 2\n",
    "Create a function that returns the majority vote in a list. \n"
   ]
  },
  {
   "cell_type": "code",
   "execution_count": 25,
   "id": "1f26170b",
   "metadata": {},
   "outputs": [],
   "source": [
    "def majority_vote(lst):\n",
    "    limit = len(lst)/2\n",
    "    for i in lst:\n",
    "        if lst.count(i)>limit:\n",
    "            return i\n",
    "    else:\n",
    "        return \"None\""
   ]
  },
  {
   "cell_type": "code",
   "execution_count": 26,
   "id": "7cdc7a7b",
   "metadata": {},
   "outputs": [
    {
     "data": {
      "text/plain": [
       "'A'"
      ]
     },
     "execution_count": 26,
     "metadata": {},
     "output_type": "execute_result"
    }
   ],
   "source": [
    "majority_vote(['A','A','B'])"
   ]
  },
  {
   "cell_type": "code",
   "execution_count": 27,
   "id": "6a69bcea",
   "metadata": {},
   "outputs": [
    {
     "data": {
      "text/plain": [
       "'A'"
      ]
     },
     "execution_count": 27,
     "metadata": {},
     "output_type": "execute_result"
    }
   ],
   "source": [
    "majority_vote(['A','A','A','B','C','A'])"
   ]
  },
  {
   "cell_type": "code",
   "execution_count": 28,
   "id": "e7da117e",
   "metadata": {},
   "outputs": [
    {
     "data": {
      "text/plain": [
       "'None'"
      ]
     },
     "execution_count": 28,
     "metadata": {},
     "output_type": "execute_result"
    }
   ],
   "source": [
    "majority_vote(['A','B','B','A','C','C'])"
   ]
  },
  {
   "cell_type": "markdown",
   "id": "0225e662",
   "metadata": {},
   "source": [
    "## Question 3 \n",
    "Create a function that takes a string txt and censors any word from a given  list lst. The text removed must be replaced by the given character char."
   ]
  },
  {
   "cell_type": "code",
   "execution_count": 47,
   "id": "4b448a1c",
   "metadata": {},
   "outputs": [],
   "source": [
    "def censor_string(string,words,char):\n",
    "    splits = string.split()\n",
    "    for i in range(len(splits)):\n",
    "        if splits[i] in words:\n",
    "            splits[i] = char*len(splits[i])\n",
    "    return ' '.join(splits)"
   ]
  },
  {
   "cell_type": "code",
   "execution_count": 48,
   "id": "9ebb3d8b",
   "metadata": {},
   "outputs": [
    {
     "data": {
      "text/plain": [
       "'----- is - Wednesday'"
      ]
     },
     "execution_count": 48,
     "metadata": {},
     "output_type": "execute_result"
    }
   ],
   "source": [
    "censor_string('Today is a Wednesday',['Today','a'], '-')"
   ]
  },
  {
   "cell_type": "code",
   "execution_count": 49,
   "id": "84ee43d8",
   "metadata": {},
   "outputs": [
    {
     "data": {
      "text/plain": [
       "'The *** jumped **** the moon'"
      ]
     },
     "execution_count": 49,
     "metadata": {},
     "output_type": "execute_result"
    }
   ],
   "source": [
    "censor_string('The cow jumped over the moon',['cow','over'],'*')"
   ]
  },
  {
   "cell_type": "code",
   "execution_count": 52,
   "id": "8bbd9377",
   "metadata": {},
   "outputs": [
    {
     "data": {
      "text/plain": [
       "'Why did the ******* cross the ****'"
      ]
     },
     "execution_count": 52,
     "metadata": {},
     "output_type": "execute_result"
    }
   ],
   "source": [
    "censor_string('Why did the chicken cross the road',\n",
    "              ['Did','chicken','road'],'*')"
   ]
  },
  {
   "cell_type": "markdown",
   "id": "09a39998",
   "metadata": {},
   "source": [
    "## Question 4\n",
    "Create a function which takes an integer n and returns True if the given number is a polydivisible number and False otherwise"
   ]
  },
  {
   "cell_type": "code",
   "execution_count": 149,
   "id": "197a5ae7",
   "metadata": {},
   "outputs": [],
   "source": [
    "def is_polydivisible(num):\n",
    "    string = str(num)\n",
    "    lt = list(range(len(string)+1))\n",
    "    outs = []\n",
    "    for i in range(len(string)):\n",
    "        val = int(string[:lt[i]+1]) \n",
    "        outs.append(val%(i+1) ==0) \n",
    "    if False in outs:\n",
    "        return False\n",
    "    else:\n",
    "        return True "
   ]
  },
  {
   "cell_type": "code",
   "execution_count": 151,
   "id": "aa101e7f",
   "metadata": {},
   "outputs": [
    {
     "data": {
      "text/plain": [
       "True"
      ]
     },
     "execution_count": 151,
     "metadata": {},
     "output_type": "execute_result"
    }
   ],
   "source": [
    "is_polydivisible(1232)"
   ]
  },
  {
   "cell_type": "code",
   "execution_count": 154,
   "id": "70112dbf",
   "metadata": {},
   "outputs": [
    {
     "data": {
      "text/plain": [
       "False"
      ]
     },
     "execution_count": 154,
     "metadata": {},
     "output_type": "execute_result"
    }
   ],
   "source": [
    "is_polydivisible(123220)"
   ]
  },
  {
   "cell_type": "markdown",
   "id": "405192cb",
   "metadata": {},
   "source": [
    "## Question 5 \n",
    "Create a function that takes a list of numbers and returns the sum of all prime numbers in the list "
   ]
  },
  {
   "cell_type": "code",
   "execution_count": 206,
   "id": "948a21b1",
   "metadata": {},
   "outputs": [],
   "source": [
    "def is_prime(n):\n",
    "    if n ==1:\n",
    "        return False\n",
    "    for i in range(2,n):\n",
    "        if n%i ==0:\n",
    "            return False  \n",
    "    else:\n",
    "        return True\n",
    "def sum_primes(lst):\n",
    "    if len(lst) ==0:\n",
    "        return None\n",
    "    sums=0\n",
    "    for i in lst:\n",
    "        if is_prime(i) ==True:\n",
    "            sums+=i\n",
    "    return sums"
   ]
  },
  {
   "cell_type": "code",
   "execution_count": 207,
   "id": "4711287e",
   "metadata": {},
   "outputs": [
    {
     "data": {
      "text/plain": [
       "17"
      ]
     },
     "execution_count": 207,
     "metadata": {},
     "output_type": "execute_result"
    }
   ],
   "source": [
    "sum_primes([1,2,3,4,5,6,7,8,9,10])"
   ]
  },
  {
   "cell_type": "code",
   "execution_count": 208,
   "id": "b6325259",
   "metadata": {},
   "outputs": [
    {
     "data": {
      "text/plain": [
       "87"
      ]
     },
     "execution_count": 208,
     "metadata": {},
     "output_type": "execute_result"
    }
   ],
   "source": [
    "sum_primes([2,3,4,11,20,50,71])"
   ]
  },
  {
   "cell_type": "code",
   "execution_count": 209,
   "id": "da126b03",
   "metadata": {},
   "outputs": [],
   "source": [
    "sum_primes([])"
   ]
  },
  {
   "cell_type": "code",
   "execution_count": null,
   "id": "e9bea8cd",
   "metadata": {},
   "outputs": [],
   "source": []
  }
 ],
 "metadata": {
  "kernelspec": {
   "display_name": "Python 3",
   "language": "python",
   "name": "python3"
  },
  "language_info": {
   "codemirror_mode": {
    "name": "ipython",
    "version": 3
   },
   "file_extension": ".py",
   "mimetype": "text/x-python",
   "name": "python",
   "nbconvert_exporter": "python",
   "pygments_lexer": "ipython3",
   "version": "3.8.8"
  }
 },
 "nbformat": 4,
 "nbformat_minor": 5
}
