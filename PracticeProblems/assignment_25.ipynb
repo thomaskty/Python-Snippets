{
 "cells": [
  {
   "cell_type": "markdown",
   "id": "a2d4599f",
   "metadata": {},
   "source": [
    "## Question 1 \n",
    "Create a function that takes three integer arguments(a,b,c) and returns the amount of integers which are of equal value"
   ]
  },
  {
   "cell_type": "code",
   "execution_count": 19,
   "id": "f215af6f",
   "metadata": {},
   "outputs": [],
   "source": [
    "def equal(a,b,c):\n",
    "    unique = set([a,b,c])\n",
    "    lst = [a,b,c]\n",
    "    if len(lst) ==len(unique):\n",
    "        return 0\n",
    "    else:\n",
    "        return len(lst)-len(unique)+1\n",
    "        "
   ]
  },
  {
   "cell_type": "code",
   "execution_count": 23,
   "id": "b656ddb0",
   "metadata": {},
   "outputs": [
    {
     "data": {
      "text/plain": [
       "2"
      ]
     },
     "execution_count": 23,
     "metadata": {},
     "output_type": "execute_result"
    }
   ],
   "source": [
    "equal(3,4,3)"
   ]
  },
  {
   "cell_type": "code",
   "execution_count": 24,
   "id": "f23c955b",
   "metadata": {},
   "outputs": [
    {
     "data": {
      "text/plain": [
       "3"
      ]
     },
     "execution_count": 24,
     "metadata": {},
     "output_type": "execute_result"
    }
   ],
   "source": [
    "equal(1,1,1)"
   ]
  },
  {
   "cell_type": "code",
   "execution_count": 25,
   "id": "323cf462",
   "metadata": {},
   "outputs": [
    {
     "data": {
      "text/plain": [
       "0"
      ]
     },
     "execution_count": 25,
     "metadata": {},
     "output_type": "execute_result"
    }
   ],
   "source": [
    "equal(3,4,1)"
   ]
  },
  {
   "cell_type": "markdown",
   "id": "ac84c5ef",
   "metadata": {},
   "source": [
    "## Question 2 \n",
    "Write a function that converts a dictionary into a list of key-values tuples"
   ]
  },
  {
   "cell_type": "code",
   "execution_count": 31,
   "id": "b9f85ce0",
   "metadata": {},
   "outputs": [],
   "source": [
    "def dict_to_list(d):\n",
    "    res = []\n",
    "    keys =[i for i in d]\n",
    "    keys.sort()\n",
    "    for i in keys:\n",
    "        res.append((i,d[i]))\n",
    "    return res\n",
    "    "
   ]
  },
  {
   "cell_type": "code",
   "execution_count": 32,
   "id": "1815b0e9",
   "metadata": {},
   "outputs": [
    {
     "data": {
      "text/plain": [
       "[('B', 2), ('C', 3), ('D', 1)]"
      ]
     },
     "execution_count": 32,
     "metadata": {},
     "output_type": "execute_result"
    }
   ],
   "source": [
    "dict_to_list({\n",
    "    \"D\":1,\n",
    "    \"B\":2,\n",
    "    \"C\":3\n",
    "})"
   ]
  },
  {
   "cell_type": "code",
   "execution_count": 33,
   "id": "06b1ab6f",
   "metadata": {},
   "outputs": [
    {
     "data": {
      "text/plain": [
       "[('dislikes', 3), ('followers', 10), ('likes', 2)]"
      ]
     },
     "execution_count": 33,
     "metadata": {},
     "output_type": "execute_result"
    }
   ],
   "source": [
    "dict_to_list({\n",
    "    \"likes\":2,\n",
    "    \"dislikes\":3,\n",
    "    \"followers\":10\n",
    "})"
   ]
  },
  {
   "cell_type": "markdown",
   "id": "9c8adf5d",
   "metadata": {},
   "source": [
    "## Question 3 \n",
    "Write a function that creates a dictionary with each (key, value pair being the (lower case,upper case) versions of a leter, respectively"
   ]
  },
  {
   "cell_type": "code",
   "execution_count": 34,
   "id": "ab8a0d53",
   "metadata": {},
   "outputs": [],
   "source": [
    "def mapping(input_list):\n",
    "    res = dict()\n",
    "    for i in input_list:\n",
    "        res[i] = i.upper()\n",
    "    return res"
   ]
  },
  {
   "cell_type": "code",
   "execution_count": 35,
   "id": "de8ef281",
   "metadata": {},
   "outputs": [
    {
     "data": {
      "text/plain": [
       "{'a': 'A', 'b': 'B', 'c': 'C'}"
      ]
     },
     "execution_count": 35,
     "metadata": {},
     "output_type": "execute_result"
    }
   ],
   "source": [
    "mapping(['a','b','c'])"
   ]
  },
  {
   "cell_type": "code",
   "execution_count": 36,
   "id": "a76e50ef",
   "metadata": {},
   "outputs": [
    {
     "data": {
      "text/plain": [
       "{'p': 'P', 's': 'S'}"
      ]
     },
     "execution_count": 36,
     "metadata": {},
     "output_type": "execute_result"
    }
   ],
   "source": [
    "mapping(['p','s'])"
   ]
  },
  {
   "cell_type": "markdown",
   "id": "087881bb",
   "metadata": {},
   "source": [
    "## Question 4\n",
    "Write a function, that replaces all vowels in a string with a specified vowel"
   ]
  },
  {
   "cell_type": "code",
   "execution_count": 46,
   "id": "fef9fbc8",
   "metadata": {},
   "outputs": [],
   "source": [
    "def vow_replace(string, char):\n",
    "    vowels = 'a,e,i,o,u'.split(',')\n",
    "    res = ''\n",
    "    for i in string:\n",
    "        if i in vowels:\n",
    "            res+=char\n",
    "        else:\n",
    "            res+=i\n",
    "    return res  "
   ]
  },
  {
   "cell_type": "code",
   "execution_count": 47,
   "id": "3d1784ed",
   "metadata": {},
   "outputs": [
    {
     "data": {
      "text/plain": [
       "'upplus und bununus'"
      ]
     },
     "execution_count": 47,
     "metadata": {},
     "output_type": "execute_result"
    }
   ],
   "source": [
    "vow_replace('apples and bananas','u')"
   ]
  },
  {
   "cell_type": "code",
   "execution_count": 49,
   "id": "4de62811",
   "metadata": {},
   "outputs": [
    {
     "data": {
      "text/plain": [
       "'chooso cossorolo'"
      ]
     },
     "execution_count": 49,
     "metadata": {},
     "output_type": "execute_result"
    }
   ],
   "source": [
    "vow_replace('cheese casserole','o')"
   ]
  },
  {
   "cell_type": "markdown",
   "id": "a27c6d67",
   "metadata": {},
   "source": [
    "## Question 5 \n",
    "Create a function that takes a string as input and capitalizes a letter if its ASCII code is even and returns its lower case verion if its ASCII code is odd."
   ]
  },
  {
   "cell_type": "code",
   "execution_count": 55,
   "id": "1c60d8c9",
   "metadata": {},
   "outputs": [],
   "source": [
    "def ascii_capitalize(string):\n",
    "    final=''\n",
    "    for i in string:\n",
    "        if ord(i)%2 ==0:\n",
    "            final+=i.upper()\n",
    "        else:\n",
    "            final+=i.lower()\n",
    "    return final"
   ]
  },
  {
   "cell_type": "code",
   "execution_count": 57,
   "id": "f09bd6d3",
   "metadata": {},
   "outputs": [
    {
     "data": {
      "text/plain": [
       "'To Be oR NoT To Be'"
      ]
     },
     "execution_count": 57,
     "metadata": {},
     "output_type": "execute_result"
    }
   ],
   "source": [
    "ascii_capitalize('to be or not to be')"
   ]
  },
  {
   "cell_type": "code",
   "execution_count": 58,
   "id": "c376383e",
   "metadata": {},
   "outputs": [
    {
     "data": {
      "text/plain": [
       "'THe LiTTLe meRmaiD'"
      ]
     },
     "execution_count": 58,
     "metadata": {},
     "output_type": "execute_result"
    }
   ],
   "source": [
    "ascii_capitalize('THE LITTLE MERMAID')"
   ]
  },
  {
   "cell_type": "code",
   "execution_count": 59,
   "id": "bee2d224",
   "metadata": {},
   "outputs": [
    {
     "data": {
      "text/plain": [
       "'oH wHaT a BeauTiFuL moRNiNg'"
      ]
     },
     "execution_count": 59,
     "metadata": {},
     "output_type": "execute_result"
    }
   ],
   "source": [
    "ascii_capitalize('Oh what a beautiful morning')"
   ]
  },
  {
   "cell_type": "code",
   "execution_count": null,
   "id": "edd10d91",
   "metadata": {},
   "outputs": [],
   "source": []
  }
 ],
 "metadata": {
  "kernelspec": {
   "display_name": "Python 3",
   "language": "python",
   "name": "python3"
  },
  "language_info": {
   "codemirror_mode": {
    "name": "ipython",
    "version": 3
   },
   "file_extension": ".py",
   "mimetype": "text/x-python",
   "name": "python",
   "nbconvert_exporter": "python",
   "pygments_lexer": "ipython3",
   "version": "3.8.8"
  }
 },
 "nbformat": 4,
 "nbformat_minor": 5
}
