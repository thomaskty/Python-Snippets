{
 "cells": [
  {
   "cell_type": "markdown",
   "id": "f3a927fc-25b7-40b1-b008-696b6af7a858",
   "metadata": {},
   "source": [
    "# Assignment 6 "
   ]
  },
  {
   "cell_type": "markdown",
   "id": "d7c58a07-538f-4dfc-bc42-d726e92dc92a",
   "metadata": {},
   "source": [
    "### 1. Write a Python Program to Display Fibonacci Sequence Using Recursion?"
   ]
  },
  {
   "cell_type": "code",
   "execution_count": 6,
   "id": "fcbb40ea-125c-4afc-b455-21a6509a90d5",
   "metadata": {},
   "outputs": [],
   "source": [
    "        \n",
    "# using recursion \n",
    "def fibonacci_(m):\n",
    "    if(m <= 1):\n",
    "        return m\n",
    "    else:\n",
    "        return(fibonacci_(m-1) + fibonacci_(m-2))  "
   ]
  },
  {
   "cell_type": "code",
   "execution_count": 9,
   "id": "54909b34-9308-41aa-a984-1f0cd40d3d84",
   "metadata": {},
   "outputs": [
    {
     "name": "stdout",
     "output_type": "stream",
     "text": [
      "1\n",
      "1\n",
      "2\n",
      "3\n",
      "5\n",
      "8\n",
      "13\n",
      "21\n",
      "34\n"
     ]
    }
   ],
   "source": [
    "for i in range(1,10):\n",
    "    print(fibonacci_(i))"
   ]
  },
  {
   "cell_type": "markdown",
   "id": "f45bd4c5-8422-4a29-9433-9ff8a56ba816",
   "metadata": {},
   "source": [
    "### 2. Write a Python Program to Find Factorial of Number Using Recursion?"
   ]
  },
  {
   "cell_type": "code",
   "execution_count": 42,
   "id": "f4f88091-7aa5-4cf1-b384-3be4eb0bbb07",
   "metadata": {},
   "outputs": [],
   "source": [
    "def factorial(num):\n",
    "    if num ==1 :\n",
    "        return 1\n",
    "    else :\n",
    "        return num*factorial(num-1)"
   ]
  },
  {
   "cell_type": "code",
   "execution_count": 43,
   "id": "d59e5a5c-76c0-455d-98dd-ec33ed4da370",
   "metadata": {},
   "outputs": [
    {
     "data": {
      "text/plain": [
       "24"
      ]
     },
     "execution_count": 43,
     "metadata": {},
     "output_type": "execute_result"
    }
   ],
   "source": [
    "factorial(4)"
   ]
  },
  {
   "cell_type": "markdown",
   "id": "5bee8b48-cc79-4b47-9260-de8e455cc6c4",
   "metadata": {},
   "source": [
    "### 3. Write a Python Program to calculate your Body Mass Index?"
   ]
  },
  {
   "cell_type": "code",
   "execution_count": 49,
   "id": "b516c19e-b4d0-4b39-95e3-7051c0c3d8ab",
   "metadata": {},
   "outputs": [],
   "source": [
    "def BMI(weight, height):\n",
    "    result = (weight/height**2)\n",
    "    return result* 10000"
   ]
  },
  {
   "cell_type": "code",
   "execution_count": 51,
   "id": "371d1e73-ea58-4feb-b69c-229deca24cab",
   "metadata": {},
   "outputs": [
    {
     "data": {
      "text/plain": [
       "27.49774388437666"
      ]
     },
     "execution_count": 51,
     "metadata": {},
     "output_type": "execute_result"
    }
   ],
   "source": [
    "BMI(99.79, 190.5)"
   ]
  },
  {
   "cell_type": "code",
   "execution_count": null,
   "id": "a35c8062-891a-496c-9aa4-d1b5b269c416",
   "metadata": {},
   "outputs": [],
   "source": []
  },
  {
   "cell_type": "markdown",
   "id": "60a48fe1-a7ad-49cb-b408-69b2ca37d23b",
   "metadata": {},
   "source": [
    "### 4. Write a Python Program to calculate the natural logarithm of any number?"
   ]
  },
  {
   "cell_type": "code",
   "execution_count": 58,
   "id": "9160f48f-07f5-4012-b704-2e10979a980f",
   "metadata": {},
   "outputs": [],
   "source": [
    "def natural_log(x):\n",
    "    n = 1000.0\n",
    "    return n * ((x ** (1/n)) - 1)"
   ]
  },
  {
   "cell_type": "code",
   "execution_count": 61,
   "id": "3c4a7b8a-413f-46a3-9f45-e88698d51730",
   "metadata": {},
   "outputs": [
    {
     "data": {
      "text/plain": [
       "(1.0005001667083846, 1.0)"
      ]
     },
     "execution_count": 61,
     "metadata": {},
     "output_type": "execute_result"
    }
   ],
   "source": [
    "import math\n",
    "natural_log(math.e), math.log(math.e)  # comparing with the math.log(x) "
   ]
  },
  {
   "cell_type": "markdown",
   "id": "b05705d0-7b75-474e-a560-73a86aa99031",
   "metadata": {},
   "source": [
    "### 5. Write a Python Program for cube sum of first n natural numbers?"
   ]
  },
  {
   "cell_type": "code",
   "execution_count": 72,
   "id": "421b28e7-fee2-4341-962f-6b1f00f91e6e",
   "metadata": {},
   "outputs": [],
   "source": [
    "def cube_sum(n):\n",
    "    result = (n* (n+1))/2 \n",
    "    return result**2"
   ]
  },
  {
   "cell_type": "code",
   "execution_count": 76,
   "id": "06af074c-7201-4dc9-bbe1-09f5cf4d6864",
   "metadata": {},
   "outputs": [
    {
     "name": "stdout",
     "output_type": "stream",
     "text": [
      "100\n",
      "100.0\n"
     ]
    }
   ],
   "source": [
    "print(2**3 + 4**3 + 3 **3 + 1)\n",
    "print(cube_sum(4))"
   ]
  },
  {
   "cell_type": "code",
   "execution_count": null,
   "id": "fbaeb049-35df-4efb-b7f8-53b2ed00abbc",
   "metadata": {},
   "outputs": [],
   "source": []
  }
 ],
 "metadata": {
  "kernelspec": {
   "display_name": "Python 3",
   "language": "python",
   "name": "python3"
  },
  "language_info": {
   "codemirror_mode": {
    "name": "ipython",
    "version": 3
   },
   "file_extension": ".py",
   "mimetype": "text/x-python",
   "name": "python",
   "nbconvert_exporter": "python",
   "pygments_lexer": "ipython3",
   "version": "3.8.8"
  }
 },
 "nbformat": 4,
 "nbformat_minor": 5
}
