{
 "cells": [
  {
   "cell_type": "code",
   "execution_count": 225,
   "id": "8f1af47b-eab6-49fe-8155-45796c0fffb7",
   "metadata": {},
   "outputs": [],
   "source": [
    "def getLeaf(node,counter):\n",
    "    if type(node) == type({}):\n",
    "        global key \n",
    "        for key in node.keys():\n",
    "            global newnode\n",
    "            newnode = node[key]\n",
    "            getLeaf(newnode,counter)\n",
    "            \n",
    "    else:\n",
    "        print(node)\n",
    "        \n",
    "from collections import defaultdict\n",
    "\n",
    "def etree_to_dict(t):\n",
    "    d = {t.tag: {} if t.attrib else None}\n",
    "    children = list(t)\n",
    "    if children:\n",
    "        dd = defaultdict(list)\n",
    "        for dc in map(etree_to_dict, children):\n",
    "            for k, v in dc.items():\n",
    "                dd[k].append(v)\n",
    "        d = {t.tag: {k:v[0] if len(v) == 1 else v for k, v in dd.items()}}\n",
    "    if t.attrib:\n",
    "        d[t.tag].update(('@' + k, v) for k, v in t.attrib.items())\n",
    "    if t.text:\n",
    "        text = t.text.strip()\n",
    "        if children or t.attrib:\n",
    "            if text:\n",
    "                d[t.tag]['#text'] = text\n",
    "        else:\n",
    "            d[t.tag] = text\n",
    "    return d"
   ]
  },
  {
   "cell_type": "code",
   "execution_count": null,
   "id": "9200b4d7-61e5-40c7-a68c-590f1123db8b",
   "metadata": {},
   "outputs": [],
   "source": []
  },
  {
   "cell_type": "code",
   "execution_count": 226,
   "id": "5a34cc5f-4011-4b73-a1b1-dd351e39306f",
   "metadata": {},
   "outputs": [],
   "source": [
    "import os \n"
   ]
  },
  {
   "cell_type": "code",
   "execution_count": 227,
   "id": "c9f1ea2b-3a36-4b1f-a883-421b13a5522b",
   "metadata": {},
   "outputs": [],
   "source": [
    "import xml.dom.minidom\n",
    "import xml.etree.ElementTree as ET\n",
    "doc = xml.dom.minidom.parse('data.xml')\n",
    "tree = ET.parse('data.xml')\n",
    "root = tree.getroot()"
   ]
  },
  {
   "cell_type": "code",
   "execution_count": 228,
   "id": "c7125efe-3547-4e9e-a91d-6791f39db415",
   "metadata": {},
   "outputs": [],
   "source": [
    "xml_dict = etree_to_dict(root)"
   ]
  },
  {
   "cell_type": "code",
   "execution_count": 229,
   "id": "7fb4dfb3-2b7c-427b-92c6-6bc6348f1411",
   "metadata": {},
   "outputs": [],
   "source": [
    "node_names = list(xml_dict['clinical_study'].keys())"
   ]
  },
  {
   "cell_type": "code",
   "execution_count": 230,
   "id": "5f1083e0-aedc-4e1f-89fe-8c4861e6e282",
   "metadata": {},
   "outputs": [],
   "source": [
    "nodes = [xml_dict['clinical_study'][i] for i in node_names]"
   ]
  },
  {
   "cell_type": "code",
   "execution_count": 234,
   "id": "2f8ecc22-16a7-486e-b4ea-0a067d9ee0e6",
   "metadata": {},
   "outputs": [
    {
     "name": "stdout",
     "output_type": "stream",
     "text": [
      "ClinicalTrials.gov processed this data on May 27, 2022\n",
      "Link to the current ClinicalTrials.gov record.\n",
      "https://clinicaltrials.gov/show/NCT00000102\n"
     ]
    }
   ],
   "source": [
    "getLeaf(nodes[0],counter = 0)"
   ]
  },
  {
   "cell_type": "code",
   "execution_count": 232,
   "id": "775db612-092b-4d08-b8f7-8888570f4951",
   "metadata": {},
   "outputs": [
    {
     "data": {
      "text/plain": [
       "{'org_study_id': 'NCRR-M01RR01070-0506',\n",
       " 'secondary_id': 'M01RR001070',\n",
       " 'nct_id': 'NCT00000102'}"
      ]
     },
     "execution_count": 232,
     "metadata": {},
     "output_type": "execute_result"
    }
   ],
   "source": [
    "nodes[1]"
   ]
  },
  {
   "cell_type": "code",
   "execution_count": 235,
   "id": "a2fcffc0-7658-4ad1-9ca1-2862de1d01da",
   "metadata": {},
   "outputs": [
    {
     "data": {
      "text/plain": [
       "{'download_date': 'ClinicalTrials.gov processed this data on May 27, 2022',\n",
       " 'link_text': 'Link to the current ClinicalTrials.gov record.',\n",
       " 'url': 'https://clinicaltrials.gov/show/NCT00000102'}"
      ]
     },
     "execution_count": 235,
     "metadata": {},
     "output_type": "execute_result"
    }
   ],
   "source": [
    "nodes[0]"
   ]
  },
  {
   "cell_type": "code",
   "execution_count": 236,
   "id": "0ee0c522-48dd-4366-8a5a-29124f0719e3",
   "metadata": {},
   "outputs": [
    {
     "data": {
      "text/plain": [
       "'Congenital Adrenal Hyperplasia: Calcium Channels as Therapeutic Targets'"
      ]
     },
     "execution_count": 236,
     "metadata": {},
     "output_type": "execute_result"
    }
   ],
   "source": [
    "nodes[2]"
   ]
  },
  {
   "cell_type": "code",
   "execution_count": 237,
   "id": "eabef711-75ff-4480-af40-d7a68ce9f612",
   "metadata": {},
   "outputs": [
    {
     "data": {
      "text/plain": [
       "'brief_title'"
      ]
     },
     "execution_count": 237,
     "metadata": {},
     "output_type": "execute_result"
    }
   ],
   "source": [
    "node_names[2]"
   ]
  },
  {
   "cell_type": "code",
   "execution_count": 238,
   "id": "b57aa545-d2e2-46d2-9365-762e2383e2dc",
   "metadata": {},
   "outputs": [
    {
     "name": "stdout",
     "output_type": "stream",
     "text": [
      "Congenital Adrenal Hyperplasia: Calcium Channels as Therapeutic Targets\n"
     ]
    }
   ],
   "source": [
    "getLeaf(nodes[2],2)"
   ]
  },
  {
   "cell_type": "code",
   "execution_count": null,
   "id": "530ab3d9-4877-4500-84a1-513300c73c2a",
   "metadata": {},
   "outputs": [],
   "source": []
  },
  {
   "cell_type": "code",
   "execution_count": null,
   "id": "aa3dcb70-436e-4817-97aa-24f5288528ab",
   "metadata": {},
   "outputs": [],
   "source": []
  }
 ],
 "metadata": {
  "kernelspec": {
   "display_name": "Python 3 (ipykernel)",
   "language": "python",
   "name": "python3"
  },
  "language_info": {
   "codemirror_mode": {
    "name": "ipython",
    "version": 3
   },
   "file_extension": ".py",
   "mimetype": "text/x-python",
   "name": "python",
   "nbconvert_exporter": "python",
   "pygments_lexer": "ipython3",
   "version": "3.9.12"
  }
 },
 "nbformat": 4,
 "nbformat_minor": 5
}
