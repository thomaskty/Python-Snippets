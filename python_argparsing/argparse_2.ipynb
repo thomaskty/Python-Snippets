{
 "cells": [
  {
   "cell_type": "markdown",
   "metadata": {},
   "source": [
    "## Default help formatter"
   ]
  },
  {
   "cell_type": "code",
   "execution_count": 10,
   "metadata": {},
   "outputs": [],
   "source": [
    "import argparse"
   ]
  },
  {
   "cell_type": "code",
   "execution_count": 15,
   "metadata": {},
   "outputs": [
    {
     "name": "stdout",
     "output_type": "stream",
     "text": [
      "Namespace(foobar=True, foonley=True)\n",
      "usage: PROGRAM [-h] [--foo FOO] [bar [bar ...]]\n",
      "\n",
      "positional arguments:\n",
      "  bar         help of bar (default: [1, 2, 3])\n",
      "\n",
      "optional arguments:\n",
      "  -h, --help  show this help message and exit\n",
      "  --foo FOO   help of foo arg (default: 32)\n"
     ]
    }
   ],
   "source": [
    "parser = argparse.ArgumentParser(\n",
    "    prog = 'PROGRAM',\n",
    "    formatter_class = argparse.ArgumentDefaultsHelpFormatter)\n",
    "\n",
    "parser.add_argument('--foo', type = int, default = 32, help = 'help of foo arg')\n",
    "parser.add_argument('bar', nargs = \"*\", default = [1,2,3], help  = 'help of bar')\n",
    "print(args)\n",
    "parser.print_help()  "
   ]
  },
  {
   "cell_type": "markdown",
   "metadata": {},
   "source": [
    "## Metavar help formatter"
   ]
  },
  {
   "cell_type": "code",
   "execution_count": 16,
   "metadata": {},
   "outputs": [
    {
     "name": "stdout",
     "output_type": "stream",
     "text": [
      "usage: PROGRAM [-h] [--foo int] float\n",
      "\n",
      "positional arguments:\n",
      "  float\n",
      "\n",
      "optional arguments:\n",
      "  -h, --help  show this help message and exit\n",
      "  --foo int\n"
     ]
    }
   ],
   "source": [
    "parser = argparse.ArgumentParser(\n",
    "    prog = 'PROGRAM',\n",
    "    formatter_class = argparse.MetavarTypeHelpFormatter\n",
    ")\n",
    "parser.add_argument('--foo', type = int)\n",
    "parser.add_argument('bar',type = float) \n",
    "parser.print_help()"
   ]
  },
  {
   "cell_type": "markdown",
   "metadata": {},
   "source": [
    "## Disabling the abbreviations "
   ]
  },
  {
   "cell_type": "code",
   "execution_count": 17,
   "metadata": {},
   "outputs": [
    {
     "name": "stdout",
     "output_type": "stream",
     "text": [
      "usage: program [-h] [--foobar] [--foonley]\n",
      "\n",
      "optional arguments:\n",
      "  -h, --help  show this help message and exit\n",
      "  --foobar\n",
      "  --foonley\n"
     ]
    }
   ],
   "source": [
    "parser = argparse.ArgumentParser(prog = 'program', allow_abbrev = False) \n",
    "parser.add_argument(\"--foobar\", action = 'store_true') \n",
    "parser.add_argument(\"--foonley\", action = 'store_false') \n",
    "args = parser.parse_args([\"--foobar\"])\n",
    "parser.print_help()"
   ]
  },
  {
   "cell_type": "code",
   "execution_count": 18,
   "metadata": {},
   "outputs": [
    {
     "name": "stdout",
     "output_type": "stream",
     "text": [
      "Namespace(foobar=True, foonley=True)\n"
     ]
    }
   ],
   "source": [
    "print(args)"
   ]
  },
  {
   "cell_type": "code",
   "execution_count": null,
   "metadata": {},
   "outputs": [],
   "source": []
  }
 ],
 "metadata": {
  "interpreter": {
   "hash": "b7dce63e39a4a8c98f5a1ef1e65571106e15efed32663927d397570964b86d03"
  },
  "kernelspec": {
   "display_name": "Python 3",
   "language": "python",
   "name": "python3"
  },
  "language_info": {
   "codemirror_mode": {
    "name": "ipython",
    "version": 3
   },
   "file_extension": ".py",
   "mimetype": "text/x-python",
   "name": "python",
   "nbconvert_exporter": "python",
   "pygments_lexer": "ipython3",
   "version": "3.8.8"
  }
 },
 "nbformat": 4,
 "nbformat_minor": 2
}
