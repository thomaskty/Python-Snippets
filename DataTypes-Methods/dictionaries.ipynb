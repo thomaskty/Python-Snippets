{
 "cells": [
  {
   "cell_type": "markdown",
   "metadata": {},
   "source": [
    "# DICTIONARY\n",
    "    * duplicate keys are not allowed\n",
    "    * value wise everything is possible \n",
    "    * list as key note allowed\n",
    "    * special characters are not allowed as a key \n",
    "    * value wise reassignment is possible"
   ]
  },
  {
   "cell_type": "code",
   "execution_count": 1,
   "metadata": {},
   "outputs": [
    {
     "name": "stdout",
     "output_type": "stream",
     "text": [
      "{1: 'thomas', 3: 'siddharth'}\n"
     ]
    }
   ],
   "source": [
    "d = {1:'thomas', 3:'siddharth'}\n",
    "print(d)"
   ]
  },
  {
   "cell_type": "code",
   "execution_count": 16,
   "metadata": {},
   "outputs": [],
   "source": [
    "df = {1:{'name':'thomaskutty', 'age':25, 'marks':[12,24,23,25]},\n",
    "     2:{'name':'steve', 'age':24, 'marks':[32,53,42,24]}}"
   ]
  },
  {
   "cell_type": "code",
   "execution_count": 17,
   "metadata": {},
   "outputs": [
    {
     "data": {
      "text/plain": [
       "{1: {'name': 'thomaskutty', 'age': 25, 'marks': [12, 24, 23, 25]},\n",
       " 2: {'name': 'steve', 'age': 24, 'marks': [32, 53, 42, 24]}}"
      ]
     },
     "execution_count": 17,
     "metadata": {},
     "output_type": "execute_result"
    }
   ],
   "source": [
    "df"
   ]
  },
  {
   "cell_type": "markdown",
   "metadata": {},
   "source": [
    "## Accessing element using keys "
   ]
  },
  {
   "cell_type": "code",
   "execution_count": 21,
   "metadata": {},
   "outputs": [
    {
     "data": {
      "text/plain": [
       "25"
      ]
     },
     "execution_count": 21,
     "metadata": {},
     "output_type": "execute_result"
    }
   ],
   "source": [
    "df[1]['marks'][3]"
   ]
  },
  {
   "cell_type": "code",
   "execution_count": 22,
   "metadata": {},
   "outputs": [
    {
     "data": {
      "text/plain": [
       "{'name': 'steve', 'age': 24, 'marks': [32, 53, 42, 24]}"
      ]
     },
     "execution_count": 22,
     "metadata": {},
     "output_type": "execute_result"
    }
   ],
   "source": [
    "df[2]"
   ]
  },
  {
   "cell_type": "code",
   "execution_count": 23,
   "metadata": {},
   "outputs": [
    {
     "data": {
      "text/plain": [
       "[12, 24, 23, 25]"
      ]
     },
     "execution_count": 23,
     "metadata": {},
     "output_type": "execute_result"
    }
   ],
   "source": [
    "df[1]['marks']"
   ]
  },
  {
   "cell_type": "markdown",
   "metadata": {},
   "source": [
    "## Getting the keys "
   ]
  },
  {
   "cell_type": "code",
   "execution_count": 26,
   "metadata": {},
   "outputs": [
    {
     "data": {
      "text/plain": [
       "dict_keys([1, 2])"
      ]
     },
     "execution_count": 26,
     "metadata": {},
     "output_type": "execute_result"
    }
   ],
   "source": [
    "df.keys()"
   ]
  },
  {
   "cell_type": "code",
   "execution_count": 27,
   "metadata": {},
   "outputs": [
    {
     "data": {
      "text/plain": [
       "dict_keys([1, 3])"
      ]
     },
     "execution_count": 27,
     "metadata": {},
     "output_type": "execute_result"
    }
   ],
   "source": [
    "d.keys()"
   ]
  },
  {
   "cell_type": "code",
   "execution_count": 28,
   "metadata": {},
   "outputs": [
    {
     "name": "stdout",
     "output_type": "stream",
     "text": [
      "<class 'dict'>\n",
      "<class 'dict'>\n"
     ]
    }
   ],
   "source": [
    "for i in df.keys():\n",
    "    print(type(df[i]))"
   ]
  },
  {
   "cell_type": "markdown",
   "metadata": {},
   "source": [
    "## Getting the items"
   ]
  },
  {
   "cell_type": "code",
   "execution_count": 32,
   "metadata": {},
   "outputs": [
    {
     "data": {
      "text/plain": [
       "dict_items([(1, {'name': 'thomaskutty', 'age': 25, 'marks': [12, 24, 23, 25]}), (2, {'name': 'steve', 'age': 24, 'marks': [32, 53, 42, 24]})])"
      ]
     },
     "execution_count": 32,
     "metadata": {},
     "output_type": "execute_result"
    }
   ],
   "source": [
    "df.items()"
   ]
  },
  {
   "cell_type": "code",
   "execution_count": 37,
   "metadata": {},
   "outputs": [
    {
     "name": "stdout",
     "output_type": "stream",
     "text": [
      "(1, {'name': 'thomaskutty', 'age': 25, 'marks': [12, 24, 23, 25]})\n",
      "(2, {'name': 'steve', 'age': 24, 'marks': [32, 53, 42, 24]})\n"
     ]
    }
   ],
   "source": [
    "for i in df.items():\n",
    "    print(i)"
   ]
  },
  {
   "cell_type": "code",
   "execution_count": null,
   "metadata": {},
   "outputs": [],
   "source": []
  },
  {
   "cell_type": "code",
   "execution_count": 39,
   "metadata": {},
   "outputs": [
    {
     "data": {
      "text/plain": [
       "2"
      ]
     },
     "execution_count": 39,
     "metadata": {},
     "output_type": "execute_result"
    }
   ],
   "source": [
    "len(df)  # how many key value pairs "
   ]
  },
  {
   "cell_type": "code",
   "execution_count": 42,
   "metadata": {},
   "outputs": [
    {
     "data": {
      "text/plain": [
       "23"
      ]
     },
     "execution_count": 42,
     "metadata": {},
     "output_type": "execute_result"
    }
   ],
   "source": [
    "e = {56:{23,13,2}}\n",
    "e[56] = list(e[56])\n",
    "e[56][2]"
   ]
  },
  {
   "cell_type": "code",
   "execution_count": null,
   "metadata": {},
   "outputs": [],
   "source": []
  },
  {
   "cell_type": "markdown",
   "metadata": {},
   "source": [
    "## Questions "
   ]
  },
  {
   "cell_type": "code",
   "execution_count": 69,
   "metadata": {},
   "outputs": [
    {
     "name": "stdout",
     "output_type": "stream",
     "text": [
      "enter the paragraph: \n",
      "Lorem Ipsum is simply dummy text of the printing and typesetting industry. Lorem Ipsum has been the industry's standard dummy text ever since the 1500s, when an unknown printer took a galley of type and scrambled it to make a type specimen book\n"
     ]
    }
   ],
   "source": [
    "# question 1 : input from user (paragraph):\n",
    "data = input('enter the paragraph: \\n')"
   ]
  },
  {
   "cell_type": "code",
   "execution_count": 70,
   "metadata": {},
   "outputs": [],
   "source": [
    "list_data = data.split(' ')"
   ]
  },
  {
   "cell_type": "code",
   "execution_count": 71,
   "metadata": {},
   "outputs": [],
   "source": [
    "list_uniques = set(list_data)"
   ]
  },
  {
   "cell_type": "code",
   "execution_count": 72,
   "metadata": {},
   "outputs": [
    {
     "name": "stdout",
     "output_type": "stream",
     "text": [
      "{'has': 'thomaskutty', 'when': 'thomaskutty', 'unknown': 'thomaskutty', 'scrambled': 'thomaskutty', 'make': 'thomaskutty', 'standard': 'thomaskutty', 'Ipsum': 'thomaskutty', 'simply': 'thomaskutty', 'text': 'thomaskutty', 'it': 'thomaskutty', 'since': 'thomaskutty', 'is': 'thomaskutty', 'book': 'thomaskutty', 'the': 'thomaskutty', 'of': 'thomaskutty', 'took': 'thomaskutty', 'specimen': 'thomaskutty', 'typesetting': 'thomaskutty', 'an': 'thomaskutty', 'printing': 'thomaskutty', 'dummy': 'thomaskutty', 'type': 'thomaskutty', 'galley': 'thomaskutty', '1500s,': 'thomaskutty', 'Lorem': 'thomaskutty', 'ever': 'thomaskutty', 'industry.': 'thomaskutty', 'been': 'thomaskutty', 'a': 'thomaskutty', 'to': 'thomaskutty', 'and': 'thomaskutty', \"industry's\": 'thomaskutty', 'printer': 'thomaskutty'}\n"
     ]
    }
   ],
   "source": [
    "dict_uniques = dict()\n",
    "for i in list_uniques:\n",
    "    dict_uniques[i] = 'thomaskutty'\n",
    "print(dict_uniques)"
   ]
  },
  {
   "cell_type": "code",
   "execution_count": 73,
   "metadata": {},
   "outputs": [
    {
     "name": "stdout",
     "output_type": "stream",
     "text": [
      "('thomaskutty', 'thomaskutty', 'thomaskutty', 'thomaskutty', 'thomaskutty', 'thomaskutty', 'thomaskutty', 'thomaskutty', 'thomaskutty', 'thomaskutty', 'thomaskutty', 'thomaskutty', 'thomaskutty', 'thomaskutty', 'thomaskutty', 'thomaskutty', 'thomaskutty', 'thomaskutty', 'thomaskutty', 'thomaskutty', 'thomaskutty', 'thomaskutty', 'thomaskutty', 'thomaskutty', 'thomaskutty', 'thomaskutty', 'thomaskutty', 'thomaskutty', 'thomaskutty', 'thomaskutty', 'thomaskutty', 'thomaskutty', 'thomaskutty')\n"
     ]
    }
   ],
   "source": [
    "# getting all the values  in a tuple \n",
    "l = list()\n",
    "for i in dict_uniques.items():\n",
    "    l.append(i[1])\n",
    "l = tuple(l)\n",
    "print(l)"
   ]
  },
  {
   "cell_type": "code",
   "execution_count": 74,
   "metadata": {},
   "outputs": [
    {
     "data": {
      "text/plain": [
       "('has',\n",
       " 'when',\n",
       " 'unknown',\n",
       " 'scrambled',\n",
       " 'make',\n",
       " 'standard',\n",
       " 'Ipsum',\n",
       " 'simply',\n",
       " 'text',\n",
       " 'it',\n",
       " 'since',\n",
       " 'is',\n",
       " 'book',\n",
       " 'the',\n",
       " 'of',\n",
       " 'took',\n",
       " 'specimen',\n",
       " 'typesetting',\n",
       " 'an',\n",
       " 'printing',\n",
       " 'dummy',\n",
       " 'type',\n",
       " 'galley',\n",
       " '1500s,',\n",
       " 'Lorem',\n",
       " 'ever',\n",
       " 'industry.',\n",
       " 'been',\n",
       " 'a',\n",
       " 'to',\n",
       " 'and',\n",
       " \"industry's\",\n",
       " 'printer')"
      ]
     },
     "execution_count": 74,
     "metadata": {},
     "output_type": "execute_result"
    }
   ],
   "source": [
    "tuple(dict_uniques.keys())"
   ]
  },
  {
   "cell_type": "code",
   "execution_count": 75,
   "metadata": {},
   "outputs": [
    {
     "data": {
      "text/plain": [
       "('has',\n",
       " 'when',\n",
       " 'unknown',\n",
       " 'scrambled',\n",
       " 'make',\n",
       " 'standard',\n",
       " 'Ipsum',\n",
       " 'simply',\n",
       " 'text',\n",
       " 'it',\n",
       " 'since',\n",
       " 'is',\n",
       " 'book',\n",
       " 'the',\n",
       " 'of',\n",
       " 'took',\n",
       " 'specimen',\n",
       " 'typesetting',\n",
       " 'an',\n",
       " 'printing',\n",
       " 'dummy',\n",
       " 'type',\n",
       " 'galley',\n",
       " '1500s,',\n",
       " 'Lorem',\n",
       " 'ever',\n",
       " 'industry.',\n",
       " 'been',\n",
       " 'a',\n",
       " 'to',\n",
       " 'and',\n",
       " \"industry's\",\n",
       " 'printer')"
      ]
     },
     "execution_count": 75,
     "metadata": {},
     "output_type": "execute_result"
    }
   ],
   "source": [
    "new_dict = dict.fromkeys(list_uniques,'maria') \n",
    "tuple(new_dict.values())\n",
    "tuple(new_dict.keys())"
   ]
  },
  {
   "cell_type": "markdown",
   "metadata": {},
   "source": [
    "## Dictionary iterations "
   ]
  },
  {
   "cell_type": "code",
   "execution_count": 77,
   "metadata": {},
   "outputs": [],
   "source": [
    "d = {'compay':'ineuron', 'course':'fullstack', 'year':2021}"
   ]
  },
  {
   "cell_type": "code",
   "execution_count": 78,
   "metadata": {},
   "outputs": [
    {
     "data": {
      "text/plain": [
       "{'compay': 'ineuron', 'course': 'fullstack', 'year': 2021}"
      ]
     },
     "execution_count": 78,
     "metadata": {},
     "output_type": "execute_result"
    }
   ],
   "source": [
    "d"
   ]
  },
  {
   "cell_type": "code",
   "execution_count": 82,
   "metadata": {},
   "outputs": [
    {
     "name": "stdout",
     "output_type": "stream",
     "text": [
      "print a key:   compay   ;  value is:  ineuron\n",
      "print a key:   course   ;  value is:  fullstack\n",
      "print a key:   year   ;  value is:  2021\n"
     ]
    }
   ],
   "source": [
    "for i in d:\n",
    "    print('print a key:  ', i,  \"  ;  \"  'value is: ', d[i])"
   ]
  },
  {
   "cell_type": "code",
   "execution_count": 83,
   "metadata": {},
   "outputs": [
    {
     "data": {
      "text/plain": [
       "True"
      ]
     },
     "execution_count": 83,
     "metadata": {},
     "output_type": "execute_result"
    }
   ],
   "source": [
    "'course' in d"
   ]
  },
  {
   "cell_type": "code",
   "execution_count": 84,
   "metadata": {},
   "outputs": [],
   "source": [
    "for i in d:\n",
    "    if i == 'year':\n",
    "        if d[i]> 2021:\n",
    "            print('year is fine')\n",
    "        else:\n",
    "            d[i] = 2022"
   ]
  },
  {
   "cell_type": "code",
   "execution_count": 85,
   "metadata": {},
   "outputs": [
    {
     "data": {
      "text/plain": [
       "{'compay': 'ineuron', 'course': 'fullstack', 'year': 2022}"
      ]
     },
     "execution_count": 85,
     "metadata": {},
     "output_type": "execute_result"
    }
   ],
   "source": [
    "d"
   ]
  },
  {
   "cell_type": "markdown",
   "metadata": {},
   "source": [
    "# Dictionary comprehension"
   ]
  },
  {
   "cell_type": "code",
   "execution_count": 86,
   "metadata": {},
   "outputs": [
    {
     "name": "stdout",
     "output_type": "stream",
     "text": [
      "{0: 0, 1: 1, 2: 4, 3: 9, 4: 16, 5: 25, 6: 36, 7: 49, 8: 64, 9: 81}\n"
     ]
    }
   ],
   "source": [
    "my_dict = {}\n",
    "\n",
    "for i in range(10):\n",
    "    my_dict[i] = i*i \n",
    "print(my_dict)"
   ]
  },
  {
   "cell_type": "code",
   "execution_count": 89,
   "metadata": {},
   "outputs": [
    {
     "data": {
      "text/plain": [
       "{0: 0, 2: 4, 4: 16, 6: 36, 8: 64, 10: 100, 12: 144, 14: 196}"
      ]
     },
     "execution_count": 89,
     "metadata": {},
     "output_type": "execute_result"
    }
   ],
   "source": [
    "{i:i*i for i in range(0,15,2)}"
   ]
  },
  {
   "cell_type": "code",
   "execution_count": null,
   "metadata": {},
   "outputs": [],
   "source": []
  }
 ],
 "metadata": {
  "kernelspec": {
   "display_name": "Python 3.10.7 64-bit",
   "language": "python",
   "name": "python3"
  },
  "language_info": {
   "codemirror_mode": {
    "name": "ipython",
    "version": 3
   },
   "file_extension": ".py",
   "mimetype": "text/x-python",
   "name": "python",
   "nbconvert_exporter": "python",
   "pygments_lexer": "ipython3",
   "version": "3.10.7"
  },
  "vscode": {
   "interpreter": {
    "hash": "4d9d1410ef6d9c54690752a4e6a49ee96e724d8162669d17d3de2cc7464b16f4"
   }
  }
 },
 "nbformat": 4,
 "nbformat_minor": 4
}
