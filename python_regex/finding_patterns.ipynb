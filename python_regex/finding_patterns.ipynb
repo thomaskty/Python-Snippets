{
 "cells": [
  {
   "cell_type": "markdown",
   "id": "209c0da0",
   "metadata": {},
   "source": [
    "## Matching patterns without using Regex"
   ]
  },
  {
   "cell_type": "code",
   "execution_count": 10,
   "id": "6b982eaf",
   "metadata": {},
   "outputs": [],
   "source": [
    "# phone number style : 234-232-4334\n",
    "def isPhoneNumber(text):\n",
    "    if len(text) != 12:\n",
    "        return False \n",
    "    for i in range(0,3):\n",
    "        if not text[i].isdecimal():\n",
    "            return False\n",
    "    if text[3] != '-':\n",
    "        return False \n",
    "    for i in range(4,7):\n",
    "        if not text[i].isdecimal():\n",
    "            return False \n",
    "    if text[7] != '-':\n",
    "        return False \n",
    "    for i in range(8,12):\n",
    "        if not text[i].isdecimal():\n",
    "            return False \n",
    "    return True"
   ]
  },
  {
   "cell_type": "code",
   "execution_count": 18,
   "id": "38e8f90a",
   "metadata": {},
   "outputs": [
    {
     "data": {
      "text/plain": [
       "True"
      ]
     },
     "execution_count": 18,
     "metadata": {},
     "output_type": "execute_result"
    }
   ],
   "source": [
    "test_phoneno = '232-423-2323'\n",
    "isPhoneNumber(test_phoneno)"
   ]
  },
  {
   "cell_type": "code",
   "execution_count": 33,
   "id": "9654003e",
   "metadata": {},
   "outputs": [],
   "source": [
    "def detect_ph_no(message):\n",
    "    \"\"\"\n",
    "    provide a string input\n",
    "    \"\"\"\n",
    "    try:\n",
    "        type(message) ==int\n",
    "        for i in range(len(message)):\n",
    "            chunk = message[i:i+12]\n",
    "            if isPhoneNumber(chunk):\n",
    "                print('Phone number found: ' + chunk)         \n",
    "\n",
    "    except Exception as e:\n",
    "        print(f'provide a string input::: {e}')\n"
   ]
  },
  {
   "cell_type": "code",
   "execution_count": 34,
   "id": "73392ab7",
   "metadata": {},
   "outputs": [
    {
     "name": "stdout",
     "output_type": "stream",
     "text": [
      "Phone number found: 415-555-1011\n",
      "Phone number found: 415-555-9999\n"
     ]
    }
   ],
   "source": [
    "message = 'Call me at 415-555-1011 tomorrow. 415-555-9999 is my office.'\n",
    "detect_ph_no(message)"
   ]
  },
  {
   "cell_type": "code",
   "execution_count": 36,
   "id": "062ea976",
   "metadata": {},
   "outputs": [
    {
     "name": "stdout",
     "output_type": "stream",
     "text": [
      "provide a string input::: object of type 'int' has no len()\n"
     ]
    }
   ],
   "source": [
    "detect_ph_no(232)"
   ]
  },
  {
   "cell_type": "markdown",
   "id": "865be90a",
   "metadata": {},
   "source": [
    "# USING REGEX "
   ]
  },
  {
   "cell_type": "code",
   "execution_count": 37,
   "id": "bdf7f031",
   "metadata": {},
   "outputs": [],
   "source": [
    "import re "
   ]
  },
  {
   "cell_type": "code",
   "execution_count": 38,
   "id": "0275a1b4",
   "metadata": {},
   "outputs": [],
   "source": [
    "phoneNumberRegex = re.compile(r'\\d\\d\\d-\\d\\d\\d-\\d\\d\\d\\d')"
   ]
  },
  {
   "cell_type": "code",
   "execution_count": 39,
   "id": "a6a6b26f",
   "metadata": {},
   "outputs": [
    {
     "data": {
      "text/plain": [
       "re.compile(r'\\d\\d\\d-\\d\\d\\d-\\d\\d\\d\\d', re.UNICODE)"
      ]
     },
     "execution_count": 39,
     "metadata": {},
     "output_type": "execute_result"
    }
   ],
   "source": [
    "phoneNumberRegex"
   ]
  },
  {
   "cell_type": "code",
   "execution_count": 45,
   "id": "80f05c0a",
   "metadata": {},
   "outputs": [
    {
     "name": "stdout",
     "output_type": "stream",
     "text": [
      "\\n\n",
      "\\n\n"
     ]
    }
   ],
   "source": [
    "print('\\\\n\\n\\\\n')"
   ]
  },
  {
   "cell_type": "markdown",
   "id": "c0d74e71",
   "metadata": {},
   "source": [
    "#### Raw string:\n",
    "By putting an r before the first quote of the string value, you can mark the string as a raw string, which does not escape characters."
   ]
  },
  {
   "cell_type": "code",
   "execution_count": 47,
   "id": "ff12a179",
   "metadata": {},
   "outputs": [
    {
     "name": "stdout",
     "output_type": "stream",
     "text": [
      "\\n\n"
     ]
    }
   ],
   "source": [
    "print(r'\\n')"
   ]
  },
  {
   "cell_type": "code",
   "execution_count": 50,
   "id": "81cb003c",
   "metadata": {},
   "outputs": [
    {
     "name": "stdout",
     "output_type": "stream",
     "text": [
      "df\n",
      "e\n"
     ]
    }
   ],
   "source": [
    "print('df\\ne')"
   ]
  },
  {
   "cell_type": "code",
   "execution_count": 51,
   "id": "52596cd6",
   "metadata": {},
   "outputs": [
    {
     "name": "stdout",
     "output_type": "stream",
     "text": [
      "df\\ne\n"
     ]
    }
   ],
   "source": [
    "print(r'df\\ne')"
   ]
  },
  {
   "cell_type": "markdown",
   "id": "774e5efe",
   "metadata": {},
   "source": [
    "## Regex compile/search/group()"
   ]
  },
  {
   "cell_type": "markdown",
   "id": "2e1cc203",
   "metadata": {},
   "source": [
    "A Regex object’s search() method searches the string it is passed for any\n",
    "matches to the regex. The search() method will return None if the regex pat-\n",
    "tern is not found in the string. If the pattern is found, the search() method\n",
    "returns a Match object. Match objects have a group() method that will return\n",
    "the actual matched text from the searched string. "
   ]
  },
  {
   "cell_type": "code",
   "execution_count": 54,
   "id": "5e11746f",
   "metadata": {},
   "outputs": [
    {
     "data": {
      "text/plain": [
       "<re.Match object; span=(13, 25), match='234-234-2341'>"
      ]
     },
     "execution_count": 54,
     "metadata": {},
     "output_type": "execute_result"
    }
   ],
   "source": [
    "phoneNumberRegex = re.compile(r'\\d\\d\\d-\\d\\d\\d-\\d\\d\\d\\d')\n",
    "mo = phoneNumberRegex.search('my number is 234-234-2341')\n",
    "mo"
   ]
  },
  {
   "cell_type": "code",
   "execution_count": 55,
   "id": "42380d4d",
   "metadata": {},
   "outputs": [
    {
     "data": {
      "text/plain": [
       "'234-234-2341'"
      ]
     },
     "execution_count": 55,
     "metadata": {},
     "output_type": "execute_result"
    }
   ],
   "source": [
    "mo.group()"
   ]
  },
  {
   "cell_type": "markdown",
   "id": "fae24699",
   "metadata": {},
   "source": [
    "## Grouping with parentheses"
   ]
  },
  {
   "cell_type": "markdown",
   "id": "f60e3c55",
   "metadata": {},
   "source": [
    " * Supppose, you want to separate the area code from the rest of the phone number.Adding parentheses will create gorups in the regex:(\\d\\d\\d)-(\\d\\d\\d-\\d\\d\\d\\d).\n",
    " * The first set of parentheses in a regex string will be group 1 and the second set will be goup 2. By passing integer 1 or 2 to the group() match object method, we can grab different groups, passing 0 to the group will return the entire match. "
   ]
  },
  {
   "cell_type": "code",
   "execution_count": 68,
   "id": "9b0641e6",
   "metadata": {},
   "outputs": [
    {
     "name": "stdout",
     "output_type": "stream",
     "text": [
      "matching object : <re.Match object; span=(13, 25), match='234-234-2341'>\n",
      "\n",
      "group one : 234\n",
      "grop two :  234-2341\n",
      "entire match:  234-234-2341\n",
      "\n",
      "groups =  ('234', '234-2341')\n"
     ]
    }
   ],
   "source": [
    "phoneNumberRegex = re.compile(r'(\\d\\d\\d)-(\\d\\d\\d-\\d\\d\\d\\d)') \n",
    "mo = phoneNumberRegex.search('my number is 234-234-2341')\n",
    "\n",
    "print('matching object :', mo)\n",
    "print(f'\\ngroup one : {mo.group(1)}')\n",
    "print('grop two : ',mo.group(2))\n",
    "print('entire match: ',mo.group(0))\n",
    "print('\\ngroups = ', mo.groups())"
   ]
  },
  {
   "cell_type": "code",
   "execution_count": 69,
   "id": "7e8cecef",
   "metadata": {},
   "outputs": [],
   "source": [
    "areacode, main_no = mo.groups()"
   ]
  },
  {
   "cell_type": "code",
   "execution_count": 71,
   "id": "5844a995",
   "metadata": {},
   "outputs": [
    {
     "name": "stdout",
     "output_type": "stream",
     "text": [
      "234\n",
      "234-2341\n"
     ]
    }
   ],
   "source": [
    "print(areacode)\n",
    "print(main_no)"
   ]
  },
  {
   "cell_type": "code",
   "execution_count": 82,
   "id": "066db3c2",
   "metadata": {},
   "outputs": [
    {
     "data": {
      "text/plain": [
       "('(234)', '234-2233')"
      ]
     },
     "execution_count": 82,
     "metadata": {},
     "output_type": "execute_result"
    }
   ],
   "source": [
    "# (234) 232-3843  # new format \n",
    "ph_no_regex = re.compile(r'(\\(\\d\\d\\d\\)) (\\d\\d\\d-\\d\\d\\d\\d)')\n",
    "mo = ph_no_regex.search('my number is (234) 234-2233')\n",
    "mo.groups()"
   ]
  },
  {
   "cell_type": "markdown",
   "id": "c5509556",
   "metadata": {},
   "source": [
    "## Matching Multiple Groups with the Pipe \n",
    " * The | character is called a pipe. You can use it anywhere you want to match one\n",
    "of many expressions. For example, the regular expression r'Batman|Tina Fey'\n",
    "will match either 'Batman' or 'Tina Fey'.\n",
    " * When both Batman and Tina Fey occur in the searched string, the first\n",
    "occurrence of matching text will be returned as the Match object. "
   ]
  },
  {
   "cell_type": "code",
   "execution_count": 89,
   "id": "095e79fa",
   "metadata": {},
   "outputs": [
    {
     "data": {
      "text/plain": [
       "'Batman'"
      ]
     },
     "execution_count": 89,
     "metadata": {},
     "output_type": "execute_result"
    }
   ],
   "source": [
    "heroRegex = re.compile(r'Batman|Tina Fey') \n",
    "mo1 = heroRegex.search('Batman and Tina Fey')\n",
    "mo1.group()"
   ]
  },
  {
   "cell_type": "code",
   "execution_count": 90,
   "id": "0352a246",
   "metadata": {},
   "outputs": [
    {
     "name": "stdout",
     "output_type": "stream",
     "text": [
      "Tina Fey\n"
     ]
    }
   ],
   "source": [
    "mo2 = heroRegex.search(' Tina Fey and Batman')\n",
    "try: \n",
    "    print(mo2.group())\n",
    "except:\n",
    "    print('no matching found')"
   ]
  },
  {
   "cell_type": "code",
   "execution_count": 91,
   "id": "4bdaa919",
   "metadata": {},
   "outputs": [
    {
     "name": "stdout",
     "output_type": "stream",
     "text": [
      "no matching found\n"
     ]
    }
   ],
   "source": [
    "# case sensitive matching \n",
    "mo2 = heroRegex.search(' tina fey and batman')\n",
    "try: \n",
    "    print(mo2.group())\n",
    "except:\n",
    "    print('no matching found')"
   ]
  },
  {
   "cell_type": "markdown",
   "id": "9d2976b5",
   "metadata": {},
   "source": [
    "## Matching with prefixes \n",
    "You can also use the pipe to match one of several patterns as part of\n",
    "your regex. For example, say you wanted to match any of the strings 'Batman',\n",
    "'Batmobile', 'Batcopter', and 'Batbat'. Since all these strings start with Bat, it\n",
    "would be nice if you could specify that prefix only once. This can be done\n",
    "with parentheses.  \n",
    " * If you need to match an actual pipe character, escape it with a back­\n",
    "slash, like \\|.\n"
   ]
  },
  {
   "cell_type": "code",
   "execution_count": 95,
   "id": "ec86e05f",
   "metadata": {},
   "outputs": [
    {
     "data": {
      "text/plain": [
       "'Batmobile'"
      ]
     },
     "execution_count": 95,
     "metadata": {},
     "output_type": "execute_result"
    }
   ],
   "source": [
    "batRegex = re.compile(r'Bat(man|mobile|copter|bat)') \n",
    "mo = batRegex.search('Batmobile is Batman') \n",
    "mo.group()"
   ]
  },
  {
   "cell_type": "code",
   "execution_count": 96,
   "id": "13131afe",
   "metadata": {},
   "outputs": [
    {
     "data": {
      "text/plain": [
       "('mobile',)"
      ]
     },
     "execution_count": 96,
     "metadata": {},
     "output_type": "execute_result"
    }
   ],
   "source": [
    "mo.groups()"
   ]
  },
  {
   "cell_type": "markdown",
   "id": "e603def6",
   "metadata": {},
   "source": [
    "## Optional Matching with the question mark"
   ]
  },
  {
   "cell_type": "code",
   "execution_count": 99,
   "id": "009e4ef1",
   "metadata": {},
   "outputs": [
    {
     "data": {
      "text/plain": [
       "'Batwoman'"
      ]
     },
     "execution_count": 99,
     "metadata": {},
     "output_type": "execute_result"
    }
   ],
   "source": [
    "batRegex = re.compile(r'Bat(wo)?man')\n",
    "mo1 = batRegex.search('The adventures of Batwoman')\n",
    "mo1.group()"
   ]
  },
  {
   "cell_type": "code",
   "execution_count": 100,
   "id": "1401d18f",
   "metadata": {},
   "outputs": [
    {
     "data": {
      "text/plain": [
       "'Batman'"
      ]
     },
     "execution_count": 100,
     "metadata": {},
     "output_type": "execute_result"
    }
   ],
   "source": [
    "mo1 = batRegex.search('The adventures of Batman')\n",
    "mo1.group()"
   ]
  },
  {
   "cell_type": "code",
   "execution_count": 105,
   "id": "73ff4821",
   "metadata": {},
   "outputs": [
    {
     "data": {
      "text/plain": [
       "'234-233-5421'"
      ]
     },
     "execution_count": 105,
     "metadata": {},
     "output_type": "execute_result"
    }
   ],
   "source": [
    "ph_regex = re.compile(r'(\\d\\d\\d-)?\\d\\d\\d-\\d\\d\\d\\d')\n",
    "mo1 = ph_regex.search('my number is 234-233-5421')\n",
    "mo1.group()"
   ]
  },
  {
   "cell_type": "code",
   "execution_count": 106,
   "id": "0a94b85f",
   "metadata": {},
   "outputs": [
    {
     "data": {
      "text/plain": [
       "'233-5421'"
      ]
     },
     "execution_count": 106,
     "metadata": {},
     "output_type": "execute_result"
    }
   ],
   "source": [
    "mo1 = ph_regex.search('my number is 233-5421')\n",
    "mo1.group()"
   ]
  },
  {
   "cell_type": "markdown",
   "id": "33cd87ef",
   "metadata": {},
   "source": [
    "## Matching zero or more with the star\n",
    "The * (called the star or asterisk) means “match zero or more”—the group\n",
    "that precedes the star can occur any number of times in the text. It can be\n",
    "completely absent or repeated over and over again."
   ]
  },
  {
   "cell_type": "code",
   "execution_count": 107,
   "id": "2d470747",
   "metadata": {},
   "outputs": [
    {
     "data": {
      "text/plain": [
       "'Batman'"
      ]
     },
     "execution_count": 107,
     "metadata": {},
     "output_type": "execute_result"
    }
   ],
   "source": [
    "bat_regex = re.compile(r'Bat(wo)*man')\n",
    "mo = bat_regex.search('The adventures of Batman')\n",
    "mo.group()"
   ]
  },
  {
   "cell_type": "code",
   "execution_count": 109,
   "id": "730e6031",
   "metadata": {},
   "outputs": [
    {
     "data": {
      "text/plain": [
       "'Batwoman'"
      ]
     },
     "execution_count": 109,
     "metadata": {},
     "output_type": "execute_result"
    }
   ],
   "source": [
    "mo = bat_regex.search('The adventures of Batwoman')\n",
    "mo.group()"
   ]
  },
  {
   "cell_type": "code",
   "execution_count": 110,
   "id": "ac1bb1d3",
   "metadata": {},
   "outputs": [
    {
     "data": {
      "text/plain": [
       "'Batwowowowowowowoman'"
      ]
     },
     "execution_count": 110,
     "metadata": {},
     "output_type": "execute_result"
    }
   ],
   "source": [
    "mo = bat_regex.search('The adventures of Batwowowowowowowoman')\n",
    "mo.group()"
   ]
  },
  {
   "cell_type": "markdown",
   "id": "14468b6c",
   "metadata": {},
   "source": [
    "## Matching one or more with the plus \n",
    "While * means “match zero or more,” the + (or plus) means “match one or\n",
    "more.” Unlike the star, which does not require its group to appear in the\n",
    "matched string, the group preceding a plus must appear at least once. It is\n",
    "not optional."
   ]
  },
  {
   "cell_type": "code",
   "execution_count": 111,
   "id": "8c3112c6",
   "metadata": {},
   "outputs": [
    {
     "data": {
      "text/plain": [
       "'Batwoman'"
      ]
     },
     "execution_count": 111,
     "metadata": {},
     "output_type": "execute_result"
    }
   ],
   "source": [
    "batRegex = re.compile(r'Bat(wo)+man')\n",
    "mo1 = batRegex.search('The Adventures of Batwoman')\n",
    "mo1.group()"
   ]
  },
  {
   "cell_type": "code",
   "execution_count": 113,
   "id": "6ebed01d",
   "metadata": {},
   "outputs": [
    {
     "name": "stdout",
     "output_type": "stream",
     "text": [
      "No matches found\n"
     ]
    }
   ],
   "source": [
    "mo1 = batRegex.search('The Adventures of Batman')\n",
    "try:\n",
    "    print(mo1.group())\n",
    "except:\n",
    "    print('No matches found')"
   ]
  },
  {
   "cell_type": "code",
   "execution_count": 115,
   "id": "9062d64f",
   "metadata": {},
   "outputs": [
    {
     "data": {
      "text/plain": [
       "'Batwowowowowowowowoman'"
      ]
     },
     "execution_count": 115,
     "metadata": {},
     "output_type": "execute_result"
    }
   ],
   "source": [
    "mo1 = batRegex.search('The Adventures of Batwowowowowowowowoman')\n",
    "mo1.group()"
   ]
  },
  {
   "cell_type": "markdown",
   "id": "3cf4268d",
   "metadata": {},
   "source": [
    "## Matching Specific Repetitions with Curly Brackets\n",
    " * If you have a group that you want to repeat a specific number of times, follow the group in your regex with a number in curly brackets.\n",
    " * For example,the regex (Ha){3} will match the string 'HaHaHa', but it will not match 'HaHa',since the latter has only two repeats of the (Ha) group.\n",
    " * Instead of one number, you can specify a range by writing a minimum,a comma, and a maximum in between the curly brackets. For example, theregex (Ha){3,5} will match 'HaHaHa', 'HaHaHaHa', and 'HaHaHaHaHa'.\n",
    " * You can also leave out the first or second number in the curly bracketsto leave the minimum or maximum unbounded. For example, (Ha){3,} will match three or more instances of the (Ha) group, while (Ha){,5} will match zero to five instances. Curly brackets can help make your regular expres- sions shorter."
   ]
  },
  {
   "cell_type": "code",
   "execution_count": 116,
   "id": "44d44cb2",
   "metadata": {},
   "outputs": [
    {
     "data": {
      "text/plain": [
       "'HaHaHa'"
      ]
     },
     "execution_count": 116,
     "metadata": {},
     "output_type": "execute_result"
    }
   ],
   "source": [
    "haRegex = re.compile(r'(Ha){3}')\n",
    "mo1 = haRegex.search('HaHaHa')\n",
    "mo1.group()"
   ]
  },
  {
   "cell_type": "code",
   "execution_count": 117,
   "id": "0bf57a8e",
   "metadata": {},
   "outputs": [
    {
     "name": "stdout",
     "output_type": "stream",
     "text": [
      "No matches found\n"
     ]
    }
   ],
   "source": [
    "mo2 = haRegex.search('Ha')\n",
    "try:\n",
    "    print(mo2.group())\n",
    "except:\n",
    "    print('No matches found')"
   ]
  },
  {
   "cell_type": "markdown",
   "id": "362615c2",
   "metadata": {},
   "source": [
    "## Greedy and Nongreedy Matching\n",
    "Python’s regular expressions are greedy by default, which means that in\n",
    "ambiguous situations they will match the longest string possible. The non-\n",
    "greedy version of the curly brackets, which matches the shortest string pos-\n",
    "sible, has the closing curly bracket followed by a question mark.\n"
   ]
  },
  {
   "cell_type": "code",
   "execution_count": 118,
   "id": "7f651850",
   "metadata": {},
   "outputs": [
    {
     "data": {
      "text/plain": [
       "'HaHaHaHaHa'"
      ]
     },
     "execution_count": 118,
     "metadata": {},
     "output_type": "execute_result"
    }
   ],
   "source": [
    "greedy_regex = re.compile(r'(Ha){3,5}')\n",
    "mo1 = greedy_regex.search('HaHaHaHaHa')\n",
    "mo1.group()"
   ]
  },
  {
   "cell_type": "code",
   "execution_count": 119,
   "id": "9e63cc05",
   "metadata": {},
   "outputs": [
    {
     "data": {
      "text/plain": [
       "'HaHaHa'"
      ]
     },
     "execution_count": 119,
     "metadata": {},
     "output_type": "execute_result"
    }
   ],
   "source": [
    "non_greedy_regex = re.compile(r'(Ha){3,5}?')\n",
    "mo1 = non_greedy_regex.search('HaHaHaHaHa')\n",
    "mo1.group()"
   ]
  },
  {
   "cell_type": "markdown",
   "id": "f2937611",
   "metadata": {},
   "source": [
    "## Findall() method \n",
    "While search() will return a Match object of the first matched text\n",
    "in the searched string, the findall() method will return the strings of every\n",
    "match in the searched string. \n",
    "\n",
    " * When called on a regex with no groups, such as \\d\\d\\d-\\d\\d\\d-\\d\\d\\d\\d,the method findall() returns a list of string matches, such as ['415-555-9999', '212-555-0000'].\n",
    " \n",
    " * When called on a regex that has groups, such as (\\d\\d\\d)-(\\d\\d\\d)-(\\d\\d\\d\\d), the method findall() returns a list of tuples of strings (one stringfor each group), such as [('415', '555', '1122'), ('212', '555', '0000')].\n"
   ]
  },
  {
   "cell_type": "code",
   "execution_count": 120,
   "id": "ca0b1033",
   "metadata": {},
   "outputs": [
    {
     "data": {
      "text/plain": [
       "'415-555-9999'"
      ]
     },
     "execution_count": 120,
     "metadata": {},
     "output_type": "execute_result"
    }
   ],
   "source": [
    "phoneNumRegex = re.compile(r'\\d\\d\\d-\\d\\d\\d-\\d\\d\\d\\d')\n",
    "mo = phoneNumRegex.search('Cell: 415-555-9999 Work: 212-555-0000')\n",
    "mo.group()"
   ]
  },
  {
   "cell_type": "code",
   "execution_count": 121,
   "id": "c91ce2e6",
   "metadata": {},
   "outputs": [
    {
     "data": {
      "text/plain": [
       "['415-555-9999', '212-555-0000']"
      ]
     },
     "execution_count": 121,
     "metadata": {},
     "output_type": "execute_result"
    }
   ],
   "source": [
    "phoneNumRegex = re.compile(r'\\d\\d\\d-\\d\\d\\d-\\d\\d\\d\\d') # has no groups\n",
    "phoneNumRegex.findall('Cell: 415-555-9999 Work: 212-555-0000')\n"
   ]
  },
  {
   "cell_type": "code",
   "execution_count": 124,
   "id": "457968bf",
   "metadata": {},
   "outputs": [
    {
     "data": {
      "text/plain": [
       "[('415', '555', '9999'), ('212', '555', '0000')]"
      ]
     },
     "execution_count": 124,
     "metadata": {},
     "output_type": "execute_result"
    }
   ],
   "source": [
    "phoneNumRegex = re.compile(r'(\\d\\d\\d)-(\\d\\d\\d)-(\\d\\d\\d\\d)') # has groups\n",
    "mo = phoneNumRegex.findall('Cell: 415-555-9999 Work: 212-555-0000')\n",
    "mo"
   ]
  },
  {
   "cell_type": "markdown",
   "id": "5fe6aa9c",
   "metadata": {},
   "source": [
    "## Character Classes"
   ]
  },
  {
   "cell_type": "code",
   "execution_count": 125,
   "id": "0247068f",
   "metadata": {},
   "outputs": [],
   "source": [
    "reg = re.compile(r'\\W')"
   ]
  },
  {
   "cell_type": "code",
   "execution_count": 129,
   "id": "ed42e191",
   "metadata": {},
   "outputs": [
    {
     "data": {
      "text/plain": [
       "['&', '%', '?', '?', '?', '?', '?', '/', '/', '|', '\\\\', '\\\\', '^']"
      ]
     },
     "execution_count": 129,
     "metadata": {},
     "output_type": "execute_result"
    }
   ],
   "source": [
    "reg.findall('&5%______23ldjfALSDF?????//|\\\\\\\\^')"
   ]
  },
  {
   "cell_type": "markdown",
   "id": "1073d7a7",
   "metadata": {},
   "source": [
    "<img src='charactor_class_regex.png'>"
   ]
  },
  {
   "cell_type": "markdown",
   "id": "5710c477",
   "metadata": {},
   "source": [
    "The regular expression \\d+\\s\\w+ will match text that has one or more\n",
    "numeric digits (\\d+), followed by a whitespace character (\\s), followed by\n",
    "one or more letter/digit/underscore characters ( \\w+). The findall() method\n",
    "returns all matching strings of the regex pattern in a list."
   ]
  },
  {
   "cell_type": "code",
   "execution_count": 133,
   "id": "17098e79",
   "metadata": {},
   "outputs": [
    {
     "data": {
      "text/plain": [
       "['12 drummers',\n",
       " '11 pipers',\n",
       " '10 lords',\n",
       " '9 ladies',\n",
       " '8 maids',\n",
       " '234 las2324',\n",
       " '6 geese',\n",
       " '5 rings',\n",
       " '4 birds',\n",
       " '3 hens',\n",
       " '2 doves',\n",
       " '1 partridge']"
      ]
     },
     "execution_count": 133,
     "metadata": {},
     "output_type": "execute_result"
    }
   ],
   "source": [
    "xmasRegex = re.compile(r'\\d+\\s\\w+')\n",
    "xmasRegex.findall('''\n",
    "12 drummers, 11 pipers, 10 lords, 9 ladies, 8 maids, 2314142,;laskdjf234 las2324,\n",
    "7,swans, 6 geese, 5 rings, 4 birds, 3 hens, 2 doves, 1 partridge''')"
   ]
  },
  {
   "cell_type": "markdown",
   "id": "5fac65ae",
   "metadata": {},
   "source": [
    "## Making character classes \n",
    " * . You can defineyour own character class using square brackets. For example, the characterclass [aeiouAEIOU] will match any vowel, both lowercase and uppercase.\n",
    " * You can also include ranges of letters or numbers by using a hyphen.For example, [a-zA-Z0-9]\n",
    " * By placing a caret character (^) just after the character class’s opening bracket, you can make a negative character class. A negative character class will match all the characters that are not in the character class. \n"
   ]
  },
  {
   "cell_type": "code",
   "execution_count": 136,
   "id": "35ebdc5b",
   "metadata": {},
   "outputs": [
    {
     "data": {
      "text/plain": [
       "['o', 'a', 'u', 'e', 'i', 'o', 'a', 'u']"
      ]
     },
     "execution_count": 136,
     "metadata": {},
     "output_type": "execute_result"
    }
   ],
   "source": [
    "vowelRegex = re.compile(r'[aeiouAEIOU]')\n",
    "vowelRegex.findall('thomaskutty reji thomaskutty')"
   ]
  },
  {
   "cell_type": "code",
   "execution_count": 140,
   "id": "094ce50b",
   "metadata": {},
   "outputs": [
    {
     "data": {
      "text/plain": [
       "['R', 'b', 'y', 'f', 'd', 'B', 'D']"
      ]
     },
     "execution_count": 140,
     "metadata": {},
     "output_type": "execute_result"
    }
   ],
   "source": [
    "consonantRegex = re.compile(r'[^aeiouAEIOU\\s\\.]')\n",
    "consonantRegex.findall('Roaby food. BD.')\n"
   ]
  },
  {
   "cell_type": "markdown",
   "id": "e43b1840",
   "metadata": {},
   "source": [
    "## The Caret and Dollar Sign Characters\n",
    "You can also use the caret symbol (^) at the start of a regex to indicate that\n",
    "a match must occur at the beginning of the searched text. Likewise, you can\n",
    "put a dollar sign at the end of the regex to indicate the string must end\n",
    "with this regex pattern. And you can use the ^ and $ together to indicate\n",
    "that the entire string must match the regex—that is, it’s not enough for a\n",
    "match to be made on some subset of the string.\n"
   ]
  },
  {
   "cell_type": "code",
   "execution_count": 141,
   "id": "7d4780f6",
   "metadata": {},
   "outputs": [
    {
     "data": {
      "text/plain": [
       "<re.Match object; span=(0, 5), match='Hello'>"
      ]
     },
     "execution_count": 141,
     "metadata": {},
     "output_type": "execute_result"
    }
   ],
   "source": [
    "beginsWithHello = re.compile(r'^Hello')\n",
    "beginsWithHello.search('Hello world!')"
   ]
  },
  {
   "cell_type": "code",
   "execution_count": 142,
   "id": "0433dfb0",
   "metadata": {},
   "outputs": [
    {
     "data": {
      "text/plain": [
       "True"
      ]
     },
     "execution_count": 142,
     "metadata": {},
     "output_type": "execute_result"
    }
   ],
   "source": [
    "beginsWithHello.search('He said hello.') == None"
   ]
  },
  {
   "cell_type": "code",
   "execution_count": 143,
   "id": "9e23936e",
   "metadata": {},
   "outputs": [
    {
     "data": {
      "text/plain": [
       "<re.Match object; span=(16, 17), match='2'>"
      ]
     },
     "execution_count": 143,
     "metadata": {},
     "output_type": "execute_result"
    }
   ],
   "source": [
    "endsWithNumber = re.compile(r'\\d$')\n",
    "endsWithNumber.search('Your number is 42')"
   ]
  },
  {
   "cell_type": "code",
   "execution_count": 144,
   "id": "dfe80895",
   "metadata": {},
   "outputs": [
    {
     "data": {
      "text/plain": [
       "True"
      ]
     },
     "execution_count": 144,
     "metadata": {},
     "output_type": "execute_result"
    }
   ],
   "source": [
    "endsWithNumber.search('Your number is forty two.') == None"
   ]
  },
  {
   "cell_type": "code",
   "execution_count": 145,
   "id": "9397d5b4",
   "metadata": {},
   "outputs": [
    {
     "data": {
      "text/plain": [
       "<re.Match object; span=(0, 10), match='1234567890'>"
      ]
     },
     "execution_count": 145,
     "metadata": {},
     "output_type": "execute_result"
    }
   ],
   "source": [
    "wholeStringIsNum = re.compile(r'^\\d+$')\n",
    "wholeStringIsNum.search('1234567890')"
   ]
  },
  {
   "cell_type": "code",
   "execution_count": 146,
   "id": "4980ac51",
   "metadata": {},
   "outputs": [
    {
     "data": {
      "text/plain": [
       "True"
      ]
     },
     "execution_count": 146,
     "metadata": {},
     "output_type": "execute_result"
    }
   ],
   "source": [
    " wholeStringIsNum.search('12345xyz67890') == None"
   ]
  },
  {
   "cell_type": "code",
   "execution_count": 148,
   "id": "f70f3cc7",
   "metadata": {},
   "outputs": [
    {
     "data": {
      "text/plain": [
       "True"
      ]
     },
     "execution_count": 148,
     "metadata": {},
     "output_type": "execute_result"
    }
   ],
   "source": [
    "wholeStringIsNum.search('12 34567890') == None"
   ]
  },
  {
   "cell_type": "markdown",
   "id": "a9486621",
   "metadata": {},
   "source": [
    "## The Wildcard Character\n",
    "The . (or dot) character in a regular expression is called a wildcard and will\n",
    "match any character except for a newline. "
   ]
  },
  {
   "cell_type": "code",
   "execution_count": 160,
   "id": "8d2885a3",
   "metadata": {},
   "outputs": [
    {
     "data": {
      "text/plain": [
       "['cat', 'hat', 'sat', 'lat', 'mat']"
      ]
     },
     "execution_count": 160,
     "metadata": {},
     "output_type": "execute_result"
    }
   ],
   "source": [
    "atRegex = re.compile(r'.at')\n",
    "atRegex.findall('The cat in the hat sat on the flat mat.')"
   ]
  },
  {
   "cell_type": "markdown",
   "id": "dc02549b",
   "metadata": {},
   "source": [
    "Remember that the dot character will match just one character, which\n",
    "is why the match for the text flat in the previous example matched only lat.\n",
    "To match an actual dot, escape the dot with a backslash: \\.."
   ]
  },
  {
   "cell_type": "code",
   "execution_count": 159,
   "id": "d9594a33",
   "metadata": {},
   "outputs": [
    {
     "data": {
      "text/plain": [
       "['cat', 'hat', 'sat', 'flat', 'mat']"
      ]
     },
     "execution_count": 159,
     "metadata": {},
     "output_type": "execute_result"
    }
   ],
   "source": [
    "atRegex = re.compile(r'\\w*at')\n",
    "atRegex.findall('The cat in the hat sat on the flat mat.')"
   ]
  },
  {
   "cell_type": "markdown",
   "id": "63f3be28",
   "metadata": {},
   "source": [
    "## Matching Everything with Dot-Star\n",
    "you want to match the string 'First Name:', followed by any and all text,\n",
    "followed by 'Last Name:', and then followed by anything again. You can\n",
    "use the dot-star (.*) to stand in for that “anything.” "
   ]
  },
  {
   "cell_type": "code",
   "execution_count": 166,
   "id": "cadd8e04",
   "metadata": {},
   "outputs": [
    {
     "data": {
      "text/plain": [
       "('Al', 'Sweigart')"
      ]
     },
     "execution_count": 166,
     "metadata": {},
     "output_type": "execute_result"
    }
   ],
   "source": [
    "nameRegex = re.compile(r'First Name: (.*) Last Name: (.*)')\n",
    "mo = nameRegex.search('First Name: Al Last Name: Sweigart') \n",
    "mo.groups()"
   ]
  },
  {
   "cell_type": "markdown",
   "id": "b3a177ea",
   "metadata": {},
   "source": [
    "The dot-star uses greedy mode: It will always try to match as much text as\n",
    "possible. To match any and all text in a nongreedy fashion, use the dot, star,\n",
    "and question mark ( .*?). Like with curly brackets, the question mark tells\n",
    "Python to match in a nongreedy way.\n"
   ]
  },
  {
   "cell_type": "code",
   "execution_count": 169,
   "id": "f69f7d3a",
   "metadata": {},
   "outputs": [
    {
     "data": {
      "text/plain": [
       "'<To serve man>'"
      ]
     },
     "execution_count": 169,
     "metadata": {},
     "output_type": "execute_result"
    }
   ],
   "source": [
    "nongreedyRegex = re.compile(r'<.*?>')\n",
    "mo = nongreedyRegex.search('<To serve man> for dinner.>')\n",
    "mo.group()"
   ]
  },
  {
   "cell_type": "code",
   "execution_count": 171,
   "id": "069e641a",
   "metadata": {},
   "outputs": [
    {
     "data": {
      "text/plain": [
       "'<To serve man> for dinner.>'"
      ]
     },
     "execution_count": 171,
     "metadata": {},
     "output_type": "execute_result"
    }
   ],
   "source": [
    "greedyRegex = re.compile(r'<.*>')\n",
    "mo = greedyRegex.search('<To serve man> for dinner.>')\n",
    "mo.group()"
   ]
  },
  {
   "cell_type": "markdown",
   "id": "d1fa3890",
   "metadata": {},
   "source": [
    "## Matching Newlines with the Dot Character"
   ]
  },
  {
   "cell_type": "code",
   "execution_count": 173,
   "id": "bfe91a39",
   "metadata": {},
   "outputs": [
    {
     "data": {
      "text/plain": [
       "'this is the first line.'"
      ]
     },
     "execution_count": 173,
     "metadata": {},
     "output_type": "execute_result"
    }
   ],
   "source": [
    "nonewline_reg = re.compile('.*') \n",
    "nonewline_reg.search('this is the first line.\\nThis is the second line').group()"
   ]
  },
  {
   "cell_type": "code",
   "execution_count": 174,
   "id": "107d7305",
   "metadata": {},
   "outputs": [
    {
     "data": {
      "text/plain": [
       "'this is the first line. \\nThis is the second line'"
      ]
     },
     "execution_count": 174,
     "metadata": {},
     "output_type": "execute_result"
    }
   ],
   "source": [
    "newline_reg = re.compile('.*',re.DOTALL)\n",
    "newline_reg.search('this is the first line. \\nThis is the second line').group()"
   ]
  },
  {
   "cell_type": "markdown",
   "id": "ec9f8e95",
   "metadata": {},
   "source": [
    "## Regex symbols \n",
    " * The ? matches zero or one of the preceding group.\n",
    " * The * matches zero or more of the preceding group.\n",
    " * The + matches one or more of the preceding group.\n",
    " * The {n} matches exactly n of the preceding group.\n",
    " * The {n,} matches n or more of the preceding group.\n",
    " * The {,m} matches 0 to m of the preceding group.\n",
    " * The {n,m} matches at least n and at most m of the preceding group.\n",
    " * {n,m}? or *? or +? performs a nongreedy match of the preceding group.\n",
    " * ^spam means the string must begin with spam.\n",
    " * spam  then dollar symbol means the string must end with spam.$ \n",
    " \n",
    " * The . matches any character, except newline characters.\n",
    " * \\d, \\w, and \\s match a digit, word, or space character, respectively.\n",
    " * \\D, \\W, and \\S match anything except a digit, word, or space character,\n",
    " * respectively.\n",
    " * [abc] matches any character between the brackets (such as a, b, or c).\n",
    " * [^abc] matches any character that isn’t between the brackets."
   ]
  },
  {
   "cell_type": "markdown",
   "id": "ff3f86cb",
   "metadata": {},
   "source": [
    "## Case insensitive matching "
   ]
  },
  {
   "cell_type": "code",
   "execution_count": 177,
   "id": "82b33a24",
   "metadata": {},
   "outputs": [
    {
     "data": {
      "text/plain": [
       "'roboCoP'"
      ]
     },
     "execution_count": 177,
     "metadata": {},
     "output_type": "execute_result"
    }
   ],
   "source": [
    "robocop = re.compile(r'(robocop)', re.IGNORECASE)\n",
    "robocop.search('asldkf asdfas f roboCoP asldj asfj').group()"
   ]
  },
  {
   "cell_type": "markdown",
   "id": "e4f32e88",
   "metadata": {},
   "source": [
    "## Substituting strings with the sub() method "
   ]
  },
  {
   "cell_type": "code",
   "execution_count": 179,
   "id": "62e5ee49",
   "metadata": {},
   "outputs": [
    {
     "data": {
      "text/plain": [
       "'system_1 gave secret code to the system2 server'"
      ]
     },
     "execution_count": 179,
     "metadata": {},
     "output_type": "execute_result"
    }
   ],
   "source": [
    "names_reg = re.compile(r'thomaskutty \\w+' )\n",
    "names_reg.sub(\"system_1\", \"thomaskutty reji gave secret code to the system2 server\")"
   ]
  },
  {
   "cell_type": "markdown",
   "id": "b894e062",
   "metadata": {},
   "source": [
    "you want to censor the names of the secret agents by\n",
    "showing just the first letters of their names. To do this, you could use the\n",
    "regex Agent (\\w)\\w* and pass r'\\1****' as the first argument to sub(). The \\1\n",
    "in that string will be replaced by whatever text was matched by group 1—\n",
    "that is, the (\\w) group of the regular expression.\n"
   ]
  },
  {
   "cell_type": "code",
   "execution_count": 182,
   "id": "9be737e7",
   "metadata": {},
   "outputs": [
    {
     "data": {
      "text/plain": [
       "'A**** told C**** that AgentEve knew B**** was a double agent.'"
      ]
     },
     "execution_count": 182,
     "metadata": {},
     "output_type": "execute_result"
    }
   ],
   "source": [
    "agentNamesRegex = re.compile(r'Agent (\\w)\\w*')\n",
    "agentNamesRegex.sub(r'\\1****',\n",
    "'Agent Alice told Agent Carol that AgentEve knew Agent Bob was a double agent.')\n"
   ]
  },
  {
   "cell_type": "code",
   "execution_count": null,
   "id": "f196c962",
   "metadata": {},
   "outputs": [],
   "source": []
  }
 ],
 "metadata": {
  "kernelspec": {
   "display_name": "Python 3",
   "language": "python",
   "name": "python3"
  },
  "language_info": {
   "codemirror_mode": {
    "name": "ipython",
    "version": 3
   },
   "file_extension": ".py",
   "mimetype": "text/x-python",
   "name": "python",
   "nbconvert_exporter": "python",
   "pygments_lexer": "ipython3",
   "version": "3.8.8"
  }
 },
 "nbformat": 4,
 "nbformat_minor": 5
}
