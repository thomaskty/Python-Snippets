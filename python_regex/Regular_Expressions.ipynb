{
 "cells": [
  {
   "cell_type": "markdown",
   "id": "9ed614f8",
   "metadata": {},
   "source": [
    "`Introduction`\n",
    "`Anchors`\n",
    "`Alternation and Grouping`\n",
    "`Escaping metacharacters`\n",
    "`Dot metacharacter and Quantifiers`\n",
    "`Working with matched portions`\n",
    "`character class`\n",
    "`Grouping and backreferences`\n",
    "`Lookarounds`\n",
    "`Flags`\n",
    "`Unicode`\n",
    "`regex module`"
   ]
  },
  {
   "cell_type": "markdown",
   "id": "2db45fcd",
   "metadata": {},
   "source": [
    "# `Introduction`\n",
    "`search|sub|compile`"
   ]
  },
  {
   "cell_type": "code",
   "execution_count": 1,
   "id": "deb88c17",
   "metadata": {},
   "outputs": [],
   "source": [
    "import re"
   ]
  },
  {
   "cell_type": "code",
   "execution_count": 5,
   "id": "efe777ec",
   "metadata": {},
   "outputs": [
    {
     "data": {
      "text/plain": [
       "True"
      ]
     },
     "execution_count": 5,
     "metadata": {},
     "output_type": "execute_result"
    }
   ],
   "source": [
    "# check whether the given strings contain '0xB0'. Display a boolean result\n",
    "line1 = 'start address: 0xA0, func1 address:0xC0'\n",
    "line2 = 'end address:0xB0, func2 address:0xB0'\n",
    "bool(re.search(r'0xB0',line1))\n",
    "bool(re.search(r'0xB0',line2))"
   ]
  },
  {
   "cell_type": "code",
   "execution_count": 7,
   "id": "031724a2",
   "metadata": {},
   "outputs": [
    {
     "data": {
      "text/plain": [
       "'They ate five apples and five oranges'"
      ]
     },
     "execution_count": 7,
     "metadata": {},
     "output_type": "execute_result"
    }
   ],
   "source": [
    "#Replace all occurrences of 5 with five for the given string\n",
    "ip = 'They ate 5 apples and 5 oranges'\n",
    "re.sub(r'5','five',ip)"
   ]
  },
  {
   "cell_type": "code",
   "execution_count": 9,
   "id": "5032bb59",
   "metadata": {},
   "outputs": [
    {
     "data": {
      "text/plain": [
       "'They ate five apples and 5  oranges'"
      ]
     },
     "execution_count": 9,
     "metadata": {},
     "output_type": "execute_result"
    }
   ],
   "source": [
    "# replace first occurrences of 5 with five for the given string\n",
    "ip = 'They ate 5 apples and 5  oranges'\n",
    "re.sub(r'5','five',ip,count = 1)"
   ]
  },
  {
   "cell_type": "code",
   "execution_count": 11,
   "id": "8b86c0f9",
   "metadata": {},
   "outputs": [
    {
     "data": {
      "text/plain": [
       "['goal', 'sit']"
      ]
     },
     "execution_count": 11,
     "metadata": {},
     "output_type": "execute_result"
    }
   ],
   "source": [
    "# for a given list, filter all elements that do not contain e\n",
    "items = ['goal','new','user','sit','eat','dinner']\n",
    "[word for word in items if not re.search(r'e',word)]"
   ]
  },
  {
   "cell_type": "code",
   "execution_count": 12,
   "id": "73b8fcf9",
   "metadata": {},
   "outputs": [
    {
     "data": {
      "text/plain": [
       "[None,\n",
       " <re.Match object; span=(1, 2), match='e'>,\n",
       " <re.Match object; span=(2, 3), match='e'>,\n",
       " None,\n",
       " <re.Match object; span=(0, 1), match='e'>,\n",
       " <re.Match object; span=(4, 5), match='e'>]"
      ]
     },
     "execution_count": 12,
     "metadata": {},
     "output_type": "execute_result"
    }
   ],
   "source": [
    "[re.search(r'e',word) for word in items]"
   ]
  },
  {
   "cell_type": "code",
   "execution_count": 13,
   "id": "9936c36c",
   "metadata": {},
   "outputs": [
    {
     "data": {
      "text/plain": [
       "'This X should not be XD'"
      ]
     },
     "execution_count": 13,
     "metadata": {},
     "output_type": "execute_result"
    }
   ],
   "source": [
    "# replace all occurences of note irrespective of case with X\n",
    "ip = 'This note should not be NoTeD'\n",
    "re.sub(r'note','X',ip,flags=re.I)"
   ]
  },
  {
   "cell_type": "code",
   "execution_count": 14,
   "id": "660ed509",
   "metadata": {},
   "outputs": [
    {
     "data": {
      "text/plain": [
       "True"
      ]
     },
     "execution_count": 14,
     "metadata": {},
     "output_type": "execute_result"
    }
   ],
   "source": [
    "# Check if at is present in the given byte inpute data \n",
    "ip = b'tiger imp goat'\n",
    "bool(re.search(rb'at',ip))"
   ]
  },
  {
   "cell_type": "code",
   "execution_count": 17,
   "id": "ebe313b9",
   "metadata": {},
   "outputs": [
    {
     "name": "stdout",
     "output_type": "stream",
     "text": [
      "project you always wanted\n",
      "hi there\n",
      "finish the book\n",
      "bye\n"
     ]
    }
   ],
   "source": [
    "# for the given input string display all lines not containeing start \n",
    "# irrespective of case \n",
    "para = '''good start\n",
    "Start working on that\n",
    "project you always wanted\n",
    "starts are shining brightly\n",
    "hi there\n",
    "stArt and try to \n",
    "finish the book\n",
    "bye'''\n",
    "pattern = re.compile(r'start',flags=re.I)\n",
    "for line in para.split(\"\\n\"):\n",
    "    if not pattern.search(line):\n",
    "        print(line)"
   ]
  },
  {
   "cell_type": "code",
   "execution_count": 18,
   "id": "0fe326c5",
   "metadata": {},
   "outputs": [
    {
     "data": {
      "text/plain": [
       "['goal', 'new', 'eat']"
      ]
     },
     "execution_count": 18,
     "metadata": {},
     "output_type": "execute_result"
    }
   ],
   "source": [
    "# for the given list, filter all elements that contains either a or w\n",
    "items = ['goal','new','user','sit','eat','dinner']\n",
    "[w for w in items if re.search(r'a',w) or re.search(r'w',w)]"
   ]
  },
  {
   "cell_type": "code",
   "execution_count": 20,
   "id": "4a50c790",
   "metadata": {},
   "outputs": [
    {
     "data": {
      "text/plain": [
       "'start address: 0x7F, func1 address: 0x1F'"
      ]
     },
     "execution_count": 20,
     "metadata": {},
     "output_type": "execute_result"
    }
   ],
   "source": [
    "# for the given string replace `OxA0' with '0x7F' and '0xC0' with '0x1F'\n",
    "ip = 'start address: 0xA0, func1 address: 0xC0'\n",
    "re.sub('0xC0','0x1F',re.sub('0xA0','0x7F',ip))"
   ]
  },
  {
   "cell_type": "markdown",
   "id": "ff35f630",
   "metadata": {},
   "source": [
    "# `Anchors`\n",
    "`\\A - restricts the match to the start of string\n",
    "\\Z - restricts the match to the end of string\n",
    "re.fullmatch - ensures pattern matches the entire input sting. \n",
    "^ - restricts the match to the start of line \n",
    "$ - restricts the match to the end of line \n",
    "\\b - start and end of words, word characters: alphabets, digits,underscore\n",
    "`\n",
    "`re.M - flag to treat input as multiline string \n",
    "re.I - flag to make the pattern case sensitive \n",
    "\\B - matches wherever \\b doesn't match\n",
    "`"
   ]
  },
  {
   "cell_type": "code",
   "execution_count": 30,
   "id": "25b4d6fd",
   "metadata": {},
   "outputs": [
    {
     "name": "stdout",
     "output_type": "stream",
     "text": [
      "True -------- be nice\n",
      "False -------- \"best\"\n",
      "True -------- better?\n",
      "False -------- oh no\n",
      "bear spotted\n"
     ]
    }
   ],
   "source": [
    "# check if the given strings start with be \n",
    "# \\A - matching at the starting of the sentence \n",
    "# \\Z - matching at the end of the sentence\n",
    "lines = ['be nice','\"best\"','better?','oh no\\nbear spotted']\n",
    "pattern = re.compile(r'\\Abe')\n",
    "for line in lines:\n",
    "    value = bool(pattern.search(line))\n",
    "    print(value,'--------',line)"
   ]
  },
  {
   "cell_type": "code",
   "execution_count": 32,
   "id": "ec497732",
   "metadata": {},
   "outputs": [
    {
     "data": {
      "text/plain": [
       "'X sX apXent sXe Xt'"
      ]
     },
     "execution_count": 32,
     "metadata": {},
     "output_type": "execute_result"
    }
   ],
   "source": [
    "# replace 'par' irrespective of where it occurs\n",
    "words = 'par spar apparent spare part'\n",
    "re.sub(r'par', 'X', words)"
   ]
  },
  {
   "cell_type": "code",
   "execution_count": 36,
   "id": "ab471c6f",
   "metadata": {},
   "outputs": [
    {
     "data": {
      "text/plain": [
       "'X spar apparent spare Xt'"
      ]
     },
     "execution_count": 36,
     "metadata": {},
     "output_type": "execute_result"
    }
   ],
   "source": [
    "# replace 'par' only at start of word\n",
    "words = 'par spar apparent spare part'\n",
    "re.sub(r'\\bpar', 'X', words)"
   ]
  },
  {
   "cell_type": "code",
   "execution_count": 38,
   "id": "766bfb4d",
   "metadata": {},
   "outputs": [
    {
     "data": {
      "text/plain": [
       "'X sX apparent spare part'"
      ]
     },
     "execution_count": 38,
     "metadata": {},
     "output_type": "execute_result"
    }
   ],
   "source": [
    "# replace 'par' only at end of word\n",
    "words = 'par spar apparent spare part'\n",
    "re.sub(r'par\\b', 'X', words)"
   ]
  },
  {
   "cell_type": "code",
   "execution_count": 39,
   "id": "507095e5",
   "metadata": {},
   "outputs": [
    {
     "data": {
      "text/plain": [
       "'X spar apparent spare part'"
      ]
     },
     "execution_count": 39,
     "metadata": {},
     "output_type": "execute_result"
    }
   ],
   "source": [
    "# replace 'par' only if it is not part of another word\n",
    "words = 'par spar apparent spare part'\n",
    "re.sub(r'\\bpar\\b', 'X', words)"
   ]
  },
  {
   "cell_type": "code",
   "execution_count": 40,
   "id": "3ff8e6d0",
   "metadata": {},
   "outputs": [
    {
     "data": {
      "text/plain": [
       "'bred brown spread credible'"
      ]
     },
     "execution_count": 40,
     "metadata": {},
     "output_type": "execute_result"
    }
   ],
   "source": [
    "# for the given input string, change only whole word red to brown \n",
    "words = 'bred red spread credible'\n",
    "re.sub(r'\\bred\\b','brown', words)"
   ]
  },
  {
   "cell_type": "code",
   "execution_count": 41,
   "id": "b90672e6",
   "metadata": {},
   "outputs": [
    {
     "data": {
      "text/plain": [
       "['hi42bye', 'nice1423', 'cool_42a']"
      ]
     },
     "execution_count": 41,
     "metadata": {},
     "output_type": "execute_result"
    }
   ],
   "source": [
    "#  filter all elements that contains 42 surrounded by word characters \n",
    "words = ['hi42bye','nice1423','bad42','cool_42a','fake4b']\n",
    "[w for w in words if re.search(r'\\B42\\B',w)]"
   ]
  },
  {
   "cell_type": "code",
   "execution_count": 44,
   "id": "aaee3a7b",
   "metadata": {},
   "outputs": [
    {
     "data": {
      "text/plain": [
       "['lovely', '2 lonely', 'dent']"
      ]
     },
     "execution_count": 44,
     "metadata": {},
     "output_type": "execute_result"
    }
   ],
   "source": [
    "# filter all elements that start with den or end with ly \n",
    "items = ['lovely', '1\\ndentist', '2 lonely', 'eden', 'fly\\n', 'dent']\n",
    "[i for i in items if re.search('\\Aden',i) or re.search('ly\\Z',i)]"
   ]
  },
  {
   "cell_type": "code",
   "execution_count": 48,
   "id": "3bea4bbb",
   "metadata": {},
   "outputs": [],
   "source": [
    "# for the given input string, change whole word \n",
    "# mall to 1234 only if it is at start of a line \n",
    "para = '''\\\n",
    "ball fall wall tall\n",
    "mall call ball pall\n",
    "wall mall ball fall\n",
    "mallet wallet malls'''"
   ]
  },
  {
   "cell_type": "code",
   "execution_count": 64,
   "id": "f44dbc67",
   "metadata": {},
   "outputs": [
    {
     "name": "stdout",
     "output_type": "stream",
     "text": [
      "ball fall wall tall\n",
      "1234 call ball pall\n",
      "wall mall ball fall\n",
      "mallet wallet malls\n"
     ]
    }
   ],
   "source": [
    "print(re.sub(r'^mall\\b','1234',para,flags = re.M))"
   ]
  },
  {
   "cell_type": "code",
   "execution_count": 73,
   "id": "4c7dd887",
   "metadata": {},
   "outputs": [
    {
     "data": {
      "text/plain": [
       "['lovely', '1\\ndentist', '2 lonely', 'fly\\nfar', 'dent']"
      ]
     },
     "execution_count": 73,
     "metadata": {},
     "output_type": "execute_result"
    }
   ],
   "source": [
    "# for the given list, filter all elements \n",
    "# having a line starting with den or ending with ly\n",
    "items = ['lovely', '1\\ndentist', '2 lonely', 'eden', 'fly\\nfar', 'dent']\n",
    "[i for i in items if re.search(r'^den',i,flags = re.M) or re.search(r'ly$',i,flags = re.M)]"
   ]
  },
  {
   "cell_type": "code",
   "execution_count": 76,
   "id": "81fa2052",
   "metadata": {},
   "outputs": [
    {
     "data": {
      "text/plain": [
       "['12\\nThree', '12\\nthree']"
      ]
     },
     "execution_count": 76,
     "metadata": {},
     "output_type": "execute_result"
    }
   ],
   "source": [
    "# filter all elements l2\\nthree irrespective of case \n",
    "items = ['12\\nthree\\n', '12\\nThree', '12\\nthree\\n4', '12\\nthree']\n",
    "[i for i in items if re.fullmatch(r'12\\nthree',i,flags = re.I)]"
   ]
  },
  {
   "cell_type": "code",
   "execution_count": 96,
   "id": "d2c7c9c8",
   "metadata": {},
   "outputs": [
    {
     "data": {
      "text/plain": [
       "['Xed', 'hand', 'Xy', 'unhanded', 'Xle', 'hand-2']"
      ]
     },
     "execution_count": 96,
     "metadata": {},
     "output_type": "execute_result"
    }
   ],
   "source": [
    "# for a given input list, replace hand with X for \n",
    "# all elements that start with hand followed by at least one word character\n",
    "items = ['handed', 'hand', 'handy', 'unhanded', 'handle', 'hand-2']\n",
    "[re.sub(r'hand','X',i) if re.search(r'^hand\\B',i, flags = re.M) else i for i in items ]"
   ]
  },
  {
   "cell_type": "code",
   "execution_count": 97,
   "id": "af225404",
   "metadata": {},
   "outputs": [
    {
     "data": {
      "text/plain": [
       "['Xed', 'hand', 'Xy', 'unhanded', 'Xle', 'hand-2']"
      ]
     },
     "execution_count": 97,
     "metadata": {},
     "output_type": "execute_result"
    }
   ],
   "source": [
    "[re.sub(r'\\bhand\\B','X',w) for w in items]"
   ]
  },
  {
   "cell_type": "code",
   "execution_count": 98,
   "id": "d798d421",
   "metadata": {},
   "outputs": [
    {
     "data": {
      "text/plain": [
       "['Xed', 'hand', 'Xy', 'unhanded', 'Xle', 'hand-2']"
      ]
     },
     "execution_count": 98,
     "metadata": {},
     "output_type": "execute_result"
    }
   ],
   "source": [
    "[re.sub(r'^hand\\B','X',w) for w in items]"
   ]
  },
  {
   "cell_type": "code",
   "execution_count": 99,
   "id": "ce6198be",
   "metadata": {},
   "outputs": [
    {
     "data": {
      "text/plain": [
       "['handXd', 'hand', 'handy', 'handlX', 'hand-2']"
      ]
     },
     "execution_count": 99,
     "metadata": {},
     "output_type": "execute_result"
    }
   ],
   "source": [
    "# for the given input list, filter all elements starting with h. additionally\n",
    "# replace e with X for these filtered elements \n",
    "items = ['handed', 'hand', 'handy', 'unhanded', 'handle', 'hand-2']\n",
    "[re.sub(r'e','X',w) for w in items if re.search(r'^h',w,flags = re.M)]"
   ]
  },
  {
   "cell_type": "markdown",
   "id": "cb1d55e0",
   "metadata": {},
   "source": [
    "# `Alteration and Grouping`"
   ]
  },
  {
   "cell_type": "code",
   "execution_count": 100,
   "id": "65d285aa",
   "metadata": {},
   "outputs": [
    {
     "data": {
      "text/plain": [
       "['lovely', '2 lonely', 'dent']"
      ]
     },
     "execution_count": 100,
     "metadata": {},
     "output_type": "execute_result"
    }
   ],
   "source": [
    "# for the input list, fiter all elements that start with den or end with ly \n",
    "items = ['lovely', '1\\ndentist', '2 lonely', 'eden', 'fly\\n', 'dent']\n",
    "[e for e in items if re.search(r'\\Aden|ly\\Z',e)]"
   ]
  },
  {
   "cell_type": "code",
   "execution_count": 102,
   "id": "b5cb1176",
   "metadata": {},
   "outputs": [
    {
     "data": {
      "text/plain": [
       "['lovely', '1\\ndentist', '2 lonely', 'fly\\nfar', 'dent']"
      ]
     },
     "execution_count": 102,
     "metadata": {},
     "output_type": "execute_result"
    }
   ],
   "source": [
    "items = ['lovely', '1\\ndentist', '2 lonely', 'eden', 'fly\\nfar', 'dent']\n",
    "[i for i in items if re.search(r'^den|ly$',i,flags = re.M)]"
   ]
  },
  {
   "cell_type": "code",
   "execution_count": 105,
   "id": "a3bfb6db",
   "metadata": {},
   "outputs": [
    {
     "data": {
      "text/plain": [
       "['cX refuse X read', 'X X redo X']"
      ]
     },
     "execution_count": 105,
     "metadata": {},
     "output_type": "execute_result"
    }
   ],
   "source": [
    "# for the given input strings, replace all occurences of removed or reed or \n",
    "# received or refused with X\n",
    "ip = ['creed refuse removed read','refused reed redo received']\n",
    "pattern = re.compile(r're(mov|ceiv|fus|)ed')\n",
    "[pattern.sub('X',i) for i in ip]"
   ]
  },
  {
   "cell_type": "code",
   "execution_count": 108,
   "id": "0596d733",
   "metadata": {},
   "outputs": [
    {
     "data": {
      "text/plain": [
       "['cX refuse X read', 'X X redo X']"
      ]
     },
     "execution_count": 108,
     "metadata": {},
     "output_type": "execute_result"
    }
   ],
   "source": [
    "[re.sub(r'removed|reed|refused|received','X',i) for i in ip]"
   ]
  },
  {
   "cell_type": "code",
   "execution_count": 110,
   "id": "1179bb4b",
   "metadata": {},
   "outputs": [],
   "source": [
    "# for the given input strings, replace all matches from the list words with A. \n",
    "s1 = 'plate full of slate'\n",
    "s2 = \"slated for later, don't be late\"\n",
    "words = ['late','later','slated']"
   ]
  },
  {
   "cell_type": "code",
   "execution_count": 112,
   "id": "9d313186",
   "metadata": {},
   "outputs": [
    {
     "data": {
      "text/plain": [
       "'slated|later|late'"
      ]
     },
     "execution_count": 112,
     "metadata": {},
     "output_type": "execute_result"
    }
   ],
   "source": [
    "'|'.join(sorted(words,key =len,reverse = True))"
   ]
  },
  {
   "cell_type": "code",
   "execution_count": 113,
   "id": "9a26200c",
   "metadata": {},
   "outputs": [],
   "source": [
    "pattern = re.compile('|'.join(sorted(words,key=len,reverse = True)))"
   ]
  },
  {
   "cell_type": "code",
   "execution_count": 115,
   "id": "2d8b7955",
   "metadata": {},
   "outputs": [
    {
     "data": {
      "text/plain": [
       "'pA full of sA'"
      ]
     },
     "execution_count": 115,
     "metadata": {},
     "output_type": "execute_result"
    }
   ],
   "source": [
    "pattern.sub('A',s1)"
   ]
  },
  {
   "cell_type": "code",
   "execution_count": 116,
   "id": "2561d3f7",
   "metadata": {},
   "outputs": [
    {
     "data": {
      "text/plain": [
       "\"A for A, don't be A\""
      ]
     },
     "execution_count": 116,
     "metadata": {},
     "output_type": "execute_result"
    }
   ],
   "source": [
    "pattern.sub('A',s2)"
   ]
  },
  {
   "cell_type": "code",
   "execution_count": 124,
   "id": "d9dc5f18",
   "metadata": {},
   "outputs": [
    {
     "data": {
      "text/plain": [
       "['later', 'late']"
      ]
     },
     "execution_count": 124,
     "metadata": {},
     "output_type": "execute_result"
    }
   ],
   "source": [
    "# filter all whole elements from the input list items based on elements listed in words. \n",
    "items = ['slate', 'later', 'plate', 'late', 'slates', 'slated ']\n",
    "words = ['late', 'later', 'slated']\n",
    "pattern = re.compile('|'.join(words))\n",
    "[i for i in items if pattern.fullmatch(i)]"
   ]
  },
  {
   "cell_type": "markdown",
   "id": "139f4ab6",
   "metadata": {},
   "source": [
    "# `Escaping metacharacters`"
   ]
  },
  {
   "cell_type": "code",
   "execution_count": 129,
   "id": "2dbfd2f9",
   "metadata": {},
   "outputs": [],
   "source": [
    "# Replace (4)\\| with 2 only at the start or end of given input strings.\n",
    "s1 = r'2.3/(4)\\|6 foo 5.3-(4)\\|'\n",
    "s2 = r'(4)\\|42 - (4)\\|3'\n",
    "s3 = 'two - (4)\\\\|\\n'\n",
    "\n",
    "pat = re.compile(r'\\A\\(4\\)\\\\\\||\\(4\\)\\\\\\|\\Z')"
   ]
  },
  {
   "cell_type": "code",
   "execution_count": 126,
   "id": "88db5ca9",
   "metadata": {},
   "outputs": [
    {
     "data": {
      "text/plain": [
       "'2.3/(4)\\\\|6 foo 5.3-2'"
      ]
     },
     "execution_count": 126,
     "metadata": {},
     "output_type": "execute_result"
    }
   ],
   "source": [
    "pat.sub('2', s1)"
   ]
  },
  {
   "cell_type": "code",
   "execution_count": 127,
   "id": "6b58a058",
   "metadata": {},
   "outputs": [
    {
     "data": {
      "text/plain": [
       "'242 - (4)\\\\|3'"
      ]
     },
     "execution_count": 127,
     "metadata": {},
     "output_type": "execute_result"
    }
   ],
   "source": [
    "pat.sub('2', s2)"
   ]
  },
  {
   "cell_type": "code",
   "execution_count": 128,
   "id": "09f28db9",
   "metadata": {},
   "outputs": [
    {
     "data": {
      "text/plain": [
       "'two - (4)\\\\|\\n'"
      ]
     },
     "execution_count": 128,
     "metadata": {},
     "output_type": "execute_result"
    }
   ],
   "source": [
    "pat.sub('2', s3)"
   ]
  },
  {
   "cell_type": "code",
   "execution_count": 133,
   "id": "251e4eae",
   "metadata": {},
   "outputs": [],
   "source": [
    "# transform the given input strings to the expected output using same logic on both strings.\n",
    "str1 = '(9-2)*5+qty/3'\n",
    "str2 = '(qty+4)/2-(9-2)*5+pq/4'"
   ]
  },
  {
   "cell_type": "code",
   "execution_count": 134,
   "id": "7dc46ba6",
   "metadata": {},
   "outputs": [
    {
     "data": {
      "text/plain": [
       "'35+qty/3'"
      ]
     },
     "execution_count": 134,
     "metadata": {},
     "output_type": "execute_result"
    }
   ],
   "source": [
    "str1.replace('(9-2)*5', '35')"
   ]
  },
  {
   "cell_type": "code",
   "execution_count": 135,
   "id": "8e471f3e",
   "metadata": {},
   "outputs": [
    {
     "data": {
      "text/plain": [
       "'(qty+4)/2-35+pq/4'"
      ]
     },
     "execution_count": 135,
     "metadata": {},
     "output_type": "execute_result"
    }
   ],
   "source": [
    "str2.replace('(9-2)*5', '35')"
   ]
  },
  {
   "cell_type": "code",
   "execution_count": 3,
   "id": "71e9d3cb",
   "metadata": {},
   "outputs": [],
   "source": [
    "# replace any matching element from th elist items with X for given the \n",
    "# input strings. match the elements from items literally. Assume no two \n",
    "# elements of itmes will result in any matching conflict\n",
    "\n",
    "items = ['a.b', '3+n', r'x\\y\\z', 'qty||price', '{n}']\n",
    "pat = re.compile('|'.join(re.escape(e) for e in items))"
   ]
  },
  {
   "cell_type": "code",
   "execution_count": 4,
   "id": "5c10cd0f",
   "metadata": {},
   "outputs": [
    {
     "data": {
      "text/plain": [
       "'0Xcd'"
      ]
     },
     "execution_count": 4,
     "metadata": {},
     "output_type": "execute_result"
    }
   ],
   "source": [
    "pat.sub('X','0a.bcd')"
   ]
  },
  {
   "cell_type": "code",
   "execution_count": 5,
   "id": "8e29c740",
   "metadata": {},
   "outputs": [
    {
     "data": {
      "text/plain": [
       "'EXAMPLE'"
      ]
     },
     "execution_count": 5,
     "metadata": {},
     "output_type": "execute_result"
    }
   ],
   "source": [
    "pat.sub('X','E{n}AMPLE')"
   ]
  },
  {
   "cell_type": "code",
   "execution_count": 6,
   "id": "e31d246b",
   "metadata": {},
   "outputs": [
    {
     "data": {
      "text/plain": [
       "'4X2 aXe'"
      ]
     },
     "execution_count": 6,
     "metadata": {},
     "output_type": "execute_result"
    }
   ],
   "source": [
    "pat.sub('X',r'43+n2 ax\\y\\ze')"
   ]
  },
  {
   "cell_type": "code",
   "execution_count": 19,
   "id": "97afd6c8",
   "metadata": {},
   "outputs": [
    {
     "data": {
      "text/plain": [
       "' 123 \\x08 456 '"
      ]
     },
     "execution_count": 19,
     "metadata": {},
     "output_type": "execute_result"
    }
   ],
   "source": [
    "# replace backspace character \\b with a single space character\n",
    "ip = '123\\b456'\n",
    "re.sub(r'\\b',' ',ip)"
   ]
  },
  {
   "cell_type": "code",
   "execution_count": 20,
   "id": "7640e73b",
   "metadata": {},
   "outputs": [
    {
     "data": {
      "text/plain": [
       "'123 456'"
      ]
     },
     "execution_count": 20,
     "metadata": {},
     "output_type": "execute_result"
    }
   ],
   "source": [
    "re.sub(r'\\x08',' ',ip)"
   ]
  },
  {
   "cell_type": "code",
   "execution_count": 21,
   "id": "2624c175",
   "metadata": {},
   "outputs": [
    {
     "data": {
      "text/plain": [
       "'there are common aspects among the alternations'"
      ]
     },
     "execution_count": 21,
     "metadata": {},
     "output_type": "execute_result"
    }
   ],
   "source": [
    "# replace all the occurences of \\e with e \n",
    "ip = r'th\\er\\e ar\\e common asp\\ects among th\\e alt\\ernations'\n",
    "re.sub(r'\\\\e','e',ip)"
   ]
  },
  {
   "cell_type": "code",
   "execution_count": 22,
   "id": "6e123bfb",
   "metadata": {},
   "outputs": [
    {
     "data": {
      "text/plain": [
       "'3-X*X-X+3'"
      ]
     },
     "execution_count": 22,
     "metadata": {},
     "output_type": "execute_result"
    }
   ],
   "source": [
    "# replace any matching item from the list eqns with X for given the string\n",
    "# ip. match the items from equns literally. \n",
    "ip = '3-(a^b)+2*(a^b)-(a/b)+3'\n",
    "eqns = ['(a^b)', '(a/b)', '(a^b)+2']\n",
    "eqns_sorted = sorted(eqns, key = len, reverse = True)\n",
    "pat = re.compile('|'.join(re.escape(s) for s in eqns_sorted))\n",
    "pat.sub('X',ip)"
   ]
  },
  {
   "cell_type": "markdown",
   "id": "a77f88bb",
   "metadata": {},
   "source": [
    "# `Dot metacharacter and Quantifiers`"
   ]
  },
  {
   "cell_type": "code",
   "execution_count": 27,
   "id": "cfdedb90",
   "metadata": {},
   "outputs": [
    {
     "data": {
      "text/plain": [
       "'a+8-c pressure*3+8-14256'"
      ]
     },
     "execution_count": 27,
     "metadata": {},
     "output_type": "execute_result"
    }
   ],
   "source": [
    "# replace 42//5 or 42/5 with 8 for the given input \n",
    "ip = 'a+42//5-c pressure*3+42/5-14256'\n",
    "re.sub(r'42//?5','8',ip)"
   ]
  },
  {
   "cell_type": "code",
   "execution_count": 4,
   "id": "65919a8a",
   "metadata": {},
   "outputs": [
    {
     "data": {
      "text/plain": [
       "['hand', 'handy', 'hands', 'handle']"
      ]
     },
     "execution_count": 4,
     "metadata": {},
     "output_type": "execute_result"
    }
   ],
   "source": [
    "# for the list items, filter all elements starting with hand ending with \n",
    "# at most one more character or le. \n",
    "items = ['handed','hand','handled','handy','unhand','hands','handle']\n",
    "[w for w in items if re.fullmatch(r'hand(.|le)?',w)]"
   ]
  },
  {
   "cell_type": "code",
   "execution_count": null,
   "id": "24d9974f",
   "metadata": {},
   "outputs": [],
   "source": []
  },
  {
   "cell_type": "code",
   "execution_count": null,
   "id": "2dda859f",
   "metadata": {},
   "outputs": [],
   "source": []
  },
  {
   "cell_type": "code",
   "execution_count": null,
   "id": "ed3604f5",
   "metadata": {},
   "outputs": [],
   "source": [
    "\n"
   ]
  }
 ],
 "metadata": {
  "kernelspec": {
   "display_name": "Python 3 (ipykernel)",
   "language": "python",
   "name": "python3"
  },
  "language_info": {
   "codemirror_mode": {
    "name": "ipython",
    "version": 3
   },
   "file_extension": ".py",
   "mimetype": "text/x-python",
   "name": "python",
   "nbconvert_exporter": "python",
   "pygments_lexer": "ipython3",
   "version": "3.7.13"
  }
 },
 "nbformat": 4,
 "nbformat_minor": 5
}
