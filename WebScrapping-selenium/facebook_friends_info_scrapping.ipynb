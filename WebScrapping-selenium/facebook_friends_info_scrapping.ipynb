{
 "cells": [
  {
   "cell_type": "code",
   "execution_count": null,
   "id": "acb10c44-cdad-41e2-a5e0-75112fc5c01a",
   "metadata": {},
   "outputs": [],
   "source": [
    "from selenium import webdriver\n",
    "from selenium.webdriver.support.wait import WebDriverWait\n",
    "from selenium.webdriver.support import expected_conditions as EC\n",
    "from selenium.webdriver.common.by import By\n",
    "from selenium.webdriver.common.keys import Keys\n",
    "import os\n",
    "import wget\n",
    "import time\n",
    "\n",
    "# driver setup\n",
    "chrome_options = webdriver.ChromeOptions()\n",
    "prefs = {\"profile.default_content_setting_values.notifications\": 2}\n",
    "chrome_options.add_experimental_option(\"prefs\", prefs)\n",
    "driver = webdriver.Chrome(options=chrome_options)\n",
    "driver.get(\"http://www.facebook.com\")\n",
    "\n",
    "# authentication \n",
    "username = WebDriverWait(driver, 10).until(EC.element_to_be_clickable((By.CSS_SELECTOR, \"input[name='email']\")))\n",
    "password = WebDriverWait(driver, 10).until(EC.element_to_be_clickable((By.CSS_SELECTOR, \"input[name='pass']\")))\n",
    "username.clear()\n",
    "username.send_keys(\"\")\n",
    "password.clear()\n",
    "password.send_keys(\"\")\n",
    "button = WebDriverWait(driver, 2).until(EC.element_to_be_clickable((By.CSS_SELECTOR, \"button[type='submit']\"))).click()"
   ]
  },
  {
   "cell_type": "code",
   "execution_count": null,
   "id": "25cbdcc6-0223-4880-ad9e-499ca026e575",
   "metadata": {},
   "outputs": [],
   "source": [
    "driver.get(\"https://www.facebook.com/friends/list/\")\n",
    "friends_element = driver.find_elements(By.CSS_SELECTOR,'a[class=\"oajrlxb2 gs1a9yip g5ia77u1 mtkw9kbi tlpljxtp qensuy8j ppp5ayq2 goun2846 ccm00jje s44p3ltw mk2mc5f4 rt8b4zig n8ej3o3l agehan2d sk4xxmp2 rq0escxv nhd2j8a9 mg4g778l pfnyh3mw p7hjln8o kvgmc6g5 cxmmr5t8 oygrvhab hcukyx3x tgvbjcpo hpfvmrgz jb3vyjys rz4wbd8a qt6c0cv9 a8nywdso l9j0dhe7 i1ao9s8h esuyzwwr f1sip0of du4w35lb btwxx1t3 abiwlrkh p8dawk7l lzcic4wl ue3kfks5 pw54ja7n uo3d90p7 l82x9zwi a8c37x1j\"]')\n",
    "profile_urls = [i.get_attribute('href') for i in friends_element]\n",
    "def filter_profile(profile_url):\n",
    "    '''removing the profile urls with id '''\n",
    "    if profile_url.split('/')[3].startswith('profile'):\n",
    "        return False\n",
    "    else:\n",
    "        return True\n",
    "profile_urls = [i for i in profile_urls if filter_profile(i)]\n",
    "profile_urls"
   ]
  },
  {
   "cell_type": "code",
   "execution_count": null,
   "id": "61c5c2b2-b828-41c9-bcfe-3522dda8a130",
   "metadata": {},
   "outputs": [],
   "source": [
    "# testing the first profile  \n",
    "driver.get(profile_urls[0])\n",
    "\n",
    "about_url = profile_urls[0]+'/'+'about/'\n",
    "driver.get(about_url)\n",
    "\n",
    "work_element_link =  profile_urls[0]+'/about_work_and_education/'\n",
    "driver.get(work_element_link)\n",
    "\n",
    "# work and education details \n",
    "work_education_element = driver.find_elements(By.CSS_SELECTOR,'div[class=\"dati1w0a tu1s4ah4 f7vcsfb0 discj3wi\"]')\n",
    "work_education_informations = [i.get_attribute('innerText') for i in work_education_element]\n",
    "work_education_informations"
   ]
  },
  {
   "cell_type": "markdown",
   "id": "170f594f-a6cb-4f3f-b208-38ab2900160e",
   "metadata": {},
   "source": [
    "# main loop "
   ]
  },
  {
   "cell_type": "code",
   "execution_count": null,
   "id": "fdc40874-f401-4616-a8fa-1e9fe798fdb2",
   "metadata": {},
   "outputs": [],
   "source": [
    "from tqdm import tqdm \n",
    "work_and_education = []\n",
    "for profile_url in tqdm(profile_urls):\n",
    "    driver.get(profile_url)\n",
    "    about_url = profile_url+'/about/'\n",
    "    driver.get(about_url)\n",
    "    work_and_education_link = profile_url+'/about_work_and_education/'\n",
    "    driver.get(work_and_education_link)\n",
    "    \n",
    "    try:\n",
    "       # work and education details \n",
    "        work_education_element = driver.find_elements(By.CSS_SELECTOR,'div[class=\"dati1w0a tu1s4ah4 f7vcsfb0 discj3wi\"]')\n",
    "        work_education_info = [i.get_attribute('innerText') for i in work_education_element] \n",
    "        work_and_education.append(work_education_info[0])\n",
    "    except: \n",
    "        work_and_education.append('nan')"
   ]
  },
  {
   "cell_type": "code",
   "execution_count": null,
   "id": "2571abf4-8e55-4c6a-884b-511e2b88d666",
   "metadata": {},
   "outputs": [],
   "source": [
    "import pandas as pd \n",
    "df = pd.DataFrame({\n",
    "    \"profile_url\":profile_urls,\n",
    "    \"work_education\":work_and_education\n",
    "    })\n",
    "df"
   ]
  },
  {
   "cell_type": "code",
   "execution_count": null,
   "id": "c9caf143-dd30-4b47-a5b8-85f1ef7c54b1",
   "metadata": {},
   "outputs": [],
   "source": [
    "print(df.work_education[0])"
   ]
  },
  {
   "cell_type": "code",
   "execution_count": null,
   "id": "66a7c7e1-a8e5-4470-a683-11547164f1b3",
   "metadata": {},
   "outputs": [],
   "source": [
    "text = df.work_education[0]\n",
    "pattern = re.compile(r'\\nUniversity\\n')\n",
    "span = pattern.search(text).span()\n",
    "university_details = text[span[0]:]\n",
    "university_details"
   ]
  },
  {
   "cell_type": "code",
   "execution_count": null,
   "id": "5f487aee-5d5a-4931-bee3-0b7bd37ec873",
   "metadata": {},
   "outputs": [],
   "source": [
    "bool('nan')"
   ]
  },
  {
   "cell_type": "code",
   "execution_count": null,
   "id": "b05210ce",
   "metadata": {},
   "outputs": [],
   "source": []
  }
 ],
 "metadata": {
  "kernelspec": {
   "display_name": "Python 3 (ipykernel)",
   "language": "python",
   "name": "python3"
  },
  "language_info": {
   "codemirror_mode": {
    "name": "ipython",
    "version": 3
   },
   "file_extension": ".py",
   "mimetype": "text/x-python",
   "name": "python",
   "nbconvert_exporter": "python",
   "pygments_lexer": "ipython3",
   "version": "3.9.13"
  }
 },
 "nbformat": 4,
 "nbformat_minor": 5
}
