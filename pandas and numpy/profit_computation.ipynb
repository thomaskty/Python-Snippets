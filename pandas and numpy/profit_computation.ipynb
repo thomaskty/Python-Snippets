{
 "cells": [
  {
   "cell_type": "code",
   "execution_count": 29,
   "id": "18324543-cf24-4177-985f-7edd1e7118a8",
   "metadata": {},
   "outputs": [
    {
     "name": "stdout",
     "output_type": "stream",
     "text": [
      "yearly expense = 1737280\n"
     ]
    }
   ],
   "source": [
    "# total cost \n",
    "construction = 1500000\n",
    "yearly_rent = 12*24000\n",
    "employee_charges = 12*10*12*6*52\n",
    "variable_cost = 1000000\n",
    "\n",
    "yearly_expense = yearly_rent+employee_charges+variable_cost\n",
    "print('yearly expense =',yearly_expense)"
   ]
  },
  {
   "cell_type": "code",
   "execution_count": 30,
   "id": "6ed80bcc-3863-422c-8d79-bf36b1a8d2db",
   "metadata": {},
   "outputs": [
    {
     "name": "stdout",
     "output_type": "stream",
     "text": [
      "yearly_revenue =  4992000\n"
     ]
    }
   ],
   "source": [
    "yearly_revenue = (50 * ((10*7)+(50*5)))*6*52\n",
    "print('yearly_revenue = ',yearly_revenue)"
   ]
  },
  {
   "cell_type": "code",
   "execution_count": 34,
   "id": "7f501f52-80e6-4648-80d7-4638f80e3538",
   "metadata": {},
   "outputs": [
    {
     "data": {
      "text/plain": [
       "1754720"
      ]
     },
     "execution_count": 34,
     "metadata": {},
     "output_type": "execute_result"
    }
   ],
   "source": [
    "ytd_profit = yearly_revenue - (construction+yearly_expense)\n",
    "ytd_profit"
   ]
  },
  {
   "cell_type": "code",
   "execution_count": null,
   "id": "646d7d6b-94dc-4123-9cbe-acb680b47bad",
   "metadata": {},
   "outputs": [],
   "source": [
    "# 1. hours of operation: 10am to 10pm\n",
    "# 2. days of operattion: mon-saturday (except sunday)\n",
    "# 3. no of visitors: \n",
    "# \t10 visitors/per hour from 10am -5pm\n",
    "# \t50 visitors/per hour from 5pm-10pm\n",
    "# 4. Charges/per person: 50\n",
    "# 5. no of weeks in a year: 52\n",
    "\n",
    "# 1. Construction cost: 15,00,000 # \n",
    "# 2. Rent: 24,000/month\n",
    "# 3. staff: 12 people\n",
    "# 4. yearly variable cost: 10,00,000/year\n",
    "# 5. Staff salary: 10/per hour per person"
   ]
  },
  {
   "cell_type": "code",
   "execution_count": null,
   "id": "b5fb2b3e-89f6-4321-a06b-43a71b64456c",
   "metadata": {},
   "outputs": [],
   "source": []
  },
  {
   "cell_type": "code",
   "execution_count": null,
   "id": "66da6be9-dd08-4f92-95d9-df95e188ff5e",
   "metadata": {},
   "outputs": [],
   "source": []
  }
 ],
 "metadata": {
  "kernelspec": {
   "display_name": "Python 3 (ipykernel)",
   "language": "python",
   "name": "python3"
  },
  "language_info": {
   "codemirror_mode": {
    "name": "ipython",
    "version": 3
   },
   "file_extension": ".py",
   "mimetype": "text/x-python",
   "name": "python",
   "nbconvert_exporter": "python",
   "pygments_lexer": "ipython3",
   "version": "3.11.5"
  }
 },
 "nbformat": 4,
 "nbformat_minor": 5
}
