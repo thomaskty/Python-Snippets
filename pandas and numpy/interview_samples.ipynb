{
 "cells": [
  {
   "cell_type": "code",
   "execution_count": 141,
   "id": "177da9d1",
   "metadata": {},
   "outputs": [],
   "source": [
    "import pandas as pd"
   ]
  },
  {
   "cell_type": "code",
   "execution_count": 142,
   "id": "803827d3",
   "metadata": {},
   "outputs": [],
   "source": [
    "# integer : 15 digit number \n",
    "# hide the last four : replace with xxxx"
   ]
  },
  {
   "cell_type": "code",
   "execution_count": 143,
   "id": "aef79b6d",
   "metadata": {},
   "outputs": [],
   "source": [
    "def replace_4x(digit):\n",
    "    # digit can be any of any length : last 4 values will be replaced with xxxx\n",
    "    digit_strings = list(str(digit))\n",
    "    last_four = digit_strings[::-1][0:4][::-1]\n",
    "    rest = digit_strings[::-1][4:][::-1]\n",
    "    \n",
    "    # returning a dictionary : multiple values \n",
    "    return {\n",
    "        'hashed':''.join(rest)+'X'*4,\n",
    "        'last4':''.join(last_four)\n",
    "    }"
   ]
  },
  {
   "cell_type": "code",
   "execution_count": 144,
   "id": "78a53d84",
   "metadata": {},
   "outputs": [
    {
     "data": {
      "text/plain": [
       "{'hashed': '234XXXX', 'last4': '8739'}"
      ]
     },
     "execution_count": 144,
     "metadata": {},
     "output_type": "execute_result"
    }
   ],
   "source": [
    "replace_4x(2348739)"
   ]
  },
  {
   "cell_type": "code",
   "execution_count": 145,
   "id": "25c638df",
   "metadata": {},
   "outputs": [],
   "source": [
    "def replace_xxxx(digit):\n",
    "    # constrain : digit is a 15 digit number always : last four values will be replaced with xxxx\n",
    "    new_num_string = list(str(digit))\n",
    "    final = ''.join(new_num_string[:10])+'X'*4\n",
    "    \n",
    "    # returning a single value\n",
    "    return final "
   ]
  },
  {
   "cell_type": "code",
   "execution_count": 146,
   "id": "e2d2a5ee",
   "metadata": {},
   "outputs": [
    {
     "data": {
      "text/plain": [
       "'2349921384XXXX'"
      ]
     },
     "execution_count": 146,
     "metadata": {},
     "output_type": "execute_result"
    }
   ],
   "source": [
    "replace_xxxx(234992138423423)"
   ]
  },
  {
   "cell_type": "code",
   "execution_count": 147,
   "id": "e10afa2e",
   "metadata": {},
   "outputs": [],
   "source": [
    "import random\n",
    "cc_numbers = [''.join([str(random.randint(0,9)) for i in range(15)]) for i in range(10)]\n",
    "df = pd.DataFrame({'cc_numbers':cc_numbers})\n",
    "\n",
    "# applying the function which returns multiple values\n",
    "df['hashed'] = df['cc_numbers'].apply(lambda x : replace_4x(x)['hashed'])\n",
    "df['last4'] = df['cc_numbers'].apply(lambda x : replace_4x(x)['last4'])"
   ]
  },
  {
   "cell_type": "code",
   "execution_count": 148,
   "id": "b657c57f",
   "metadata": {},
   "outputs": [],
   "source": [
    "# applying the function which returns a single value \n",
    "df['replaced'] = df['cc_numbers'].apply(replace_xxxx)"
   ]
  },
  {
   "cell_type": "code",
   "execution_count": 149,
   "id": "b1ef04c3",
   "metadata": {},
   "outputs": [
    {
     "data": {
      "text/html": [
       "<div>\n",
       "<style scoped>\n",
       "    .dataframe tbody tr th:only-of-type {\n",
       "        vertical-align: middle;\n",
       "    }\n",
       "\n",
       "    .dataframe tbody tr th {\n",
       "        vertical-align: top;\n",
       "    }\n",
       "\n",
       "    .dataframe thead th {\n",
       "        text-align: right;\n",
       "    }\n",
       "</style>\n",
       "<table border=\"1\" class=\"dataframe\">\n",
       "  <thead>\n",
       "    <tr style=\"text-align: right;\">\n",
       "      <th></th>\n",
       "      <th>cc_numbers</th>\n",
       "      <th>hashed</th>\n",
       "      <th>last4</th>\n",
       "      <th>replaced</th>\n",
       "    </tr>\n",
       "  </thead>\n",
       "  <tbody>\n",
       "    <tr>\n",
       "      <th>0</th>\n",
       "      <td>748291127685171</td>\n",
       "      <td>74829112768XXXX</td>\n",
       "      <td>5171</td>\n",
       "      <td>7482911276XXXX</td>\n",
       "    </tr>\n",
       "    <tr>\n",
       "      <th>1</th>\n",
       "      <td>993932550136022</td>\n",
       "      <td>99393255013XXXX</td>\n",
       "      <td>6022</td>\n",
       "      <td>9939325501XXXX</td>\n",
       "    </tr>\n",
       "    <tr>\n",
       "      <th>2</th>\n",
       "      <td>929968095256259</td>\n",
       "      <td>92996809525XXXX</td>\n",
       "      <td>6259</td>\n",
       "      <td>9299680952XXXX</td>\n",
       "    </tr>\n",
       "    <tr>\n",
       "      <th>3</th>\n",
       "      <td>718018489807650</td>\n",
       "      <td>71801848980XXXX</td>\n",
       "      <td>7650</td>\n",
       "      <td>7180184898XXXX</td>\n",
       "    </tr>\n",
       "    <tr>\n",
       "      <th>4</th>\n",
       "      <td>910275873220891</td>\n",
       "      <td>91027587322XXXX</td>\n",
       "      <td>0891</td>\n",
       "      <td>9102758732XXXX</td>\n",
       "    </tr>\n",
       "    <tr>\n",
       "      <th>5</th>\n",
       "      <td>908778005089672</td>\n",
       "      <td>90877800508XXXX</td>\n",
       "      <td>9672</td>\n",
       "      <td>9087780050XXXX</td>\n",
       "    </tr>\n",
       "    <tr>\n",
       "      <th>6</th>\n",
       "      <td>553654896727235</td>\n",
       "      <td>55365489672XXXX</td>\n",
       "      <td>7235</td>\n",
       "      <td>5536548967XXXX</td>\n",
       "    </tr>\n",
       "    <tr>\n",
       "      <th>7</th>\n",
       "      <td>106797556802045</td>\n",
       "      <td>10679755680XXXX</td>\n",
       "      <td>2045</td>\n",
       "      <td>1067975568XXXX</td>\n",
       "    </tr>\n",
       "    <tr>\n",
       "      <th>8</th>\n",
       "      <td>438352750863611</td>\n",
       "      <td>43835275086XXXX</td>\n",
       "      <td>3611</td>\n",
       "      <td>4383527508XXXX</td>\n",
       "    </tr>\n",
       "    <tr>\n",
       "      <th>9</th>\n",
       "      <td>718361951526376</td>\n",
       "      <td>71836195152XXXX</td>\n",
       "      <td>6376</td>\n",
       "      <td>7183619515XXXX</td>\n",
       "    </tr>\n",
       "  </tbody>\n",
       "</table>\n",
       "</div>"
      ],
      "text/plain": [
       "        cc_numbers           hashed last4        replaced\n",
       "0  748291127685171  74829112768XXXX  5171  7482911276XXXX\n",
       "1  993932550136022  99393255013XXXX  6022  9939325501XXXX\n",
       "2  929968095256259  92996809525XXXX  6259  9299680952XXXX\n",
       "3  718018489807650  71801848980XXXX  7650  7180184898XXXX\n",
       "4  910275873220891  91027587322XXXX  0891  9102758732XXXX\n",
       "5  908778005089672  90877800508XXXX  9672  9087780050XXXX\n",
       "6  553654896727235  55365489672XXXX  7235  5536548967XXXX\n",
       "7  106797556802045  10679755680XXXX  2045  1067975568XXXX\n",
       "8  438352750863611  43835275086XXXX  3611  4383527508XXXX\n",
       "9  718361951526376  71836195152XXXX  6376  7183619515XXXX"
      ]
     },
     "execution_count": 149,
     "metadata": {},
     "output_type": "execute_result"
    }
   ],
   "source": [
    "df"
   ]
  },
  {
   "cell_type": "code",
   "execution_count": 150,
   "id": "0009dd66",
   "metadata": {},
   "outputs": [],
   "source": [
    "# create a function which takes two arguments and return a single value\n",
    "def func(a,b):\n",
    "    return a+b"
   ]
  },
  {
   "cell_type": "code",
   "execution_count": 151,
   "id": "9d7ad8d2",
   "metadata": {},
   "outputs": [],
   "source": [
    "df = pd.DataFrame({\n",
    "    'x':[random.randint(111111111111111,999999999999999) for i in range(10)],\n",
    "    'y':[random.randint(111111111111111,999999999999999) for i in range(10)]\n",
    "})"
   ]
  },
  {
   "cell_type": "code",
   "execution_count": 152,
   "id": "f900b35c",
   "metadata": {},
   "outputs": [
    {
     "data": {
      "text/html": [
       "<div>\n",
       "<style scoped>\n",
       "    .dataframe tbody tr th:only-of-type {\n",
       "        vertical-align: middle;\n",
       "    }\n",
       "\n",
       "    .dataframe tbody tr th {\n",
       "        vertical-align: top;\n",
       "    }\n",
       "\n",
       "    .dataframe thead th {\n",
       "        text-align: right;\n",
       "    }\n",
       "</style>\n",
       "<table border=\"1\" class=\"dataframe\">\n",
       "  <thead>\n",
       "    <tr style=\"text-align: right;\">\n",
       "      <th></th>\n",
       "      <th>x</th>\n",
       "      <th>y</th>\n",
       "    </tr>\n",
       "  </thead>\n",
       "  <tbody>\n",
       "    <tr>\n",
       "      <th>0</th>\n",
       "      <td>460316864980387</td>\n",
       "      <td>764434984022914</td>\n",
       "    </tr>\n",
       "    <tr>\n",
       "      <th>1</th>\n",
       "      <td>986839137809607</td>\n",
       "      <td>601861791990834</td>\n",
       "    </tr>\n",
       "    <tr>\n",
       "      <th>2</th>\n",
       "      <td>657277380272411</td>\n",
       "      <td>548379150956056</td>\n",
       "    </tr>\n",
       "    <tr>\n",
       "      <th>3</th>\n",
       "      <td>667586247687142</td>\n",
       "      <td>149706154762755</td>\n",
       "    </tr>\n",
       "    <tr>\n",
       "      <th>4</th>\n",
       "      <td>589176320591486</td>\n",
       "      <td>679644624379164</td>\n",
       "    </tr>\n",
       "    <tr>\n",
       "      <th>5</th>\n",
       "      <td>578494431999256</td>\n",
       "      <td>410515180974171</td>\n",
       "    </tr>\n",
       "    <tr>\n",
       "      <th>6</th>\n",
       "      <td>741544648619246</td>\n",
       "      <td>370217868023256</td>\n",
       "    </tr>\n",
       "    <tr>\n",
       "      <th>7</th>\n",
       "      <td>488829290331292</td>\n",
       "      <td>795102093349103</td>\n",
       "    </tr>\n",
       "    <tr>\n",
       "      <th>8</th>\n",
       "      <td>395115651518753</td>\n",
       "      <td>888183489961551</td>\n",
       "    </tr>\n",
       "    <tr>\n",
       "      <th>9</th>\n",
       "      <td>323765777966673</td>\n",
       "      <td>487875919570105</td>\n",
       "    </tr>\n",
       "  </tbody>\n",
       "</table>\n",
       "</div>"
      ],
      "text/plain": [
       "                 x                y\n",
       "0  460316864980387  764434984022914\n",
       "1  986839137809607  601861791990834\n",
       "2  657277380272411  548379150956056\n",
       "3  667586247687142  149706154762755\n",
       "4  589176320591486  679644624379164\n",
       "5  578494431999256  410515180974171\n",
       "6  741544648619246  370217868023256\n",
       "7  488829290331292  795102093349103\n",
       "8  395115651518753  888183489961551\n",
       "9  323765777966673  487875919570105"
      ]
     },
     "execution_count": 152,
     "metadata": {},
     "output_type": "execute_result"
    }
   ],
   "source": [
    "df"
   ]
  },
  {
   "cell_type": "code",
   "execution_count": 153,
   "id": "51e84ba8",
   "metadata": {},
   "outputs": [],
   "source": [
    "# applying the function which takes two arguments : -> using two columsn and creating the next column\n",
    "df['x+y'] = df.apply(lambda x: func(x[\"x\"], x[\"y\"]), axis=1)"
   ]
  },
  {
   "cell_type": "code",
   "execution_count": 154,
   "id": "58d2a10d",
   "metadata": {},
   "outputs": [
    {
     "data": {
      "text/html": [
       "<div>\n",
       "<style scoped>\n",
       "    .dataframe tbody tr th:only-of-type {\n",
       "        vertical-align: middle;\n",
       "    }\n",
       "\n",
       "    .dataframe tbody tr th {\n",
       "        vertical-align: top;\n",
       "    }\n",
       "\n",
       "    .dataframe thead th {\n",
       "        text-align: right;\n",
       "    }\n",
       "</style>\n",
       "<table border=\"1\" class=\"dataframe\">\n",
       "  <thead>\n",
       "    <tr style=\"text-align: right;\">\n",
       "      <th></th>\n",
       "      <th>x</th>\n",
       "      <th>y</th>\n",
       "      <th>x+y</th>\n",
       "    </tr>\n",
       "  </thead>\n",
       "  <tbody>\n",
       "    <tr>\n",
       "      <th>0</th>\n",
       "      <td>460316864980387</td>\n",
       "      <td>764434984022914</td>\n",
       "      <td>1224751849003301</td>\n",
       "    </tr>\n",
       "    <tr>\n",
       "      <th>1</th>\n",
       "      <td>986839137809607</td>\n",
       "      <td>601861791990834</td>\n",
       "      <td>1588700929800441</td>\n",
       "    </tr>\n",
       "    <tr>\n",
       "      <th>2</th>\n",
       "      <td>657277380272411</td>\n",
       "      <td>548379150956056</td>\n",
       "      <td>1205656531228467</td>\n",
       "    </tr>\n",
       "    <tr>\n",
       "      <th>3</th>\n",
       "      <td>667586247687142</td>\n",
       "      <td>149706154762755</td>\n",
       "      <td>817292402449897</td>\n",
       "    </tr>\n",
       "    <tr>\n",
       "      <th>4</th>\n",
       "      <td>589176320591486</td>\n",
       "      <td>679644624379164</td>\n",
       "      <td>1268820944970650</td>\n",
       "    </tr>\n",
       "    <tr>\n",
       "      <th>5</th>\n",
       "      <td>578494431999256</td>\n",
       "      <td>410515180974171</td>\n",
       "      <td>989009612973427</td>\n",
       "    </tr>\n",
       "    <tr>\n",
       "      <th>6</th>\n",
       "      <td>741544648619246</td>\n",
       "      <td>370217868023256</td>\n",
       "      <td>1111762516642502</td>\n",
       "    </tr>\n",
       "    <tr>\n",
       "      <th>7</th>\n",
       "      <td>488829290331292</td>\n",
       "      <td>795102093349103</td>\n",
       "      <td>1283931383680395</td>\n",
       "    </tr>\n",
       "    <tr>\n",
       "      <th>8</th>\n",
       "      <td>395115651518753</td>\n",
       "      <td>888183489961551</td>\n",
       "      <td>1283299141480304</td>\n",
       "    </tr>\n",
       "    <tr>\n",
       "      <th>9</th>\n",
       "      <td>323765777966673</td>\n",
       "      <td>487875919570105</td>\n",
       "      <td>811641697536778</td>\n",
       "    </tr>\n",
       "  </tbody>\n",
       "</table>\n",
       "</div>"
      ],
      "text/plain": [
       "                 x                y               x+y\n",
       "0  460316864980387  764434984022914  1224751849003301\n",
       "1  986839137809607  601861791990834  1588700929800441\n",
       "2  657277380272411  548379150956056  1205656531228467\n",
       "3  667586247687142  149706154762755   817292402449897\n",
       "4  589176320591486  679644624379164  1268820944970650\n",
       "5  578494431999256  410515180974171   989009612973427\n",
       "6  741544648619246  370217868023256  1111762516642502\n",
       "7  488829290331292  795102093349103  1283931383680395\n",
       "8  395115651518753  888183489961551  1283299141480304\n",
       "9  323765777966673  487875919570105   811641697536778"
      ]
     },
     "execution_count": 154,
     "metadata": {},
     "output_type": "execute_result"
    }
   ],
   "source": [
    "df"
   ]
  },
  {
   "cell_type": "code",
   "execution_count": null,
   "id": "bab5ade7",
   "metadata": {},
   "outputs": [],
   "source": []
  },
  {
   "cell_type": "code",
   "execution_count": null,
   "id": "7ac27aa7",
   "metadata": {},
   "outputs": [],
   "source": []
  }
 ],
 "metadata": {
  "kernelspec": {
   "display_name": "Python 3 (ipykernel)",
   "language": "python",
   "name": "python3"
  },
  "language_info": {
   "codemirror_mode": {
    "name": "ipython",
    "version": 3
   },
   "file_extension": ".py",
   "mimetype": "text/x-python",
   "name": "python",
   "nbconvert_exporter": "python",
   "pygments_lexer": "ipython3",
   "version": "3.11.5"
  }
 },
 "nbformat": 4,
 "nbformat_minor": 5
}
