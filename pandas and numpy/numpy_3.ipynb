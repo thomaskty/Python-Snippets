{
 "cells": [
  {
   "cell_type": "code",
   "execution_count": null,
   "id": "2c4e07b5",
   "metadata": {},
   "outputs": [],
   "source": [
    "import numpy as np \n",
    "# import array "
   ]
  },
  {
   "cell_type": "code",
   "execution_count": null,
   "id": "8c187f3d",
   "metadata": {},
   "outputs": [],
   "source": [
    "# setting seed \n",
    "np.random.seed(121)"
   ]
  },
  {
   "cell_type": "code",
   "execution_count": null,
   "id": "0e319a21",
   "metadata": {},
   "outputs": [],
   "source": [
    "'''\n",
    "videos, images, sounds, etc. \n",
    "''' \n",
    "# ndarray\n",
    "type(np.array([8,2,3,2])) "
   ]
  },
  {
   "cell_type": "code",
   "execution_count": null,
   "id": "623bacdc",
   "metadata": {},
   "outputs": [],
   "source": [
    "np.array([2,13,1,49])"
   ]
  },
  {
   "cell_type": "code",
   "execution_count": null,
   "id": "da358dfa",
   "metadata": {},
   "outputs": [],
   "source": [
    "# upcasting higher order data \n",
    "# one dimensional array \n",
    "np.array([2,4,'thomas'], )"
   ]
  },
  {
   "cell_type": "code",
   "execution_count": null,
   "id": "f8ae550c",
   "metadata": {},
   "outputs": [],
   "source": [
    "# giving a special datatype \n",
    "np.array([2,3,1.3], dtype = 'float32') "
   ]
  },
  {
   "cell_type": "code",
   "execution_count": null,
   "id": "0498140b",
   "metadata": {},
   "outputs": [],
   "source": [
    "# two dimensional array \n",
    "np.array([[1,2,3], [23,12,44],[2324,1233,1231]])"
   ]
  },
  {
   "cell_type": "code",
   "execution_count": null,
   "id": "efa9d831",
   "metadata": {},
   "outputs": [],
   "source": [
    "# three dimensional array \n",
    "np.array([\n",
    "    [[13,231,2],[23,12,42]], \n",
    "    [[23,12,3], [13,4,2]]\n",
    "    ]) "
   ]
  },
  {
   "cell_type": "code",
   "execution_count": null,
   "id": "a784993f",
   "metadata": {},
   "outputs": [],
   "source": [
    "np.array([[1,2], [1,4], [32,42,1]])"
   ]
  },
  {
   "cell_type": "code",
   "execution_count": null,
   "id": "a5f957ef",
   "metadata": {},
   "outputs": [],
   "source": [
    "# passing ndim paramter \n",
    "np.array([1,2,3], ndmin = 2) "
   ]
  },
  {
   "cell_type": "code",
   "execution_count": null,
   "id": "bedfed24",
   "metadata": {},
   "outputs": [],
   "source": [
    "# dtype \n",
    "np.array([1.2, 32,3], dtype = 'complex') "
   ]
  },
  {
   "cell_type": "code",
   "execution_count": null,
   "id": "d9eec803",
   "metadata": {},
   "outputs": [],
   "source": [
    "# passing tuples \n",
    "np.array([(1,3) , (3,12)]) "
   ]
  },
  {
   "cell_type": "code",
   "execution_count": null,
   "id": "8a94f013",
   "metadata": {},
   "outputs": [],
   "source": [
    "# customising the dtypes \n",
    "arr = np.array([(1,3), (3,5)], dtype = [(\"a\", 'int16'), (\"b\", \"int8\")])"
   ]
  },
  {
   "cell_type": "code",
   "execution_count": null,
   "id": "b7ce1f11",
   "metadata": {},
   "outputs": [],
   "source": [
    "type(arr[0][0])"
   ]
  },
  {
   "cell_type": "code",
   "execution_count": null,
   "id": "cd48948c",
   "metadata": {},
   "outputs": [],
   "source": [
    "type(arr[0][1]) "
   ]
  },
  {
   "cell_type": "code",
   "execution_count": null,
   "id": "6298e8d0",
   "metadata": {},
   "outputs": [],
   "source": [
    "type(arr[1][0])"
   ]
  },
  {
   "cell_type": "code",
   "execution_count": null,
   "id": "5e8bebec",
   "metadata": {},
   "outputs": [],
   "source": [
    "type(arr[0][1]) "
   ]
  },
  {
   "cell_type": "code",
   "execution_count": null,
   "id": "bc1df930",
   "metadata": {},
   "outputs": [],
   "source": [
    "# accessing the data \n",
    "arr = np.array([[12,34,2], [23,10,4],[3,2,3],[495,3,9]])"
   ]
  },
  {
   "cell_type": "code",
   "execution_count": null,
   "id": "73839d46",
   "metadata": {},
   "outputs": [],
   "source": [
    "print(arr)\n",
    "arr[0][1]"
   ]
  },
  {
   "cell_type": "code",
   "execution_count": null,
   "id": "1c94d3e5",
   "metadata": {},
   "outputs": [],
   "source": [
    "# default type is int64 \n",
    "type(arr[0][1])"
   ]
  },
  {
   "cell_type": "code",
   "execution_count": null,
   "id": "707affc0",
   "metadata": {},
   "outputs": [],
   "source": [
    "# matrices \n",
    "mat = np.mat(arr)# the type is matrix : but the representation is same \n",
    "\n",
    "# can use either mat or matrix \n",
    "\n",
    "\n",
    "# converting list into array \n",
    "l = [2,3,2,3,2,5,3,6,4] \n",
    "np.array(l)  # array()"
   ]
  },
  {
   "cell_type": "code",
   "execution_count": null,
   "id": "320af008",
   "metadata": {},
   "outputs": [],
   "source": [
    "np.asarray(l)  # asarray()"
   ]
  },
  {
   "cell_type": "code",
   "execution_count": null,
   "id": "1dde35db",
   "metadata": {},
   "outputs": [],
   "source": [
    "np.asanyarray(l) # ananyarray()"
   ]
  },
  {
   "cell_type": "code",
   "execution_count": null,
   "id": "dc2db4cb",
   "metadata": {},
   "outputs": [],
   "source": [
    "# matrix is already a type of array so it will not do any kind of array\n",
    "np.asanyarray(mat)"
   ]
  },
  {
   "cell_type": "code",
   "execution_count": null,
   "id": "f33aa7e4",
   "metadata": {},
   "outputs": [],
   "source": [
    "# here the asarray convert matrix into array \n",
    "np.asarray(mat)"
   ]
  },
  {
   "cell_type": "code",
   "execution_count": null,
   "id": "b8e1a36e",
   "metadata": {},
   "outputs": [],
   "source": [
    "# matrix is subclass of array \n",
    "issubclass(np.matrix, np.ndarray)"
   ]
  },
  {
   "cell_type": "code",
   "execution_count": null,
   "id": "7a04d798",
   "metadata": {},
   "outputs": [],
   "source": [
    "issubclass(np.ndarray, np.matrix)"
   ]
  },
  {
   "cell_type": "code",
   "execution_count": null,
   "id": "63726d24",
   "metadata": {},
   "outputs": [],
   "source": [
    " \n",
    "\n",
    "# deep copy and shallow copy \n",
    "a = arr # assign value of arr to a : shallow copy \n",
    "\n",
    "b = np.copy(arr)  # using copy : deep copy \n",
    "\n",
    "arr[0][0] = 123\n",
    "print(arr)\n",
    "print(a)   \n",
    "print(b)  # holding old value "
   ]
  },
  {
   "cell_type": "code",
   "execution_count": null,
   "id": "e030d4ea",
   "metadata": {},
   "outputs": [],
   "source": [
    "'''\n",
    "observations :\n",
    "    * array are mutable \n",
    "    * deep copy and shallow copy \n",
    "''' \n",
    "\n",
    "\n",
    "# indexing and slicing \n",
    "#=============================================\n",
    "for i in arr:\n",
    "    print(i)"
   ]
  },
  {
   "cell_type": "code",
   "execution_count": null,
   "id": "63c3791d",
   "metadata": {},
   "outputs": [],
   "source": [
    "bools = np.fromfunction(lambda i , j : i ==j, (3,4)) \n",
    "arr1 = np.fromfunction(lambda i , j : i*j, (3,4)) \n",
    "print(arr1)"
   ]
  },
  {
   "cell_type": "code",
   "execution_count": null,
   "id": "5903ca51",
   "metadata": {},
   "outputs": [],
   "source": [
    "arr2 = np.fromfunction(lambda i , j : i/j, (3,4)) \n",
    "print(arr2) "
   ]
  },
  {
   "cell_type": "code",
   "execution_count": null,
   "id": "118bc94d",
   "metadata": {},
   "outputs": [],
   "source": [
    "# inf keyword exists in numpy \n",
    "# otherwise we will get exception : zerodivision error \n",
    "\n",
    "\n",
    "\n",
    "\n",
    "# fromiterator \n",
    "# range is also a generator.  \n",
    "\n",
    "gen = (i*i for i in range(5))  # generator object \n",
    "\n",
    "def test(x):\n",
    "    yield x  \n",
    "test(5) "
   ]
  },
  {
   "cell_type": "code",
   "execution_count": null,
   "id": "0a0f2dfd",
   "metadata": {},
   "outputs": [],
   "source": [
    "np.fromiter(gen, dtype = int)"
   ]
  },
  {
   "cell_type": "code",
   "execution_count": null,
   "id": "240e4da5",
   "metadata": {},
   "outputs": [],
   "source": [
    "np.fromiter(range(4), dtype = int)"
   ]
  },
  {
   "cell_type": "code",
   "execution_count": null,
   "id": "80f0cd72",
   "metadata": {},
   "outputs": [],
   "source": [
    "# fromstring functtion \n",
    "np.fromstring('1,2,3,1,3,3,6,3,52', sep = ', ', dtype = 'int32')"
   ]
  },
  {
   "cell_type": "code",
   "execution_count": null,
   "id": "a0b16627",
   "metadata": {},
   "outputs": [],
   "source": [
    "# understanding ndim, size, shape, dtype  \n",
    "# -------------------------------------------\n",
    "arr1 = np.array([1,2,3,2,4,2,4]) \n",
    "arr2 = np.array([[2,1,3,3], [27,32,42,2]])\n",
    "\n",
    "type(arr2)       "
   ]
  },
  {
   "cell_type": "code",
   "execution_count": null,
   "id": "764ff1f5",
   "metadata": {},
   "outputs": [],
   "source": [
    "print(arr2.ndim)   # dimension \n",
    "print(arr2.size)   # no.of elements \n",
    "print(arr2.shape)   # shape \n",
    "print(arr2.dtype)  # type of elements "
   ]
  },
  {
   "cell_type": "code",
   "execution_count": null,
   "id": "53b7ca2d",
   "metadata": {},
   "outputs": [],
   "source": [
    "# creating another three dimensional data \n",
    "arr_3 = np.array([\n",
    "    [[1,2,3,2], [3,2,5,7],[2,2,4,3]],\n",
    "    [[2,3,3,2], [34,3,3,9],[23,23,12,4]]\n",
    "    ])\n",
    "# two no of elements which has (3,4) dimension \n",
    "\n",
    "print(arr_3.shape) # elements_outside, elements_inside, values inside \n",
    "print(arr_3.size)\n",
    "print(arr_3.ndim)"
   ]
  },
  {
   "cell_type": "code",
   "execution_count": null,
   "id": "a38c66dc",
   "metadata": {},
   "outputs": [],
   "source": [
    "arr_3 = np.array([\n",
    "    [\n",
    "     [[1,2,3,2], [3,2,5,7],[2,2,4,3]],\n",
    "     [[2,3,3,2], [34,3,3,9],[23,23,12,4]]\n",
    "     ],\n",
    "    [\n",
    "     [[2,3,2,4], [3,2,54,46],[3,2,6,7]],\n",
    "     [[3,2,764,4],[8,4,6,5],[5,6,5,5]]\n",
    "     ]\n",
    "    ])\n",
    "# two no of elements which has (3,4) dimension \n",
    "\n",
    "print(arr_3.shape) # elements_outside, elements_inside, values inside \n",
    "print(arr_3.size)\n",
    "print(arr_3.ndim)"
   ]
  },
  {
   "cell_type": "code",
   "execution_count": null,
   "id": "9b4b11ba",
   "metadata": {},
   "outputs": [],
   "source": [
    "# arange function in numpy \n",
    "r_array = np.arange(3.3,8,.2) \n",
    "print(r_array)"
   ]
  },
  {
   "cell_type": "code",
   "execution_count": null,
   "id": "27a5c6bc",
   "metadata": {},
   "outputs": [],
   "source": [
    "arr4 = np.arange(1,9)\n",
    "print(arr4)"
   ]
  },
  {
   "cell_type": "code",
   "execution_count": null,
   "id": "03e7b02c",
   "metadata": {},
   "outputs": [],
   "source": [
    "arr5 = np.arange(3.9)\n",
    "print(arr5)"
   ]
  },
  {
   "cell_type": "code",
   "execution_count": null,
   "id": "51c650f4",
   "metadata": {},
   "outputs": [],
   "source": [
    "# linspace function \n",
    "lin = np.linspace(1,2,9) # getting equal distances 9 points between 1 and 2\n",
    "print(lin)"
   ]
  },
  {
   "cell_type": "code",
   "execution_count": null,
   "id": "9d49a6c3",
   "metadata": {},
   "outputs": [],
   "source": [
    "# np.zeros funciton \n",
    "zeros = np.zeros((2,3,2,3)) \n",
    "print(zeros)"
   ]
  },
  {
   "cell_type": "code",
   "execution_count": null,
   "id": "77a0820c",
   "metadata": {},
   "outputs": [],
   "source": [
    "# np.one function \n",
    "ones = np.ones((3,2,3))\n",
    "print(ones)"
   ]
  },
  {
   "cell_type": "code",
   "execution_count": null,
   "id": "a2accd9a",
   "metadata": {},
   "outputs": [],
   "source": [
    "twos = np.ones((2,3,2))*2 \n",
    "print(twos)"
   ]
  },
  {
   "cell_type": "code",
   "execution_count": null,
   "id": "cc4d9c60",
   "metadata": {},
   "outputs": [],
   "source": [
    "# empty function \n",
    "empty = np.empty((3,3))\n",
    "print(empty)"
   ]
  },
  {
   "cell_type": "code",
   "execution_count": null,
   "id": "fbb228c0",
   "metadata": {},
   "outputs": [],
   "source": [
    "# np.eyes() \n",
    "identity = np.eye(4)\n",
    "print(identity)"
   ]
  },
  {
   "cell_type": "code",
   "execution_count": null,
   "id": "536505af",
   "metadata": {},
   "outputs": [],
   "source": [
    "np.linspace(2,4,4, endpoint = False, axis = 0) \n",
    "# axis = 0 for row "
   ]
  },
  {
   "cell_type": "code",
   "execution_count": null,
   "id": "1d8febb5",
   "metadata": {},
   "outputs": [],
   "source": [
    "np.linspace([2,3,4],4,4, endpoint = True, axis =1)"
   ]
  },
  {
   "cell_type": "code",
   "execution_count": null,
   "id": "33801c9c",
   "metadata": {},
   "outputs": [],
   "source": [
    "# logspace : evenly spaces but in log scale \n",
    "np.logspace(2,3,36)"
   ]
  },
  {
   "cell_type": "code",
   "execution_count": null,
   "id": "4e4f1d4c",
   "metadata": {},
   "outputs": [],
   "source": [
    "# changing the dimension of the data \n",
    "\n",
    "d = np.linspace(1,200, 40)\n",
    "print(d)\n",
    "print(d.ndim)\n",
    "print(d.shape)"
   ]
  },
  {
   "cell_type": "code",
   "execution_count": null,
   "id": "721f049f",
   "metadata": {},
   "outputs": [],
   "source": [
    "# transposing \n",
    "d.reshape(40,1)"
   ]
  },
  {
   "cell_type": "code",
   "execution_count": null,
   "id": "686417db",
   "metadata": {},
   "outputs": [],
   "source": [
    "d.reshape(1,2,20)"
   ]
  },
  {
   "cell_type": "code",
   "execution_count": null,
   "id": "18766806",
   "metadata": {},
   "outputs": [],
   "source": [
    "d.reshape(2,4,5)"
   ]
  },
  {
   "cell_type": "code",
   "execution_count": null,
   "id": "92f8c174",
   "metadata": {},
   "outputs": [],
   "source": [
    "# ------------------------------\n",
    "# np.random function \n",
    "\n",
    "# np.random.rand\n",
    "rand_data = np.random.rand(3) # unifrom distribution  [0,1))\n",
    "\n",
    "np.random.randn(5)  # from standard normal distribution "
   ]
  },
  {
   "cell_type": "code",
   "execution_count": null,
   "id": "e1f9230d",
   "metadata": {},
   "outputs": [],
   "source": [
    "ar = np.random.randn(2,2,3)\n",
    "\n",
    "# randint function \n",
    "int_data = np.random.randint(1,4)\n",
    "print(int_data)"
   ]
  },
  {
   "cell_type": "code",
   "execution_count": null,
   "id": "d5d6ed55",
   "metadata": {},
   "outputs": [],
   "source": [
    "# between 3 and 49 and  with (10,5) shape \n",
    "d1 = np.random.randint(3,49, (10,5))\n",
    "print(d1)"
   ]
  },
  {
   "cell_type": "code",
   "execution_count": null,
   "id": "f7bac59f",
   "metadata": {},
   "outputs": [],
   "source": [
    "# second number doesnt matter here\n",
    "arr = np.array([[1,2,3,4,5,6],[12,1,2,1,2,1]]) \n",
    "arr.reshape(1,-3234)"
   ]
  },
  {
   "cell_type": "code",
   "execution_count": null,
   "id": "cca6d2c5",
   "metadata": {},
   "outputs": [],
   "source": [
    "#---------------------------------------------------\n",
    "arr = np.random.randint(4,100,(5,5)) \n",
    "print(arr) "
   ]
  },
  {
   "cell_type": "code",
   "execution_count": null,
   "id": "e0559d63",
   "metadata": {},
   "outputs": [],
   "source": [
    "print(arr[3:, 3:]) # subseting intersession \n",
    "\n",
    "# all rows, and (1,3) columns "
   ]
  },
  {
   "cell_type": "code",
   "execution_count": null,
   "id": "fc409a7d",
   "metadata": {},
   "outputs": [],
   "source": [
    "print(arr[:, [1,3]])\n",
    "\n",
    "# boolean filtering \n",
    "print(arr>50) # boolean output \n",
    "\n",
    "# get those elements \n",
    "print(arr[arr>50])"
   ]
  },
  {
   "cell_type": "code",
   "execution_count": null,
   "id": "21565ea9",
   "metadata": {},
   "outputs": [],
   "source": [
    "# multiplication : not exact matrix multiplication\n",
    "arr1 = np.random.randint(2,4,(3,3))\n",
    "arr2 = np.random.randint(3,5,(3,3)) \n",
    "\n",
    "print(arr1*arr2)"
   ]
  },
  {
   "cell_type": "code",
   "execution_count": null,
   "id": "9475dcc8",
   "metadata": {},
   "outputs": [],
   "source": [
    "# mathematical matrix multiplication \n",
    "print(arr1@arr2)"
   ]
  },
  {
   "cell_type": "code",
   "execution_count": null,
   "id": "df8469be",
   "metadata": {},
   "outputs": [],
   "source": [
    "# columnwise and rowwise broadcasting \n",
    "# addition  : broadcasting :  \n",
    "ar1 = np.array([1,2,3,4,3]) \n",
    "ar2 = np.random.randint(2,6,(5,4)) \n",
    "\n",
    "# column wise broadcasting \n",
    "ar2+ar1.reshape(5,1)\n",
    "\n",
    "\n",
    "# row wise addition \n",
    "b = np.array([1,1,1,1]) \n",
    "print(ar2+b) "
   ]
  },
  {
   "cell_type": "code",
   "execution_count": null,
   "id": "ca32c5e5",
   "metadata": {},
   "outputs": [],
   "source": [
    "# other operations \n",
    "\n",
    "print(arr1)\n",
    "print(np.sqrt(arr1))"
   ]
  },
  {
   "cell_type": "code",
   "execution_count": null,
   "id": "02faf2c3",
   "metadata": {},
   "outputs": [],
   "source": [
    "print(np.exp(arr1) )\n",
    "print(np.log10(arr1))\n",
    "\n",
    "print(np.log2(arr1))"
   ]
  },
  {
   "cell_type": "code",
   "execution_count": null,
   "id": "fe16a14d",
   "metadata": {},
   "outputs": [],
   "source": [
    "np.random.seed(30)"
   ]
  },
  {
   "cell_type": "code",
   "execution_count": null,
   "id": "88211c21",
   "metadata": {},
   "outputs": [],
   "source": [
    "np.random.rand(2,4)"
   ]
  }
 ],
 "metadata": {
  "kernelspec": {
   "display_name": "Python 3.8.8 64-bit ('base': conda)",
   "language": "python",
   "name": "python388jvsc74a57bd0b7dce63e39a4a8c98f5a1ef1e65571106e15efed32663927d397570964b86d03"
  },
  "language_info": {
   "codemirror_mode": {
    "name": "ipython",
    "version": 3
   },
   "file_extension": ".py",
   "mimetype": "text/x-python",
   "name": "python",
   "nbconvert_exporter": "python",
   "pygments_lexer": "ipython3",
   "version": "3.8.8"
  }
 },
 "nbformat": 4,
 "nbformat_minor": 5
}
