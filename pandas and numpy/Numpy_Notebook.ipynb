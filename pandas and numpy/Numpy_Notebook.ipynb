{
  "nbformat": 4,
  "nbformat_minor": 0,
  "metadata": {
    "colab": {
      "name": "Copy of Numpy_fullNotebook.ipynb",
      "provenance": [],
      "collapsed_sections": [],
      "toc_visible": true,
      "mount_file_id": "1XQiIC8fWxqLakYAxmomnBcVBNrTDDO-P",
      "authorship_tag": "ABX9TyM61W9ZiMqu43QCJSa3HbFj",
      "include_colab_link": true
    },
    "kernelspec": {
      "name": "python3",
      "display_name": "Python 3"
    }
  },
  "cells": [
    {
      "cell_type": "markdown",
      "metadata": {
        "id": "view-in-github",
        "colab_type": "text"
      },
      "source": [
        "<a href=\"https://colab.research.google.com/github/thomasreji155/Python-Notes/blob/main/Copy_of_Numpy_fullNotebook.ipynb\" target=\"_parent\"><img src=\"https://colab.research.google.com/assets/colab-badge.svg\" alt=\"Open In Colab\"/></a>"
      ]
    },
    {
      "cell_type": "markdown",
      "metadata": {
        "id": "XO7WbF-SC78c"
      },
      "source": [
        "# Numpy UFuncs\n",
        "Numpy provides a convinient interface for vectorised operations. A simple operation on the array will be then applied to each element. \n",
        "\n",
        "This vecotorized approach is designed to push the loop in to the compiled layer and leading to faster excecution\n",
        "\n",
        "vectorized operations in numpy are implemented via ufuncs, whose main purpose is to quikly excecute repeated operations on values in Numpy arrays. Using this we can also operate between 2 layers also. "
      ]
    },
    {
      "cell_type": "markdown",
      "metadata": {
        "id": "djEg0-EP63no"
      },
      "source": [
        "# loading the library"
      ]
    },
    {
      "cell_type": "code",
      "metadata": {
        "id": "cC5Wj9nRBZja"
      },
      "source": [
        "import numpy as np"
      ],
      "execution_count": null,
      "outputs": []
    },
    {
      "cell_type": "code",
      "metadata": {
        "colab": {
          "base_uri": "https://localhost:8080/"
        },
        "id": "OLT-BS09EK3m",
        "outputId": "bd78d5fe-fdb5-4850-97f4-0864709c2eac"
      },
      "source": [
        "np.arange(5),np.arange(1,6)"
      ],
      "execution_count": null,
      "outputs": [
        {
          "output_type": "execute_result",
          "data": {
            "text/plain": [
              "(array([0, 1, 2, 3, 4]), array([1, 2, 3, 4, 5]))"
            ]
          },
          "metadata": {
            "tags": []
          },
          "execution_count": 5
        }
      ]
    },
    {
      "cell_type": "code",
      "metadata": {
        "colab": {
          "base_uri": "https://localhost:8080/"
        },
        "id": "PpAZ9JH1ENvq",
        "outputId": "a8308f80-04e3-4e2a-a869-a342ddf753d4"
      },
      "source": [
        "g = np.arange(5)/ np.arange(1,6)\n",
        "g"
      ],
      "execution_count": null,
      "outputs": [
        {
          "output_type": "execute_result",
          "data": {
            "text/plain": [
              "array([0.        , 0.5       , 0.66666667, 0.75      , 0.8       ])"
            ]
          },
          "metadata": {
            "tags": []
          },
          "execution_count": 16
        }
      ]
    },
    {
      "cell_type": "code",
      "metadata": {
        "colab": {
          "base_uri": "https://localhost:8080/"
        },
        "id": "pknF-KzIEmWB",
        "outputId": "242b1fc3-d22d-44f7-e2f2-1fa314593f26"
      },
      "source": [
        "x = np.arange(9).reshape((3,3))\n",
        "o = 2*x\n",
        "o"
      ],
      "execution_count": null,
      "outputs": [
        {
          "output_type": "execute_result",
          "data": {
            "text/plain": [
              "array([[ 0,  2,  4],\n",
              "       [ 6,  8, 10],\n",
              "       [12, 14, 16]])"
            ]
          },
          "metadata": {
            "tags": []
          },
          "execution_count": 9
        }
      ]
    },
    {
      "cell_type": "code",
      "metadata": {
        "colab": {
          "base_uri": "https://localhost:8080/"
        },
        "id": "zIbYOumiE4q4",
        "outputId": "1941b2c9-19a1-4330-8da4-d32a6f38ab87"
      },
      "source": [
        "o//2        # floor division "
      ],
      "execution_count": null,
      "outputs": [
        {
          "output_type": "execute_result",
          "data": {
            "text/plain": [
              "array([[0, 1, 2],\n",
              "       [3, 4, 5],\n",
              "       [6, 7, 8]])"
            ]
          },
          "metadata": {
            "tags": []
          },
          "execution_count": 10
        }
      ]
    },
    {
      "cell_type": "code",
      "metadata": {
        "colab": {
          "base_uri": "https://localhost:8080/"
        },
        "id": "k7o41QLkFVKi",
        "outputId": "645758b6-d185-4643-e09d-7bf3330340ee"
      },
      "source": [
        "np.pi"
      ],
      "execution_count": null,
      "outputs": [
        {
          "output_type": "execute_result",
          "data": {
            "text/plain": [
              "3.141592653589793"
            ]
          },
          "metadata": {
            "tags": []
          },
          "execution_count": 17
        }
      ]
    },
    {
      "cell_type": "code",
      "metadata": {
        "colab": {
          "base_uri": "https://localhost:8080/"
        },
        "id": "Kgr2hNv5F4Xl",
        "outputId": "b72c4223-1d36-4695-fcfc-f475c4925016"
      },
      "source": [
        "v =np.array([2,3,5,6])\n",
        "np.add(v,np.array([4,2,6,3]))    # shapes should be equal this is element wise addition"
      ],
      "execution_count": null,
      "outputs": [
        {
          "output_type": "execute_result",
          "data": {
            "text/plain": [
              "array([ 6,  5, 11,  9])"
            ]
          },
          "metadata": {
            "tags": []
          },
          "execution_count": 20
        }
      ]
    },
    {
      "cell_type": "code",
      "metadata": {
        "colab": {
          "base_uri": "https://localhost:8080/"
        },
        "id": "yP450Tb2GKEl",
        "outputId": "2a92d02c-ff55-407c-a9ba-794ce10df8d3"
      },
      "source": [
        "abs(v)   # return the absolute value\n",
        "np.abs(v)\n",
        "np.absolute(v)"
      ],
      "execution_count": null,
      "outputs": [
        {
          "output_type": "execute_result",
          "data": {
            "text/plain": [
              "array([2, 3, 5, 6])"
            ]
          },
          "metadata": {
            "tags": []
          },
          "execution_count": 23
        }
      ]
    },
    {
      "cell_type": "code",
      "metadata": {
        "colab": {
          "base_uri": "https://localhost:8080/"
        },
        "id": "nVPwtms_Gbjc",
        "outputId": "f4ddeaf4-5f9f-441c-8cc0-9d94e7eee7e2"
      },
      "source": [
        "# trigonometric functions \n",
        "alpha = np.linspace(1,11,5)\n",
        "print(alpha)\n",
        "print('sin alpha = ',np.sin(alpha))\n",
        "print('arcsin alpha = ',np.arcsin(alpha)) \n",
        "print('exp alpha = ',np.exp(alpha))\n",
        "print('alpha power2 = ', np.exp2(alpha))\n",
        "print('alpha power 3 = ',np.power(3,alpha))\n",
        "print('log alpha',np.log(alpha))\n",
        "print('log2 of alpha',np.log2(alpha))\n",
        "print('log10 of alpha',np.log10(alpha)) "
      ],
      "execution_count": null,
      "outputs": [
        {
          "output_type": "stream",
          "text": [
            "[ 1.   3.5  6.   8.5 11. ]\n",
            "sin alpha =  [ 0.84147098 -0.35078323 -0.2794155   0.79848711 -0.99999021]\n",
            "arcsin alpha =  [1.57079633        nan        nan        nan        nan]\n",
            "exp alpha =  [2.71828183e+00 3.31154520e+01 4.03428793e+02 4.91476884e+03\n",
            " 5.98741417e+04]\n",
            "alpha power2 =  [2.00000000e+00 1.13137085e+01 6.40000000e+01 3.62038672e+02\n",
            " 2.04800000e+03]\n",
            "alpha power 3 =  [3.00000000e+00 4.67653718e+01 7.29000000e+02 1.13639853e+04\n",
            " 1.77147000e+05]\n",
            "log alpha [0.         1.25276297 1.79175947 2.14006616 2.39789527]\n",
            "log2 of alpha [0.         1.80735492 2.5849625  3.08746284 3.45943162]\n",
            "log10 of alpha [0.         0.54406804 0.77815125 0.92941893 1.04139269]\n"
          ],
          "name": "stdout"
        },
        {
          "output_type": "stream",
          "text": [
            "/usr/local/lib/python3.6/dist-packages/ipykernel_launcher.py:5: RuntimeWarning: invalid value encountered in arcsin\n",
            "  \"\"\"\n"
          ],
          "name": "stderr"
        }
      ]
    },
    {
      "cell_type": "code",
      "metadata": {
        "colab": {
          "base_uri": "https://localhost:8080/"
        },
        "id": "451mac61GgEz",
        "outputId": "784a8793-c0ec-4262-df03-70aaa44f6b80"
      },
      "source": [
        "x=np.arange(1,6)\n",
        "np.add.reduce(x) "
      ],
      "execution_count": null,
      "outputs": [
        {
          "output_type": "execute_result",
          "data": {
            "text/plain": [
              "15"
            ]
          },
          "metadata": {
            "tags": []
          },
          "execution_count": 29
        }
      ]
    },
    {
      "cell_type": "code",
      "metadata": {
        "colab": {
          "base_uri": "https://localhost:8080/"
        },
        "id": "N0alV6ihJTFN",
        "outputId": "78a2eab3-4341-43f8-9500-c160ee085628"
      },
      "source": [
        "np.multiply.reduce(x)"
      ],
      "execution_count": null,
      "outputs": [
        {
          "output_type": "execute_result",
          "data": {
            "text/plain": [
              "120"
            ]
          },
          "metadata": {
            "tags": []
          },
          "execution_count": 30
        }
      ]
    },
    {
      "cell_type": "code",
      "metadata": {
        "colab": {
          "base_uri": "https://localhost:8080/"
        },
        "id": "Ra8bs4bmJVGO",
        "outputId": "fb3dc531-f111-4056-d302-006d00fe7c75"
      },
      "source": [
        "np.add.accumulate(x)"
      ],
      "execution_count": null,
      "outputs": [
        {
          "output_type": "execute_result",
          "data": {
            "text/plain": [
              "array([ 1,  3,  6, 10, 15])"
            ]
          },
          "metadata": {
            "tags": []
          },
          "execution_count": 31
        }
      ]
    },
    {
      "cell_type": "code",
      "metadata": {
        "colab": {
          "base_uri": "https://localhost:8080/"
        },
        "id": "L16HTZKSJXOl",
        "outputId": "3a18c1f1-e178-481b-c19b-4f9b45c884e0"
      },
      "source": [
        "x=np.array([1,6,1,2,3])\n",
        "x[[0,2]]\n",
        "x[[0,2]]\n",
        "\n",
        "np.multiply.outer(x,x)         \n",
        "# first column x multiplied with the 5 \n",
        "# second column x multiplied with the 2 ..."
      ],
      "execution_count": null,
      "outputs": [
        {
          "output_type": "execute_result",
          "data": {
            "text/plain": [
              "array([[ 1,  6,  1,  2,  3],\n",
              "       [ 6, 36,  6, 12, 18],\n",
              "       [ 1,  6,  1,  2,  3],\n",
              "       [ 2, 12,  2,  4,  6],\n",
              "       [ 3, 18,  3,  6,  9]])"
            ]
          },
          "metadata": {
            "tags": []
          },
          "execution_count": 6
        }
      ]
    },
    {
      "cell_type": "code",
      "metadata": {
        "colab": {
          "base_uri": "https://localhost:8080/"
        },
        "id": "7OKEO23KJ23s",
        "outputId": "ab3c4bf8-3843-43a1-a6ca-2b1932167c29"
      },
      "source": [
        "x=np.arange(1,6)\n",
        "np.add.outer(x,x)  \n",
        "# first column adding 1 to x \n",
        "# second column adding 2 to x ... "
      ],
      "execution_count": null,
      "outputs": [
        {
          "output_type": "execute_result",
          "data": {
            "text/plain": [
              "array([[ 2,  3,  4,  5,  6],\n",
              "       [ 3,  4,  5,  6,  7],\n",
              "       [ 4,  5,  6,  7,  8],\n",
              "       [ 5,  6,  7,  8,  9],\n",
              "       [ 6,  7,  8,  9, 10]])"
            ]
          },
          "metadata": {
            "tags": []
          },
          "execution_count": 33
        }
      ]
    },
    {
      "cell_type": "code",
      "metadata": {
        "id": "wTDSD-s8J4hx",
        "colab": {
          "base_uri": "https://localhost:8080/"
        },
        "outputId": "2d46a9cf-f71e-46f7-bb31-69152d299ab9"
      },
      "source": [
        "x = np.array([1,3,2])\n",
        "np.subtract.outer(x,x)"
      ],
      "execution_count": null,
      "outputs": [
        {
          "output_type": "execute_result",
          "data": {
            "text/plain": [
              "array([[ 0, -2, -1],\n",
              "       [ 2,  0,  1],\n",
              "       [ 1, -1,  0]])"
            ]
          },
          "metadata": {
            "tags": []
          },
          "execution_count": 9
        }
      ]
    },
    {
      "cell_type": "markdown",
      "metadata": {
        "id": "4ETsDbuBMQn1"
      },
      "source": [
        "# Aggregation "
      ]
    },
    {
      "cell_type": "code",
      "metadata": {
        "colab": {
          "base_uri": "https://localhost:8080/"
        },
        "id": "kuz6jXrgKpQj",
        "outputId": "2a6a9b6f-0e43-49be-9a2d-e8c531acba27"
      },
      "source": [
        "data = np.random.random(100)\n",
        "print('sum', np.sum(data))\n",
        "print('min', np.min(data))\n",
        "print('max',np.max(data))"
      ],
      "execution_count": null,
      "outputs": [
        {
          "output_type": "stream",
          "text": [
            "sum 47.745136190536144\n",
            "min 0.010160147569287514\n",
            "max 0.9825352809706249\n"
          ],
          "name": "stdout"
        }
      ]
    },
    {
      "cell_type": "code",
      "metadata": {
        "colab": {
          "base_uri": "https://localhost:8080/"
        },
        "id": "VBLUZc8wMqIw",
        "outputId": "9bdb9c4b-9b3e-4e39-88c2-58b9f14ae762"
      },
      "source": [
        "# checking whether any value is greater than 1\n",
        "np.any(data>1)"
      ],
      "execution_count": null,
      "outputs": [
        {
          "output_type": "execute_result",
          "data": {
            "text/plain": [
              "False"
            ]
          },
          "metadata": {
            "tags": []
          },
          "execution_count": 33
        }
      ]
    },
    {
      "cell_type": "code",
      "metadata": {
        "colab": {
          "base_uri": "https://localhost:8080/"
        },
        "id": "HUSGvQltM9Lr",
        "outputId": "2a270dab-06fd-47cb-f8f3-14dcae0485ca"
      },
      "source": [
        "# checking whther all the values are greater than  0\n",
        "np.all(data >0) "
      ],
      "execution_count": null,
      "outputs": [
        {
          "output_type": "execute_result",
          "data": {
            "text/plain": [
              "True"
            ]
          },
          "metadata": {
            "tags": []
          },
          "execution_count": 34
        }
      ]
    },
    {
      "cell_type": "code",
      "metadata": {
        "colab": {
          "base_uri": "https://localhost:8080/"
        },
        "id": "hip1f6tVNNfy",
        "outputId": "56f13880-7d1f-4606-db3d-924fd46bfc24"
      },
      "source": [
        "# another way of method calling \n",
        "print(data.min())\n",
        "print(data.max())\n",
        "print(data.std())\n",
        "\n",
        "print(data.sum())\n",
        "print(data.var())\n",
        "print(data.prod())\n",
        "\n",
        "print(data.mean())"
      ],
      "execution_count": null,
      "outputs": [
        {
          "output_type": "stream",
          "text": [
            "0.010160147569287514\n",
            "0.9825352809706249\n",
            "0.29832655199458974\n",
            "47.745136190536144\n",
            "0.08899873162498066\n",
            "4.382145884178857e-48\n",
            "0.4774513619053614\n"
          ],
          "name": "stdout"
        }
      ]
    },
    {
      "cell_type": "code",
      "metadata": {
        "id": "U-VLlK_kSTWU"
      },
      "source": [
        ""
      ],
      "execution_count": null,
      "outputs": []
    },
    {
      "cell_type": "code",
      "metadata": {
        "colab": {
          "base_uri": "https://localhost:8080/"
        },
        "id": "k6_eiDYHNOsM",
        "outputId": "978be214-a7a0-4302-9377-4ba84958d7d9"
      },
      "source": [
        "y = np.arange(5,10)\n",
        "g = np.add.outer(y,y)\n",
        "g"
      ],
      "execution_count": null,
      "outputs": [
        {
          "output_type": "execute_result",
          "data": {
            "text/plain": [
              "array([[10, 11, 12, 13, 14],\n",
              "       [11, 12, 13, 14, 15],\n",
              "       [12, 13, 14, 15, 16],\n",
              "       [13, 14, 15, 16, 17],\n",
              "       [14, 15, 16, 17, 18]])"
            ]
          },
          "metadata": {
            "tags": []
          },
          "execution_count": 19
        }
      ]
    },
    {
      "cell_type": "code",
      "metadata": {
        "colab": {
          "base_uri": "https://localhost:8080/"
        },
        "id": "2HbFqyf1Nv5z",
        "outputId": "35ba0896-e6d7-4def-f46c-32255e200f6c"
      },
      "source": [
        "f = np.random.random(15)\n",
        "f.shape"
      ],
      "execution_count": null,
      "outputs": [
        {
          "output_type": "execute_result",
          "data": {
            "text/plain": [
              "(15,)"
            ]
          },
          "metadata": {
            "tags": []
          },
          "execution_count": 21
        }
      ]
    },
    {
      "cell_type": "code",
      "metadata": {
        "colab": {
          "base_uri": "https://localhost:8080/"
        },
        "id": "IYbfsQ4iOFOG",
        "outputId": "4367724d-8aa7-487e-a0b2-ec0cb08fd078"
      },
      "source": [
        "f.reshape(15,1)   # reshaping "
      ],
      "execution_count": null,
      "outputs": [
        {
          "output_type": "execute_result",
          "data": {
            "text/plain": [
              "array([[0.14448756],\n",
              "       [0.91431818],\n",
              "       [0.98388106],\n",
              "       [0.01446453],\n",
              "       [0.41979604],\n",
              "       [0.6172476 ],\n",
              "       [0.18724133],\n",
              "       [0.7735466 ],\n",
              "       [0.5512903 ],\n",
              "       [0.41844797],\n",
              "       [0.11726777],\n",
              "       [0.88752641],\n",
              "       [0.69775684],\n",
              "       [0.48904376],\n",
              "       [0.38967473]])"
            ]
          },
          "metadata": {
            "tags": []
          },
          "execution_count": 22
        }
      ]
    },
    {
      "cell_type": "code",
      "metadata": {
        "colab": {
          "base_uri": "https://localhost:8080/"
        },
        "id": "lBV0P4WDPn-I",
        "outputId": "25b02bc2-25aa-4fec-8aab-54cec45ec703"
      },
      "source": [
        "f = f.reshape(3,5)\n",
        "f"
      ],
      "execution_count": null,
      "outputs": [
        {
          "output_type": "execute_result",
          "data": {
            "text/plain": [
              "array([[0.14448756, 0.91431818, 0.98388106, 0.01446453, 0.41979604],\n",
              "       [0.6172476 , 0.18724133, 0.7735466 , 0.5512903 , 0.41844797],\n",
              "       [0.11726777, 0.88752641, 0.69775684, 0.48904376, 0.38967473]])"
            ]
          },
          "metadata": {
            "tags": []
          },
          "execution_count": 24
        }
      ]
    },
    {
      "cell_type": "code",
      "metadata": {
        "colab": {
          "base_uri": "https://localhost:8080/"
        },
        "id": "UJYRz-x6PtvQ",
        "outputId": "54a8e817-7fad-45bc-923f-277b7bfa53b9"
      },
      "source": [
        "# finding aggregate based on axis\n",
        "f.min(axis = 0) # based on columns "
      ],
      "execution_count": null,
      "outputs": [
        {
          "output_type": "execute_result",
          "data": {
            "text/plain": [
              "array([0.11726777, 0.18724133, 0.69775684, 0.01446453, 0.38967473])"
            ]
          },
          "metadata": {
            "tags": []
          },
          "execution_count": 25
        }
      ]
    },
    {
      "cell_type": "code",
      "metadata": {
        "colab": {
          "base_uri": "https://localhost:8080/"
        },
        "id": "qyacD3S0QcPi",
        "outputId": "93c520f9-4369-479f-cdc9-bdfde0807e73"
      },
      "source": [
        "f.min(axis = 1) # based on rows "
      ],
      "execution_count": null,
      "outputs": [
        {
          "output_type": "execute_result",
          "data": {
            "text/plain": [
              "array([0.01446453, 0.18724133, 0.11726777])"
            ]
          },
          "metadata": {
            "tags": []
          },
          "execution_count": 26
        }
      ]
    },
    {
      "cell_type": "code",
      "metadata": {
        "colab": {
          "base_uri": "https://localhost:8080/"
        },
        "id": "lNFHDXXdQvxE",
        "outputId": "08f9b69d-d8af-412c-99d8-fca4d3ba6392"
      },
      "source": [
        "f.argmin(axis = 0)     # getting the indexes of min values across columns"
      ],
      "execution_count": null,
      "outputs": [
        {
          "output_type": "execute_result",
          "data": {
            "text/plain": [
              "array([2, 1, 2, 0, 2])"
            ]
          },
          "metadata": {
            "tags": []
          },
          "execution_count": 27
        }
      ]
    },
    {
      "cell_type": "code",
      "metadata": {
        "id": "TNq8kDHwQ28N"
      },
      "source": [
        "# from google.colab import files\n",
        "# files.upload()"
      ],
      "execution_count": null,
      "outputs": []
    },
    {
      "cell_type": "code",
      "metadata": {
        "id": "O6gdWMaMRTxQ"
      },
      "source": [
        "import pandas as pd\n",
        "df = pd.read_csv('/content/sample_data/california_housing_test.csv') "
      ],
      "execution_count": null,
      "outputs": []
    },
    {
      "cell_type": "code",
      "metadata": {
        "colab": {
          "base_uri": "https://localhost:8080/",
          "height": 402
        },
        "id": "r-IzmNB4UfVX",
        "outputId": "4c4dd065-afcc-4aac-c7e4-75dcfd371e6c"
      },
      "source": [
        "df   # Housing data "
      ],
      "execution_count": null,
      "outputs": [
        {
          "output_type": "execute_result",
          "data": {
            "text/html": [
              "<div>\n",
              "<style scoped>\n",
              "    .dataframe tbody tr th:only-of-type {\n",
              "        vertical-align: middle;\n",
              "    }\n",
              "\n",
              "    .dataframe tbody tr th {\n",
              "        vertical-align: top;\n",
              "    }\n",
              "\n",
              "    .dataframe thead th {\n",
              "        text-align: right;\n",
              "    }\n",
              "</style>\n",
              "<table border=\"1\" class=\"dataframe\">\n",
              "  <thead>\n",
              "    <tr style=\"text-align: right;\">\n",
              "      <th></th>\n",
              "      <th>longitude</th>\n",
              "      <th>latitude</th>\n",
              "      <th>housing_median_age</th>\n",
              "      <th>total_rooms</th>\n",
              "      <th>total_bedrooms</th>\n",
              "      <th>population</th>\n",
              "      <th>households</th>\n",
              "      <th>median_income</th>\n",
              "      <th>median_house_value</th>\n",
              "    </tr>\n",
              "  </thead>\n",
              "  <tbody>\n",
              "    <tr>\n",
              "      <th>0</th>\n",
              "      <td>-122.05</td>\n",
              "      <td>37.37</td>\n",
              "      <td>27.0</td>\n",
              "      <td>3885.0</td>\n",
              "      <td>661.0</td>\n",
              "      <td>1537.0</td>\n",
              "      <td>606.0</td>\n",
              "      <td>6.6085</td>\n",
              "      <td>344700.0</td>\n",
              "    </tr>\n",
              "    <tr>\n",
              "      <th>1</th>\n",
              "      <td>-118.30</td>\n",
              "      <td>34.26</td>\n",
              "      <td>43.0</td>\n",
              "      <td>1510.0</td>\n",
              "      <td>310.0</td>\n",
              "      <td>809.0</td>\n",
              "      <td>277.0</td>\n",
              "      <td>3.5990</td>\n",
              "      <td>176500.0</td>\n",
              "    </tr>\n",
              "    <tr>\n",
              "      <th>2</th>\n",
              "      <td>-117.81</td>\n",
              "      <td>33.78</td>\n",
              "      <td>27.0</td>\n",
              "      <td>3589.0</td>\n",
              "      <td>507.0</td>\n",
              "      <td>1484.0</td>\n",
              "      <td>495.0</td>\n",
              "      <td>5.7934</td>\n",
              "      <td>270500.0</td>\n",
              "    </tr>\n",
              "    <tr>\n",
              "      <th>3</th>\n",
              "      <td>-118.36</td>\n",
              "      <td>33.82</td>\n",
              "      <td>28.0</td>\n",
              "      <td>67.0</td>\n",
              "      <td>15.0</td>\n",
              "      <td>49.0</td>\n",
              "      <td>11.0</td>\n",
              "      <td>6.1359</td>\n",
              "      <td>330000.0</td>\n",
              "    </tr>\n",
              "    <tr>\n",
              "      <th>4</th>\n",
              "      <td>-119.67</td>\n",
              "      <td>36.33</td>\n",
              "      <td>19.0</td>\n",
              "      <td>1241.0</td>\n",
              "      <td>244.0</td>\n",
              "      <td>850.0</td>\n",
              "      <td>237.0</td>\n",
              "      <td>2.9375</td>\n",
              "      <td>81700.0</td>\n",
              "    </tr>\n",
              "    <tr>\n",
              "      <th>...</th>\n",
              "      <td>...</td>\n",
              "      <td>...</td>\n",
              "      <td>...</td>\n",
              "      <td>...</td>\n",
              "      <td>...</td>\n",
              "      <td>...</td>\n",
              "      <td>...</td>\n",
              "      <td>...</td>\n",
              "      <td>...</td>\n",
              "    </tr>\n",
              "    <tr>\n",
              "      <th>2995</th>\n",
              "      <td>-119.86</td>\n",
              "      <td>34.42</td>\n",
              "      <td>23.0</td>\n",
              "      <td>1450.0</td>\n",
              "      <td>642.0</td>\n",
              "      <td>1258.0</td>\n",
              "      <td>607.0</td>\n",
              "      <td>1.1790</td>\n",
              "      <td>225000.0</td>\n",
              "    </tr>\n",
              "    <tr>\n",
              "      <th>2996</th>\n",
              "      <td>-118.14</td>\n",
              "      <td>34.06</td>\n",
              "      <td>27.0</td>\n",
              "      <td>5257.0</td>\n",
              "      <td>1082.0</td>\n",
              "      <td>3496.0</td>\n",
              "      <td>1036.0</td>\n",
              "      <td>3.3906</td>\n",
              "      <td>237200.0</td>\n",
              "    </tr>\n",
              "    <tr>\n",
              "      <th>2997</th>\n",
              "      <td>-119.70</td>\n",
              "      <td>36.30</td>\n",
              "      <td>10.0</td>\n",
              "      <td>956.0</td>\n",
              "      <td>201.0</td>\n",
              "      <td>693.0</td>\n",
              "      <td>220.0</td>\n",
              "      <td>2.2895</td>\n",
              "      <td>62000.0</td>\n",
              "    </tr>\n",
              "    <tr>\n",
              "      <th>2998</th>\n",
              "      <td>-117.12</td>\n",
              "      <td>34.10</td>\n",
              "      <td>40.0</td>\n",
              "      <td>96.0</td>\n",
              "      <td>14.0</td>\n",
              "      <td>46.0</td>\n",
              "      <td>14.0</td>\n",
              "      <td>3.2708</td>\n",
              "      <td>162500.0</td>\n",
              "    </tr>\n",
              "    <tr>\n",
              "      <th>2999</th>\n",
              "      <td>-119.63</td>\n",
              "      <td>34.42</td>\n",
              "      <td>42.0</td>\n",
              "      <td>1765.0</td>\n",
              "      <td>263.0</td>\n",
              "      <td>753.0</td>\n",
              "      <td>260.0</td>\n",
              "      <td>8.5608</td>\n",
              "      <td>500001.0</td>\n",
              "    </tr>\n",
              "  </tbody>\n",
              "</table>\n",
              "<p>3000 rows × 9 columns</p>\n",
              "</div>"
            ],
            "text/plain": [
              "      longitude  latitude  ...  median_income  median_house_value\n",
              "0       -122.05     37.37  ...         6.6085            344700.0\n",
              "1       -118.30     34.26  ...         3.5990            176500.0\n",
              "2       -117.81     33.78  ...         5.7934            270500.0\n",
              "3       -118.36     33.82  ...         6.1359            330000.0\n",
              "4       -119.67     36.33  ...         2.9375             81700.0\n",
              "...         ...       ...  ...            ...                 ...\n",
              "2995    -119.86     34.42  ...         1.1790            225000.0\n",
              "2996    -118.14     34.06  ...         3.3906            237200.0\n",
              "2997    -119.70     36.30  ...         2.2895             62000.0\n",
              "2998    -117.12     34.10  ...         3.2708            162500.0\n",
              "2999    -119.63     34.42  ...         8.5608            500001.0\n",
              "\n",
              "[3000 rows x 9 columns]"
            ]
          },
          "metadata": {
            "tags": []
          },
          "execution_count": 3
        }
      ]
    },
    {
      "cell_type": "code",
      "metadata": {
        "id": "lguoGQYdUqhg"
      },
      "source": [
        "df_array = np.array(df,dtype = 'float32')"
      ],
      "execution_count": null,
      "outputs": []
    },
    {
      "cell_type": "code",
      "metadata": {
        "id": "srJxfqHlVZ3q"
      },
      "source": [
        "price_col = df_array[:,-1]    # here -1 refers to last column"
      ],
      "execution_count": null,
      "outputs": []
    },
    {
      "cell_type": "code",
      "metadata": {
        "colab": {
          "base_uri": "https://localhost:8080/"
        },
        "id": "XRC9N-ynVbph",
        "outputId": "241f010c-c514-485a-9e18-0a37525edb87"
      },
      "source": [
        "price_col"
      ],
      "execution_count": null,
      "outputs": [
        {
          "output_type": "execute_result",
          "data": {
            "text/plain": [
              "array([344700., 176500., 270500., ...,  62000., 162500., 500001.],\n",
              "      dtype=float32)"
            ]
          },
          "metadata": {
            "tags": []
          },
          "execution_count": 54
        }
      ]
    },
    {
      "cell_type": "code",
      "metadata": {
        "colab": {
          "base_uri": "https://localhost:8080/"
        },
        "id": "I9wm1kEYXKva",
        "outputId": "ac2232be-98e7-43e5-f2df-63f07f2786c2"
      },
      "source": [
        "print(type(price_col))     # Now it is numpy array"
      ],
      "execution_count": null,
      "outputs": [
        {
          "output_type": "stream",
          "text": [
            "<class 'numpy.ndarray'>\n"
          ],
          "name": "stdout"
        }
      ]
    },
    {
      "cell_type": "code",
      "metadata": {
        "colab": {
          "base_uri": "https://localhost:8080/"
        },
        "id": "54v_5WjvYA3J",
        "outputId": "e89ddf1a-1a4e-4e6e-e7c6-dbfe5c19f1cb"
      },
      "source": [
        "df_array.shape"
      ],
      "execution_count": null,
      "outputs": [
        {
          "output_type": "execute_result",
          "data": {
            "text/plain": [
              "(3000, 9)"
            ]
          },
          "metadata": {
            "tags": []
          },
          "execution_count": 60
        }
      ]
    },
    {
      "cell_type": "code",
      "metadata": {
        "colab": {
          "base_uri": "https://localhost:8080/"
        },
        "id": "C2iTqdktXcin",
        "outputId": "f0568dba-eff6-4165-96f4-03e6dcf25404"
      },
      "source": [
        "price_col.mean()       # finding mean of price "
      ],
      "execution_count": null,
      "outputs": [
        {
          "output_type": "execute_result",
          "data": {
            "text/plain": [
              "205846.27"
            ]
          },
          "metadata": {
            "tags": []
          },
          "execution_count": 56
        }
      ]
    },
    {
      "cell_type": "code",
      "metadata": {
        "colab": {
          "base_uri": "https://localhost:8080/"
        },
        "id": "rnGmMMt9Xj4L",
        "outputId": "6726f05a-8647-4015-efae-b65807991624"
      },
      "source": [
        "price_col.std()         # finding standard deviation of price "
      ],
      "execution_count": null,
      "outputs": [
        {
          "output_type": "execute_result",
          "data": {
            "text/plain": [
              "113100.836"
            ]
          },
          "metadata": {
            "tags": []
          },
          "execution_count": 57
        }
      ]
    },
    {
      "cell_type": "code",
      "metadata": {
        "colab": {
          "base_uri": "https://localhost:8080/"
        },
        "id": "rU-_2WeKXmtm",
        "outputId": "c1964066-525d-427a-fb10-2895d9e23551"
      },
      "source": [
        "df_array[:,[0,1]]   # slicing longitude and latitude "
      ],
      "execution_count": null,
      "outputs": [
        {
          "output_type": "execute_result",
          "data": {
            "text/plain": [
              "array([[-122.05,   37.37],\n",
              "       [-118.3 ,   34.26],\n",
              "       [-117.81,   33.78],\n",
              "       ...,\n",
              "       [-119.7 ,   36.3 ],\n",
              "       [-117.12,   34.1 ],\n",
              "       [-119.63,   34.42]], dtype=float32)"
            ]
          },
          "metadata": {
            "tags": []
          },
          "execution_count": 59
        }
      ]
    },
    {
      "cell_type": "code",
      "metadata": {
        "colab": {
          "base_uri": "https://localhost:8080/"
        },
        "id": "8HS9A2rGX32_",
        "outputId": "1557b8bd-91f7-4578-d353-fd5a4818d2b8"
      },
      "source": [
        "df_array[:,[0,1]][df_array[:,1] < 34 ]    \n",
        "# filtering latitude based on longitude < 34   "
      ],
      "execution_count": null,
      "outputs": [
        {
          "output_type": "execute_result",
          "data": {
            "text/plain": [
              "array([[-117.81,   33.78],\n",
              "       [-118.36,   33.82],\n",
              "       [-118.24,   33.98],\n",
              "       ...,\n",
              "       [-118.25,   33.93],\n",
              "       [-117.91,   33.6 ],\n",
              "       [-117.93,   33.86]], dtype=float32)"
            ]
          },
          "metadata": {
            "tags": []
          },
          "execution_count": 61
        }
      ]
    },
    {
      "cell_type": "code",
      "metadata": {
        "colab": {
          "base_uri": "https://localhost:8080/"
        },
        "id": "QwVmvaZrYdLp",
        "outputId": "a40a5d5a-0d75-42d1-ab64-bae800fca7d9"
      },
      "source": [
        "print(\"25th percentile\",np.percentile(price_col,25))\n",
        "print(\"Median\",np.median(price_col))\n",
        "print(\"75th percentile\",np.percentile(price_col,75))"
      ],
      "execution_count": null,
      "outputs": [
        {
          "output_type": "stream",
          "text": [
            "25th percentile 121200.0\n",
            "Median 177650.0\n",
            "75th percentile 263975.0\n"
          ],
          "name": "stdout"
        }
      ]
    },
    {
      "cell_type": "markdown",
      "metadata": {
        "id": "TRJxcH46ZPyy"
      },
      "source": [
        "# Numpy Broadcasting "
      ]
    },
    {
      "cell_type": "markdown",
      "metadata": {
        "id": "CQkdUfTSd5aF"
      },
      "source": [
        "Another means of vectorizing operation is to use Numpy's broadcasting functionality. Broadcasting is simply a set of rules for applying binary ufuncs (addition, subtraction, multiplication) on arrays of different sizes."
      ]
    },
    {
      "cell_type": "code",
      "metadata": {
        "id": "LErfC1T3ZA8i"
      },
      "source": [
        "a = np.arange(3)\n",
        "b = np.random.randint(0,4,3)    # 3 random numbers between 0 and 4 (excluded)"
      ],
      "execution_count": null,
      "outputs": []
    },
    {
      "cell_type": "code",
      "metadata": {
        "colab": {
          "base_uri": "https://localhost:8080/"
        },
        "id": "_Po10nRSZe0p",
        "outputId": "ebc03554-53d3-421e-b66a-1866f5919567"
      },
      "source": [
        "print(a)\n",
        "print(b)\n",
        "print(a+b)"
      ],
      "execution_count": null,
      "outputs": [
        {
          "output_type": "stream",
          "text": [
            "[0 1 2]\n",
            "[1 3 1]\n",
            "[1 4 3]\n"
          ],
          "name": "stdout"
        }
      ]
    },
    {
      "cell_type": "code",
      "metadata": {
        "id": "RUkYZXLyZfqX"
      },
      "source": [
        "h = np.ones((3,5))"
      ],
      "execution_count": null,
      "outputs": []
    },
    {
      "cell_type": "code",
      "metadata": {
        "colab": {
          "base_uri": "https://localhost:8080/"
        },
        "id": "GgShuSMNaVV2",
        "outputId": "bb8d82fd-7295-4404-afe6-708ae8f47e7c"
      },
      "source": [
        "h+4"
      ],
      "execution_count": null,
      "outputs": [
        {
          "output_type": "execute_result",
          "data": {
            "text/plain": [
              "array([[5., 5., 5., 5., 5.],\n",
              "       [5., 5., 5., 5., 5.],\n",
              "       [5., 5., 5., 5., 5.]])"
            ]
          },
          "metadata": {
            "tags": []
          },
          "execution_count": 82
        }
      ]
    },
    {
      "cell_type": "code",
      "metadata": {
        "colab": {
          "base_uri": "https://localhost:8080/"
        },
        "id": "wiZj_8M3aWKP",
        "outputId": "986de172-3538-4753-aa01-f15839a43719"
      },
      "source": [
        "a = np.arange(0,5)\n",
        "print(a)\n",
        "print(a.shape)   # this is one dimensional array "
      ],
      "execution_count": null,
      "outputs": [
        {
          "output_type": "stream",
          "text": [
            "[0 1 2 3 4]\n",
            "(5,)\n"
          ],
          "name": "stdout"
        }
      ]
    },
    {
      "cell_type": "code",
      "metadata": {
        "colab": {
          "base_uri": "https://localhost:8080/"
        },
        "id": "Z332FHv2aoBU",
        "outputId": "9e8113f5-ae1d-42e1-c2c3-0fcde4e6204e"
      },
      "source": [
        "# converting a to a column or raw vector we apply np.newaxis method\n",
        "a_new = a[:,np.newaxis ]\n",
        "print(a_new)\n",
        "print(a_new.shape)"
      ],
      "execution_count": null,
      "outputs": [
        {
          "output_type": "stream",
          "text": [
            "[[0]\n",
            " [1]\n",
            " [2]\n",
            " [3]\n",
            " [4]]\n",
            "(5, 1)\n"
          ],
          "name": "stdout"
        }
      ]
    },
    {
      "cell_type": "code",
      "metadata": {
        "colab": {
          "base_uri": "https://localhost:8080/"
        },
        "id": "XX4w7FE1bI1k",
        "outputId": "ee0d4b67-5f65-4c1a-df28-201a061d7acb"
      },
      "source": [
        "np.ones((3,3)) + np.arange(3)"
      ],
      "execution_count": null,
      "outputs": [
        {
          "output_type": "execute_result",
          "data": {
            "text/plain": [
              "array([[1., 2., 3.],\n",
              "       [1., 2., 3.],\n",
              "       [1., 2., 3.]])"
            ]
          },
          "metadata": {
            "tags": []
          },
          "execution_count": 87
        }
      ]
    },
    {
      "cell_type": "markdown",
      "metadata": {
        "id": "xW5jlUDRd-ZP"
      },
      "source": [
        "# Comparison Operators as Ufuncs"
      ]
    },
    {
      "cell_type": "code",
      "metadata": {
        "colab": {
          "base_uri": "https://localhost:8080/"
        },
        "id": "ewnJGls9bfcM",
        "outputId": "a8e56fed-c46b-47ff-b601-8f6cab946dc8"
      },
      "source": [
        "s = np.array([1,2,3,5,2])\n",
        "s<3"
      ],
      "execution_count": null,
      "outputs": [
        {
          "output_type": "execute_result",
          "data": {
            "text/plain": [
              "array([ True,  True, False, False,  True])"
            ]
          },
          "metadata": {
            "tags": []
          },
          "execution_count": 7
        }
      ]
    },
    {
      "cell_type": "code",
      "metadata": {
        "colab": {
          "base_uri": "https://localhost:8080/"
        },
        "id": "uGNXisNNeJeL",
        "outputId": "27e440e4-33d3-4004-ca3d-e36bf925a234"
      },
      "source": [
        "# finding the index of array element where it is True\n",
        "np.argwhere(s<3)"
      ],
      "execution_count": null,
      "outputs": [
        {
          "output_type": "execute_result",
          "data": {
            "text/plain": [
              "array([[0],\n",
              "       [1],\n",
              "       [4]])"
            ]
          },
          "metadata": {
            "tags": []
          },
          "execution_count": 9
        }
      ]
    },
    {
      "cell_type": "code",
      "metadata": {
        "colab": {
          "base_uri": "https://localhost:8080/"
        },
        "id": "5YX20NIheN4W",
        "outputId": "e2ff464f-129e-41fe-e132-52c6351469c0"
      },
      "source": [
        "# finding count of distict elements in an array\n",
        "x = np.array([1,1,1,2,2,2,5,25,1,1])\n",
        "unique, counts = np.unique(x, return_counts=True) \n",
        "unique,counts"
      ],
      "execution_count": null,
      "outputs": [
        {
          "output_type": "execute_result",
          "data": {
            "text/plain": [
              "(array([ 1,  2,  5, 25]), array([5, 3, 1, 1]))"
            ]
          },
          "metadata": {
            "tags": []
          },
          "execution_count": 10
        }
      ]
    },
    {
      "cell_type": "code",
      "metadata": {
        "colab": {
          "base_uri": "https://localhost:8080/"
        },
        "id": "lmQ1fYd3fHzX",
        "outputId": "c0158022-8d61-427e-a849-e8139ff11a70"
      },
      "source": [
        "np.asarray((unique,counts)).T"
      ],
      "execution_count": null,
      "outputs": [
        {
          "output_type": "execute_result",
          "data": {
            "text/plain": [
              "array([[ 1,  5],\n",
              "       [ 2,  3],\n",
              "       [ 5,  1],\n",
              "       [25,  1]])"
            ]
          },
          "metadata": {
            "tags": []
          },
          "execution_count": 12
        }
      ]
    },
    {
      "cell_type": "code",
      "metadata": {
        "colab": {
          "base_uri": "https://localhost:8080/"
        },
        "id": "5f-L03SMgFRL",
        "outputId": "144bc4b8-8ec9-4071-93dd-1cee9e2ec78b"
      },
      "source": [
        "print(x)\n",
        "print(np.not_equal(x,3))"
      ],
      "execution_count": null,
      "outputs": [
        {
          "output_type": "stream",
          "text": [
            "[ 1  1  1  2  2  2  5 25  1  1]\n",
            "[ True  True  True  True  True  True  True  True  True  True]\n"
          ],
          "name": "stdout"
        }
      ]
    },
    {
      "cell_type": "code",
      "metadata": {
        "colab": {
          "base_uri": "https://localhost:8080/"
        },
        "id": "z_sbU33ygSr9",
        "outputId": "271a2aa7-6d2a-4944-e3c1-04dcbdd3c9b4"
      },
      "source": [
        "print(x)\n",
        "print(np.equal(x,3))"
      ],
      "execution_count": null,
      "outputs": [
        {
          "output_type": "stream",
          "text": [
            "[ 1  1  1  2  2  2  5 25  1  1]\n",
            "[False False False False False False False False False False]\n"
          ],
          "name": "stdout"
        }
      ]
    },
    {
      "cell_type": "code",
      "metadata": {
        "colab": {
          "base_uri": "https://localhost:8080/"
        },
        "id": "kcKFSYY6gw4x",
        "outputId": "6087c76c-7874-42af-9093-265068e24740"
      },
      "source": [
        "print(x)\n",
        "print(np.less(x,3))"
      ],
      "execution_count": null,
      "outputs": [
        {
          "output_type": "stream",
          "text": [
            "[ 1  1  1  2  2  2  5 25  1  1]\n",
            "[ True  True  True  True  True  True False False  True  True]\n"
          ],
          "name": "stdout"
        }
      ]
    },
    {
      "cell_type": "code",
      "metadata": {
        "colab": {
          "base_uri": "https://localhost:8080/"
        },
        "id": "kI7C2trjg1QD",
        "outputId": "c6b9d572-66e6-498c-dec0-2f8fd06963b3"
      },
      "source": [
        "print(x)\n",
        "print(np.greater(x,3))"
      ],
      "execution_count": null,
      "outputs": [
        {
          "output_type": "stream",
          "text": [
            "[ 1  1  1  2  2  2  5 25  1  1]\n",
            "[False False False False False False  True  True False False]\n"
          ],
          "name": "stdout"
        }
      ]
    },
    {
      "cell_type": "code",
      "metadata": {
        "colab": {
          "base_uri": "https://localhost:8080/"
        },
        "id": "OxFd3nTsg4JR",
        "outputId": "a042efc6-ad12-476b-903b-ffc4b5167083"
      },
      "source": [
        "np.greater_equal(x,3)"
      ],
      "execution_count": null,
      "outputs": [
        {
          "output_type": "execute_result",
          "data": {
            "text/plain": [
              "array([False, False, False, False, False, False,  True,  True, False,\n",
              "       False])"
            ]
          },
          "metadata": {
            "tags": []
          },
          "execution_count": 110
        }
      ]
    },
    {
      "cell_type": "code",
      "metadata": {
        "colab": {
          "base_uri": "https://localhost:8080/"
        },
        "id": "-l2jm2VHg6bR",
        "outputId": "4e3cfa8b-3a03-4d4f-9f82-de5a1b01e4d7"
      },
      "source": [
        "rng=np.random.RandomState(0)\n",
        "x=rng.randint(10,size=(3,4))\n",
        "x"
      ],
      "execution_count": null,
      "outputs": [
        {
          "output_type": "execute_result",
          "data": {
            "text/plain": [
              "array([[5, 0, 3, 3],\n",
              "       [7, 9, 3, 5],\n",
              "       [2, 4, 7, 6]])"
            ]
          },
          "metadata": {
            "tags": []
          },
          "execution_count": 111
        }
      ]
    },
    {
      "cell_type": "code",
      "metadata": {
        "colab": {
          "base_uri": "https://localhost:8080/"
        },
        "id": "XHJmNezJhBZU",
        "outputId": "455fbd8a-7832-40c6-8863-156a56058032"
      },
      "source": [
        "x<6"
      ],
      "execution_count": null,
      "outputs": [
        {
          "output_type": "execute_result",
          "data": {
            "text/plain": [
              "array([[ True,  True,  True,  True],\n",
              "       [False, False,  True,  True],\n",
              "       [ True,  True, False, False]])"
            ]
          },
          "metadata": {
            "tags": []
          },
          "execution_count": 112
        }
      ]
    },
    {
      "cell_type": "code",
      "metadata": {
        "colab": {
          "base_uri": "https://localhost:8080/"
        },
        "id": "MuN4lNCxhGB_",
        "outputId": "bec6b8d2-ad1d-4c58-b355-038a7a3c596b"
      },
      "source": [
        "np.count_nonzero(x<6) # how many values less than 6"
      ],
      "execution_count": null,
      "outputs": [
        {
          "output_type": "execute_result",
          "data": {
            "text/plain": [
              "8"
            ]
          },
          "metadata": {
            "tags": []
          },
          "execution_count": 113
        }
      ]
    },
    {
      "cell_type": "code",
      "metadata": {
        "colab": {
          "base_uri": "https://localhost:8080/"
        },
        "id": "kuSkOqvHhV7g",
        "outputId": "a02c40fb-4c4c-46be-c73b-8011a76bfded"
      },
      "source": [
        "np.any(x>8)  #are there any values greater than 8"
      ],
      "execution_count": null,
      "outputs": [
        {
          "output_type": "execute_result",
          "data": {
            "text/plain": [
              "True"
            ]
          },
          "metadata": {
            "tags": []
          },
          "execution_count": 114
        }
      ]
    },
    {
      "cell_type": "code",
      "metadata": {
        "colab": {
          "base_uri": "https://localhost:8080/"
        },
        "id": "_dEOmmrkha4w",
        "outputId": "e340c953-2a82-4edc-99b0-fa5281cf199d"
      },
      "source": [
        "np.all(x<10)    # all values less than 10?"
      ],
      "execution_count": null,
      "outputs": [
        {
          "output_type": "execute_result",
          "data": {
            "text/plain": [
              "True"
            ]
          },
          "metadata": {
            "tags": []
          },
          "execution_count": 115
        }
      ]
    },
    {
      "cell_type": "code",
      "metadata": {
        "colab": {
          "base_uri": "https://localhost:8080/"
        },
        "id": "HGHQup1ThfaJ",
        "outputId": "256f456a-2e24-4bbd-adc6-ff5ab6360f8e"
      },
      "source": [
        "np.all(x<8,axis=1)   #are all values in each row less than 8"
      ],
      "execution_count": null,
      "outputs": [
        {
          "output_type": "execute_result",
          "data": {
            "text/plain": [
              "array([ True, False,  True])"
            ]
          },
          "metadata": {
            "tags": []
          },
          "execution_count": 116
        }
      ]
    },
    {
      "cell_type": "code",
      "metadata": {
        "colab": {
          "base_uri": "https://localhost:8080/"
        },
        "id": "wZ8w4OVzhtv_",
        "outputId": "831f31f0-7de7-4e65-af75-c9ee22880519"
      },
      "source": [
        "import seaborn as sns\n",
        "train=sns.load_dataset('iris')\n",
        "sepal=np.array(train['sepal_length']) \n",
        "pet = np.array(train['petal_width']) \n",
        "np.sum((sepal >4.7)  & (pet!=1.5))  "
      ],
      "execution_count": null,
      "outputs": [
        {
          "output_type": "execute_result",
          "data": {
            "text/plain": [
              "127"
            ]
          },
          "metadata": {
            "tags": []
          },
          "execution_count": 121
        }
      ]
    },
    {
      "cell_type": "markdown",
      "metadata": {
        "id": "M4WVTkWEjgu8"
      },
      "source": [
        "# Splitting of Arrays"
      ]
    },
    {
      "cell_type": "code",
      "metadata": {
        "id": "0xQs-rnSijp3"
      },
      "source": [
        "x = [1,2,3,4,65,34,21,32]\n",
        "x1,x2,x3 = np.split(x,[3,6])   # 6 is excluded"
      ],
      "execution_count": null,
      "outputs": []
    },
    {
      "cell_type": "code",
      "metadata": {
        "colab": {
          "base_uri": "https://localhost:8080/"
        },
        "id": "k2SWMZPLsna5",
        "outputId": "8b6a690f-4b9d-4581-db7d-d3b34cef1014"
      },
      "source": [
        "x1 ,x2,x3"
      ],
      "execution_count": null,
      "outputs": [
        {
          "output_type": "execute_result",
          "data": {
            "text/plain": [
              "(array([1, 2, 3]), array([ 4, 65, 34]), array([21, 32]))"
            ]
          },
          "metadata": {
            "tags": []
          },
          "execution_count": 125
        }
      ]
    },
    {
      "cell_type": "code",
      "metadata": {
        "colab": {
          "base_uri": "https://localhost:8080/"
        },
        "id": "yuBp841SsoX8",
        "outputId": "30aac971-83a9-49fc-8b68-3927e4cb20d9"
      },
      "source": [
        "grid=np.arange(16).reshape((4,4))\n",
        "grid"
      ],
      "execution_count": null,
      "outputs": [
        {
          "output_type": "execute_result",
          "data": {
            "text/plain": [
              "array([[ 0,  1,  2,  3],\n",
              "       [ 4,  5,  6,  7],\n",
              "       [ 8,  9, 10, 11],\n",
              "       [12, 13, 14, 15]])"
            ]
          },
          "metadata": {
            "tags": []
          },
          "execution_count": 126
        }
      ]
    },
    {
      "cell_type": "code",
      "metadata": {
        "id": "-UL4IHF-spvg"
      },
      "source": [
        "upper,lower = np.vsplit(grid,[2])"
      ],
      "execution_count": null,
      "outputs": []
    },
    {
      "cell_type": "code",
      "metadata": {
        "colab": {
          "base_uri": "https://localhost:8080/"
        },
        "id": "i84Zc3-ltGLs",
        "outputId": "51ef4089-90d9-4f9b-ed41-cab30d93bb03"
      },
      "source": [
        "print(upper)\n",
        "print(lower)"
      ],
      "execution_count": null,
      "outputs": [
        {
          "output_type": "stream",
          "text": [
            "[[0 1 2 3]\n",
            " [4 5 6 7]]\n",
            "[[ 8  9 10 11]\n",
            " [12 13 14 15]]\n"
          ],
          "name": "stdout"
        }
      ]
    },
    {
      "cell_type": "code",
      "metadata": {
        "colab": {
          "base_uri": "https://localhost:8080/"
        },
        "id": "b-b1-VsetHkN",
        "outputId": "1484dc7d-0bbc-41c9-ae6a-fe93be0d7713"
      },
      "source": [
        "left,right=np.hsplit(grid,[2])\n",
        "print(left)\n",
        "print(right)"
      ],
      "execution_count": null,
      "outputs": [
        {
          "output_type": "stream",
          "text": [
            "[[ 0  1]\n",
            " [ 4  5]\n",
            " [ 8  9]\n",
            " [12 13]]\n",
            "[[ 2  3]\n",
            " [ 6  7]\n",
            " [10 11]\n",
            " [14 15]]\n"
          ],
          "name": "stdout"
        }
      ]
    },
    {
      "cell_type": "code",
      "metadata": {
        "colab": {
          "base_uri": "https://localhost:8080/"
        },
        "id": "knx-fa3mtycF",
        "outputId": "f941d192-161c-45cb-9509-7d9f792c3078"
      },
      "source": [
        "x=np.array([1,2,3])\n",
        "y=np.array([3,2,1])\n",
        "np.concatenate([x,y])"
      ],
      "execution_count": null,
      "outputs": [
        {
          "output_type": "execute_result",
          "data": {
            "text/plain": [
              "array([1, 2, 3, 3, 2, 1])"
            ]
          },
          "metadata": {
            "tags": []
          },
          "execution_count": 139
        }
      ]
    },
    {
      "cell_type": "code",
      "metadata": {
        "colab": {
          "base_uri": "https://localhost:8080/"
        },
        "id": "SxgHXsUEvD5-",
        "outputId": "1494d00e-7ed9-402d-dc16-64a3cffbf2d7"
      },
      "source": [
        "z=[99,99,99]\n",
        "np.concatenate([x,y,z])"
      ],
      "execution_count": null,
      "outputs": [
        {
          "output_type": "execute_result",
          "data": {
            "text/plain": [
              "array([ 1,  2,  3,  3,  2,  1, 99, 99, 99])"
            ]
          },
          "metadata": {
            "tags": []
          },
          "execution_count": 140
        }
      ]
    },
    {
      "cell_type": "code",
      "metadata": {
        "id": "F1kzu0j2vGJU"
      },
      "source": [
        "grid=np.array([[1,2,3],\n",
        "              [4,5,6]])"
      ],
      "execution_count": null,
      "outputs": []
    },
    {
      "cell_type": "markdown",
      "metadata": {
        "id": "pOnOG6j9-ttq"
      },
      "source": [
        "# Concatenation"
      ]
    },
    {
      "cell_type": "code",
      "metadata": {
        "colab": {
          "base_uri": "https://localhost:8080/"
        },
        "id": "Qs4uCrQyvLCh",
        "outputId": "053453fa-30a5-4b46-d0b8-b9d71d37dd1a"
      },
      "source": [
        "np.concatenate([grid,grid]) "
      ],
      "execution_count": null,
      "outputs": [
        {
          "output_type": "execute_result",
          "data": {
            "text/plain": [
              "array([[1, 2, 3],\n",
              "       [4, 5, 6],\n",
              "       [1, 2, 3],\n",
              "       [4, 5, 6]])"
            ]
          },
          "metadata": {
            "tags": []
          },
          "execution_count": 142
        }
      ]
    },
    {
      "cell_type": "code",
      "metadata": {
        "id": "RbxbZB-7vLlA"
      },
      "source": [
        "x=np.array([1,2,3])\n",
        "grid=np.array([[9,8,7],\n",
        "              [6,5,4]])"
      ],
      "execution_count": null,
      "outputs": []
    },
    {
      "cell_type": "code",
      "metadata": {
        "colab": {
          "base_uri": "https://localhost:8080/"
        },
        "id": "OaPjoiCb-3tD",
        "outputId": "5f0d5a0c-5fe5-4360-d3f3-9215c76f10ed"
      },
      "source": [
        "x.shape"
      ],
      "execution_count": null,
      "outputs": [
        {
          "output_type": "execute_result",
          "data": {
            "text/plain": [
              "(3,)"
            ]
          },
          "metadata": {
            "tags": []
          },
          "execution_count": 144
        }
      ]
    },
    {
      "cell_type": "code",
      "metadata": {
        "colab": {
          "base_uri": "https://localhost:8080/"
        },
        "id": "U6mAJpXo-5Co",
        "outputId": "f92e5ffc-d252-4605-9026-1686ecd0a5e4"
      },
      "source": [
        "grid.shape"
      ],
      "execution_count": null,
      "outputs": [
        {
          "output_type": "execute_result",
          "data": {
            "text/plain": [
              "(2, 3)"
            ]
          },
          "metadata": {
            "tags": []
          },
          "execution_count": 145
        }
      ]
    },
    {
      "cell_type": "code",
      "metadata": {
        "colab": {
          "base_uri": "https://localhost:8080/"
        },
        "id": "ERdVVwFF-6PW",
        "outputId": "c9714e39-660d-42bd-ab24-fa4a36454dc8"
      },
      "source": [
        "np.vstack([x,grid])"
      ],
      "execution_count": null,
      "outputs": [
        {
          "output_type": "execute_result",
          "data": {
            "text/plain": [
              "array([[1, 2, 3],\n",
              "       [9, 8, 7],\n",
              "       [6, 5, 4]])"
            ]
          },
          "metadata": {
            "tags": []
          },
          "execution_count": 146
        }
      ]
    },
    {
      "cell_type": "code",
      "metadata": {
        "colab": {
          "base_uri": "https://localhost:8080/"
        },
        "id": "6Gj0GE9a-_dC",
        "outputId": "d7c66aef-490f-414e-bc18-495025e1035b"
      },
      "source": [
        "y = np.array([1,2])\n",
        "y = y[np.newaxis,:].T\n",
        "y"
      ],
      "execution_count": null,
      "outputs": [
        {
          "output_type": "execute_result",
          "data": {
            "text/plain": [
              "array([[1],\n",
              "       [2]])"
            ]
          },
          "metadata": {
            "tags": []
          },
          "execution_count": 151
        }
      ]
    },
    {
      "cell_type": "code",
      "metadata": {
        "colab": {
          "base_uri": "https://localhost:8080/"
        },
        "id": "RlRhHMq2A86T",
        "outputId": "20b882ad-ec42-449d-8ed2-84b861638eb5"
      },
      "source": [
        "np.hstack([grid,y])"
      ],
      "execution_count": null,
      "outputs": [
        {
          "output_type": "execute_result",
          "data": {
            "text/plain": [
              "array([[9, 8, 7, 1],\n",
              "       [6, 5, 4, 2]])"
            ]
          },
          "metadata": {
            "tags": []
          },
          "execution_count": 152
        }
      ]
    },
    {
      "cell_type": "markdown",
      "metadata": {
        "id": "be-IJ3VzDuBe"
      },
      "source": [
        "# Dimensions and size of array"
      ]
    },
    {
      "cell_type": "code",
      "metadata": {
        "id": "K3rzfYzPB8Zm"
      },
      "source": [
        "x1=np.random.randint(10,size=6)   #one dimensional array\n",
        "x2=np.random.randint(10,size=(3,4))  #two dimensional array\n",
        "x3=np.random.randint(10,size=(3,4,5))  #three dimensional array"
      ],
      "execution_count": null,
      "outputs": []
    },
    {
      "cell_type": "code",
      "metadata": {
        "colab": {
          "base_uri": "https://localhost:8080/"
        },
        "id": "BtZY5ktcD1wB",
        "outputId": "90da7255-7579-4b04-b6e0-28d5c560456e"
      },
      "source": [
        "print(\"x3 ndim\",x3.ndim)     #number of dimensions\n",
        "print(\"x3 shape\",x3.shape)   #exact value of dimension\n",
        "print(\"x3 size\",x3.size)     #total number of elements\n",
        "print(\"dtype\",x3.dtype)"
      ],
      "execution_count": null,
      "outputs": [
        {
          "output_type": "stream",
          "text": [
            "x3 ndim 3\n",
            "x3 shape (3, 4, 5)\n",
            "x3 size 60\n",
            "dtype int64\n"
          ],
          "name": "stdout"
        }
      ]
    },
    {
      "cell_type": "code",
      "metadata": {
        "colab": {
          "base_uri": "https://localhost:8080/"
        },
        "id": "__QWyYglD3eu",
        "outputId": "8bf33b58-0967-4fbb-a5a0-806710c12c69"
      },
      "source": [
        "print(\"itemsize:\",x3.itemsize,\"bytes\")\n",
        "print(\"nbytes:\",x3.nbytes,\"bytes\")"
      ],
      "execution_count": null,
      "outputs": [
        {
          "output_type": "stream",
          "text": [
            "itemsize: 8 bytes\n",
            "nbytes: 480 bytes\n"
          ],
          "name": "stdout"
        }
      ]
    },
    {
      "cell_type": "code",
      "metadata": {
        "colab": {
          "base_uri": "https://localhost:8080/"
        },
        "id": "mMRcWP8LD9aV",
        "outputId": "8fe95e46-6422-4fbf-97db-51ef639dfb3e"
      },
      "source": [
        "#create a 3X3 array of normally distributed random values \n",
        "#with mean 0 and standard deviation 1\n",
        "np.random.normal(0,1,(3,3)) "
      ],
      "execution_count": null,
      "outputs": [
        {
          "output_type": "execute_result",
          "data": {
            "text/plain": [
              "array([[-1.32559502,  0.77171446, -0.83631625],\n",
              "       [ 0.1357142 , -0.0991595 , -0.33713325],\n",
              "       [-1.2034266 , -0.5426326 , -1.04462789]])"
            ]
          },
          "metadata": {
            "tags": []
          },
          "execution_count": 157
        }
      ]
    },
    {
      "cell_type": "code",
      "metadata": {
        "colab": {
          "base_uri": "https://localhost:8080/"
        },
        "id": "YHkSUjEpEHL7",
        "outputId": "23a2f63d-aec7-4db8-e04f-66b355fcc039"
      },
      "source": [
        "#create a 3X3 array of random integers in the interval [0,10]\n",
        "np.random.randint(0,10,(3,3))"
      ],
      "execution_count": null,
      "outputs": [
        {
          "output_type": "execute_result",
          "data": {
            "text/plain": [
              "array([[7, 1, 0],\n",
              "       [1, 7, 3],\n",
              "       [2, 5, 4]])"
            ]
          },
          "metadata": {
            "tags": []
          },
          "execution_count": 158
        }
      ]
    },
    {
      "cell_type": "code",
      "metadata": {
        "colab": {
          "base_uri": "https://localhost:8080/"
        },
        "id": "c0lxwRlvEPj_",
        "outputId": "fb84125c-72c2-4001-f403-4ff1d115c3ad"
      },
      "source": [
        "#create a 3X3 identity matrix \n",
        "np.eye(3)"
      ],
      "execution_count": null,
      "outputs": [
        {
          "output_type": "execute_result",
          "data": {
            "text/plain": [
              "array([[1., 0., 0.],\n",
              "       [0., 1., 0.],\n",
              "       [0., 0., 1.]])"
            ]
          },
          "metadata": {
            "tags": []
          },
          "execution_count": 159
        }
      ]
    },
    {
      "cell_type": "code",
      "metadata": {
        "colab": {
          "base_uri": "https://localhost:8080/"
        },
        "id": "LWeTY7nNERZ3",
        "outputId": "c1fef255-170e-4f94-eb80-f5bb38715fdd"
      },
      "source": [
        "#create an uninitialized array of 3 integrs\n",
        "np.empty(3)"
      ],
      "execution_count": null,
      "outputs": [
        {
          "output_type": "execute_result",
          "data": {
            "text/plain": [
              "array([1., 1., 1.])"
            ]
          },
          "metadata": {
            "tags": []
          },
          "execution_count": 160
        }
      ]
    },
    {
      "cell_type": "code",
      "metadata": {
        "colab": {
          "base_uri": "https://localhost:8080/"
        },
        "id": "eGCqt2myEUEs",
        "outputId": "67647ffe-c8ee-455d-c646-2cfc14dd1988"
      },
      "source": [
        "#create a 3X5 floating-point array filled with 3.14\n",
        "np.full((3,5),3.14)"
      ],
      "execution_count": null,
      "outputs": [
        {
          "output_type": "execute_result",
          "data": {
            "text/plain": [
              "array([[3.14, 3.14, 3.14, 3.14, 3.14],\n",
              "       [3.14, 3.14, 3.14, 3.14, 3.14],\n",
              "       [3.14, 3.14, 3.14, 3.14, 3.14]])"
            ]
          },
          "metadata": {
            "tags": []
          },
          "execution_count": 161
        }
      ]
    },
    {
      "cell_type": "code",
      "metadata": {
        "colab": {
          "base_uri": "https://localhost:8080/"
        },
        "id": "hS4ATNnkEcJE",
        "outputId": "df7a888d-6f33-4c86-bc18-3eaaf19c4d58"
      },
      "source": [
        "#create a 3X5 floating-point array filled with 1's\n",
        "np.ones((3,5),dtype=float)"
      ],
      "execution_count": null,
      "outputs": [
        {
          "output_type": "execute_result",
          "data": {
            "text/plain": [
              "array([[1., 1., 1., 1., 1.],\n",
              "       [1., 1., 1., 1., 1.],\n",
              "       [1., 1., 1., 1., 1.]])"
            ]
          },
          "metadata": {
            "tags": []
          },
          "execution_count": 162
        }
      ]
    },
    {
      "cell_type": "code",
      "metadata": {
        "colab": {
          "base_uri": "https://localhost:8080/"
        },
        "id": "bjjBTAvWEgg7",
        "outputId": "757b506a-ef33-4f64-e03b-3459b23b26a8"
      },
      "source": [
        "#creating a length 10 integer array filled with zeros\n",
        "np.zeros(10,dtype=int)"
      ],
      "execution_count": null,
      "outputs": [
        {
          "output_type": "execute_result",
          "data": {
            "text/plain": [
              "array([0, 0, 0, 0, 0, 0, 0, 0, 0, 0])"
            ]
          },
          "metadata": {
            "tags": []
          },
          "execution_count": 163
        }
      ]
    },
    {
      "cell_type": "code",
      "metadata": {
        "colab": {
          "base_uri": "https://localhost:8080/"
        },
        "id": "wWFcaWvMErXz",
        "outputId": "13bdbb34-28dd-4a15-874c-5994131fbb0d"
      },
      "source": [
        "# creating array using python list \n",
        "np.array([range (i,i+3) for i in [2,4,6]])"
      ],
      "execution_count": null,
      "outputs": [
        {
          "output_type": "execute_result",
          "data": {
            "text/plain": [
              "array([[2, 3, 4],\n",
              "       [4, 5, 6],\n",
              "       [6, 7, 8]])"
            ]
          },
          "metadata": {
            "tags": []
          },
          "execution_count": 164
        }
      ]
    },
    {
      "cell_type": "code",
      "metadata": {
        "colab": {
          "base_uri": "https://localhost:8080/"
        },
        "id": "MkVDtalsFA4t",
        "outputId": "9b537dc9-f540-4626-a7e3-c2b1f313fea5"
      },
      "source": [
        "# giving datatype while creating array\n",
        "np.array([1,2,3,4],dtype='float32')"
      ],
      "execution_count": null,
      "outputs": [
        {
          "output_type": "execute_result",
          "data": {
            "text/plain": [
              "array([1., 2., 3., 4.], dtype=float32)"
            ]
          },
          "metadata": {
            "tags": []
          },
          "execution_count": 165
        }
      ]
    },
    {
      "cell_type": "code",
      "metadata": {
        "id": "5BfYOu9qFHj1"
      },
      "source": [
        "import array\n",
        "L=list(range(10))\n",
        "A=array.array('i',L)"
      ],
      "execution_count": null,
      "outputs": []
    },
    {
      "cell_type": "markdown",
      "metadata": {
        "id": "WRNnDH0oGXrJ"
      },
      "source": [
        "# Create structured Arrays"
      ]
    },
    {
      "cell_type": "code",
      "metadata": {
        "colab": {
          "base_uri": "https://localhost:8080/"
        },
        "id": "0Bk1D3v0FOvu",
        "outputId": "d0131237-c513-4d63-947c-5203e1c3041c"
      },
      "source": [
        "np.dtype({'names':('name','age','weight'),'formats':('U10','i4','f8')})"
      ],
      "execution_count": null,
      "outputs": [
        {
          "output_type": "execute_result",
          "data": {
            "text/plain": [
              "dtype([('name', '<U10'), ('age', '<i4'), ('weight', '<f8')])"
            ]
          },
          "metadata": {
            "tags": []
          },
          "execution_count": 167
        }
      ]
    },
    {
      "cell_type": "code",
      "metadata": {
        "colab": {
          "base_uri": "https://localhost:8080/"
        },
        "id": "r4KReqqBGcUc",
        "outputId": "6c867f28-5e74-4fa8-eb7d-c27088995d90"
      },
      "source": [
        "np.dtype([('name','S10'),('age','i4'),('weight','f8')])"
      ],
      "execution_count": null,
      "outputs": [
        {
          "output_type": "execute_result",
          "data": {
            "text/plain": [
              "dtype([('name', 'S10'), ('age', '<i4'), ('weight', '<f8')])"
            ]
          },
          "metadata": {
            "tags": []
          },
          "execution_count": 168
        }
      ]
    },
    {
      "cell_type": "code",
      "metadata": {
        "id": "-dKWZulnGhqf"
      },
      "source": [
        "tp=np.dtype([('id','i8'),('mat','f8',(3,3))])"
      ],
      "execution_count": null,
      "outputs": []
    },
    {
      "cell_type": "code",
      "metadata": {
        "colab": {
          "base_uri": "https://localhost:8080/"
        },
        "id": "cSgkV0TwGkOc",
        "outputId": "8fd94140-a532-4459-bd0b-dd03417287e2"
      },
      "source": [
        "X=np.zeros(1,dtype=tp)\n",
        "print(X[0])\n",
        "print(X['mat'][0])"
      ],
      "execution_count": null,
      "outputs": [
        {
          "output_type": "stream",
          "text": [
            "(0, [[0., 0., 0.], [0., 0., 0.], [0., 0., 0.]])\n",
            "[[0. 0. 0.]\n",
            " [0. 0. 0.]\n",
            " [0. 0. 0.]]\n"
          ],
          "name": "stdout"
        }
      ]
    },
    {
      "cell_type": "markdown",
      "metadata": {
        "id": "TkfbySOuHHOI"
      },
      "source": [
        "# sorting and structured array"
      ]
    },
    {
      "cell_type": "code",
      "metadata": {
        "id": "0TAHTGVqGl8A",
        "colab": {
          "base_uri": "https://localhost:8080/"
        },
        "outputId": "803bd0b7-e577-4271-98fc-5f340d22f9be"
      },
      "source": [
        "rand=np.random.RandomState(42)\n",
        "x=rand.randint(0,10,(4,6))\n",
        "print(x) "
      ],
      "execution_count": null,
      "outputs": [
        {
          "output_type": "stream",
          "text": [
            "[[6 3 7 4 6 9]\n",
            " [2 6 7 4 3 7]\n",
            " [7 2 5 4 1 7]\n",
            " [5 1 4 0 9 5]]\n"
          ],
          "name": "stdout"
        }
      ]
    },
    {
      "cell_type": "code",
      "metadata": {
        "colab": {
          "base_uri": "https://localhost:8080/"
        },
        "id": "n0ztq6Zu-PhQ",
        "outputId": "09017e29-0b36-407f-c7a5-206b6b9d3630"
      },
      "source": [
        "np.sort(x,axis = 0)   # axis= 0 means column in numpy "
      ],
      "execution_count": null,
      "outputs": [
        {
          "output_type": "execute_result",
          "data": {
            "text/plain": [
              "array([[2, 1, 4, 0, 1, 5],\n",
              "       [5, 2, 5, 4, 3, 7],\n",
              "       [6, 3, 7, 4, 6, 7],\n",
              "       [7, 6, 7, 4, 9, 9]])"
            ]
          },
          "metadata": {
            "tags": []
          },
          "execution_count": 91
        }
      ]
    },
    {
      "cell_type": "code",
      "metadata": {
        "colab": {
          "base_uri": "https://localhost:8080/"
        },
        "id": "oeJL2lOR-Pd0",
        "outputId": "40b798f4-1e66-4fe1-9f3c-970197771115"
      },
      "source": [
        "np.sort(x, axis= 1)"
      ],
      "execution_count": null,
      "outputs": [
        {
          "output_type": "execute_result",
          "data": {
            "text/plain": [
              "array([[3, 4, 6, 6, 7, 9],\n",
              "       [2, 3, 4, 6, 7, 7],\n",
              "       [1, 2, 4, 5, 7, 7],\n",
              "       [0, 1, 4, 5, 5, 9]])"
            ]
          },
          "metadata": {
            "tags": []
          },
          "execution_count": 93
        }
      ]
    },
    {
      "cell_type": "code",
      "metadata": {
        "colab": {
          "base_uri": "https://localhost:8080/"
        },
        "id": "aMU89ioY-PS8",
        "outputId": "28f7a047-68cc-4e8a-e630-9c53af49507c"
      },
      "source": [
        "np.partition(x,4,axis = 1)"
      ],
      "execution_count": null,
      "outputs": [
        {
          "output_type": "execute_result",
          "data": {
            "text/plain": [
              "array([[6, 6, 3, 4, 7, 9],\n",
              "       [3, 2, 6, 4, 7, 7],\n",
              "       [1, 5, 2, 4, 7, 7],\n",
              "       [0, 4, 1, 5, 5, 9]])"
            ]
          },
          "metadata": {
            "tags": []
          },
          "execution_count": 101
        }
      ]
    },
    {
      "cell_type": "code",
      "metadata": {
        "id": "iOqz_uyo-PPz"
      },
      "source": [
        ""
      ],
      "execution_count": null,
      "outputs": []
    },
    {
      "cell_type": "code",
      "metadata": {
        "id": "1_XsWgli-PNN"
      },
      "source": [
        ""
      ],
      "execution_count": null,
      "outputs": []
    },
    {
      "cell_type": "code",
      "metadata": {
        "id": "wzlkhzY8-PKH"
      },
      "source": [
        ""
      ],
      "execution_count": null,
      "outputs": []
    },
    {
      "cell_type": "code",
      "metadata": {
        "id": "HEGgHhiI-PHR"
      },
      "source": [
        ""
      ],
      "execution_count": null,
      "outputs": []
    },
    {
      "cell_type": "code",
      "metadata": {
        "id": "kdXQhLV--PEd"
      },
      "source": [
        ""
      ],
      "execution_count": null,
      "outputs": []
    },
    {
      "cell_type": "code",
      "metadata": {
        "id": "Ecpn9FRP-PB4"
      },
      "source": [
        ""
      ],
      "execution_count": null,
      "outputs": []
    },
    {
      "cell_type": "code",
      "metadata": {
        "id": "IYL4ZpT8-O-5"
      },
      "source": [
        ""
      ],
      "execution_count": null,
      "outputs": []
    },
    {
      "cell_type": "code",
      "metadata": {
        "id": "Db-ieJvl-O8b"
      },
      "source": [
        ""
      ],
      "execution_count": null,
      "outputs": []
    },
    {
      "cell_type": "code",
      "metadata": {
        "id": "ZAFAZmJg-O5m"
      },
      "source": [
        ""
      ],
      "execution_count": null,
      "outputs": []
    },
    {
      "cell_type": "code",
      "metadata": {
        "id": "vlj68j19-O2i"
      },
      "source": [
        ""
      ],
      "execution_count": null,
      "outputs": []
    },
    {
      "cell_type": "code",
      "metadata": {
        "id": "A4rpEhIW-Ow3"
      },
      "source": [
        ""
      ],
      "execution_count": null,
      "outputs": []
    },
    {
      "cell_type": "code",
      "metadata": {
        "id": "xy1Pnspz-Otq"
      },
      "source": [
        ""
      ],
      "execution_count": null,
      "outputs": []
    },
    {
      "cell_type": "markdown",
      "metadata": {
        "id": "3r3rnLWbHXv8"
      },
      "source": [
        "# Moddifying value with fancy indexing "
      ]
    },
    {
      "cell_type": "code",
      "metadata": {
        "id": "KMl_Tx4vHUec"
      },
      "source": [
        "# fancy indexing means passing of array of indices to access multiple\n",
        "# array elements at once. "
      ],
      "execution_count": null,
      "outputs": []
    },
    {
      "cell_type": "code",
      "metadata": {
        "colab": {
          "base_uri": "https://localhost:8080/"
        },
        "id": "Trmz6hLNtJM6",
        "outputId": "fa509e6d-ebda-4dc1-c550-1e5404c84cc9"
      },
      "source": [
        "np.random.RandomState(42) \n",
        "import random as rand\n",
        "x = np.random.randint(100, size = 10)\n",
        "x"
      ],
      "execution_count": null,
      "outputs": [
        {
          "output_type": "execute_result",
          "data": {
            "text/plain": [
              "array([70,  0, 71, 36, 14, 24, 44, 90,  0, 26])"
            ]
          },
          "metadata": {
            "tags": []
          },
          "execution_count": 54
        }
      ]
    },
    {
      "cell_type": "code",
      "metadata": {
        "colab": {
          "base_uri": "https://localhost:8080/"
        },
        "id": "n7hHJZq9tJI8",
        "outputId": "609201fe-6f3c-469a-8538-3448ca44d85d"
      },
      "source": [
        "indeces = [3,2,1,0]\n",
        "x[indeces]"
      ],
      "execution_count": null,
      "outputs": [
        {
          "output_type": "execute_result",
          "data": {
            "text/plain": [
              "array([36, 71,  0, 70])"
            ]
          },
          "metadata": {
            "tags": []
          },
          "execution_count": 55
        }
      ]
    },
    {
      "cell_type": "code",
      "metadata": {
        "colab": {
          "base_uri": "https://localhost:8080/"
        },
        "id": "vpppKGVVtJFd",
        "outputId": "19abbc0f-a65c-4272-97e4-1168593c6ca1"
      },
      "source": [
        "x = np.arange(12).reshape((3,4)) \n",
        "x"
      ],
      "execution_count": null,
      "outputs": [
        {
          "output_type": "execute_result",
          "data": {
            "text/plain": [
              "array([[ 0,  1,  2,  3],\n",
              "       [ 4,  5,  6,  7],\n",
              "       [ 8,  9, 10, 11]])"
            ]
          },
          "metadata": {
            "tags": []
          },
          "execution_count": 56
        }
      ]
    },
    {
      "cell_type": "code",
      "metadata": {
        "colab": {
          "base_uri": "https://localhost:8080/"
        },
        "id": "usMV8jX3tJCe",
        "outputId": "0ff47380-6613-4687-86c3-ab6cd43ba888"
      },
      "source": [
        "row = [0,1,2]\n",
        "cols = [2,1,3]\n",
        "x[row,cols]"
      ],
      "execution_count": null,
      "outputs": [
        {
          "output_type": "execute_result",
          "data": {
            "text/plain": [
              "array([ 2,  5, 11])"
            ]
          },
          "metadata": {
            "tags": []
          },
          "execution_count": 59
        }
      ]
    },
    {
      "cell_type": "code",
      "metadata": {
        "colab": {
          "base_uri": "https://localhost:8080/"
        },
        "id": "pgH73zmWtI5u",
        "outputId": "1055fb9c-6696-4e71-d3b7-108f73bbc069"
      },
      "source": [
        "x = np.random.randint(100,size = 10)\n",
        "ind = np.array([[2,3,1],\n",
        "                [4,1,2]])\n",
        "print(x)\n",
        "x[ind] "
      ],
      "execution_count": null,
      "outputs": [
        {
          "output_type": "stream",
          "text": [
            "[84 37  1 28 97 48 11 79 46  6]\n"
          ],
          "name": "stdout"
        },
        {
          "output_type": "execute_result",
          "data": {
            "text/plain": [
              "array([[ 1, 28, 37],\n",
              "       [97, 37,  1]])"
            ]
          },
          "metadata": {
            "tags": []
          },
          "execution_count": 66
        }
      ]
    },
    {
      "cell_type": "code",
      "metadata": {
        "id": "Agp-jO5RtI26"
      },
      "source": [
        ""
      ],
      "execution_count": null,
      "outputs": []
    },
    {
      "cell_type": "code",
      "metadata": {
        "colab": {
          "base_uri": "https://localhost:8080/"
        },
        "id": "aj7zaezqtI0S",
        "outputId": "646d360b-2f30-49fd-ea78-71ea56d70d44"
      },
      "source": [
        "x = np.random.randint(12,size = (3,4))\n",
        "print(x)\n",
        "row = np.array([0,1,2])\n",
        "col = np.array([2,1,3])\n",
        "print()\n",
        "print(x[row,col])\n",
        "newarr = row[:,np.newaxis]\n",
        "print()\n",
        "print(newarr)\n",
        "print()\n",
        "x[newarr,col]"
      ],
      "execution_count": null,
      "outputs": [
        {
          "output_type": "stream",
          "text": [
            "[[ 8  7  3  7]\n",
            " [ 4 11  3  8]\n",
            " [10  1  0  6]]\n",
            "\n",
            "[ 3 11  6]\n",
            "\n",
            "[[0]\n",
            " [1]\n",
            " [2]]\n",
            "\n"
          ],
          "name": "stdout"
        },
        {
          "output_type": "execute_result",
          "data": {
            "text/plain": [
              "array([[ 3,  7,  7],\n",
              "       [ 3, 11,  8],\n",
              "       [ 0,  1,  6]])"
            ]
          },
          "metadata": {
            "tags": []
          },
          "execution_count": 71
        }
      ]
    },
    {
      "cell_type": "code",
      "metadata": {
        "colab": {
          "base_uri": "https://localhost:8080/"
        },
        "id": "BqwNBpGutIw2",
        "outputId": "a837f5eb-e1bc-4d49-9cb7-f5fa54726eb7"
      },
      "source": [
        "# combined indexing \n",
        "x"
      ],
      "execution_count": null,
      "outputs": [
        {
          "output_type": "execute_result",
          "data": {
            "text/plain": [
              "array([[ 8,  7,  3,  7],\n",
              "       [ 4, 11,  3,  8],\n",
              "       [10,  1,  0,  6]])"
            ]
          },
          "metadata": {
            "tags": []
          },
          "execution_count": 72
        }
      ]
    },
    {
      "cell_type": "code",
      "metadata": {
        "colab": {
          "base_uri": "https://localhost:8080/"
        },
        "id": "Qs7oow2qtIt_",
        "outputId": "5c0e9843-bb56-4d67-e496-2c840cf3dbe0"
      },
      "source": [
        "x[1:,[3,1]]  # combine fancy indexing with indexing and slicing "
      ],
      "execution_count": null,
      "outputs": [
        {
          "output_type": "execute_result",
          "data": {
            "text/plain": [
              "array([[ 8, 11],\n",
              "       [ 6,  1]])"
            ]
          },
          "metadata": {
            "tags": []
          },
          "execution_count": 73
        }
      ]
    },
    {
      "cell_type": "code",
      "metadata": {
        "colab": {
          "base_uri": "https://localhost:8080/"
        },
        "id": "pN2eX5OitIq7",
        "outputId": "f946ed11-38d9-4fed-b6d7-3143673c4182"
      },
      "source": [
        "x[2,[2,0,1]]   # "
      ],
      "execution_count": null,
      "outputs": [
        {
          "output_type": "execute_result",
          "data": {
            "text/plain": [
              "array([ 0, 10,  1])"
            ]
          },
          "metadata": {
            "tags": []
          },
          "execution_count": 74
        }
      ]
    },
    {
      "cell_type": "code",
      "metadata": {
        "colab": {
          "base_uri": "https://localhost:8080/"
        },
        "id": "TnXu2hYAtIn_",
        "outputId": "8a90933d-2b77-4680-e379-26e658c4625e"
      },
      "source": [
        "# combine fancy indexing with masking \n",
        "mask=np.array([1,0,1,0],dtype=bool)\n",
        "print('mask',mask)\n",
        "print('x',x)\n",
        "print('row', row)\n",
        "x[row[:,np.newaxis],mask]"
      ],
      "execution_count": null,
      "outputs": [
        {
          "output_type": "stream",
          "text": [
            "mask [ True False  True False]\n",
            "x [[ 8  7  3  7]\n",
            " [ 4 11  3  8]\n",
            " [10  1  0  6]]\n",
            "row [0 1 2]\n"
          ],
          "name": "stdout"
        },
        {
          "output_type": "execute_result",
          "data": {
            "text/plain": [
              "array([[ 8,  3],\n",
              "       [ 4,  3],\n",
              "       [10,  0]])"
            ]
          },
          "metadata": {
            "tags": []
          },
          "execution_count": 89
        }
      ]
    },
    {
      "cell_type": "code",
      "metadata": {
        "id": "tVJAJOeW8T2q"
      },
      "source": [
        ""
      ],
      "execution_count": null,
      "outputs": []
    },
    {
      "cell_type": "code",
      "metadata": {
        "id": "68yEDtiT8Tzr"
      },
      "source": [
        ""
      ],
      "execution_count": null,
      "outputs": []
    },
    {
      "cell_type": "code",
      "metadata": {
        "id": "4ZjzrBgU8TxI"
      },
      "source": [
        ""
      ],
      "execution_count": null,
      "outputs": []
    },
    {
      "cell_type": "code",
      "metadata": {
        "id": "sXKHOFlU8Tu3"
      },
      "source": [
        ""
      ],
      "execution_count": null,
      "outputs": []
    },
    {
      "cell_type": "code",
      "metadata": {
        "id": "eYjMm1yP8TsP"
      },
      "source": [
        ""
      ],
      "execution_count": null,
      "outputs": []
    },
    {
      "cell_type": "code",
      "metadata": {
        "id": "Ivi2dvB68Tpq"
      },
      "source": [
        ""
      ],
      "execution_count": null,
      "outputs": []
    },
    {
      "cell_type": "code",
      "metadata": {
        "id": "AAgsFZSJ8Tcq"
      },
      "source": [
        ""
      ],
      "execution_count": null,
      "outputs": []
    },
    {
      "cell_type": "markdown",
      "metadata": {
        "id": "lZxeo0fqM-uS"
      },
      "source": [
        "# Array slicing "
      ]
    },
    {
      "cell_type": "code",
      "metadata": {
        "id": "8G7MGkQMHVFG"
      },
      "source": [
        "import numpy as np\n",
        "m1 = np.random.randint(10,size = (4,3)) \n",
        "m2 = np.arange(13,22)"
      ],
      "execution_count": null,
      "outputs": []
    },
    {
      "cell_type": "code",
      "metadata": {
        "id": "5eWGhTtGHVCQ",
        "colab": {
          "base_uri": "https://localhost:8080/"
        },
        "outputId": "c19daf83-10b0-49a4-9d40-459ec97268f8"
      },
      "source": [
        "m1"
      ],
      "execution_count": null,
      "outputs": [
        {
          "output_type": "execute_result",
          "data": {
            "text/plain": [
              "array([[3, 3, 6],\n",
              "       [3, 7, 8],\n",
              "       [2, 1, 1],\n",
              "       [1, 6, 0]])"
            ]
          },
          "metadata": {
            "tags": []
          },
          "execution_count": 22
        }
      ]
    },
    {
      "cell_type": "code",
      "metadata": {
        "id": "1iikMRz0HU_j",
        "colab": {
          "base_uri": "https://localhost:8080/"
        },
        "outputId": "f1b118bb-46aa-4d72-d778-5d9498700d58"
      },
      "source": [
        "m2"
      ],
      "execution_count": null,
      "outputs": [
        {
          "output_type": "execute_result",
          "data": {
            "text/plain": [
              "array([13, 14, 15, 16, 17, 18, 19, 20, 21])"
            ]
          },
          "metadata": {
            "tags": []
          },
          "execution_count": 23
        }
      ]
    },
    {
      "cell_type": "code",
      "metadata": {
        "id": "g-PXF7T8HU8v",
        "colab": {
          "base_uri": "https://localhost:8080/"
        },
        "outputId": "9cc200f6-3723-4771-a7af-b2738fe63d2d"
      },
      "source": [
        "m2[::-1]              # in order to reverse the array"
      ],
      "execution_count": null,
      "outputs": [
        {
          "output_type": "execute_result",
          "data": {
            "text/plain": [
              "array([21, 20, 19, 18, 17, 16, 15, 14, 13])"
            ]
          },
          "metadata": {
            "tags": []
          },
          "execution_count": 24
        }
      ]
    },
    {
      "cell_type": "code",
      "metadata": {
        "id": "TSREvyShHUzi",
        "colab": {
          "base_uri": "https://localhost:8080/"
        },
        "outputId": "694eaeeb-bf8e-432d-e6e8-2847920e33e0"
      },
      "source": [
        "m2[::2]              # jump with step size of 2"
      ],
      "execution_count": null,
      "outputs": [
        {
          "output_type": "execute_result",
          "data": {
            "text/plain": [
              "array([13, 15, 17, 19, 21])"
            ]
          },
          "metadata": {
            "tags": []
          },
          "execution_count": 25
        }
      ]
    },
    {
      "cell_type": "code",
      "metadata": {
        "id": "5vKpcnkHHQ2k",
        "colab": {
          "base_uri": "https://localhost:8080/"
        },
        "outputId": "c803548e-7f9e-4947-87a3-47ccf4f18cca"
      },
      "source": [
        "m2[3]               # taking the third element "
      ],
      "execution_count": null,
      "outputs": [
        {
          "output_type": "execute_result",
          "data": {
            "text/plain": [
              "16"
            ]
          },
          "metadata": {
            "tags": []
          },
          "execution_count": 27
        }
      ]
    },
    {
      "cell_type": "code",
      "metadata": {
        "colab": {
          "base_uri": "https://localhost:8080/"
        },
        "id": "rEAfd5vmUeIc",
        "outputId": "077bdeb8-078f-493d-f3af-9903640681e8"
      },
      "source": [
        "m2[3:5]            # printing third and forth element "
      ],
      "execution_count": null,
      "outputs": [
        {
          "output_type": "execute_result",
          "data": {
            "text/plain": [
              "array([16, 17])"
            ]
          },
          "metadata": {
            "tags": []
          },
          "execution_count": 28
        }
      ]
    },
    {
      "cell_type": "code",
      "metadata": {
        "colab": {
          "base_uri": "https://localhost:8080/"
        },
        "id": "_878lMaPmc8m",
        "outputId": "283b31cd-a8cf-41f9-c97b-6c65fb33f699"
      },
      "source": [
        "m2"
      ],
      "execution_count": null,
      "outputs": [
        {
          "output_type": "execute_result",
          "data": {
            "text/plain": [
              "array([13, 14, 15, 16, 17, 18, 19, 20, 21])"
            ]
          },
          "metadata": {
            "tags": []
          },
          "execution_count": 33
        }
      ]
    },
    {
      "cell_type": "code",
      "metadata": {
        "colab": {
          "base_uri": "https://localhost:8080/"
        },
        "id": "O6ZUNC1Ymc5r",
        "outputId": "e7aa431b-d252-4de6-d49b-9e1863704fba"
      },
      "source": [
        "m2[::-2]"
      ],
      "execution_count": null,
      "outputs": [
        {
          "output_type": "execute_result",
          "data": {
            "text/plain": [
              "array([21, 19, 17, 15, 13])"
            ]
          },
          "metadata": {
            "tags": []
          },
          "execution_count": 34
        }
      ]
    },
    {
      "cell_type": "code",
      "metadata": {
        "colab": {
          "base_uri": "https://localhost:8080/"
        },
        "id": "jf6ZMydpmc20",
        "outputId": "c158bab2-de42-4517-fea0-da0904261fb5"
      },
      "source": [
        "m1"
      ],
      "execution_count": null,
      "outputs": [
        {
          "output_type": "execute_result",
          "data": {
            "text/plain": [
              "array([[3, 3, 6],\n",
              "       [3, 7, 8],\n",
              "       [2, 1, 1],\n",
              "       [1, 6, 0]])"
            ]
          },
          "metadata": {
            "tags": []
          },
          "execution_count": 35
        }
      ]
    },
    {
      "cell_type": "code",
      "metadata": {
        "colab": {
          "base_uri": "https://localhost:8080/"
        },
        "id": "Q8F5wqV2mc0c",
        "outputId": "a47b5002-1dd6-456a-980f-e267980ef7a0"
      },
      "source": [
        "m1[:2,:3] "
      ],
      "execution_count": null,
      "outputs": [
        {
          "output_type": "execute_result",
          "data": {
            "text/plain": [
              "array([[3, 3, 6],\n",
              "       [3, 7, 8]])"
            ]
          },
          "metadata": {
            "tags": []
          },
          "execution_count": 36
        }
      ]
    },
    {
      "cell_type": "code",
      "metadata": {
        "colab": {
          "base_uri": "https://localhost:8080/"
        },
        "id": "6vJ305eVmcyN",
        "outputId": "115ffb12-56f3-483e-a007-bfd850d9da26"
      },
      "source": [
        "m1[:,::-2]"
      ],
      "execution_count": null,
      "outputs": [
        {
          "output_type": "execute_result",
          "data": {
            "text/plain": [
              "array([[6, 3],\n",
              "       [8, 3],\n",
              "       [1, 2],\n",
              "       [0, 1]])"
            ]
          },
          "metadata": {
            "tags": []
          },
          "execution_count": 38
        }
      ]
    },
    {
      "cell_type": "code",
      "metadata": {
        "colab": {
          "base_uri": "https://localhost:8080/"
        },
        "id": "0mHLJ5r7mcv3",
        "outputId": "cfed1357-c5d4-4a51-f160-5ea49aee34d8"
      },
      "source": [
        "m1[::-1,::-1]"
      ],
      "execution_count": null,
      "outputs": [
        {
          "output_type": "execute_result",
          "data": {
            "text/plain": [
              "array([[0, 6, 1],\n",
              "       [1, 1, 2],\n",
              "       [8, 7, 3],\n",
              "       [6, 3, 3]])"
            ]
          },
          "metadata": {
            "tags": []
          },
          "execution_count": 39
        }
      ]
    },
    {
      "cell_type": "code",
      "metadata": {
        "colab": {
          "base_uri": "https://localhost:8080/"
        },
        "id": "2_cBTn8xmctV",
        "outputId": "7537270e-98d1-4b2f-8e20-50d84901bc3d"
      },
      "source": [
        "m1[0]    # first row "
      ],
      "execution_count": null,
      "outputs": [
        {
          "output_type": "execute_result",
          "data": {
            "text/plain": [
              "array([3, 3, 6])"
            ]
          },
          "metadata": {
            "tags": []
          },
          "execution_count": 41
        }
      ]
    },
    {
      "cell_type": "code",
      "metadata": {
        "colab": {
          "base_uri": "https://localhost:8080/"
        },
        "id": "4TD7fW-TmcrB",
        "outputId": "8afbac53-18fb-4447-d2b2-e8d95883ada2"
      },
      "source": [
        "m1[:,0]      # first column"
      ],
      "execution_count": null,
      "outputs": [
        {
          "output_type": "execute_result",
          "data": {
            "text/plain": [
              "array([3, 3, 2, 1])"
            ]
          },
          "metadata": {
            "tags": []
          },
          "execution_count": 44
        }
      ]
    },
    {
      "cell_type": "code",
      "metadata": {
        "id": "JSn3mov0mcn6"
      },
      "source": [
        ""
      ],
      "execution_count": null,
      "outputs": []
    },
    {
      "cell_type": "code",
      "metadata": {
        "id": "hs9DtSNrmcWi"
      },
      "source": [
        ""
      ],
      "execution_count": null,
      "outputs": []
    },
    {
      "cell_type": "code",
      "metadata": {
        "colab": {
          "base_uri": "https://localhost:8080/"
        },
        "id": "kZUI43g6V7wS",
        "outputId": "d68a02f3-eea9-42da-f1f1-a30ee9367061"
      },
      "source": [
        "np.full((3,5),3.14)"
      ],
      "execution_count": null,
      "outputs": [
        {
          "output_type": "execute_result",
          "data": {
            "text/plain": [
              "array([[3.14, 3.14, 3.14, 3.14, 3.14],\n",
              "       [3.14, 3.14, 3.14, 3.14, 3.14],\n",
              "       [3.14, 3.14, 3.14, 3.14, 3.14]])"
            ]
          },
          "metadata": {
            "tags": []
          },
          "execution_count": 29
        }
      ]
    },
    {
      "cell_type": "code",
      "metadata": {
        "colab": {
          "base_uri": "https://localhost:8080/"
        },
        "id": "KOGsRRgVmGrA",
        "outputId": "33e5d33f-793a-43f6-bae0-8f9a69335729"
      },
      "source": [
        "np.random.randint(0,10,(3,3))"
      ],
      "execution_count": null,
      "outputs": [
        {
          "output_type": "execute_result",
          "data": {
            "text/plain": [
              "array([[4, 9, 3],\n",
              "       [2, 6, 6],\n",
              "       [3, 7, 4]])"
            ]
          },
          "metadata": {
            "tags": []
          },
          "execution_count": 30
        }
      ]
    },
    {
      "cell_type": "code",
      "metadata": {
        "colab": {
          "base_uri": "https://localhost:8080/"
        },
        "id": "TarKAKOpmMQH",
        "outputId": "ab1b1a28-f6b9-4ab8-f5e4-2948597cebc0"
      },
      "source": [
        "np.random.normal(0,1,(3,3))"
      ],
      "execution_count": null,
      "outputs": [
        {
          "output_type": "execute_result",
          "data": {
            "text/plain": [
              "array([[ 2.23209227,  2.64061942, -0.72569752],\n",
              "       [-0.11747029, -0.09039575,  0.52005619],\n",
              "       [ 1.30931906,  0.97440237,  1.780817  ]])"
            ]
          },
          "metadata": {
            "tags": []
          },
          "execution_count": 31
        }
      ]
    },
    {
      "cell_type": "code",
      "metadata": {
        "colab": {
          "base_uri": "https://localhost:8080/"
        },
        "id": "EUHDImoomN7Y",
        "outputId": "f9597143-2e3f-4c24-afc5-2f563ee2044e"
      },
      "source": [
        "np.eye(3)"
      ],
      "execution_count": null,
      "outputs": [
        {
          "output_type": "execute_result",
          "data": {
            "text/plain": [
              "array([[1., 0., 0.],\n",
              "       [0., 1., 0.],\n",
              "       [0., 0., 1.]])"
            ]
          },
          "metadata": {
            "tags": []
          },
          "execution_count": 32
        }
      ]
    },
    {
      "cell_type": "code",
      "metadata": {
        "id": "lk31xxlxmStu"
      },
      "source": [
        ""
      ],
      "execution_count": null,
      "outputs": []
    }
  ]
}
