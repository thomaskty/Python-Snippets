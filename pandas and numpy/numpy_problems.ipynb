{
  "nbformat": 4,
  "nbformat_minor": 0,
  "metadata": {
    "colab": {
      "name": "numpy_problems.ipynb",
      "provenance": []
    },
    "kernelspec": {
      "name": "python3",
      "display_name": "Python 3"
    }
  },
  "cells": [
    {
      "cell_type": "code",
      "metadata": {
        "id": "h6J4WMfR2q-C"
      },
      "source": [
        "import numpy as np"
      ],
      "execution_count": null,
      "outputs": []
    },
    {
      "cell_type": "code",
      "metadata": {
        "colab": {
          "base_uri": "https://localhost:8080/"
        },
        "id": "dhOaURHO23I8",
        "outputId": "bb8d1d6d-e9d0-4b4e-f1c1-07cdd8da0788"
      },
      "source": [
        "# printing version and configuration \n",
        "print(np.__version__)\n",
        "np.show_config() "
      ],
      "execution_count": null,
      "outputs": [
        {
          "output_type": "stream",
          "text": [
            "1.19.5\n",
            "blas_mkl_info:\n",
            "  NOT AVAILABLE\n",
            "blis_info:\n",
            "  NOT AVAILABLE\n",
            "openblas_info:\n",
            "    libraries = ['openblas', 'openblas']\n",
            "    library_dirs = ['/usr/local/lib']\n",
            "    language = c\n",
            "    define_macros = [('HAVE_CBLAS', None)]\n",
            "blas_opt_info:\n",
            "    libraries = ['openblas', 'openblas']\n",
            "    library_dirs = ['/usr/local/lib']\n",
            "    language = c\n",
            "    define_macros = [('HAVE_CBLAS', None)]\n",
            "lapack_mkl_info:\n",
            "  NOT AVAILABLE\n",
            "openblas_lapack_info:\n",
            "    libraries = ['openblas', 'openblas']\n",
            "    library_dirs = ['/usr/local/lib']\n",
            "    language = c\n",
            "    define_macros = [('HAVE_CBLAS', None)]\n",
            "lapack_opt_info:\n",
            "    libraries = ['openblas', 'openblas']\n",
            "    library_dirs = ['/usr/local/lib']\n",
            "    language = c\n",
            "    define_macros = [('HAVE_CBLAS', None)]\n"
          ],
          "name": "stdout"
        }
      ]
    },
    {
      "cell_type": "code",
      "metadata": {
        "colab": {
          "base_uri": "https://localhost:8080/"
        },
        "id": "PVYohsoo27o6",
        "outputId": "90a4148d-314a-4e28-c751-906535931785"
      },
      "source": [
        "# create a null vecor of size 10 \n",
        "z = np.zeros(10)\n",
        "print(z)"
      ],
      "execution_count": null,
      "outputs": [
        {
          "output_type": "stream",
          "text": [
            "[0. 0. 0. 0. 0. 0. 0. 0. 0. 0.]\n"
          ],
          "name": "stdout"
        }
      ]
    },
    {
      "cell_type": "code",
      "metadata": {
        "colab": {
          "base_uri": "https://localhost:8080/"
        },
        "id": "TqUz1lXD3MOX",
        "outputId": "c0052850-208b-4319-bc41-4dbeb3d164e0"
      },
      "source": [
        "# How to find memory size of any array\n",
        "z = np.zeros((10,10))\n",
        "print(\"%d bytes\" % (z.size * z.itemsize))\n",
        "print(\"z.size = \", z.size)\n",
        "print('z.itemsize= ',z.itemsize)"
      ],
      "execution_count": null,
      "outputs": [
        {
          "output_type": "stream",
          "text": [
            "800 bytes\n",
            "z.size =  100\n",
            "z.itemsize=  8\n"
          ],
          "name": "stdout"
        }
      ]
    },
    {
      "cell_type": "code",
      "metadata": {
        "id": "F4qZMd3X3cQK"
      },
      "source": [
        "# getting documentation of the numpy add function from the command line \n",
        "# python -m \"import numpy; numpy.info(numpy.add)\""
      ],
      "execution_count": null,
      "outputs": []
    },
    {
      "cell_type": "code",
      "metadata": {
        "colab": {
          "base_uri": "https://localhost:8080/"
        },
        "id": "v3gkyfFR4RMl",
        "outputId": "e7276331-025d-485a-d311-6e9cccd03b47"
      },
      "source": [
        "# create a vector with values ranging from 10 to 49 \n",
        "z = np.arange(10,50)\n",
        "z"
      ],
      "execution_count": null,
      "outputs": [
        {
          "output_type": "execute_result",
          "data": {
            "text/plain": [
              "array([10, 11, 12, 13, 14, 15, 16, 17, 18, 19, 20, 21, 22, 23, 24, 25, 26,\n",
              "       27, 28, 29, 30, 31, 32, 33, 34, 35, 36, 37, 38, 39, 40, 41, 42, 43,\n",
              "       44, 45, 46, 47, 48, 49])"
            ]
          },
          "metadata": {
            "tags": []
          },
          "execution_count": 18
        }
      ]
    },
    {
      "cell_type": "code",
      "metadata": {
        "colab": {
          "base_uri": "https://localhost:8080/"
        },
        "id": "cMccyACI52w2",
        "outputId": "3ccebb21-bcb3-442f-a7c7-d3837495e9f2"
      },
      "source": [
        "# reversing a vector \n",
        "z = np.arange(11)\n",
        "z = z[::-1]\n",
        "print(z)"
      ],
      "execution_count": null,
      "outputs": [
        {
          "output_type": "stream",
          "text": [
            "[10  9  8  7  6  5  4  3  2  1  0]\n"
          ],
          "name": "stdout"
        }
      ]
    },
    {
      "cell_type": "code",
      "metadata": {
        "colab": {
          "base_uri": "https://localhost:8080/"
        },
        "id": "R567Lj5v6BDN",
        "outputId": "2bff35c9-d35e-4c31-b7fa-1239f4743e8e"
      },
      "source": [
        "# create a 3*3 matrix with values ranging from 0 to 8 \n",
        "a = np.arange(9).reshape(3,3)\n",
        "a"
      ],
      "execution_count": null,
      "outputs": [
        {
          "output_type": "execute_result",
          "data": {
            "text/plain": [
              "array([[0, 1, 2],\n",
              "       [3, 4, 5],\n",
              "       [6, 7, 8]])"
            ]
          },
          "metadata": {
            "tags": []
          },
          "execution_count": 21
        }
      ]
    },
    {
      "cell_type": "code",
      "metadata": {
        "colab": {
          "base_uri": "https://localhost:8080/"
        },
        "id": "bklTZJOi6U9c",
        "outputId": "86233c74-dd87-46f5-f373-c9e8753d9e19"
      },
      "source": [
        "# find indices of non-zero elements from [1,2,0,0,4,0]\n",
        "z= np.nonzero([1,2,0,0,4,0])\n",
        "print(z)"
      ],
      "execution_count": null,
      "outputs": [
        {
          "output_type": "stream",
          "text": [
            "(array([0, 1, 4]),)\n"
          ],
          "name": "stdout"
        }
      ]
    },
    {
      "cell_type": "code",
      "metadata": {
        "colab": {
          "base_uri": "https://localhost:8080/"
        },
        "id": "KjXTh9O56-sY",
        "outputId": "f5bef3ba-9608-47b3-e468-6f32290d325f"
      },
      "source": [
        "# finding indexes from a numpy array using a condition \n",
        "a = [1,2,0,0,4,0] \n",
        "b = []\n",
        "for c in range(0,len(a)):\n",
        "    if a[c] != 0:\n",
        "        b.append(c)\n",
        "print(b)"
      ],
      "execution_count": null,
      "outputs": [
        {
          "output_type": "stream",
          "text": [
            "[0, 1, 4]\n"
          ],
          "name": "stdout"
        }
      ]
    },
    {
      "cell_type": "code",
      "metadata": {
        "colab": {
          "base_uri": "https://localhost:8080/"
        },
        "id": "pnIM0U779cM-",
        "outputId": "c5c1b667-dd74-4262-bd3b-2a5ff3b93d3b"
      },
      "source": [
        "# create a 3*3 identity matrix \n",
        "a = np.eye(3)\n",
        "a"
      ],
      "execution_count": null,
      "outputs": [
        {
          "output_type": "execute_result",
          "data": {
            "text/plain": [
              "array([[1., 0., 0.],\n",
              "       [0., 1., 0.],\n",
              "       [0., 0., 1.]])"
            ]
          },
          "metadata": {
            "tags": []
          },
          "execution_count": 28
        }
      ]
    },
    {
      "cell_type": "code",
      "metadata": {
        "colab": {
          "base_uri": "https://localhost:8080/"
        },
        "id": "75kXgCzX-3I6",
        "outputId": "d385c8e2-d99a-4cdb-e819-12bc9771f065"
      },
      "source": [
        "# creating a zero matrix \n",
        "b = np.zeros((3,4))\n",
        "b"
      ],
      "execution_count": null,
      "outputs": [
        {
          "output_type": "execute_result",
          "data": {
            "text/plain": [
              "array([[0., 0., 0., 0.],\n",
              "       [0., 0., 0., 0.],\n",
              "       [0., 0., 0., 0.]])"
            ]
          },
          "metadata": {
            "tags": []
          },
          "execution_count": 31
        }
      ]
    },
    {
      "cell_type": "code",
      "metadata": {
        "colab": {
          "base_uri": "https://localhost:8080/"
        },
        "id": "rIzrl-aw_K60",
        "outputId": "dfd453f8-7767-4ead-bc28-6848979c096e"
      },
      "source": [
        "# creating a 3*3*3 array with random values \n",
        "a = np.random.random((3,3,2))\n",
        "a"
      ],
      "execution_count": null,
      "outputs": [
        {
          "output_type": "execute_result",
          "data": {
            "text/plain": [
              "array([[[0.43945364, 0.56058869],\n",
              "        [0.496706  , 0.50913851],\n",
              "        [0.23248823, 0.23428062]],\n",
              "\n",
              "       [[0.84581618, 0.79076154],\n",
              "        [0.67422836, 0.993314  ],\n",
              "        [0.50935171, 0.54771615]],\n",
              "\n",
              "       [[0.00671636, 0.93694899],\n",
              "        [0.93248934, 0.9691757 ],\n",
              "        [0.99569847, 0.46654791]]])"
            ]
          },
          "metadata": {
            "tags": []
          },
          "execution_count": 34
        }
      ]
    },
    {
      "cell_type": "code",
      "metadata": {
        "colab": {
          "base_uri": "https://localhost:8080/"
        },
        "id": "qwyp_gV7_mcV",
        "outputId": "f5b2125a-905b-449a-e0bd-27577537f7c3"
      },
      "source": [
        "# create a 10*10 array with random values and find the minimum and maximum values \n",
        "a = np.random.random((10,10))\n",
        "a_min, a_max = a.min(),a.max()\n",
        "a_min,a_max"
      ],
      "execution_count": null,
      "outputs": [
        {
          "output_type": "execute_result",
          "data": {
            "text/plain": [
              "(0.01761627806697974, 0.9755092110902365)"
            ]
          },
          "metadata": {
            "tags": []
          },
          "execution_count": 35
        }
      ]
    },
    {
      "cell_type": "code",
      "metadata": {
        "colab": {
          "base_uri": "https://localhost:8080/"
        },
        "id": "fmoH8Fp-AT_9",
        "outputId": "144b8c8b-ece5-4e7b-f3cb-38ea708add7f"
      },
      "source": [
        "# create a random vector of size 30 and find the mean value \n",
        "a = np.random.random(30) \n",
        "m  = a.mean()\n",
        "print('size - ', a.size)\n",
        "print('shape-' ,a.shape)\n",
        "print('dimension-',a.ndim)\n",
        "print('itemsize -',a.itemsize)"
      ],
      "execution_count": null,
      "outputs": [
        {
          "output_type": "stream",
          "text": [
            "size -  30\n",
            "shape- (30,)\n",
            "dimension- 1\n",
            "itemsize - 8\n"
          ],
          "name": "stdout"
        }
      ]
    },
    {
      "cell_type": "code",
      "metadata": {
        "colab": {
          "base_uri": "https://localhost:8080/"
        },
        "id": "CSpNSXT0BYJv",
        "outputId": "0cab48c3-a488-45b0-be08-2e571147c10b"
      },
      "source": [
        "# create a 2 d array with 1 on the border and 0 inside \n",
        "z = np.ones((10,10))\n",
        "z[1:-1,1:-1] = 0\n",
        "z"
      ],
      "execution_count": null,
      "outputs": [
        {
          "output_type": "execute_result",
          "data": {
            "text/plain": [
              "array([[1., 1., 1., 1., 1., 1., 1., 1., 1., 1.],\n",
              "       [1., 0., 0., 0., 0., 0., 0., 0., 0., 1.],\n",
              "       [1., 0., 0., 0., 0., 0., 0., 0., 0., 1.],\n",
              "       [1., 0., 0., 0., 0., 0., 0., 0., 0., 1.],\n",
              "       [1., 0., 0., 0., 0., 0., 0., 0., 0., 1.],\n",
              "       [1., 0., 0., 0., 0., 0., 0., 0., 0., 1.],\n",
              "       [1., 0., 0., 0., 0., 0., 0., 0., 0., 1.],\n",
              "       [1., 0., 0., 0., 0., 0., 0., 0., 0., 1.],\n",
              "       [1., 0., 0., 0., 0., 0., 0., 0., 0., 1.],\n",
              "       [1., 1., 1., 1., 1., 1., 1., 1., 1., 1.]])"
            ]
          },
          "metadata": {
            "tags": []
          },
          "execution_count": 45
        }
      ]
    },
    {
      "cell_type": "code",
      "metadata": {
        "colab": {
          "base_uri": "https://localhost:8080/"
        },
        "id": "OMnwkiY6Azxt",
        "outputId": "d38dd1cf-3585-49af-cebe-b633f6ed8fe9"
      },
      "source": [
        " # How to add a border filled with 0 around an existing array \n",
        "a = np.ones((5,5))\n",
        "a[:,[0,-1]] = 0  # making first and last columns zero \n",
        "a[[0,-1],:] = 0\n",
        "a"
      ],
      "execution_count": null,
      "outputs": [
        {
          "output_type": "execute_result",
          "data": {
            "text/plain": [
              "array([[0., 0., 0., 0., 0.],\n",
              "       [0., 1., 1., 1., 0.],\n",
              "       [0., 1., 1., 1., 0.],\n",
              "       [0., 1., 1., 1., 0.],\n",
              "       [0., 0., 0., 0., 0.]])"
            ]
          },
          "metadata": {
            "tags": []
          },
          "execution_count": 50
        }
      ]
    },
    {
      "cell_type": "code",
      "metadata": {
        "colab": {
          "base_uri": "https://localhost:8080/"
        },
        "id": "QR62vjimGTLQ",
        "outputId": "00ea9759-cc5b-4744-916d-45b16d8d62ac"
      },
      "source": [
        "print(0 * np.nan)\n",
        "print(np.nan == np.nan)\n",
        "print(np.inf > np.nan)\n",
        "print(np.nan - np.nan)\n",
        "print(np.nan in set([np.nan]))\n",
        "print(0.3 == 3 * 0.1)"
      ],
      "execution_count": null,
      "outputs": [
        {
          "output_type": "stream",
          "text": [
            "nan\n",
            "False\n",
            "False\n",
            "nan\n",
            "True\n",
            "False\n"
          ],
          "name": "stdout"
        }
      ]
    },
    {
      "cell_type": "code",
      "metadata": {
        "colab": {
          "base_uri": "https://localhost:8080/"
        },
        "id": "wzo4krs7HYfc",
        "outputId": "3247b5e7-08bb-4925-9377-c4ecfd8797c2"
      },
      "source": [
        "# creating a 5*5 matrix values 1,2,3,4 just below the diagonal \n",
        "z = np.diag(1+np.arange(4),k = -1)\n",
        "z"
      ],
      "execution_count": null,
      "outputs": [
        {
          "output_type": "execute_result",
          "data": {
            "text/plain": [
              "array([[0, 0, 0, 0, 0],\n",
              "       [1, 0, 0, 0, 0],\n",
              "       [0, 2, 0, 0, 0],\n",
              "       [0, 0, 3, 0, 0],\n",
              "       [0, 0, 0, 4, 0]])"
            ]
          },
          "metadata": {
            "tags": []
          },
          "execution_count": 72
        }
      ]
    },
    {
      "cell_type": "code",
      "metadata": {
        "colab": {
          "base_uri": "https://localhost:8080/"
        },
        "id": "6AJzMERRKROW",
        "outputId": "14a7e4fb-673b-4de9-fc5b-33f22b103186"
      },
      "source": [
        "Z = np.zeros((8,8),dtype=int)\n",
        "Z[::2,::2] = 1\n",
        "Z[1::2,1::2] = 1\n",
        "print(Z)"
      ],
      "execution_count": null,
      "outputs": [
        {
          "output_type": "stream",
          "text": [
            "[[1 0 1 0 1 0 1 0]\n",
            " [0 1 0 1 0 1 0 1]\n",
            " [1 0 1 0 1 0 1 0]\n",
            " [0 1 0 1 0 1 0 1]\n",
            " [1 0 1 0 1 0 1 0]\n",
            " [0 1 0 1 0 1 0 1]\n",
            " [1 0 1 0 1 0 1 0]\n",
            " [0 1 0 1 0 1 0 1]]\n"
          ],
          "name": "stdout"
        }
      ]
    },
    {
      "cell_type": "code",
      "metadata": {
        "colab": {
          "base_uri": "https://localhost:8080/"
        },
        "id": "vDwk6P4DLBMK",
        "outputId": "deb4b860-1c22-484d-8a51-d7600e73f913"
      },
      "source": [
        "# consider a (6,7,8) shape array what is the index (x,y,z) of the 100th element \n",
        "np.unravel_index(99,(6,7,8))"
      ],
      "execution_count": null,
      "outputs": [
        {
          "output_type": "execute_result",
          "data": {
            "text/plain": [
              "(1, 5, 3)"
            ]
          },
          "metadata": {
            "tags": []
          },
          "execution_count": 83
        }
      ]
    },
    {
      "cell_type": "code",
      "metadata": {
        "colab": {
          "base_uri": "https://localhost:8080/"
        },
        "id": "YzhOjNWXS41P",
        "outputId": "4e2736c1-58e4-4ae6-e80f-22c1ee5766f0"
      },
      "source": [
        "# create a checkerboard 8*8 matrix using the tile function \n",
        "z = np.tile([[0,1],[1,0]],(4,4))\n",
        "z"
      ],
      "execution_count": null,
      "outputs": [
        {
          "output_type": "execute_result",
          "data": {
            "text/plain": [
              "array([[0, 1, 0, 1, 0, 1, 0, 1],\n",
              "       [1, 0, 1, 0, 1, 0, 1, 0],\n",
              "       [0, 1, 0, 1, 0, 1, 0, 1],\n",
              "       [1, 0, 1, 0, 1, 0, 1, 0],\n",
              "       [0, 1, 0, 1, 0, 1, 0, 1],\n",
              "       [1, 0, 1, 0, 1, 0, 1, 0],\n",
              "       [0, 1, 0, 1, 0, 1, 0, 1],\n",
              "       [1, 0, 1, 0, 1, 0, 1, 0]])"
            ]
          },
          "metadata": {
            "tags": []
          },
          "execution_count": 94
        }
      ]
    },
    {
      "cell_type": "code",
      "metadata": {
        "colab": {
          "base_uri": "https://localhost:8080/"
        },
        "id": "BaStjK2rTUmy",
        "outputId": "4de1ce9e-03ef-4985-c744-9b303bbe60df"
      },
      "source": [
        "# normalize  a 5*5 random matrix\n",
        "\n",
        "np.random.seed(101)\n",
        "z = np.random.random((5,5))\n",
        "z = (z-np.mean(z))/np.std(z)\n",
        "z"
      ],
      "execution_count": null,
      "outputs": [
        {
          "output_type": "execute_result",
          "data": {
            "text/plain": [
              "array([[ 0.2330826 ,  0.424604  , -1.48885873, -0.9840279 ,  0.82907374],\n",
              "       [ 1.35357039, -0.50602845,  1.56431579,  0.95706373, -0.91903113],\n",
              "       [ 0.36658537, -0.34663338, -0.94742834,  1.18313143,  1.81795379],\n",
              "       [-0.76934475, -1.29444964,  0.54064425,  0.98335174, -0.61446895],\n",
              "       [ 0.82917731,  0.23826633, -1.41824004, -1.10279115, -0.929518  ]])"
            ]
          },
          "metadata": {
            "tags": []
          },
          "execution_count": 101
        }
      ]
    },
    {
      "cell_type": "code",
      "metadata": {
        "id": "4z5OISxfUGf9"
      },
      "source": [
        ""
      ],
      "execution_count": null,
      "outputs": []
    },
    {
      "cell_type": "code",
      "metadata": {
        "colab": {
          "base_uri": "https://localhost:8080/"
        },
        "id": "Ix_cauthUiuJ",
        "outputId": "61f16028-04ce-446c-bf0a-40e6a7fce2fb"
      },
      "source": [
        "# multiply a 5 *3 matrix by a 3*2 matrix ( real matrix product)\n",
        "a = np.dot(np.ones((5,3)),np.ones((3,2)))\n",
        "a"
      ],
      "execution_count": null,
      "outputs": [
        {
          "output_type": "execute_result",
          "data": {
            "text/plain": [
              "array([[3., 3.],\n",
              "       [3., 3.],\n",
              "       [3., 3.],\n",
              "       [3., 3.],\n",
              "       [3., 3.]])"
            ]
          },
          "metadata": {
            "tags": []
          },
          "execution_count": 104
        }
      ]
    },
    {
      "cell_type": "code",
      "metadata": {
        "colab": {
          "base_uri": "https://localhost:8080/"
        },
        "id": "WJieJFySU_Bg",
        "outputId": "d138b918-91e5-469a-bae0-168354a489d2"
      },
      "source": [
        "# alternate solution \n",
        "a = np.ones((5,2)) @ np.ones((2,3))\n",
        "a"
      ],
      "execution_count": null,
      "outputs": [
        {
          "output_type": "execute_result",
          "data": {
            "text/plain": [
              "array([[2., 2., 2.],\n",
              "       [2., 2., 2.],\n",
              "       [2., 2., 2.],\n",
              "       [2., 2., 2.],\n",
              "       [2., 2., 2.]])"
            ]
          },
          "metadata": {
            "tags": []
          },
          "execution_count": 107
        }
      ]
    },
    {
      "cell_type": "code",
      "metadata": {
        "colab": {
          "base_uri": "https://localhost:8080/"
        },
        "id": "rcjeqklNVPik",
        "outputId": "31f1a958-7d0d-44c3-a5f3-598da351ddc5"
      },
      "source": [
        "# negating all elements which are between 3 and 8 \n",
        "a = np.arange(11)\n",
        "for index in range(0,len(a)):\n",
        "    if a[index]>=3 and a[index]<=8:\n",
        "        a[index] =a[index] *(-1)\n",
        "print(a)"
      ],
      "execution_count": null,
      "outputs": [
        {
          "output_type": "stream",
          "text": [
            "[ 0  1  2 -3 -4 -5 -6 -7 -8  9 10]\n"
          ],
          "name": "stdout"
        }
      ]
    },
    {
      "cell_type": "code",
      "metadata": {
        "id": "BQsKHuW-V0XX"
      },
      "source": [
        ""
      ],
      "execution_count": null,
      "outputs": []
    }
  ]
}