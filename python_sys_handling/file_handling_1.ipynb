{
 "cells": [
  {
   "cell_type": "markdown",
   "id": "653223a9",
   "metadata": {},
   "source": [
    "## Joining the path "
   ]
  },
  {
   "cell_type": "code",
   "execution_count": 3,
   "id": "8b3afac6",
   "metadata": {},
   "outputs": [
    {
     "data": {
      "text/plain": [
       "'home/thomas/Documents/PY_BOOT'"
      ]
     },
     "execution_count": 3,
     "metadata": {},
     "output_type": "execute_result"
    }
   ],
   "source": [
    "import os \n",
    "myFiles = ['python_argparsing','python_functions','python_regex','python_sys_handling']\n",
    "os.path.join('home','thomas','Documents','PY_BOOT')"
   ]
  },
  {
   "cell_type": "code",
   "execution_count": 4,
   "id": "1adb7574",
   "metadata": {},
   "outputs": [
    {
     "name": "stdout",
     "output_type": "stream",
     "text": [
      "/home/thomas/Documents/PY_BOOT/python_argparsing\n",
      "/home/thomas/Documents/PY_BOOT/python_functions\n",
      "/home/thomas/Documents/PY_BOOT/python_regex\n",
      "/home/thomas/Documents/PY_BOOT/python_sys_handling\n"
     ]
    }
   ],
   "source": [
    "for filename in myFiles:\n",
    "    print(os.path.join('/home/thomas/Documents/PY_BOOT/', filename))"
   ]
  },
  {
   "cell_type": "markdown",
   "id": "0a4d82a1",
   "metadata": {},
   "source": [
    "### os.getcwd() , os.chdir(), os.makedirs()"
   ]
  },
  {
   "cell_type": "code",
   "execution_count": 5,
   "id": "5bb03d23",
   "metadata": {},
   "outputs": [
    {
     "data": {
      "text/plain": [
       "'/home/thomas/Documents/PY_BOOT/python_sys_handling'"
      ]
     },
     "execution_count": 5,
     "metadata": {},
     "output_type": "execute_result"
    }
   ],
   "source": [
    "os.getcwd()"
   ]
  },
  {
   "cell_type": "code",
   "execution_count": 7,
   "id": "b2b2c2e3",
   "metadata": {},
   "outputs": [],
   "source": [
    "os.chdir('/home/thomas/Documents/')"
   ]
  },
  {
   "cell_type": "code",
   "execution_count": 8,
   "id": "9b0fb0d1",
   "metadata": {},
   "outputs": [
    {
     "data": {
      "text/plain": [
       "'/home/thomas/Documents'"
      ]
     },
     "execution_count": 8,
     "metadata": {},
     "output_type": "execute_result"
    }
   ],
   "source": [
    "os.getcwd()"
   ]
  },
  {
   "cell_type": "code",
   "execution_count": 11,
   "id": "bdb8668d",
   "metadata": {},
   "outputs": [],
   "source": [
    "# creating new folder \n",
    "os.makedirs('deep_learning/computer_vision')"
   ]
  },
  {
   "cell_type": "code",
   "execution_count": 12,
   "id": "5944b4c4",
   "metadata": {},
   "outputs": [
    {
     "data": {
      "text/plain": [
       "'/home/thomas/Documents'"
      ]
     },
     "execution_count": 12,
     "metadata": {},
     "output_type": "execute_result"
    }
   ],
   "source": [
    "os.getcwd()"
   ]
  },
  {
   "cell_type": "code",
   "execution_count": 15,
   "id": "a6fea35d",
   "metadata": {},
   "outputs": [
    {
     "data": {
      "text/plain": [
       "'/PY_BOOT/python_sys_handling/file_handling_1'"
      ]
     },
     "execution_count": 15,
     "metadata": {},
     "output_type": "execute_result"
    }
   ],
   "source": [
    "os.path.abspath('/PY_BOOT/python_sys_handling/file_handling_1')"
   ]
  },
  {
   "cell_type": "code",
   "execution_count": 27,
   "id": "fe12cde9",
   "metadata": {},
   "outputs": [
    {
     "data": {
      "text/plain": [
       "'/home/thomas/Documents/PY_BOOT'"
      ]
     },
     "execution_count": 27,
     "metadata": {},
     "output_type": "execute_result"
    }
   ],
   "source": [
    "os.getcwd()"
   ]
  },
  {
   "cell_type": "code",
   "execution_count": 29,
   "id": "9652bc90",
   "metadata": {},
   "outputs": [],
   "source": [
    "os.chdir('python_sys_handling')"
   ]
  },
  {
   "cell_type": "markdown",
   "id": "aa0d9849",
   "metadata": {},
   "source": [
    "## os.path.abspath(), os.path.relpath()"
   ]
  },
  {
   "cell_type": "code",
   "execution_count": 30,
   "id": "03d87fc7",
   "metadata": {},
   "outputs": [
    {
     "data": {
      "text/plain": [
       "'/home/thomas/Documents/PY_BOOT/python_sys_handling'"
      ]
     },
     "execution_count": 30,
     "metadata": {},
     "output_type": "execute_result"
    }
   ],
   "source": [
    "os.path.abspath('.')"
   ]
  },
  {
   "cell_type": "code",
   "execution_count": 34,
   "id": "1c65a364",
   "metadata": {},
   "outputs": [
    {
     "data": {
      "text/plain": [
       "'../file_handling_1'"
      ]
     },
     "execution_count": 34,
     "metadata": {},
     "output_type": "execute_result"
    }
   ],
   "source": [
    "os.path.relpath('file_handling_1','Documents')"
   ]
  },
  {
   "cell_type": "code",
   "execution_count": 35,
   "id": "5a7786ec",
   "metadata": {},
   "outputs": [
    {
     "data": {
      "text/plain": [
       "'/home/thomas/Documents/PY_BOOT/file_handling_1'"
      ]
     },
     "execution_count": 35,
     "metadata": {},
     "output_type": "execute_result"
    }
   ],
   "source": [
    "os.path.abspath('../file_handling_1')"
   ]
  },
  {
   "cell_type": "code",
   "execution_count": 43,
   "id": "844877ee",
   "metadata": {},
   "outputs": [
    {
     "data": {
      "text/plain": [
       "'file_handling_1'"
      ]
     },
     "execution_count": 43,
     "metadata": {},
     "output_type": "execute_result"
    }
   ],
   "source": [
    "os.path.basename('/PY_BOOT/python_sys_handling/file_handling_1')"
   ]
  },
  {
   "cell_type": "code",
   "execution_count": 44,
   "id": "f6ea91c8",
   "metadata": {},
   "outputs": [
    {
     "data": {
      "text/plain": [
       "'/PY_BOOT/python_sys_handling'"
      ]
     },
     "execution_count": 44,
     "metadata": {},
     "output_type": "execute_result"
    }
   ],
   "source": [
    "os.path.dirname('/PY_BOOT/python_sys_handling/file_handling_1')"
   ]
  },
  {
   "cell_type": "markdown",
   "id": "4823e0be",
   "metadata": {},
   "source": [
    "## File sizes andn folder contents "
   ]
  },
  {
   "cell_type": "code",
   "execution_count": 48,
   "id": "1f28e142",
   "metadata": {},
   "outputs": [
    {
     "data": {
      "text/plain": [
       "4096"
      ]
     },
     "execution_count": 48,
     "metadata": {},
     "output_type": "execute_result"
    }
   ],
   "source": [
    "os.path.getsize('/home/thomas/Documents/PY_BOOT/python_sys_handling')"
   ]
  },
  {
   "cell_type": "code",
   "execution_count": 49,
   "id": "7ed0284c",
   "metadata": {},
   "outputs": [
    {
     "data": {
      "text/plain": [
       "4096"
      ]
     },
     "execution_count": 49,
     "metadata": {},
     "output_type": "execute_result"
    }
   ],
   "source": [
    "os.path.getsize('/home/thomas/Desktop')"
   ]
  },
  {
   "cell_type": "code",
   "execution_count": 56,
   "id": "275b8b5b",
   "metadata": {},
   "outputs": [
    {
     "data": {
      "text/plain": [
       "['general',\n",
       " 'my_new_repo',\n",
       " 'ineuron_class_notes',\n",
       " '.ipynb_checkpoints',\n",
       " 'PY_BOOT',\n",
       " 'deep_learning',\n",
       " 'home',\n",
       " 'udacity_ml_class_notes',\n",
       " 'cnn_papers',\n",
       " '.vscode']"
      ]
     },
     "execution_count": 56,
     "metadata": {},
     "output_type": "execute_result"
    }
   ],
   "source": [
    "os.listdir('/home/thomas/Documents')"
   ]
  },
  {
   "cell_type": "markdown",
   "id": "8554eba4",
   "metadata": {},
   "source": [
    "## Checking whether the path exists or not "
   ]
  },
  {
   "cell_type": "code",
   "execution_count": 63,
   "id": "bb88840e",
   "metadata": {},
   "outputs": [
    {
     "data": {
      "text/plain": [
       "True"
      ]
     },
     "execution_count": 63,
     "metadata": {},
     "output_type": "execute_result"
    }
   ],
   "source": [
    "os.path.exists('/home/thomas/Documents')"
   ]
  },
  {
   "cell_type": "code",
   "execution_count": 64,
   "id": "9041cc04",
   "metadata": {},
   "outputs": [
    {
     "data": {
      "text/plain": [
       "False"
      ]
     },
     "execution_count": 64,
     "metadata": {},
     "output_type": "execute_result"
    }
   ],
   "source": [
    "os.path.exists(\"/home/thomas/Deskop/Unknown\")"
   ]
  },
  {
   "cell_type": "code",
   "execution_count": 65,
   "id": "18d9a334",
   "metadata": {},
   "outputs": [
    {
     "data": {
      "text/plain": [
       "True"
      ]
     },
     "execution_count": 65,
     "metadata": {},
     "output_type": "execute_result"
    }
   ],
   "source": [
    "os.path.exists('/home/thomas/Desktop')"
   ]
  },
  {
   "cell_type": "code",
   "execution_count": 66,
   "id": "3f465caf",
   "metadata": {},
   "outputs": [
    {
     "data": {
      "text/plain": [
       "'/home/thomas/Documents/PY_BOOT/python_sys_handling'"
      ]
     },
     "execution_count": 66,
     "metadata": {},
     "output_type": "execute_result"
    }
   ],
   "source": [
    "os.getcwd()"
   ]
  },
  {
   "cell_type": "markdown",
   "id": "f3a779cb",
   "metadata": {},
   "source": [
    "## Opening file with the open() function"
   ]
  },
  {
   "cell_type": "code",
   "execution_count": 81,
   "id": "81f306bb",
   "metadata": {},
   "outputs": [],
   "source": [
    "# opening file which do not exist \n",
    "hello_file = open('hello.txt', 'w')\n",
    "\n",
    "# write something into the file \n",
    "hello_file.write(\"\"\"this is the first line in the hello file\n",
    "This is the second line in the hello file\"\"\")\n",
    "\n",
    "# closing the file\n",
    "hello_file.close()"
   ]
  },
  {
   "cell_type": "markdown",
   "id": "7aaf6fcb",
   "metadata": {},
   "source": [
    "## Reading file line by line  using readlines()"
   ]
  },
  {
   "cell_type": "code",
   "execution_count": 84,
   "id": "f612f77d",
   "metadata": {},
   "outputs": [
    {
     "name": "stdout",
     "output_type": "stream",
     "text": [
      "['this is the first line in the hello file\\n', 'This is the second line in the hello file']\n"
     ]
    }
   ],
   "source": [
    "hello_file = open('hello.txt', 'r')\n",
    "print(hello_file.readlines())\n",
    "hello_file.close()"
   ]
  },
  {
   "cell_type": "markdown",
   "id": "c05ea409",
   "metadata": {},
   "source": [
    "## Read file using read() method "
   ]
  },
  {
   "cell_type": "code",
   "execution_count": 87,
   "id": "d5738931",
   "metadata": {},
   "outputs": [
    {
     "name": "stdout",
     "output_type": "stream",
     "text": [
      "this is the first line in the hello file\n",
      "This is the second line in the hello file\n"
     ]
    }
   ],
   "source": [
    "hello_file = open('hello.txt', 'r')\n",
    "print(hello_file.read())\n",
    "hello_file.close()"
   ]
  },
  {
   "cell_type": "code",
   "execution_count": 92,
   "id": "e93f31d4",
   "metadata": {},
   "outputs": [
    {
     "data": {
      "text/plain": [
       "0"
      ]
     },
     "execution_count": 92,
     "metadata": {},
     "output_type": "execute_result"
    }
   ],
   "source": [
    "hello_file = open('hello.txt','r')\n",
    "hello_file.seek(0)"
   ]
  },
  {
   "cell_type": "code",
   "execution_count": 93,
   "id": "a40181ff",
   "metadata": {},
   "outputs": [
    {
     "data": {
      "text/plain": [
       "'this is the first line in the hello file\\nThis is the second line in the hello file'"
      ]
     },
     "execution_count": 93,
     "metadata": {},
     "output_type": "execute_result"
    }
   ],
   "source": [
    "hello_file.read()"
   ]
  },
  {
   "cell_type": "code",
   "execution_count": 96,
   "id": "30d540c0",
   "metadata": {},
   "outputs": [
    {
     "data": {
      "text/plain": [
       "'this is the first line in the hello file\\nThis is the second line in the hello file'"
      ]
     },
     "execution_count": 96,
     "metadata": {},
     "output_type": "execute_result"
    }
   ],
   "source": [
    "hello_file.seek(0)\n",
    "hello_file.read()"
   ]
  },
  {
   "cell_type": "code",
   "execution_count": 97,
   "id": "95faa0c5",
   "metadata": {},
   "outputs": [],
   "source": [
    "hello_file.close()"
   ]
  },
  {
   "cell_type": "code",
   "execution_count": 104,
   "id": "283c8517",
   "metadata": {},
   "outputs": [],
   "source": [
    "from pathlib import Path\n",
    "for i in Path('/home/thomas/').glob('*.ipynb'):\n",
    "    print(i)"
   ]
  },
  {
   "cell_type": "code",
   "execution_count": 114,
   "id": "f6aa9899",
   "metadata": {},
   "outputs": [
    {
     "name": "stdout",
     "output_type": "stream",
     "text": [
      "\n",
      "\n"
     ]
    }
   ],
   "source": [
    "with open('hello.txt', 'a+') as file:\n",
    "    print(file.read())\n",
    "    file.write('\\nAdding the third line ')\n",
    "    print(file.read()) "
   ]
  },
  {
   "cell_type": "code",
   "execution_count": 115,
   "id": "7b6d4b49",
   "metadata": {},
   "outputs": [
    {
     "name": "stdout",
     "output_type": "stream",
     "text": [
      "this is the first line in the hello file\n",
      "This is the second line in the hello file\n",
      "Adding the third line \n",
      "Adding the third line \n",
      "Adding the third line \n",
      "Adding the third line \n",
      "Adding the third line \n"
     ]
    }
   ],
   "source": [
    "with open(\"hello.txt\", 'r') as f:\n",
    "    print(f.read())"
   ]
  },
  {
   "cell_type": "code",
   "execution_count": null,
   "id": "688fc7de",
   "metadata": {},
   "outputs": [],
   "source": []
  }
 ],
 "metadata": {
  "kernelspec": {
   "display_name": "Python 3.8.8 64-bit ('base': conda)",
   "language": "python",
   "name": "python388jvsc74a57bd0b7dce63e39a4a8c98f5a1ef1e65571106e15efed32663927d397570964b86d03"
  },
  "language_info": {
   "codemirror_mode": {
    "name": "ipython",
    "version": 3
   },
   "file_extension": ".py",
   "mimetype": "text/x-python",
   "name": "python",
   "nbconvert_exporter": "python",
   "pygments_lexer": "ipython3",
   "version": "3.8.8"
  }
 },
 "nbformat": 4,
 "nbformat_minor": 5
}
